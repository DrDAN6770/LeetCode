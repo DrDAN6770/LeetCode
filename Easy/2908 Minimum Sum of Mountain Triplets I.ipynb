{
 "cells": [
  {
   "cell_type": "markdown",
   "metadata": {},
   "source": [
    "# 2908. Minimum Sum of Mountain Triplets I\n",
    "---\n",
    "https://leetcode.com/problems/minimum-sum-of-mountain-triplets-i/description/"
   ]
  },
  {
   "cell_type": "code",
   "execution_count": 8,
   "metadata": {},
   "outputs": [
    {
     "data": {
      "text/plain": [
       "9"
      ]
     },
     "execution_count": 8,
     "metadata": {},
     "output_type": "execute_result"
    }
   ],
   "source": [
    "# O(n) O(n)\n",
    "class Solution:\n",
    "    def minimumSum(self, nums: list[int]) -> int:\n",
    "        n = len(nums)\n",
    "        left = [float('inf')] * n\n",
    "        right = [float('inf')] * n\n",
    "        res = float('inf')\n",
    "\n",
    "        for i in range(1, n):\n",
    "            left[i] = min(left[i-1], nums[i-1])\n",
    "\n",
    "        for j in range(n-2, -1, -1):\n",
    "            right[j] = min(right[j+1], nums[j+1])\n",
    "        \n",
    "        # print(left) [inf, 8, 6, 1, 1]\n",
    "        # print(right) [1, 1, 3, 3, inf]\n",
    "\n",
    "        # peak\n",
    "        for k in range(1, n-1):\n",
    "            if left[k] < nums[k] and nums[k] > right[k]:\n",
    "                res = min(res, left[k] + nums[k] + right[k])\n",
    "\n",
    "        return res if res != float('inf') else -1\n",
    "\n",
    "ans = Solution()\n",
    "ans.minimumSum([8,6,1,5,3])"
   ]
  },
  {
   "cell_type": "code",
   "execution_count": 1,
   "metadata": {},
   "outputs": [
    {
     "data": {
      "text/plain": [
       "9"
      ]
     },
     "execution_count": 1,
     "metadata": {},
     "output_type": "execute_result"
    }
   ],
   "source": [
    "# Bruteforce O(n3)\n",
    "class Solution:\n",
    "    def minimumSum(self, nums: list[int]) -> int:\n",
    "        n = len(nums)\n",
    "        res = float('inf')\n",
    "        for i in range(n-2):\n",
    "            for j in range(i+1, n-1):\n",
    "                for k in range(j+1, n):\n",
    "                    if (nums[i] < nums[j] and nums[k] < nums[j]):\n",
    "                        tmp_sum = nums[i] + nums[j] + nums[k]\n",
    "                        res = min(res, tmp_sum)\n",
    "                        \n",
    "        return res if res != float('inf') else -1\n",
    "\n",
    "ans = Solution()\n",
    "ans.minimumSum([8,6,1,5,3])"
   ]
  }
 ],
 "metadata": {
  "kernelspec": {
   "display_name": "Python 3",
   "language": "python",
   "name": "python3"
  },
  "language_info": {
   "codemirror_mode": {
    "name": "ipython",
    "version": 3
   },
   "file_extension": ".py",
   "mimetype": "text/x-python",
   "name": "python",
   "nbconvert_exporter": "python",
   "pygments_lexer": "ipython3",
   "version": "3.11.2"
  },
  "orig_nbformat": 4
 },
 "nbformat": 4,
 "nbformat_minor": 2
}
