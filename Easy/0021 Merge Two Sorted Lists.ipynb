{
 "cells": [
  {
   "cell_type": "markdown",
   "metadata": {},
   "source": [
    "# 21. Merge Two Sorted Lists\n",
    "---\n",
    "https://leetcode.com/problems/merge-two-sorted-lists/?envType=list&envId=rwo58iji"
   ]
  },
  {
   "cell_type": "code",
   "execution_count": 1,
   "metadata": {},
   "outputs": [],
   "source": [
    "class ListNode:\n",
    "    def __init__(self, val=0, next=None):\n",
    "        self.val = val\n",
    "        self.next = next\n",
    "\n",
    "def craetListNode(data):\n",
    "    tmp = ListNode()\n",
    "    head = tmp\n",
    "    for val in data:\n",
    "        head.next = ListNode(val)\n",
    "        head = head.next\n",
    "    return tmp.next\n",
    "\n",
    "class Solution:\n",
    "    def mergeTwoLists(self, list1: ListNode, list2: ListNode) -> ListNode:\n",
    "        if not list1 or not list2:\n",
    "            return list1 or list2\n",
    "        \n",
    "        res = []\n",
    "        while list1 or list2:\n",
    "            if list1 and list2:\n",
    "                cur1 = list1.val\n",
    "                cur2 = list2.val\n",
    "                if cur1 <= cur2:\n",
    "                    res.extend((cur1,cur2))\n",
    "                else:\n",
    "                    res.extend((cur2,cur1))\n",
    "\n",
    "                list1 = list1.next\n",
    "                list2 = list2.next\n",
    "            elif list2:\n",
    "                cur2 = list2.val\n",
    "                res.append(cur2)\n",
    "                list2 = list2.next\n",
    "            elif list1:\n",
    "                cur1 = list1.val\n",
    "                res.append(cur1)\n",
    "                list1 = list1.next\n",
    "        res.sort()\n",
    "        return craetListNode(res)\n",
    "class Solution1:\n",
    "    def mergeTwoLists(self, list1, list2):\n",
    "        if not list1 or not list2:\n",
    "            return list1 or list2\n",
    "        \n",
    "        curr = dummy = ListNode() # 創一個新的linked_list，但curr會指向最後一個位置，需要返回一個dummy的linked-list\n",
    "        while list1 and list2:\n",
    "            if list1.val < list2.val:\n",
    "                curr.next = list1\n",
    "                list1 = list1.next\n",
    "            else:\n",
    "                curr.next = list2\n",
    "                list2 = list2.next\n",
    "            curr = curr.next # 指向下一個位置\n",
    "        \n",
    "        # 剩餘的node ex: l1: 1,3,4 l2: 5,6,7 >> while loop只處理了l1\n",
    "        curr.next = list1 or list2\n",
    "        return dummy.next"
   ]
  },
  {
   "cell_type": "code",
   "execution_count": 2,
   "metadata": {},
   "outputs": [
    {
     "name": "stdout",
     "output_type": "stream",
     "text": [
      "1 3 5 5 10 "
     ]
    }
   ],
   "source": [
    "# O(nlogn)\n",
    "l1 = craetListNode([1,10])\n",
    "l2 = craetListNode([3,5,5])\n",
    "\n",
    "ans = Solution()\n",
    "r = ans.mergeTwoLists(l1,l2)\n",
    "while r:\n",
    "    print(r.val,end = ' ')\n",
    "    r = r.next"
   ]
  },
  {
   "cell_type": "code",
   "execution_count": 9,
   "metadata": {},
   "outputs": [
    {
     "name": "stdout",
     "output_type": "stream",
     "text": [
      "1 4 5 10 "
     ]
    }
   ],
   "source": [
    "# O(n)\n",
    "l1 = craetListNode([1,10])\n",
    "l2 = craetListNode([4,5])\n",
    "\n",
    "ans = Solution1()\n",
    "r = ans.mergeTwoLists(l1,l2)\n",
    "while r:\n",
    "    print(r.val,end = ' ')\n",
    "    r = r.next"
   ]
  }
 ],
 "metadata": {
  "kernelspec": {
   "display_name": "Python 3",
   "language": "python",
   "name": "python3"
  },
  "language_info": {
   "codemirror_mode": {
    "name": "ipython",
    "version": 3
   },
   "file_extension": ".py",
   "mimetype": "text/x-python",
   "name": "python",
   "nbconvert_exporter": "python",
   "pygments_lexer": "ipython3",
   "version": "3.11.2"
  },
  "orig_nbformat": 4
 },
 "nbformat": 4,
 "nbformat_minor": 2
}
