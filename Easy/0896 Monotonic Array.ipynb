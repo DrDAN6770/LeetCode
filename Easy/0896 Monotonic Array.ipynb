{
 "cells": [
  {
   "cell_type": "markdown",
   "metadata": {},
   "source": [
    "# 896. Monotonic Array\n",
    "---\n",
    "https://leetcode.com/problems/monotonic-array/"
   ]
  },
  {
   "cell_type": "code",
   "execution_count": 12,
   "metadata": {},
   "outputs": [
    {
     "data": {
      "text/plain": [
       "True"
      ]
     },
     "execution_count": 12,
     "metadata": {},
     "output_type": "execute_result"
    }
   ],
   "source": [
    "# O(n) O(1)\n",
    "class Solution:\n",
    "    def isMonotonic(self, nums: list[int]) -> bool:\n",
    "        return all(pre <= cur for pre, cur in zip(nums, nums[1:])) or all(pre >= cur for pre, cur in zip(nums, nums[1:]))\n",
    "\n",
    "ans = Solution()\n",
    "ans.isMonotonic([6,5,4,4])"
   ]
  },
  {
   "cell_type": "code",
   "execution_count": 24,
   "metadata": {},
   "outputs": [
    {
     "data": {
      "text/plain": [
       "False"
      ]
     },
     "execution_count": 24,
     "metadata": {},
     "output_type": "execute_result"
    }
   ],
   "source": [
    "class Solution:\n",
    "    def isMonotonic(self, nums: list[int]) -> bool:\n",
    "        n = len(nums)\n",
    "        if n <= 2:\n",
    "            return True\n",
    "\n",
    "        if nums[0] >= nums[-1]:\n",
    "            nums = nums[::-1]\n",
    "\n",
    "        for i in range(n-1):\n",
    "            if not nums[i] <= nums[i+1]:\n",
    "                return False\n",
    "        return True\n",
    "ans = Solution()\n",
    "ans.isMonotonic([7,8,6])"
   ]
  },
  {
   "cell_type": "code",
   "execution_count": 28,
   "metadata": {},
   "outputs": [
    {
     "data": {
      "text/plain": [
       "False"
      ]
     },
     "execution_count": 28,
     "metadata": {},
     "output_type": "execute_result"
    }
   ],
   "source": [
    "# O(n) O(1)\n",
    "class Solution:\n",
    "    def isMonotonic(self, nums: list[int]) -> bool:\n",
    "        n = len(nums)\n",
    "        if n <= 2:\n",
    "            return True\n",
    "\n",
    "        increased, decreased = 1, 1\n",
    "        for i in range(n-1):\n",
    "            if not increased and not decreased:\n",
    "                return False\n",
    "            if nums[i] > nums[i+1]:\n",
    "                decreased = False\n",
    "            elif nums[i] < nums[i+1]:\n",
    "                increased = False\n",
    "        return increased or decreased\n",
    "ans = Solution()\n",
    "ans.isMonotonic([7,8,6])"
   ]
  }
 ],
 "metadata": {
  "kernelspec": {
   "display_name": "Python 3",
   "language": "python",
   "name": "python3"
  },
  "language_info": {
   "codemirror_mode": {
    "name": "ipython",
    "version": 3
   },
   "file_extension": ".py",
   "mimetype": "text/x-python",
   "name": "python",
   "nbconvert_exporter": "python",
   "pygments_lexer": "ipython3",
   "version": "3.11.2"
  },
  "orig_nbformat": 4
 },
 "nbformat": 4,
 "nbformat_minor": 2
}
