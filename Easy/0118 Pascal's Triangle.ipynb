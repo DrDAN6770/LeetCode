{
 "cells": [
  {
   "cell_type": "markdown",
   "metadata": {},
   "source": [
    "# 118. Pascal's Triangle\n",
    "---\n",
    "https://leetcode.com/problems/pascals-triangle/description/"
   ]
  },
  {
   "cell_type": "code",
   "execution_count": 16,
   "metadata": {},
   "outputs": [
    {
     "data": {
      "text/plain": [
       "[[1], [1, 1], [1, 2, 1], [1, 3, 3, 1], [1, 4, 6, 4, 1]]"
      ]
     },
     "execution_count": 16,
     "metadata": {},
     "output_type": "execute_result"
    }
   ],
   "source": [
    "# O(n2) O(n2)\n",
    "class Solution:\n",
    "    def generate(self, numRows: int) -> list[list[int]]:\n",
    "        dp = []\n",
    "        for i in range(1, numRows + 1):\n",
    "            row = [1] * i\n",
    "            for j in range(1, i-1):\n",
    "                row[j] = dp[i-2][j-1] + dp[i-2][j]\n",
    "            dp.append(row)\n",
    "        return dp\n",
    "ans = Solution()\n",
    "ans.generate(5)"
   ]
  },
  {
   "cell_type": "code",
   "execution_count": 15,
   "metadata": {},
   "outputs": [
    {
     "data": {
      "text/plain": [
       "[[1], [1, 1], [1, 2, 1], [1, 3, 3, 1], [1, 4, 6, 4, 1]]"
      ]
     },
     "execution_count": 15,
     "metadata": {},
     "output_type": "execute_result"
    }
   ],
   "source": [
    "# O(n2) O(n2)\n",
    "class Solution:\n",
    "    def generate(self, numRows: int) -> list[list[int]]:\n",
    "        dp = [[1] * i for i in range(1, numRows + 1)]\n",
    "        for i in range(2, numRows): # start from 2\n",
    "            for j in range(1, i): # start from 1\n",
    "                dp[i][j] = dp[i-1][j-1] + dp[i-1][j]\n",
    "        return dp\n",
    "ans = Solution()\n",
    "ans.generate(5)"
   ]
  }
 ],
 "metadata": {
  "kernelspec": {
   "display_name": "Python 3",
   "language": "python",
   "name": "python3"
  },
  "language_info": {
   "codemirror_mode": {
    "name": "ipython",
    "version": 3
   },
   "file_extension": ".py",
   "mimetype": "text/x-python",
   "name": "python",
   "nbconvert_exporter": "python",
   "pygments_lexer": "ipython3",
   "version": "3.11.2"
  },
  "orig_nbformat": 4
 },
 "nbformat": 4,
 "nbformat_minor": 2
}
