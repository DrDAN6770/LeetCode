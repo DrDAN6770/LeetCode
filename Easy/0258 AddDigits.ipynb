{
  "nbformat": 4,
  "nbformat_minor": 0,
  "metadata": {
    "colab": {
      "provenance": [],
      "authorship_tag": "ABX9TyPix13niPly2mbCjEDQr5uY",
      "include_colab_link": true
    },
    "kernelspec": {
      "name": "python3",
      "display_name": "Python 3"
    },
    "language_info": {
      "name": "python"
    }
  },
  "cells": [
    {
      "cell_type": "markdown",
      "metadata": {
        "id": "view-in-github",
        "colab_type": "text"
      },
      "source": [
        "<a href=\"https://colab.research.google.com/github/DrDAN6770/LeetCode/blob/main/Easy/0258%20AddDigits.ipynb\" target=\"_parent\"><img src=\"https://colab.research.google.com/assets/colab-badge.svg\" alt=\"Open In Colab\"/></a>"
      ]
    },
    {
      "cell_type": "markdown",
      "source": [
        "#258. Add Digits\n",
        "\n",
        "\n",
        "---\n",
        "https://leetcode.com/problems/add-digits/description/\n"
      ],
      "metadata": {
        "id": "aikHwFZIbkMA"
      }
    },
    {
      "cell_type": "code",
      "execution_count": 1,
      "metadata": {
        "colab": {
          "base_uri": "https://localhost:8080/"
        },
        "id": "IUr4qSSTbZ8r",
        "outputId": "3f27782f-63dd-4576-dded-ea9601c3f031"
      },
      "outputs": [
        {
          "output_type": "execute_result",
          "data": {
            "text/plain": [
              "9"
            ]
          },
          "metadata": {},
          "execution_count": 1
        }
      ],
      "source": [
        "#轉字串解法\n",
        "def addDigits(num: int) -> int:\n",
        "    while num > 9:\n",
        "        num = sum(map(int,str(num)))\n",
        "    return num\n",
        "num = 9999\n",
        "addDigits(num)"
      ]
    },
    {
      "cell_type": "code",
      "source": [
        "def addDigits(num: int) -> int:\n",
        "    while num > 9:\n",
        "        total = 0\n",
        "        while num:\n",
        "            total += num%10\n",
        "            num //= 10\n",
        "        num = total\n",
        "    return num\n",
        "\n",
        "num = 73\n",
        "print(addDigits(num))\n",
        "\n",
        "#or\n",
        "def addDigits(num: int) -> int:\n",
        "    while num > 9:\n",
        "        num = num//10 + num % 10\n",
        "    return num\n",
        "\n",
        "print(addDigits(num))"
      ],
      "metadata": {
        "colab": {
          "base_uri": "https://localhost:8080/"
        },
        "id": "1_dt7qW6cHt_",
        "outputId": "8097ed5b-8ae0-4cab-bd37-29129c5e13a3"
      },
      "execution_count": 2,
      "outputs": [
        {
          "output_type": "stream",
          "name": "stdout",
          "text": [
            "1\n",
            "1\n"
          ]
        }
      ]
    },
    {
      "cell_type": "code",
      "source": [
        "#數學解法\n",
        "'''\n",
        "10 = 1 + 9\n",
        "100 = 1 + 99\n",
        "1000 = 1 + 999\n",
        "10^n = 1 + 9 * n\n",
        "\n",
        "11 = 1 + 9 + 1 ->> 11 = 9*1 + 2\n",
        "25 = 1 + 9 + 1 + 9 + 5 ->> 25 = 9*2 + 7\n",
        "38 = 1 + 9 + 1 + 9 + 1 + 9 + 1 + 9 + 8 ->> 38 = 9*4 + 2\n",
        "n = 9 * 商 + 餘數\n",
        "\n",
        "'''\n",
        "def addDigits(num: int) -> int:\n",
        "    if num == 0 : return 0\n",
        "    if num % 9 == 0: return 9\n",
        "    return num % 9\n",
        "\n",
        "num = 25\n",
        "addDigits(num)"
      ],
      "metadata": {
        "colab": {
          "base_uri": "https://localhost:8080/"
        },
        "id": "pt9SncHocMCG",
        "outputId": "fd8130f1-2760-4e84-871f-06a80ea1ad12"
      },
      "execution_count": 3,
      "outputs": [
        {
          "output_type": "execute_result",
          "data": {
            "text/plain": [
              "7"
            ]
          },
          "metadata": {},
          "execution_count": 3
        }
      ]
    }
  ]
}