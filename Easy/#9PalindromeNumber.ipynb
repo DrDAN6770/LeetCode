{
 "cells": [
  {
   "cell_type": "markdown",
   "metadata": {},
   "source": [
    "#9. Palindrome Number\n",
    "\n",
    "---\n",
    "\n",
    "https://leetcode.com/problems/palindrome-number/"
   ]
  },
  {
   "cell_type": "code",
   "execution_count": null,
   "metadata": {},
   "outputs": [
    {
     "name": "stdout",
     "output_type": "stream",
     "text": [
      "True\n",
      "True\n"
     ]
    }
   ],
   "source": [
    "class Solution:\n",
    "    def isPalindrome1(self, x: int) -> bool:\n",
    "        numstr = str(x)\n",
    "        if numstr == numstr[::-1]:\n",
    "            return True\n",
    "        else:\n",
    "            return False\n",
    "        \n",
    "    def isPalindrome2(self, x: int) -> bool:\n",
    "        if x < 0 or (x > 0 and x%10 == 0):\n",
    "            return False\n",
    "        else:\n",
    "            return str(x) == str(x)[::-1]\n",
    "            \n",
    "\n",
    "\n",
    "test = Solution()\n",
    "x = 0\n",
    "print(test.isPalindrome1(x))\n",
    "print(test.isPalindrome2(x))"
   ]
  }
 ],
 "metadata": {
  "language_info": {
   "name": "python"
  },
  "orig_nbformat": 4
 },
 "nbformat": 4,
 "nbformat_minor": 2
}
