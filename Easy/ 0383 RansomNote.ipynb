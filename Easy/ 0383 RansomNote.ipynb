{
  "nbformat": 4,
  "nbformat_minor": 0,
  "metadata": {
    "colab": {
      "provenance": [],
      "authorship_tag": "ABX9TyM3y0PJtgqnu554UdVkTSce",
      "include_colab_link": true
    },
    "kernelspec": {
      "name": "python3",
      "display_name": "Python 3"
    },
    "language_info": {
      "name": "python"
    }
  },
  "cells": [
    {
      "cell_type": "markdown",
      "metadata": {
        "id": "view-in-github",
        "colab_type": "text"
      },
      "source": [
        "<a href=\"https://colab.research.google.com/github/DrDAN6770/LeetCode/blob/main/Easy/%200383%20RansomNote.ipynb\" target=\"_parent\"><img src=\"https://colab.research.google.com/assets/colab-badge.svg\" alt=\"Open In Colab\"/></a>"
      ]
    },
    {
      "cell_type": "markdown",
      "source": [
        "# 383. Ransom Note\n",
        "\n",
        "\n",
        "---\n",
        "\n",
        "https://leetcode.com/problems/ransom-note/"
      ],
      "metadata": {
        "id": "GTuNNv7oRDCa"
      }
    },
    {
      "cell_type": "code",
      "execution_count": 5,
      "metadata": {
        "colab": {
          "base_uri": "https://localhost:8080/"
        },
        "id": "YrksNLUcRCF4",
        "outputId": "c142694d-5bcd-4028-e8da-c6ef3e416e7f"
      },
      "outputs": [
        {
          "output_type": "execute_result",
          "data": {
            "text/plain": [
              "True"
            ]
          },
          "metadata": {},
          "execution_count": 5
        }
      ],
      "source": [
        "from collections import Counter\n",
        "class Solution:\n",
        "    def canConstruct(self, ransomNote: str, magazine: str) -> bool:\n",
        "        return not Counter(ransomNote) - Counter(magazine)\n",
        "res = Solution()\n",
        "res.canConstruct(\"aa\", \"aab\")"
      ]
    }
  ]
}