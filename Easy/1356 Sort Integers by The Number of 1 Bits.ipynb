{
 "cells": [
  {
   "cell_type": "markdown",
   "metadata": {},
   "source": [
    "# 1356. Sort Integers by The Number of 1 Bits\n",
    "---\n",
    "https://leetcode.com/problems/sort-integers-by-the-number-of-1-bits/"
   ]
  },
  {
   "cell_type": "code",
   "execution_count": 2,
   "metadata": {},
   "outputs": [
    {
     "data": {
      "text/plain": [
       "[1, 2, 4, 8]"
      ]
     },
     "execution_count": 2,
     "metadata": {},
     "output_type": "execute_result"
    }
   ],
   "source": [
    "# O(nlogn) O(n)\n",
    "class Solution:\n",
    "    def sortByBits(self, arr: list[int]) -> list[int]:\n",
    "        return sorted(arr, key = lambda x : [x.bit_count(), x])\n",
    "\n",
    "ans = Solution()\n",
    "ans.sortByBits([1,4,8,2])"
   ]
  },
  {
   "cell_type": "code",
   "execution_count": 9,
   "metadata": {},
   "outputs": [
    {
     "data": {
      "text/plain": [
       "[256, 512, 1024]"
      ]
     },
     "execution_count": 9,
     "metadata": {},
     "output_type": "execute_result"
    }
   ],
   "source": [
    "# O(nlogn) O(n)\n",
    "class Solution:\n",
    "    def count_1(self, x: int) -> int:\n",
    "        count = 0\n",
    "        while x:\n",
    "            count += 1\n",
    "            x &= (x-1)\n",
    "        return count\n",
    "    def sortByBits(self, arr: list[int]) -> list[int]:\n",
    "        return sorted(arr, key = lambda x : [self.count_1(x), x])\n",
    "\n",
    "ans = Solution()\n",
    "ans.sortByBits([1024,512,256])"
   ]
  }
 ],
 "metadata": {
  "kernelspec": {
   "display_name": "Python 3",
   "language": "python",
   "name": "python3"
  },
  "language_info": {
   "codemirror_mode": {
    "name": "ipython",
    "version": 3
   },
   "file_extension": ".py",
   "mimetype": "text/x-python",
   "name": "python",
   "nbconvert_exporter": "python",
   "pygments_lexer": "ipython3",
   "version": "3.11.2"
  },
  "orig_nbformat": 4
 },
 "nbformat": 4,
 "nbformat_minor": 2
}
