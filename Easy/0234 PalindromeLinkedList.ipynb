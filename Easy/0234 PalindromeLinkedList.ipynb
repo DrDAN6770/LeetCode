{
  "nbformat": 4,
  "nbformat_minor": 0,
  "metadata": {
    "colab": {
      "provenance": [],
      "authorship_tag": "ABX9TyMFeMt2Bgywl2ZkVxV77vrB",
      "include_colab_link": true
    },
    "kernelspec": {
      "name": "python3",
      "display_name": "Python 3"
    },
    "language_info": {
      "name": "python"
    }
  },
  "cells": [
    {
      "cell_type": "markdown",
      "metadata": {
        "id": "view-in-github",
        "colab_type": "text"
      },
      "source": [
        "<a href=\"https://colab.research.google.com/github/DrDAN6770/LeetCode/blob/main/Easy/0234_Palindrome_Linked_List.ipynb\" target=\"_parent\"><img src=\"https://colab.research.google.com/assets/colab-badge.svg\" alt=\"Open In Colab\"/></a>"
      ]
    },
    {
      "cell_type": "markdown",
      "source": [
        "#234. Palindrome Linked List\n",
        "\n",
        "---\n",
        "\n",
        "https://leetcode.com/problems/palindrome-linked-list/"
      ],
      "metadata": {
        "id": "MAF_nngJhomc"
      }
    },
    {
      "cell_type": "code",
      "source": [
        "from typing import Optional"
      ],
      "metadata": {
        "id": "2vwDX-Trh6B1"
      },
      "execution_count": 2,
      "outputs": []
    },
    {
      "cell_type": "code",
      "execution_count": 3,
      "metadata": {
        "id": "a8nBm0IphkaI"
      },
      "outputs": [],
      "source": [
        "# Definition for singly-linked list.\n",
        "class ListNode:\n",
        "    def __init__(self, val=0, next=None):\n",
        "        self.val = val\n",
        "        self.next = next\n",
        "class Solution:\n",
        "    def isPalindrome(self, head: Optional[ListNode]) -> bool:\n",
        "        result = [] #build a list put linked-list\n",
        "        temphead = head\n",
        "\n",
        "        while temphead: #when None is False\n",
        "            result.append(temphead.val)\n",
        "            temphead = temphead.next\n",
        "\n",
        "        return result == result[::-1]"
      ]
    },
    {
      "cell_type": "code",
      "source": [
        "#[1,2,2,1]\n",
        "head = ListNode(1)\n",
        "head.next = ListNode(2)\n",
        "head.next.next = ListNode(2)\n",
        "head.next.next.next = ListNode(1)\n",
        "\n",
        "a = Solution()\n",
        "a.isPalindrome(head)"
      ],
      "metadata": {
        "colab": {
          "base_uri": "https://localhost:8080/"
        },
        "id": "ILvcNzADh8FJ",
        "outputId": "92902f11-af9b-48e5-e5c5-9b07523c3e24"
      },
      "execution_count": 4,
      "outputs": [
        {
          "output_type": "execute_result",
          "data": {
            "text/plain": [
              "True"
            ]
          },
          "metadata": {},
          "execution_count": 4
        }
      ]
    }
  ]
}
