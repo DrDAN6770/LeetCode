{
  "nbformat": 4,
  "nbformat_minor": 0,
  "metadata": {
    "colab": {
      "provenance": [],
      "authorship_tag": "ABX9TyPeZuoVeufLWsyPBFsSfHKg",
      "include_colab_link": true
    },
    "kernelspec": {
      "name": "python3",
      "display_name": "Python 3"
    },
    "language_info": {
      "name": "python"
    }
  },
  "cells": [
    {
      "cell_type": "markdown",
      "metadata": {
        "id": "view-in-github",
        "colab_type": "text"
      },
      "source": [
        "<a href=\"https://colab.research.google.com/github/DrDAN6770/LeetCode/blob/main/Easy/1342%20NumberofStepstoReduceaNumbertoZero.ipynb\" target=\"_parent\"><img src=\"https://colab.research.google.com/assets/colab-badge.svg\" alt=\"Open In Colab\"/></a>"
      ]
    },
    {
      "cell_type": "markdown",
      "source": [
        "# 1342. Number of Steps to Reduce a Number to Zero\n",
        "\n",
        "\n",
        "---\n",
        "\n",
        "https://leetcode.com/problems/number-of-steps-to-reduce-a-number-to-zero/"
      ],
      "metadata": {
        "id": "BZmg0zsML6hu"
      }
    },
    {
      "cell_type": "code",
      "execution_count": 2,
      "metadata": {
        "colab": {
          "base_uri": "https://localhost:8080/"
        },
        "id": "wnwrQsMsL4zJ",
        "outputId": "4e19075a-870a-4e93-8c1e-fdf2bbf6849e"
      },
      "outputs": [
        {
          "output_type": "execute_result",
          "data": {
            "text/plain": [
              "6"
            ]
          },
          "metadata": {},
          "execution_count": 2
        }
      ],
      "source": [
        "# & 1 判斷奇偶\n",
        "# >> 1 除2\n",
        "class Solution:\n",
        "    def numberOfSteps(self, num: int) -> int:\n",
        "        c = 0\n",
        "        while num != 0:\n",
        "            if num & 1: # odd\n",
        "                num -= 1\n",
        "            else:\n",
        "                num >>= 1\n",
        "            c += 1\n",
        "        return c\n",
        "res = Solution()\n",
        "res.numberOfSteps(14)"
      ]
    },
    {
      "cell_type": "code",
      "source": [
        "class Solution:\n",
        "    def numberOfSteps(self, num: int) -> int:\n",
        "        c = 0\n",
        "        while num != 0:\n",
        "            if num & 1: # odd\n",
        "                num -= 1\n",
        "            else:\n",
        "                num //= 2\n",
        "            c += 1\n",
        "        return c\n",
        "res = Solution()\n",
        "res.numberOfSteps(14)"
      ],
      "metadata": {
        "colab": {
          "base_uri": "https://localhost:8080/"
        },
        "id": "TvDSdjl-MF2R",
        "outputId": "c7bfddaf-fd93-4513-f2c3-869f1f85a69b"
      },
      "execution_count": 3,
      "outputs": [
        {
          "output_type": "execute_result",
          "data": {
            "text/plain": [
              "6"
            ]
          },
          "metadata": {},
          "execution_count": 3
        }
      ]
    }
  ]
}