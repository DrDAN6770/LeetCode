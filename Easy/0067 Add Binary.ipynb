{
 "cells": [
  {
   "cell_type": "markdown",
   "metadata": {},
   "source": [
    "# 67. Add Binary\n",
    "---\n",
    "https://leetcode.com/problems/add-binary/description/"
   ]
  },
  {
   "cell_type": "code",
   "execution_count": 1,
   "metadata": {},
   "outputs": [
    {
     "data": {
      "text/plain": [
       "'100'"
      ]
     },
     "execution_count": 1,
     "metadata": {},
     "output_type": "execute_result"
    }
   ],
   "source": [
    "# O(logn)\n",
    "class Solution:\n",
    "    def addBinary(self, a: str, b: str) -> str:\n",
    "        return bin(int(a,2) + int(b,2))[2:]\n",
    "ans = Solution()\n",
    "ans.addBinary(a = \"11\", b = \"1\")"
   ]
  },
  {
   "cell_type": "code",
   "execution_count": 3,
   "metadata": {},
   "outputs": [
    {
     "data": {
      "text/plain": [
       "'11'"
      ]
     },
     "execution_count": 3,
     "metadata": {},
     "output_type": "execute_result"
    }
   ],
   "source": [
    "# O(n)\n",
    "class Solution:\n",
    "    def addBinary(self, a: str, b: str) -> str:\n",
    "        res = \"\"\n",
    "        carry = 0\n",
    "        la, lb = len(a)-1, len(b)-1\n",
    "\n",
    "        while la >= 0 or lb >= 0 or carry:\n",
    "            if la >= 0:\n",
    "                carry += int(a[la])\n",
    "                la -= 1\n",
    "            if lb >= 0:\n",
    "                carry += int(b[lb])\n",
    "                lb -= 1\n",
    "            \n",
    "            res += str(carry % 2)\n",
    "            carry //= 2\n",
    "        \n",
    "        return res[::-1]\n",
    "ans = Solution()\n",
    "ans.addBinary(a = \"10\", b = \"1\")"
   ]
  }
 ],
 "metadata": {
  "kernelspec": {
   "display_name": "Python 3",
   "language": "python",
   "name": "python3"
  },
  "language_info": {
   "codemirror_mode": {
    "name": "ipython",
    "version": 3
   },
   "file_extension": ".py",
   "mimetype": "text/x-python",
   "name": "python",
   "nbconvert_exporter": "python",
   "pygments_lexer": "ipython3",
   "version": "3.11.2"
  },
  "orig_nbformat": 4
 },
 "nbformat": 4,
 "nbformat_minor": 2
}
