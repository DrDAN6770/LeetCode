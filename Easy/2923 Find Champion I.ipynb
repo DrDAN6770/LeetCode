{
 "cells": [
  {
   "cell_type": "markdown",
   "metadata": {},
   "source": [
    "# 2923. Find Champion I\n",
    "---\n",
    "https://leetcode.com/problems/find-champion-i/description/"
   ]
  },
  {
   "cell_type": "code",
   "execution_count": 23,
   "metadata": {},
   "outputs": [
    {
     "data": {
      "text/plain": [
       "1"
      ]
     },
     "execution_count": 23,
     "metadata": {},
     "output_type": "execute_result"
    }
   ],
   "source": [
    "# O(n2) O(1)\n",
    "class Solution:\n",
    "    def findChampion(self, grid: list[list[int]]) -> int:\n",
    "        n = len(grid)\n",
    "        for i in range(n):\n",
    "            winner = True\n",
    "            for j in range(n):\n",
    "                if i != j and grid[i][j] == 0:\n",
    "                    winner = False\n",
    "                    break\n",
    "            if winner:\n",
    "                return i\n",
    "        return -1\n",
    "ans = Solution()\n",
    "ans.findChampion([[0,0,1],[1,0,1],[0,0,0]])     "
   ]
  },
  {
   "cell_type": "code",
   "execution_count": 22,
   "metadata": {},
   "outputs": [
    {
     "data": {
      "text/plain": [
       "1"
      ]
     },
     "execution_count": 22,
     "metadata": {},
     "output_type": "execute_result"
    }
   ],
   "source": [
    "# O(n2) O(1)\n",
    "class Solution:\n",
    "    def findChampion(self, grid: list[list[int]]) -> int:\n",
    "        n = len(grid)\n",
    "        win = 0\n",
    "        mx = sum(grid[0])\n",
    "        for i in range(1, n):\n",
    "           tmpsum = sum(grid[i])\n",
    "           if tmpsum > mx:\n",
    "               mx = tmpsum\n",
    "               win = i\n",
    "        return win\n",
    "\n",
    "ans = Solution()\n",
    "ans.findChampion([[0,0,1],[1,0,1],[0,0,0]])       "
   ]
  }
 ],
 "metadata": {
  "kernelspec": {
   "display_name": "Python 3",
   "language": "python",
   "name": "python3"
  },
  "language_info": {
   "codemirror_mode": {
    "name": "ipython",
    "version": 3
   },
   "file_extension": ".py",
   "mimetype": "text/x-python",
   "name": "python",
   "nbconvert_exporter": "python",
   "pygments_lexer": "ipython3",
   "version": "3.11.2"
  }
 },
 "nbformat": 4,
 "nbformat_minor": 2
}
