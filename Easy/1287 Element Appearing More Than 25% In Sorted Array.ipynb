{
 "cells": [
  {
   "cell_type": "markdown",
   "metadata": {},
   "source": [
    "# 1287. Element Appearing More Than 25% In Sorted Array\n",
    "---\n",
    "https://leetcode.com/problems/element-appearing-more-than-25-in-sorted-array/"
   ]
  },
  {
   "cell_type": "code",
   "execution_count": 2,
   "metadata": {},
   "outputs": [
    {
     "data": {
      "text/plain": [
       "6"
      ]
     },
     "execution_count": 2,
     "metadata": {},
     "output_type": "execute_result"
    }
   ],
   "source": [
    "# O(n) O(1) math\n",
    "class Solution:\n",
    "    def findSpecialInteger(self, arr: list[int]) -> int:\n",
    "        n = len(arr)\n",
    "        threshold = n // 4\n",
    "\n",
    "        for i in range(n - threshold):\n",
    "            if arr[i] == arr[i + threshold]:\n",
    "                return arr[i]\n",
    "        return -1\n",
    "\n",
    "ans = Solution()\n",
    "res = ans.findSpecialInteger(arr = [1,2,2,6,6,6,6,7,10])\n",
    "res"
   ]
  },
  {
   "cell_type": "code",
   "execution_count": 3,
   "metadata": {},
   "outputs": [
    {
     "data": {
      "text/plain": [
       "1"
      ]
     },
     "execution_count": 3,
     "metadata": {},
     "output_type": "execute_result"
    }
   ],
   "source": [
    "# O(n) O(1)\n",
    "class Solution:\n",
    "    def findSpecialInteger(self, arr: list[int]) -> int:\n",
    "        n = len(arr)\n",
    "        pre = arr[0]\n",
    "        cnt = 1\n",
    "        threshold = n // 4\n",
    "\n",
    "        for i in range(1, n):\n",
    "            cnt = cnt + 1 if pre == arr[i] else 1\n",
    "\n",
    "            if cnt > threshold:\n",
    "                return arr[i]\n",
    "            pre = arr[i]\n",
    "        \n",
    "        return pre\n",
    "\n",
    "ans = Solution()\n",
    "res = ans.findSpecialInteger([1])\n",
    "res"
   ]
  }
 ],
 "metadata": {
  "kernelspec": {
   "display_name": "Python 3",
   "language": "python",
   "name": "python3"
  },
  "language_info": {
   "codemirror_mode": {
    "name": "ipython",
    "version": 3
   },
   "file_extension": ".py",
   "mimetype": "text/x-python",
   "name": "python",
   "nbconvert_exporter": "python",
   "pygments_lexer": "ipython3",
   "version": "3.11.2"
  }
 },
 "nbformat": 4,
 "nbformat_minor": 2
}
