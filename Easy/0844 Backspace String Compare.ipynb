{
 "cells": [
  {
   "cell_type": "markdown",
   "metadata": {},
   "source": [
    "# 844. Backspace String Compare\n",
    "---\n",
    "https://leetcode.com/problems/backspace-string-compare/"
   ]
  },
  {
   "cell_type": "code",
   "execution_count": 10,
   "metadata": {},
   "outputs": [
    {
     "data": {
      "text/plain": [
       "False"
      ]
     },
     "execution_count": 10,
     "metadata": {},
     "output_type": "execute_result"
    }
   ],
   "source": [
    "# 2 pointer O(n) O(1)\n",
    "class Solution:\n",
    "    def strlength(self, lst : list) -> int:\n",
    "        length = 0\n",
    "        for c in lst:\n",
    "            if c != \"#\":\n",
    "                lst[length] = c\n",
    "                length += 1\n",
    "            elif c == \"#\" and length > 0:\n",
    "                length -= 1\n",
    "        return length  \n",
    "    def backspaceCompare(self, s: str, t: str) -> bool:\n",
    "        s, t = list(s), list(t)\n",
    "        s_int = self.strlength(s)\n",
    "        t_int = self.strlength(t)\n",
    "        \n",
    "        if s_int != t_int:\n",
    "            return False\n",
    "        \n",
    "        for i in range(s_int):\n",
    "            if s[i] != t[i]:\n",
    "                return False\n",
    "        return True\n",
    "\n",
    "ans = Solution()\n",
    "ans.backspaceCompare(\"a##d\", \"a##c\")"
   ]
  },
  {
   "cell_type": "code",
   "execution_count": 11,
   "metadata": {},
   "outputs": [
    {
     "data": {
      "text/plain": [
       "False"
      ]
     },
     "execution_count": 11,
     "metadata": {},
     "output_type": "execute_result"
    }
   ],
   "source": [
    "class Solution:\n",
    "    def stack(self, lst):\n",
    "        res = []\n",
    "        for i in lst:\n",
    "            if i != \"#\":\n",
    "                res.append(i)\n",
    "            elif i == \"#\" and res:\n",
    "                res.pop()\n",
    "        return \"\".join(res)  \n",
    "    def backspaceCompare(self, s: str, t: str) -> bool:\n",
    "        return self.stack(s) == self.stack(t)\n",
    "ans = Solution()\n",
    "ans.backspaceCompare(\"a##d\", \"a##c\")"
   ]
  }
 ],
 "metadata": {
  "kernelspec": {
   "display_name": "Python 3",
   "language": "python",
   "name": "python3"
  },
  "language_info": {
   "codemirror_mode": {
    "name": "ipython",
    "version": 3
   },
   "file_extension": ".py",
   "mimetype": "text/x-python",
   "name": "python",
   "nbconvert_exporter": "python",
   "pygments_lexer": "ipython3",
   "version": "3.11.2"
  },
  "orig_nbformat": 4
 },
 "nbformat": 4,
 "nbformat_minor": 2
}
