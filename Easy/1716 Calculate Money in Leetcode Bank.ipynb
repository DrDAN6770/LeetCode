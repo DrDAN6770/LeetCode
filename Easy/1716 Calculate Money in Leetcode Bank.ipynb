{
 "cells": [
  {
   "cell_type": "markdown",
   "metadata": {},
   "source": [
    "# 1716. Calculate Money in Leetcode Bank\n",
    "---\n",
    "https://leetcode.com/problems/calculate-money-in-leetcode-bank/"
   ]
  },
  {
   "cell_type": "code",
   "execution_count": 1,
   "metadata": {},
   "outputs": [
    {
     "data": {
      "text/plain": [
       "45843"
      ]
     },
     "execution_count": 1,
     "metadata": {},
     "output_type": "execute_result"
    }
   ],
   "source": [
    "# O(1) O(1)\n",
    "class Solution:\n",
    "    def totalMoney(self, n: int) -> int:\n",
    "        count = n // 7\n",
    "        weekmore = 7 * (count * (count - 1) // 2)\n",
    "        total = 28 * count + weekmore\n",
    "        \n",
    "        n %= 7\n",
    "        while n > 0:\n",
    "            total += (n + count)\n",
    "            n -= 1\n",
    "        return total\n",
    "\n",
    "ans = Solution()\n",
    "ans.totalMoney(777)"
   ]
  }
 ],
 "metadata": {
  "kernelspec": {
   "display_name": "Python 3",
   "language": "python",
   "name": "python3"
  },
  "language_info": {
   "codemirror_mode": {
    "name": "ipython",
    "version": 3
   },
   "file_extension": ".py",
   "mimetype": "text/x-python",
   "name": "python",
   "nbconvert_exporter": "python",
   "pygments_lexer": "ipython3",
   "version": "3.11.2"
  }
 },
 "nbformat": 4,
 "nbformat_minor": 2
}
