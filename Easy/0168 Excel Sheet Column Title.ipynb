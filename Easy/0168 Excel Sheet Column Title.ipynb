{
 "cells": [
  {
   "cell_type": "markdown",
   "metadata": {},
   "source": [
    "# 168. Excel Sheet Column Title\n",
    "---\n",
    "https://leetcode.com/problems/excel-sheet-column-title/"
   ]
  },
  {
   "cell_type": "code",
   "execution_count": 62,
   "metadata": {},
   "outputs": [
    {
     "data": {
      "text/plain": [
       "'ZZ'"
      ]
     },
     "execution_count": 62,
     "metadata": {},
     "output_type": "execute_result"
    }
   ],
   "source": [
    "class Solution:\n",
    "    def convertToTitle(self, columnNumber: int) -> str:\n",
    "        res = ''\n",
    "        while columnNumber > 0:\n",
    "            columnNumber -= 1\n",
    "            res = chr(ord('A') + (columnNumber % 26)) + res\n",
    "            columnNumber = (columnNumber) // 26\n",
    "        return res\n",
    "ans = Solution()\n",
    "ans.convertToTitle(702)"
   ]
  },
  {
   "cell_type": "code",
   "execution_count": 59,
   "metadata": {},
   "outputs": [
    {
     "data": {
      "text/plain": [
       "'A'"
      ]
     },
     "execution_count": 59,
     "metadata": {},
     "output_type": "execute_result"
    }
   ],
   "source": [
    "class Solution:\n",
    "    def convertToTitle(self, columnNumber: int) -> str:\n",
    "        letter = 'ABCDEFGHIJKLMNOPQRSTUVWXYZ'\n",
    "        if columnNumber <= 26:\n",
    "            return letter[(columnNumber-1) % 26]\n",
    "\n",
    "        res = ''\n",
    "        while columnNumber > 0:\n",
    "            columnNumber -= 1\n",
    "            res = letter[columnNumber % 26] + res\n",
    "            columnNumber = (columnNumber) // 26\n",
    "        return res\n",
    "ans = Solution()\n",
    "ans.convertToTitle(1)"
   ]
  },
  {
   "cell_type": "code",
   "execution_count": 53,
   "metadata": {},
   "outputs": [
    {
     "data": {
      "text/plain": [
       "'ZZ'"
      ]
     },
     "execution_count": 53,
     "metadata": {},
     "output_type": "execute_result"
    }
   ],
   "source": [
    "class Solution:\n",
    "    def convertToTitle(self, columnNumber: int) -> str:\n",
    "        letter = 'ABCDEFGHIJKLMNOPQRSTUVWXYZ'\n",
    "        alpha = {k:v for k,v in zip(range(27), letter)}\n",
    "\n",
    "        if columnNumber <= 26:\n",
    "            return alpha[columnNumber-1]\n",
    "        res = ''\n",
    "\n",
    "        while columnNumber > 0:\n",
    "            res = alpha[(columnNumber-1) % 26] + res\n",
    "            columnNumber = (columnNumber-1) // 26\n",
    "        return res\n",
    "ans = Solution()\n",
    "ans.convertToTitle(702)"
   ]
  }
 ],
 "metadata": {
  "kernelspec": {
   "display_name": "Python 3",
   "language": "python",
   "name": "python3"
  },
  "language_info": {
   "codemirror_mode": {
    "name": "ipython",
    "version": 3
   },
   "file_extension": ".py",
   "mimetype": "text/x-python",
   "name": "python",
   "nbconvert_exporter": "python",
   "pygments_lexer": "ipython3",
   "version": "3.11.2"
  },
  "orig_nbformat": 4
 },
 "nbformat": 4,
 "nbformat_minor": 2
}
