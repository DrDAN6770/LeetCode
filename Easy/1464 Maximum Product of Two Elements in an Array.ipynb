{
 "cells": [
  {
   "cell_type": "markdown",
   "metadata": {},
   "source": [
    "# 1464. Maximum Product of Two Elements in an Array\n",
    "---\n",
    "https://leetcode.com/problems/maximum-product-of-two-elements-in-an-array/"
   ]
  },
  {
   "cell_type": "code",
   "execution_count": 1,
   "metadata": {},
   "outputs": [
    {
     "data": {
      "text/plain": [
       "12"
      ]
     },
     "execution_count": 1,
     "metadata": {},
     "output_type": "execute_result"
    }
   ],
   "source": [
    "# O(n) O(1) math\n",
    "class Solution:\n",
    "    def maxProduct(self, nums: list[int]) -> int:\n",
    "        mx1, mx2 = 0, 0\n",
    "        for num in nums:\n",
    "            if num > mx1:\n",
    "                mx1, mx2 = num, mx1\n",
    "            elif num > mx2:\n",
    "                mx2 = num\n",
    "        return (mx1 - 1) * (mx2 - 1)\n",
    "\n",
    "ans = Solution()\n",
    "res = ans.maxProduct([3,4,5,2])\n",
    "res"
   ]
  },
  {
   "cell_type": "code",
   "execution_count": 3,
   "metadata": {},
   "outputs": [
    {
     "data": {
      "text/plain": [
       "16"
      ]
     },
     "execution_count": 3,
     "metadata": {},
     "output_type": "execute_result"
    }
   ],
   "source": [
    "# O(nlogn) O(n) sort\n",
    "class Solution:\n",
    "    def maxProduct(self, nums: list[int]) -> int:\n",
    "        nums.sort()\n",
    "        return (nums[-1] - 1) * (nums[-2] - 1)\n",
    "\n",
    "ans = Solution()\n",
    "res = ans.maxProduct([1,5,4,5])\n",
    "res"
   ]
  }
 ],
 "metadata": {
  "kernelspec": {
   "display_name": "Python 3",
   "language": "python",
   "name": "python3"
  },
  "language_info": {
   "codemirror_mode": {
    "name": "ipython",
    "version": 3
   },
   "file_extension": ".py",
   "mimetype": "text/x-python",
   "name": "python",
   "nbconvert_exporter": "python",
   "pygments_lexer": "ipython3",
   "version": "3.11.2"
  }
 },
 "nbformat": 4,
 "nbformat_minor": 2
}
