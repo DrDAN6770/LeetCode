{
 "cells": [
  {
   "cell_type": "markdown",
   "metadata": {},
   "source": [
    "# 121. Best Time to Buy and Sell Stock\n",
    "---\n",
    "https://leetcode.com/problems/best-time-to-buy-and-sell-stock/description/?envType=list&envId=rwo58iji"
   ]
  },
  {
   "cell_type": "code",
   "execution_count": 6,
   "metadata": {},
   "outputs": [
    {
     "data": {
      "text/plain": [
       "5"
      ]
     },
     "execution_count": 6,
     "metadata": {},
     "output_type": "execute_result"
    }
   ],
   "source": [
    "# O(n) O(1)\n",
    "class Solution:\n",
    "    def maxProfit(self, prices: list[int]) -> int:\n",
    "        profit = 0\n",
    "        buy = prices[0]\n",
    "\n",
    "        for p in prices[1:]:\n",
    "            buy = min(buy, p)\n",
    "            profit = max(profit, p - buy)\n",
    "        return profit\n",
    "ans = Solution()\n",
    "ans.maxProfit([7,1,5,3,6,4])"
   ]
  },
  {
   "cell_type": "markdown",
   "metadata": {},
   "source": [
    "# TLE, MLE"
   ]
  },
  {
   "cell_type": "code",
   "execution_count": 1,
   "metadata": {},
   "outputs": [
    {
     "data": {
      "text/plain": [
       "5"
      ]
     },
     "execution_count": 1,
     "metadata": {},
     "output_type": "execute_result"
    }
   ],
   "source": [
    "# 暴力 O(n2) O(1)\n",
    "class Solution:\n",
    "    def maxProfit(self, prices: list[int]) -> int:\n",
    "        days = len(prices)\n",
    "        mx = 0\n",
    "        for i in range(days):\n",
    "            buy = prices[i]\n",
    "            for j in range(i, days):\n",
    "                sell = prices[j]\n",
    "                if sell > buy:\n",
    "                    profit = sell - buy\n",
    "                    mx = max(mx, profit)\n",
    "        return mx\n",
    "ans = Solution()\n",
    "ans.maxProfit([7,1,5,3,6,4])"
   ]
  },
  {
   "cell_type": "code",
   "execution_count": 5,
   "metadata": {},
   "outputs": [
    {
     "data": {
      "text/plain": [
       "5"
      ]
     },
     "execution_count": 5,
     "metadata": {},
     "output_type": "execute_result"
    }
   ],
   "source": [
    "# O(n2) O(n2)\n",
    "class Solution:\n",
    "    def maxProfit(self, prices: list[int]) -> int:\n",
    "        days = len(prices)\n",
    "        dp = [[0] * days for _ in range(days)]\n",
    "        for length in range(1, days):\n",
    "            for s in range(days - length):\n",
    "                e = s + length\n",
    "                dp[s][e] = max(prices[e] - prices[s], dp[s][e-1], dp[s+1][e])\n",
    "        return dp[0][days-1]\n",
    "ans = Solution()\n",
    "ans.maxProfit([7,1,5,3,6,4])"
   ]
  }
 ],
 "metadata": {
  "kernelspec": {
   "display_name": "Python 3",
   "language": "python",
   "name": "python3"
  },
  "language_info": {
   "codemirror_mode": {
    "name": "ipython",
    "version": 3
   },
   "file_extension": ".py",
   "mimetype": "text/x-python",
   "name": "python",
   "nbconvert_exporter": "python",
   "pygments_lexer": "ipython3",
   "version": "3.11.2"
  },
  "orig_nbformat": 4
 },
 "nbformat": 4,
 "nbformat_minor": 2
}
