{
 "cells": [
  {
   "cell_type": "markdown",
   "metadata": {},
   "source": [
    "# 867. Transpose Matrix\n",
    "---\n",
    "https://leetcode.com/problems/transpose-matrix/"
   ]
  },
  {
   "cell_type": "code",
   "execution_count": 3,
   "metadata": {},
   "outputs": [
    {
     "data": {
      "text/plain": [
       "[(1, 4), (2, 5), (3, 6)]"
      ]
     },
     "execution_count": 3,
     "metadata": {},
     "output_type": "execute_result"
    }
   ],
   "source": [
    "# O(mn) O(mn) oneline\n",
    "class Solution:\n",
    "    def transpose(self, matrix: list[list[int]]) -> list[list[int]]:\n",
    "        return zip(*matrix)\n",
    "\n",
    "ans = Solution()\n",
    "res = ans.transpose([[1,2,3],[4,5,6]])\n",
    "list(res)"
   ]
  },
  {
   "cell_type": "code",
   "execution_count": 1,
   "metadata": {},
   "outputs": [
    {
     "data": {
      "text/plain": [
       "[[1, 4], [2, 5], [3, 6]]"
      ]
     },
     "execution_count": 1,
     "metadata": {},
     "output_type": "execute_result"
    }
   ],
   "source": [
    "# O(mn) O(mn)\n",
    "class Solution:\n",
    "    def transpose(self, matrix: list[list[int]]) -> list[list[int]]:\n",
    "        m, n = len(matrix), len(matrix[0])\n",
    "        res = [[0] * m for _ in range(n)]\n",
    "\n",
    "        for col in range(n):\n",
    "            for row in range(m):\n",
    "                res[col][row] = matrix[row][col]\n",
    "        \n",
    "        return res\n",
    "\n",
    "ans = Solution()\n",
    "ans.transpose([[1,2,3],[4,5,6]])"
   ]
  }
 ],
 "metadata": {
  "kernelspec": {
   "display_name": "Python 3",
   "language": "python",
   "name": "python3"
  },
  "language_info": {
   "codemirror_mode": {
    "name": "ipython",
    "version": 3
   },
   "file_extension": ".py",
   "mimetype": "text/x-python",
   "name": "python",
   "nbconvert_exporter": "python",
   "pygments_lexer": "ipython3",
   "version": "3.11.2"
  }
 },
 "nbformat": 4,
 "nbformat_minor": 2
}
