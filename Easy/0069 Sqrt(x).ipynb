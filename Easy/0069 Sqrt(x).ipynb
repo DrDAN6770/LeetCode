{
 "cells": [
  {
   "cell_type": "markdown",
   "metadata": {},
   "source": [
    "# 69. Sqrt(x)\n",
    "---\n",
    "https://leetcode.com/problems/sqrtx/description/"
   ]
  },
  {
   "cell_type": "code",
   "execution_count": 2,
   "metadata": {},
   "outputs": [
    {
     "data": {
      "text/plain": [
       "3"
      ]
     },
     "execution_count": 2,
     "metadata": {},
     "output_type": "execute_result"
    }
   ],
   "source": [
    "# O(logn)\n",
    "class Solution:\n",
    "    def mySqrt(self, x: int) -> int:\n",
    "        return int(x ** 0.5)\n",
    "ans = Solution()\n",
    "ans.mySqrt(15)"
   ]
  },
  {
   "cell_type": "code",
   "execution_count": 1,
   "metadata": {},
   "outputs": [
    {
     "data": {
      "text/plain": [
       "3"
      ]
     },
     "execution_count": 1,
     "metadata": {},
     "output_type": "execute_result"
    }
   ],
   "source": [
    "# O(logn)\n",
    "class Solution:\n",
    "    def mySqrt(self, x: int) -> int:\n",
    "        if x == 0  or x == 1:\n",
    "            return x\n",
    "        \n",
    "        l, r = 1, x\n",
    "        \n",
    "        while l <= r:\n",
    "            m = l + ((r - l) >> 1)\n",
    "            if m == x // m:\n",
    "                return m\n",
    "            \n",
    "            if m > x // m:\n",
    "                r = m - 1\n",
    "            else:\n",
    "                l = m + 1\n",
    "        return l - 1\n",
    "ans = Solution()\n",
    "ans.mySqrt(15)"
   ]
  }
 ],
 "metadata": {
  "kernelspec": {
   "display_name": "Python 3",
   "language": "python",
   "name": "python3"
  },
  "language_info": {
   "codemirror_mode": {
    "name": "ipython",
    "version": 3
   },
   "file_extension": ".py",
   "mimetype": "text/x-python",
   "name": "python",
   "nbconvert_exporter": "python",
   "pygments_lexer": "ipython3",
   "version": "3.11.2"
  },
  "orig_nbformat": 4
 },
 "nbformat": 4,
 "nbformat_minor": 2
}
