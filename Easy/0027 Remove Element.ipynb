{
 "cells": [
  {
   "cell_type": "markdown",
   "metadata": {},
   "source": [
    "# 27. Remove Element\n",
    "---\n",
    "https://leetcode.com/problems/remove-element/"
   ]
  },
  {
   "cell_type": "code",
   "execution_count": 4,
   "metadata": {},
   "outputs": [
    {
     "data": {
      "text/plain": [
       "2"
      ]
     },
     "execution_count": 4,
     "metadata": {},
     "output_type": "execute_result"
    }
   ],
   "source": [
    "# remove O(n2) O(1)\n",
    "class Solution:\n",
    "    def removeElement(self, nums: list[int], val: int) -> int:\n",
    "        if len(set(nums)) == 1:\n",
    "            return 0 if val == nums[0] else len(nums)\n",
    "\n",
    "        while val in nums:\n",
    "            nums.remove(val)\n",
    "        return len(nums)\n",
    "\n",
    "ans = Solution()\n",
    "ans.removeElement(nums = [3,2,2,3], val = 3)"
   ]
  },
  {
   "cell_type": "code",
   "execution_count": 3,
   "metadata": {},
   "outputs": [
    {
     "data": {
      "text/plain": [
       "2"
      ]
     },
     "execution_count": 3,
     "metadata": {},
     "output_type": "execute_result"
    }
   ],
   "source": [
    "# 2 pointer O(n) O(1)\n",
    "class Solution:\n",
    "    def removeElement(self, nums: list[int], val: int) -> int:\n",
    "        if len(set(nums)) == 1:\n",
    "            return 0 if val == nums[0] else len(nums)\n",
    "        \n",
    "        if val not in nums:\n",
    "            return len(nums)\n",
    "\n",
    "        k = 0\n",
    "        for i, v in enumerate(nums):\n",
    "            if v != val:\n",
    "                nums[k] = v\n",
    "                k += 1\n",
    "        return k\n",
    "\n",
    "ans = Solution()\n",
    "ans.removeElement(nums = [3,2,2,3], val = 3)"
   ]
  }
 ],
 "metadata": {
  "kernelspec": {
   "display_name": "Python 3",
   "language": "python",
   "name": "python3"
  },
  "language_info": {
   "codemirror_mode": {
    "name": "ipython",
    "version": 3
   },
   "file_extension": ".py",
   "mimetype": "text/x-python",
   "name": "python",
   "nbconvert_exporter": "python",
   "pygments_lexer": "ipython3",
   "version": "3.11.2"
  },
  "orig_nbformat": 4
 },
 "nbformat": 4,
 "nbformat_minor": 2
}
