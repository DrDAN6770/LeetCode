{
  "nbformat": 4,
  "nbformat_minor": 0,
  "metadata": {
    "colab": {
      "provenance": [],
      "authorship_tag": "ABX9TyMdeCRqd9DU5aOba9epogKm",
      "include_colab_link": true
    },
    "kernelspec": {
      "name": "python3",
      "display_name": "Python 3"
    },
    "language_info": {
      "name": "python"
    }
  },
  "cells": [
    {
      "cell_type": "markdown",
      "metadata": {
        "id": "view-in-github",
        "colab_type": "text"
      },
      "source": [
        "<a href=\"https://colab.research.google.com/github/DrDAN6770/LeetCode/blob/main/Easy/0283%20MoveZeroes.ipynb\" target=\"_parent\"><img src=\"https://colab.research.google.com/assets/colab-badge.svg\" alt=\"Open In Colab\"/></a>"
      ]
    },
    {
      "cell_type": "markdown",
      "source": [
        "# 283. Move Zeroes\n",
        "\n",
        "\n",
        "---\n",
        "\n",
        "https://leetcode.com/problems/move-zeroes/"
      ],
      "metadata": {
        "id": "1L6b4qgLZ5bh"
      }
    },
    {
      "cell_type": "code",
      "execution_count": 1,
      "metadata": {
        "colab": {
          "base_uri": "https://localhost:8080/"
        },
        "id": "V-uWbZpzZ3Wz",
        "outputId": "95e8cc12-771f-424d-9996-f3639efce61a"
      },
      "outputs": [
        {
          "output_type": "stream",
          "name": "stdout",
          "text": [
            "[1]\n"
          ]
        }
      ],
      "source": [
        "class Solution:\n",
        "    def moveZeroes(self, nums: list[int]) -> None:\n",
        "        \"\"\"\n",
        "        Do not return anything, modify nums in-place instead.\n",
        "        \"\"\"\n",
        "        # 快每次都會增加\n",
        "        # 慢不等於0 就往前推\n",
        "        # 快不等於0 慢等於0才需要交換\n",
        "        # 下面判斷是有順序的\n",
        "        slow, fast = 0, 0\n",
        "        while fast < len(nums):\n",
        "            if nums[fast] != 0 and nums[slow] == 0:\n",
        "                 nums[slow], nums[fast] = nums[fast], nums[slow]\n",
        "            if nums[slow] != 0:\n",
        "                slow += 1\n",
        "            fast += 1\n",
        "\n",
        "        print(nums)\n",
        "res = Solution()\n",
        "res.moveZeroes([1])"
      ]
    },
    {
      "cell_type": "code",
      "source": [
        "class Solution:\n",
        "    def moveZeroes(self, nums: list[int]) -> None:\n",
        "        \"\"\"\n",
        "        Do not return anything, modify nums in-place instead.\n",
        "        \"\"\"\n",
        "        # 快每次都會增加\n",
        "        # 慢不等於0 就往前推\n",
        "        # 快不等於0 慢等於0才需要交換\n",
        "        slow, fast = 0, 0\n",
        "        while fast < len(nums):\n",
        "            if nums[slow] != 0:\n",
        "                slow += 1\n",
        "                fast += 1\n",
        "            else:\n",
        "                if nums[fast] != 0:\n",
        "                    nums[slow], nums[fast] = nums[fast], nums[slow]\n",
        "                else:\n",
        "                    fast += 1\n",
        "        print(nums)\n",
        "res = Solution()\n",
        "res.moveZeroes([0,1,0,3,12])"
      ],
      "metadata": {
        "colab": {
          "base_uri": "https://localhost:8080/"
        },
        "id": "9cFlG5pPZ_BC",
        "outputId": "832ed390-b95d-4179-f048-95db052867bf"
      },
      "execution_count": 2,
      "outputs": [
        {
          "output_type": "stream",
          "name": "stdout",
          "text": [
            "[1, 3, 12, 0, 0]\n"
          ]
        }
      ]
    }
  ]
}