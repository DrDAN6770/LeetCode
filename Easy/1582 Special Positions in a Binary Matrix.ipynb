{
 "cells": [
  {
   "cell_type": "markdown",
   "metadata": {},
   "source": [
    "# 1582. Special Positions in a Binary Matrix\n",
    "---\n",
    "https://leetcode.com/problems/special-positions-in-a-binary-matrix/"
   ]
  },
  {
   "cell_type": "code",
   "execution_count": 1,
   "metadata": {},
   "outputs": [
    {
     "data": {
      "text/plain": [
       "3"
      ]
     },
     "execution_count": 1,
     "metadata": {},
     "output_type": "execute_result"
    }
   ],
   "source": [
    "# O(mn) O(m+n) count\n",
    "class Solution:\n",
    "    def numSpecial(self, mat: list[list[int]]) -> int:\n",
    "        m, n = len(mat), len(mat[0])\n",
    "        X = [0] * m\n",
    "        Y = [0] * n\n",
    "        res = 0\n",
    "\n",
    "        for row in range(m):\n",
    "            for col in range(n):\n",
    "                if mat[row][col] == 1:\n",
    "                    X[row] += 1\n",
    "                    Y[col] += 1\n",
    "        \n",
    "        for row in range(m):\n",
    "            for col in range(n):\n",
    "                if mat[row][col] == 1 and X[row] == 1 and Y[col] == 1:\n",
    "                    res += 1\n",
    "        \n",
    "        return res\n",
    "\n",
    "ans = Solution()\n",
    "res = ans.numSpecial([[1,0,0],[0,1,0],[0,0,1]])\n",
    "res"
   ]
  }
 ],
 "metadata": {
  "kernelspec": {
   "display_name": "Python 3",
   "language": "python",
   "name": "python3"
  },
  "language_info": {
   "codemirror_mode": {
    "name": "ipython",
    "version": 3
   },
   "file_extension": ".py",
   "mimetype": "text/x-python",
   "name": "python",
   "nbconvert_exporter": "python",
   "pygments_lexer": "ipython3",
   "version": "3.11.2"
  }
 },
 "nbformat": 4,
 "nbformat_minor": 2
}
