{
  "nbformat": 4,
  "nbformat_minor": 0,
  "metadata": {
    "colab": {
      "provenance": [],
      "authorship_tag": "ABX9TyMTKsSsixXm7riAfNWDlNqT",
      "include_colab_link": true
    },
    "kernelspec": {
      "name": "python3",
      "display_name": "Python 3"
    },
    "language_info": {
      "name": "python"
    }
  },
  "cells": [
    {
      "cell_type": "markdown",
      "metadata": {
        "id": "view-in-github",
        "colab_type": "text"
      },
      "source": [
        "<a href=\"https://colab.research.google.com/github/DrDAN6770/LeetCode/blob/main/Easy/1672%20RichestCustomerWealth.ipynb\" target=\"_parent\"><img src=\"https://colab.research.google.com/assets/colab-badge.svg\" alt=\"Open In Colab\"/></a>"
      ]
    },
    {
      "cell_type": "markdown",
      "source": [
        "# 1672. Richest Customer Wealth\n",
        "\n",
        "\n",
        "---\n",
        "\n",
        "https://leetcode.com/problems/richest-customer-wealth/"
      ],
      "metadata": {
        "id": "E0UQHS9qKwYx"
      }
    },
    {
      "cell_type": "code",
      "execution_count": 1,
      "metadata": {
        "colab": {
          "base_uri": "https://localhost:8080/"
        },
        "id": "4Quvth3yKq74",
        "outputId": "b2c27d04-38d7-45fb-98c8-deb1811ab2ba"
      },
      "outputs": [
        {
          "output_type": "execute_result",
          "data": {
            "text/plain": [
              "17"
            ]
          },
          "metadata": {},
          "execution_count": 1
        }
      ],
      "source": [
        "class Solution:\n",
        "    def maximumWealth(self, accounts: list[list[int]]) -> int:\n",
        "        max_customer = 0\n",
        "        for i in range(len(accounts)):\n",
        "            temp = sum(accounts[i])\n",
        "            if temp > max_customer:\n",
        "                max_customer = temp\n",
        "        return max_customer\n",
        "res = Solution()\n",
        "res.maximumWealth([[2,8,7],[7,1,3],[1,9,5]])"
      ]
    },
    {
      "cell_type": "code",
      "source": [
        "class Solution:\n",
        "    def maximumWealth(self, accounts: list[list[int]]) -> int:\n",
        "        return max(map(sum, accounts))\n",
        "res = Solution()\n",
        "res.maximumWealth([[2,8,7],[7,1,3],[1,9,5]])"
      ],
      "metadata": {
        "colab": {
          "base_uri": "https://localhost:8080/"
        },
        "id": "4-nmPMYILAeN",
        "outputId": "d2244163-e7db-4e12-cdda-86347fb99ace"
      },
      "execution_count": 2,
      "outputs": [
        {
          "output_type": "execute_result",
          "data": {
            "text/plain": [
              "17"
            ]
          },
          "metadata": {},
          "execution_count": 2
        }
      ]
    }
  ]
}