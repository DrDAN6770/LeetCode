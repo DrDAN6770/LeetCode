{
  "nbformat": 4,
  "nbformat_minor": 0,
  "metadata": {
    "colab": {
      "provenance": [],
      "authorship_tag": "ABX9TyPkdHfXIGmajrAeCaybYX/Z",
      "include_colab_link": true
    },
    "kernelspec": {
      "name": "python3",
      "display_name": "Python 3"
    },
    "language_info": {
      "name": "python"
    }
  },
  "cells": [
    {
      "cell_type": "markdown",
      "metadata": {
        "id": "view-in-github",
        "colab_type": "text"
      },
      "source": [
        "<a href=\"https://colab.research.google.com/github/DrDAN6770/LeetCode/blob/main/Easy/1742%20MaximumNumberofBallsInABox.ipynb\" target=\"_parent\"><img src=\"https://colab.research.google.com/assets/colab-badge.svg\" alt=\"Open In Colab\"/></a>"
      ]
    },
    {
      "cell_type": "markdown",
      "source": [
        "\n",
        "1742. Maximum Number of Balls in a Box\n",
        "---\n",
        "\n",
        "https://leetcode.com/problems/maximum-number-of-balls-in-a-box/"
      ],
      "metadata": {
        "id": "HNBbG0uJ226V"
      }
    },
    {
      "cell_type": "code",
      "execution_count": 2,
      "metadata": {
        "colab": {
          "base_uri": "https://localhost:8080/"
        },
        "id": "PtG6K1WA20Im",
        "outputId": "982bfed3-f136-43c7-f662-071a17850796"
      },
      "outputs": [
        {
          "output_type": "execute_result",
          "data": {
            "text/plain": [
              "2"
            ]
          },
          "metadata": {},
          "execution_count": 2
        }
      ],
      "source": [
        "from collections import defaultdict\n",
        "class Solution:\n",
        "    def countBalls(self, lowLimit: int, highLimit: int) -> int:\n",
        "        def digitsum(n):\n",
        "            digit_sum = 0\n",
        "            while n > 0:\n",
        "                digit_sum += n % 10\n",
        "                n //= 10\n",
        "            return digit_sum\n",
        "        res = defaultdict(lambda :0)\n",
        "        for ball in range(lowLimit, highLimit + 1):\n",
        "            res[digitsum(ball)] += 1\n",
        "        return max(res.values())\n",
        "res = Solution()\n",
        "res.countBalls(19, 28)"
      ]
    },
    {
      "cell_type": "code",
      "source": [
        "from collections import Counter\n",
        "class Solution:\n",
        "    def countBalls(self, lowLimit: int, highLimit: int) -> int:\n",
        "        def digitsum(n):\n",
        "            digit_sum = 0\n",
        "            while n > 0:\n",
        "                digit_sum += n % 10\n",
        "                n //= 10\n",
        "            return digit_sum\n",
        "        res = [digitsum(ball) for ball in range(lowLimit, highLimit + 1)]\n",
        "        return max(Counter(res).values())\n",
        "res = Solution()\n",
        "res.countBalls(19, 28)"
      ],
      "metadata": {
        "colab": {
          "base_uri": "https://localhost:8080/"
        },
        "id": "mORBYI9F3Kjv",
        "outputId": "529d2b65-2c4d-47b3-c153-189d29cd0ec6"
      },
      "execution_count": 3,
      "outputs": [
        {
          "output_type": "execute_result",
          "data": {
            "text/plain": [
              "2"
            ]
          },
          "metadata": {},
          "execution_count": 3
        }
      ]
    }
  ]
}