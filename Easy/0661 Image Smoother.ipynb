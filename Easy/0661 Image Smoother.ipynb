{
 "cells": [
  {
   "cell_type": "markdown",
   "metadata": {},
   "source": [
    "# 661. Image Smoother\n",
    "---\n",
    "https://leetcode.com/problems/image-smoother/"
   ]
  },
  {
   "cell_type": "code",
   "execution_count": 1,
   "metadata": {},
   "outputs": [
    {
     "data": {
      "text/plain": [
       "[[137, 141, 137], [141, 138, 141], [137, 141, 137]]"
      ]
     },
     "execution_count": 1,
     "metadata": {},
     "output_type": "execute_result"
    }
   ],
   "source": [
    "# O(mn) O(mn) Greedy\n",
    "class Solution:\n",
    "    def imageSmoother(self, img: list[list[int]]) -> list[list[int]]:\n",
    "        m, n = len(img), len(img[0])\n",
    "        res = [[0] * n for _ in range(m)]\n",
    "\n",
    "        for row in range(m):\n",
    "            for col in range(n):\n",
    "                tmp_sum = 0\n",
    "                cnt = 0\n",
    "                for i in (-1, 0, 1):\n",
    "                    for j in (-1, 0, 1):\n",
    "                        dx = row + i\n",
    "                        dy = col + j\n",
    "                        if dx >= 0 and dx < m and dy >= 0 and dy < n:\n",
    "                            tmp_sum += img[dx][dy]\n",
    "                            cnt += 1\n",
    "                res[row][col] = tmp_sum // cnt\n",
    "        return res\n",
    "\n",
    "ans = Solution()\n",
    "res = ans.imageSmoother([[100,200,100],[200,50,200],[100,200,100]])\n",
    "res"
   ]
  }
 ],
 "metadata": {
  "kernelspec": {
   "display_name": "Python 3",
   "language": "python",
   "name": "python3"
  },
  "language_info": {
   "codemirror_mode": {
    "name": "ipython",
    "version": 3
   },
   "file_extension": ".py",
   "mimetype": "text/x-python",
   "name": "python",
   "nbconvert_exporter": "python",
   "pygments_lexer": "ipython3",
   "version": "3.11.2"
  }
 },
 "nbformat": 4,
 "nbformat_minor": 2
}
