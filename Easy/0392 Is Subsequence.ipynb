{
 "cells": [
  {
   "cell_type": "markdown",
   "metadata": {},
   "source": [
    "# 392. Is Subsequence\n",
    "---\n",
    "https://leetcode.com/problems/is-subsequence/"
   ]
  },
  {
   "cell_type": "code",
   "execution_count": 1,
   "metadata": {},
   "outputs": [
    {
     "data": {
      "text/plain": [
       "False"
      ]
     },
     "execution_count": 1,
     "metadata": {},
     "output_type": "execute_result"
    }
   ],
   "source": [
    "# 2pointer O(n)\n",
    "class Solution:\n",
    "    def isSubsequence(self, s: str, t: str) -> bool:\n",
    "        if not s:\n",
    "            return True\n",
    "        \n",
    "        slow, m = 0, len(s)\n",
    "        for c in t:\n",
    "            if c == s[slow]:\n",
    "                slow += 1\n",
    "            if slow == m:\n",
    "                return True\n",
    "        return False\n",
    "\n",
    "s = 'acb'\n",
    "t = 'ahbgdc'\n",
    "res = Solution()\n",
    "res.isSubsequence(s,t)"
   ]
  },
  {
   "cell_type": "code",
   "execution_count": 4,
   "metadata": {},
   "outputs": [
    {
     "data": {
      "text/plain": [
       "False"
      ]
     },
     "execution_count": 4,
     "metadata": {},
     "output_type": "execute_result"
    }
   ],
   "source": [
    "class Solution:\n",
    "    def isSubsequence(self, s: str, t: str) -> bool:\n",
    "        if not s:\n",
    "            return True\n",
    "        slow, fast = 0, 0\n",
    "        m, n = len(s), len(t)\n",
    "        while fast < n and slow < m:\n",
    "            if s[slow] == t[fast]:\n",
    "                slow += 1\n",
    "            if slow == m:\n",
    "                return True\n",
    "            fast += 1\n",
    "        return False\n",
    "\n",
    "s = 'acb'\n",
    "t = 'axc'\n",
    "res = Solution()\n",
    "res.isSubsequence(s,t)"
   ]
  },
  {
   "cell_type": "code",
   "execution_count": 2,
   "metadata": {},
   "outputs": [
    {
     "data": {
      "text/plain": [
       "False"
      ]
     },
     "execution_count": 2,
     "metadata": {},
     "output_type": "execute_result"
    }
   ],
   "source": [
    "# O(m*n)\n",
    "class Solution:\n",
    "    def isSubsequence(self, s: str, t: str) -> bool:\n",
    "        if not s:\n",
    "            return True\n",
    "        \n",
    "        for c in s:\n",
    "            idx = t.find(c)\n",
    "            if idx == -1:\n",
    "                return False\n",
    "            t = t[idx+1:]\n",
    "        return True\n",
    "\n",
    "s = 'acb'\n",
    "t = 'ahbgdc'\n",
    "res = Solution()\n",
    "res.isSubsequence(s,t)"
   ]
  }
 ],
 "metadata": {
  "kernelspec": {
   "display_name": "Python 3",
   "language": "python",
   "name": "python3"
  },
  "language_info": {
   "codemirror_mode": {
    "name": "ipython",
    "version": 3
   },
   "file_extension": ".py",
   "mimetype": "text/x-python",
   "name": "python",
   "nbconvert_exporter": "python",
   "pygments_lexer": "ipython3",
   "version": "3.11.2"
  },
  "orig_nbformat": 4
 },
 "nbformat": 4,
 "nbformat_minor": 2
}
