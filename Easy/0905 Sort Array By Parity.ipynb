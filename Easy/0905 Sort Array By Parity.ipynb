{
 "cells": [
  {
   "cell_type": "markdown",
   "metadata": {},
   "source": [
    "# 905. Sort Array By Parity\n",
    "---\n",
    "https://leetcode.com/problems/sort-array-by-parity/description/"
   ]
  },
  {
   "cell_type": "code",
   "execution_count": 3,
   "metadata": {},
   "outputs": [
    {
     "data": {
      "text/plain": [
       "[2, 4, 1, 3]"
      ]
     },
     "execution_count": 3,
     "metadata": {},
     "output_type": "execute_result"
    }
   ],
   "source": [
    "# 2 pointer O(n) O(1)\n",
    "class Solution:\n",
    "    def sortArrayByParity(self, nums: list[int]) -> list[int]:\n",
    "        n = len(nums)\n",
    "        l, r = 0 , n - 1\n",
    "        res = [0] * n\n",
    "        for num in nums:\n",
    "            if num & 1 == 0:\n",
    "                res[l] = num\n",
    "                l += 1\n",
    "            else:\n",
    "                res[r] = num\n",
    "                r -= 1\n",
    "        return res\n",
    "\n",
    "ans = Solution()\n",
    "ans.sortArrayByParity(nums = [3,1,2,4])"
   ]
  },
  {
   "cell_type": "code",
   "execution_count": 4,
   "metadata": {},
   "outputs": [
    {
     "data": {
      "text/plain": [
       "[2, 4, 3, 1]"
      ]
     },
     "execution_count": 4,
     "metadata": {},
     "output_type": "execute_result"
    }
   ],
   "source": [
    "# Sort O(nlogn) O(n)\n",
    "class Solution:\n",
    "    def sortArrayByParity(self, nums: list[int]) -> list[int]:\n",
    "        return sorted(nums, key = lambda x : (x & 1))\n",
    "ans = Solution()\n",
    "ans.sortArrayByParity(nums = [3,1,2,4])"
   ]
  }
 ],
 "metadata": {
  "kernelspec": {
   "display_name": "Python 3",
   "language": "python",
   "name": "python3"
  },
  "language_info": {
   "codemirror_mode": {
    "name": "ipython",
    "version": 3
   },
   "file_extension": ".py",
   "mimetype": "text/x-python",
   "name": "python",
   "nbconvert_exporter": "python",
   "pygments_lexer": "ipython3",
   "version": "3.11.2"
  },
  "orig_nbformat": 4
 },
 "nbformat": 4,
 "nbformat_minor": 2
}
