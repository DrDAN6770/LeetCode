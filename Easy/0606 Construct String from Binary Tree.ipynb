{
 "cells": [
  {
   "cell_type": "markdown",
   "metadata": {},
   "source": [
    "# 606. Construct String from Binary Tree\n",
    "---\n",
    "https://leetcode.com/problems/construct-string-from-binary-tree/description/"
   ]
  },
  {
   "cell_type": "code",
   "execution_count": 1,
   "metadata": {},
   "outputs": [],
   "source": [
    "# iter O(n) O(n)\n",
    "class TreeNode:\n",
    "    def __init__(self, val=0, left=None, right=None):\n",
    "        self.val = val\n",
    "        self.left = left\n",
    "        self.right = right\n",
    "\n",
    "class Solution:\n",
    "    def tree2str(self, root: TreeNode) -> str:\n",
    "        res = \"\"\n",
    "        if not root:\n",
    "            return res\n",
    "        st = []\n",
    "        res += str(root.val)\n",
    "\n",
    "        if not root.left and root.right:\n",
    "            res += \"()\"\n",
    "        \n",
    "        if root.right:\n",
    "            st.append(root.right)\n",
    "        \n",
    "        if root.left:\n",
    "            st.append(root.left)\n",
    "        \n",
    "        while st:\n",
    "            root = st.pop()\n",
    "\n",
    "            if root:\n",
    "                res += \"(\" + str(root.val)\n",
    "                \n",
    "                if not root.left and root.right:\n",
    "                    res += \"()\"\n",
    "                \n",
    "                st.append(None)\n",
    "\n",
    "                if root.right:\n",
    "                    st.append(root.right)\n",
    "                \n",
    "                if root.left:\n",
    "                    st.append(root.left)\n",
    "            else:\n",
    "                res += \")\"\n",
    "        return res"
   ]
  },
  {
   "cell_type": "code",
   "execution_count": null,
   "metadata": {},
   "outputs": [],
   "source": [
    "# recur O(n) O(n)\n",
    "class Solution:\n",
    "    def tree2str(self, root: TreeNode) -> str:\n",
    "        res = \"\"\n",
    "        if not root:\n",
    "            return res\n",
    "        \n",
    "        res += str(root.val)\n",
    "        if root.left and not root.right:\n",
    "            res += \"(\" + self.tree2str(root.left) + \")\"\n",
    "        if root.right:\n",
    "            res += \"(\" + self.tree2str(root.left) + \")\"\n",
    "            res += \"(\" + self.tree2str(root.right) + \")\"\n",
    "        \n",
    "        return res"
   ]
  },
  {
   "cell_type": "code",
   "execution_count": null,
   "metadata": {},
   "outputs": [],
   "source": [
    "# recur O(n) O(n)\n",
    "class Solution:\n",
    "    def preorder(self, root: TreeNode, res : list[str]) -> None:\n",
    "        if not root:\n",
    "            return\n",
    "        res.append(str(root.val))\n",
    "        if root.left or root.right:\n",
    "            res.append(\"(\")\n",
    "            self.preorder(root.left, res)\n",
    "            res.append(\")\")\n",
    "        if root.right:\n",
    "            res.append(\"(\")\n",
    "            self.preorder(root.right, res)\n",
    "            res.append(\")\")\n",
    "            \n",
    "    def tree2str(self, root: TreeNode) -> str:\n",
    "        res = []\n",
    "        self.preorder(root, res)\n",
    "        return ''.join(res)"
   ]
  }
 ],
 "metadata": {
  "kernelspec": {
   "display_name": "Python 3",
   "language": "python",
   "name": "python3"
  },
  "language_info": {
   "codemirror_mode": {
    "name": "ipython",
    "version": 3
   },
   "file_extension": ".py",
   "mimetype": "text/x-python",
   "name": "python",
   "nbconvert_exporter": "python",
   "pygments_lexer": "ipython3",
   "version": "3.11.2"
  }
 },
 "nbformat": 4,
 "nbformat_minor": 2
}
