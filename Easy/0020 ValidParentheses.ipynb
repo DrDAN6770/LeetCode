{
  "nbformat": 4,
  "nbformat_minor": 0,
  "metadata": {
    "colab": {
      "provenance": [],
      "authorship_tag": "ABX9TyOb7N+O6Wz6VS+DxqB7psXE",
      "include_colab_link": true
    },
    "kernelspec": {
      "name": "python3",
      "display_name": "Python 3"
    },
    "language_info": {
      "name": "python"
    }
  },
  "cells": [
    {
      "cell_type": "markdown",
      "metadata": {
        "id": "view-in-github",
        "colab_type": "text"
      },
      "source": [
        "<a href=\"https://colab.research.google.com/github/DrDAN6770/LeetCode/blob/main/Easy/0020%20ValidParentheses.ipynb\" target=\"_parent\"><img src=\"https://colab.research.google.com/assets/colab-badge.svg\" alt=\"Open In Colab\"/></a>"
      ]
    },
    {
      "cell_type": "markdown",
      "source": [
        "\n",
        "#20. Valid Parentheses\n",
        "---\n",
        "\n",
        "https://leetcode.com/problems/valid-parentheses/description/"
      ],
      "metadata": {
        "id": "fN4uAdLk2L2A"
      }
    },
    {
      "cell_type": "code",
      "execution_count": 3,
      "metadata": {
        "colab": {
          "base_uri": "https://localhost:8080/"
        },
        "id": "xxPXiSMl2II9",
        "outputId": "dbf587c9-96f9-48e3-87dd-cf2dffcf74d1"
      },
      "outputs": [
        {
          "output_type": "execute_result",
          "data": {
            "text/plain": [
              "False"
            ]
          },
          "metadata": {},
          "execution_count": 3
        }
      ],
      "source": [
        "class Solution:\n",
        "    def isValid(self, s: str) -> bool:\n",
        "        stack = []\n",
        "        for char in s:\n",
        "            if char == '(' or char == '{' or char == '[':\n",
        "                stack.append(char)\n",
        "            else:\n",
        "                if not stack:\n",
        "                    return False\n",
        "                if char == ')' and stack[-1] == '(':\n",
        "                    stack.pop()\n",
        "                elif char == '}' and stack[-1] == '{':\n",
        "                    stack.pop()\n",
        "                elif char == ']' and stack[-1] == '[':\n",
        "                    stack.pop()\n",
        "                else:\n",
        "                    return False\n",
        "        return not stack\n",
        "\n",
        "s = \"[([)]{]}\"\n",
        "a = Solution()\n",
        "a.isValid(s)"
      ]
    },
    {
      "cell_type": "code",
      "source": [
        "def isValid(s: str) -> bool:\n",
        "        while len(s) > 0:\n",
        "            l = len(s)\n",
        "            s = s.replace('()','').replace('{}','').replace('[]','')\n",
        "            if l==len(s): return False\n",
        "        return True\n",
        "s = \"[([)]{]}\"\n",
        "a = Solution()\n",
        "a.isValid(s)"
      ],
      "metadata": {
        "colab": {
          "base_uri": "https://localhost:8080/"
        },
        "id": "y-BitjZv2eTc",
        "outputId": "5e41c38a-f934-4e7e-91f9-dae4792d6194"
      },
      "execution_count": 4,
      "outputs": [
        {
          "output_type": "execute_result",
          "data": {
            "text/plain": [
              "False"
            ]
          },
          "metadata": {},
          "execution_count": 4
        }
      ]
    },
    {
      "cell_type": "code",
      "source": [
        "def isValid(s):\n",
        "    # if len(s)%2 != 0:\n",
        "    #     return False\n",
        "    \n",
        "    stack = []\n",
        "    open_brackets = {'(':')',\n",
        "                     '[':']',\n",
        "                     '{':'}'}\n",
        "\n",
        "    for word in s:\n",
        "        if word in open_brackets.keys():\n",
        "            stack.append(word)\n",
        "        elif word in open_brackets.values():\n",
        "            if stack == [] or open_brackets[stack.pop()] != word:\n",
        "                return False\n",
        "    return stack == []\n",
        "\n",
        "s = \"([}}])\"\n",
        "a = Solution()\n",
        "a.isValid(s)"
      ],
      "metadata": {
        "colab": {
          "base_uri": "https://localhost:8080/"
        },
        "id": "U8X-v9Pn2htK",
        "outputId": "b5fcb4be-85f3-44e2-c2b9-70ea208c6264"
      },
      "execution_count": 5,
      "outputs": [
        {
          "output_type": "execute_result",
          "data": {
            "text/plain": [
              "False"
            ]
          },
          "metadata": {},
          "execution_count": 5
        }
      ]
    }
  ]
}