{
 "cells": [
  {
   "cell_type": "markdown",
   "metadata": {},
   "source": [
    "# 2913. Subarrays Distinct Element Sum of Squares I\n",
    "---\n",
    "https://leetcode.com/problems/subarrays-distinct-element-sum-of-squares-i/"
   ]
  },
  {
   "cell_type": "code",
   "execution_count": 2,
   "metadata": {},
   "outputs": [
    {
     "data": {
      "text/plain": [
       "50"
      ]
     },
     "execution_count": 2,
     "metadata": {},
     "output_type": "execute_result"
    }
   ],
   "source": [
    "# O(n2) O(n)\n",
    "class Solution:\n",
    "    def sumCounts(self, nums: list[int]) -> int:\n",
    "        n = len(nums)\n",
    "        res = 0\n",
    "        for i in range(n):\n",
    "            s = set()\n",
    "            for j in range(i, n):\n",
    "                s.add(nums[j])\n",
    "                res += len(s) * len(s)\n",
    "        return res\n",
    "# start from longest subarr combs\n",
    "# find to shortest subarr combs\n",
    "# [1,2,3] >> [2,3] >> [3]\n",
    "\n",
    "ans = Solution()\n",
    "ans.sumCounts([1,2,3,4])"
   ]
  },
  {
   "cell_type": "code",
   "execution_count": 3,
   "metadata": {},
   "outputs": [
    {
     "data": {
      "text/plain": [
       "50"
      ]
     },
     "execution_count": 3,
     "metadata": {},
     "output_type": "execute_result"
    }
   ],
   "source": [
    "# O(n2) O(n), slow\n",
    "class Solution:\n",
    "    def sumCounts(self, nums: list[int]) -> int:\n",
    "        length = len(nums)\n",
    "        res = 0\n",
    "        for i in range(1, length + 1):\n",
    "            for j in range(i):\n",
    "                res += pow(len(set(nums[j:i])), 2)\n",
    "        return res\n",
    "\n",
    "ans = Solution()\n",
    "ans.sumCounts([1,2,3,4])"
   ]
  }
 ],
 "metadata": {
  "kernelspec": {
   "display_name": "Python 3",
   "language": "python",
   "name": "python3"
  },
  "language_info": {
   "codemirror_mode": {
    "name": "ipython",
    "version": 3
   },
   "file_extension": ".py",
   "mimetype": "text/x-python",
   "name": "python",
   "nbconvert_exporter": "python",
   "pygments_lexer": "ipython3",
   "version": "3.11.2"
  },
  "orig_nbformat": 4
 },
 "nbformat": 4,
 "nbformat_minor": 2
}
