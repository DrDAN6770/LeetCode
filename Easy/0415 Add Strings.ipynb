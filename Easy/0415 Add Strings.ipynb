{
 "cells": [
  {
   "cell_type": "markdown",
   "metadata": {},
   "source": [
    "# 415. Add Strings\n",
    "---\n",
    "https://leetcode.com/problems/add-strings/description/"
   ]
  },
  {
   "cell_type": "code",
   "execution_count": 1,
   "metadata": {},
   "outputs": [
    {
     "data": {
      "text/plain": [
       "'533'"
      ]
     },
     "execution_count": 1,
     "metadata": {},
     "output_type": "execute_result"
    }
   ],
   "source": [
    "# O(n)\n",
    "class Solution:\n",
    "    def addStrings(self, num1: str, num2: str) -> str:\n",
    "        res = \"\"\n",
    "        carry = 0\n",
    "        l1 = len(num1) - 1\n",
    "        l2 = len(num2) - 1\n",
    "        while l1 >= 0 or l2 >= 0 or carry:\n",
    "            if l1 >= 0:\n",
    "                carry += int(num1[l1])\n",
    "                l1 -= 1\n",
    "            if l2 >= 0:\n",
    "                carry += int(num2[l2])\n",
    "                l2 -= 1\n",
    "            res = str(carry%10) + res\n",
    "            carry //= 10\n",
    "        return res\n",
    "ans = Solution()\n",
    "ans.addStrings(num1 = \"456\", num2 = \"77\")"
   ]
  }
 ],
 "metadata": {
  "kernelspec": {
   "display_name": "Python 3",
   "language": "python",
   "name": "python3"
  },
  "language_info": {
   "codemirror_mode": {
    "name": "ipython",
    "version": 3
   },
   "file_extension": ".py",
   "mimetype": "text/x-python",
   "name": "python",
   "nbconvert_exporter": "python",
   "pygments_lexer": "ipython3",
   "version": "3.11.2"
  },
  "orig_nbformat": 4
 },
 "nbformat": 4,
 "nbformat_minor": 2
}
