{
 "cells": [
  {
   "cell_type": "markdown",
   "metadata": {},
   "source": [
    "# 1903. Largest Odd Number in String\n",
    "\n",
    "---\n",
    "https://leetcode.com/problems/largest-odd-number-in-string/description/"
   ]
  },
  {
   "cell_type": "code",
   "execution_count": 1,
   "metadata": {},
   "outputs": [
    {
     "data": {
      "text/plain": [
       "'78454564541515'"
      ]
     },
     "execution_count": 1,
     "metadata": {},
     "output_type": "execute_result"
    }
   ],
   "source": [
    "# O(n) O(1)\n",
    "class Solution:\n",
    "    def largestOddNumber(self, num: str) -> str:\n",
    "        n = len(num)\n",
    "        if int(num[n-1]) & 1:\n",
    "          return num\n",
    "        for i in range(n-2, -1, -1):\n",
    "          if int(num[i]) & 1:\n",
    "            return num[:i+1]\n",
    "        return \"\"\n",
    "\n",
    "ans = Solution()\n",
    "ans.largestOddNumber(\"78454564541515\")"
   ]
  }
 ],
 "metadata": {
  "kernelspec": {
   "display_name": "Python 3",
   "language": "python",
   "name": "python3"
  },
  "language_info": {
   "codemirror_mode": {
    "name": "ipython",
    "version": 3
   },
   "file_extension": ".py",
   "mimetype": "text/x-python",
   "name": "python",
   "nbconvert_exporter": "python",
   "pygments_lexer": "ipython3",
   "version": "3.11.2"
  }
 },
 "nbformat": 4,
 "nbformat_minor": 2
}
