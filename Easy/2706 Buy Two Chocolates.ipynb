{
 "cells": [
  {
   "cell_type": "markdown",
   "metadata": {},
   "source": [
    "# 2706 Buy Two Chocolates\n",
    "---\n",
    "https://leetcode.com/problems/buy-two-chocolates/"
   ]
  },
  {
   "cell_type": "code",
   "execution_count": 1,
   "metadata": {},
   "outputs": [
    {
     "data": {
      "text/plain": [
       "3"
      ]
     },
     "execution_count": 1,
     "metadata": {},
     "output_type": "execute_result"
    }
   ],
   "source": [
    "# O(n) O(1) Greedy\n",
    "class Solution:\n",
    "    def buyChoco(self, prices: list[int], money: int) -> int:\n",
    "        mn1, mn2 = float(\"inf\"), float(\"inf\")\n",
    "\n",
    "        for price in prices:\n",
    "            if price < mn1:\n",
    "                mn1, mn2 = price, mn1\n",
    "            elif price < mn2:\n",
    "                mn2 = price\n",
    "\n",
    "        if money >= mn1 + mn2:\n",
    "            return money - mn1 - mn2\n",
    "        return money\n",
    "\n",
    "ans = Solution()\n",
    "res = ans.buyChoco([10,40,20,55,7,77], 20)\n",
    "res"
   ]
  },
  {
   "cell_type": "code",
   "execution_count": 2,
   "metadata": {},
   "outputs": [
    {
     "data": {
      "text/plain": [
       "3"
      ]
     },
     "execution_count": 2,
     "metadata": {},
     "output_type": "execute_result"
    }
   ],
   "source": [
    "# O(nlogn) O(n) sort\n",
    "class Solution:\n",
    "    def buyChoco(self, prices: list[int], money: int) -> int:\n",
    "        prices.sort()\n",
    "        mincost = prices[0] + prices[1]\n",
    "\n",
    "        if money >= mincost:\n",
    "            return money - mincost\n",
    "        return money\n",
    "\n",
    "ans = Solution()\n",
    "res = ans.buyChoco([10,40,20,55,7,77], 20)\n",
    "res"
   ]
  }
 ],
 "metadata": {
  "kernelspec": {
   "display_name": "Python 3",
   "language": "python",
   "name": "python3"
  },
  "language_info": {
   "codemirror_mode": {
    "name": "ipython",
    "version": 3
   },
   "file_extension": ".py",
   "mimetype": "text/x-python",
   "name": "python",
   "nbconvert_exporter": "python",
   "pygments_lexer": "ipython3",
   "version": "3.11.2"
  }
 },
 "nbformat": 4,
 "nbformat_minor": 2
}
