{
 "cells": [
  {
   "cell_type": "markdown",
   "metadata": {},
   "source": [
    "# 145. Binary Tree Postorder Traversal\n",
    "---\n",
    "https://leetcode.com/problems/binary-tree-postorder-traversal/description/"
   ]
  },
  {
   "cell_type": "code",
   "execution_count": 1,
   "metadata": {},
   "outputs": [],
   "source": [
    "# O(n) recursion\n",
    "# Definition for a binary tree node.\n",
    "class Solution:\n",
    "    def postorderTraversal(self, root) -> list[int]:\n",
    "        if not root:\n",
    "            return\n",
    "        \n",
    "        def helper(root):\n",
    "            if not root:\n",
    "                return\n",
    "            \n",
    "            helper(root.left)\n",
    "            helper(root.right)\n",
    "            res.append(root.val)\n",
    "        \n",
    "        # LRD\n",
    "        res = []\n",
    "        helper(root)\n",
    "        return res"
   ]
  },
  {
   "cell_type": "code",
   "execution_count": null,
   "metadata": {},
   "outputs": [],
   "source": [
    "# O(n) iterative, Stack(DFS)\n",
    "# Definition for a binary tree node.\n",
    "class TreeNode:\n",
    "    def __init__(self, val=0, left=None, right=None):\n",
    "        self.val = val\n",
    "        self.left = left\n",
    "        self.right = right\n",
    "class Solution:\n",
    "    def inorderTraversal(self, root) -> list[int]:\n",
    "        if not root:\n",
    "            return\n",
    "        \n",
    "        # LRD\n",
    "        res = []\n",
    "        st = [root]\n",
    "        \n",
    "        while st:\n",
    "            root = st.pop()\n",
    "            if root:\n",
    "                res.append(root.val)\n",
    "                st.append(root.left)\n",
    "                st.append(root.right)\n",
    "    \n",
    "        # reverse result\n",
    "        return res[::-1]"
   ]
  }
 ],
 "metadata": {
  "kernelspec": {
   "display_name": "Python 3",
   "language": "python",
   "name": "python3"
  },
  "language_info": {
   "codemirror_mode": {
    "name": "ipython",
    "version": 3
   },
   "file_extension": ".py",
   "mimetype": "text/x-python",
   "name": "python",
   "nbconvert_exporter": "python",
   "pygments_lexer": "ipython3",
   "version": "3.11.2"
  },
  "orig_nbformat": 4
 },
 "nbformat": 4,
 "nbformat_minor": 2
}
