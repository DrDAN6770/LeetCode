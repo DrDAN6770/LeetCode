{
 "cells": [
  {
   "cell_type": "markdown",
   "metadata": {},
   "source": [
    "# 1913. Maximum Product Difference Between Two Pairs\n",
    "---\n",
    "https://leetcode.com/problems/maximum-product-difference-between-two-pairs/"
   ]
  },
  {
   "cell_type": "code",
   "execution_count": 4,
   "metadata": {},
   "outputs": [
    {
     "data": {
      "text/plain": [
       "64"
      ]
     },
     "execution_count": 4,
     "metadata": {},
     "output_type": "execute_result"
    }
   ],
   "source": [
    "# O(n) O(1) Greedy\n",
    "class Solution:\n",
    "    def maxProductDifference(self, nums: list[int]) -> int:\n",
    "        mx1, mx2 = float('-inf'), float('-inf')\n",
    "        mn1, mn2 = float('inf'), float('inf')\n",
    "\n",
    "        for num in nums:\n",
    "            if num > mx1:\n",
    "                mx1, mx2 = num, mx1\n",
    "            elif num > mx2:\n",
    "                mx2 = num\n",
    "\n",
    "            if num < mn1:\n",
    "                mn1, mn2 = num, mn1\n",
    "            elif num < mn2:\n",
    "                mn2 = num\n",
    "        \n",
    "        return mx1 * mx2 - mn1 * mn2\n",
    "\n",
    "ans = Solution()\n",
    "res = ans.maxProductDifference([4,2,5,9,7,4,8])\n",
    "res"
   ]
  },
  {
   "cell_type": "code",
   "execution_count": 2,
   "metadata": {},
   "outputs": [
    {
     "data": {
      "text/plain": [
       "34"
      ]
     },
     "execution_count": 2,
     "metadata": {},
     "output_type": "execute_result"
    }
   ],
   "source": [
    "# O(nlogn) O(n) sort\n",
    "class Solution:\n",
    "    def maxProductDifference(self, nums: list[int]) -> int:\n",
    "        nums.sort()\n",
    "        return nums[-1] * nums[-2] - nums[0] * nums[1]\n",
    "ans = Solution()\n",
    "res = ans.maxProductDifference([5,6,2,7,4])\n",
    "res"
   ]
  }
 ],
 "metadata": {
  "kernelspec": {
   "display_name": "Python 3",
   "language": "python",
   "name": "python3"
  },
  "language_info": {
   "codemirror_mode": {
    "name": "ipython",
    "version": 3
   },
   "file_extension": ".py",
   "mimetype": "text/x-python",
   "name": "python",
   "nbconvert_exporter": "python",
   "pygments_lexer": "ipython3",
   "version": "3.11.2"
  }
 },
 "nbformat": 4,
 "nbformat_minor": 2
}
