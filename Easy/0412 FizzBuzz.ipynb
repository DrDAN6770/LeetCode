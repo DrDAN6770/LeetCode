{
  "nbformat": 4,
  "nbformat_minor": 0,
  "metadata": {
    "colab": {
      "provenance": [],
      "authorship_tag": "ABX9TyPqIUUHX3gfVl/ACsNHZRE5",
      "include_colab_link": true
    },
    "kernelspec": {
      "name": "python3",
      "display_name": "Python 3"
    },
    "language_info": {
      "name": "python"
    }
  },
  "cells": [
    {
      "cell_type": "markdown",
      "metadata": {
        "id": "view-in-github",
        "colab_type": "text"
      },
      "source": [
        "<a href=\"https://colab.research.google.com/github/DrDAN6770/LeetCode/blob/main/Easy/412%20FizzBuzz.ipynb\" target=\"_parent\"><img src=\"https://colab.research.google.com/assets/colab-badge.svg\" alt=\"Open In Colab\"/></a>"
      ]
    },
    {
      "cell_type": "markdown",
      "source": [
        "# 412. Fizz Buzz\n",
        "\n",
        "\n",
        "---\n",
        "\n",
        "https://leetcode.com/problems/fizz-buzz/description/"
      ],
      "metadata": {
        "id": "6_7WwltRLh7O"
      }
    },
    {
      "cell_type": "code",
      "execution_count": 1,
      "metadata": {
        "colab": {
          "base_uri": "https://localhost:8080/"
        },
        "id": "jxwhE_FNLVaq",
        "outputId": "c9e6f52b-df3f-4937-9768-cf4647a9ecb5"
      },
      "outputs": [
        {
          "output_type": "execute_result",
          "data": {
            "text/plain": [
              "['1',\n",
              " '2',\n",
              " 'Fizz',\n",
              " '4',\n",
              " 'Buzz',\n",
              " 'Fizz',\n",
              " '7',\n",
              " '8',\n",
              " 'Fizz',\n",
              " 'Buzz',\n",
              " '11',\n",
              " 'Fizz',\n",
              " '13',\n",
              " '14',\n",
              " 'FizzBuzz']"
            ]
          },
          "metadata": {},
          "execution_count": 1
        }
      ],
      "source": [
        "class Solution:\n",
        "    def fizzBuzz(self, n: int) -> list[str]:\n",
        "        return ['FizzBuzz' if i % 15 == 0 \\\n",
        "                else 'Fizz' if i % 3 == 0 \\\n",
        "                else 'Buzz' if i % 5 == 0 \\\n",
        "                else str(i)\\\n",
        "                for i in range(1,n + 1)]\n",
        "res = Solution()\n",
        "res.fizzBuzz(15)"
      ]
    }
  ]
}
