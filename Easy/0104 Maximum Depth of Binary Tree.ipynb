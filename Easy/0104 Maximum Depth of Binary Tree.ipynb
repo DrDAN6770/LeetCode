{
 "cells": [
  {
   "cell_type": "markdown",
   "metadata": {},
   "source": [
    "# 104. Maximum Depth of Binary Tree\n",
    "---\n",
    "https://leetcode.com/problems/maximum-depth-of-binary-tree/description/?source=submission-noac\n",
    "\n",
    "https://www.youtube.com/watch?v=hTM3phVI6YQ"
   ]
  },
  {
   "cell_type": "code",
   "execution_count": 2,
   "metadata": {},
   "outputs": [],
   "source": [
    "# iterative DFS O(n) O(n)\n",
    "class TreeNode:\n",
    "    def __init__(self, val=0, left=None, right=None):\n",
    "        self.val = val\n",
    "        self.left = left\n",
    "        self.right = right\n",
    "class Solution:\n",
    "    def maxDepth(self, root: [TreeNode]) -> int:\n",
    "        level = 0\n",
    "        stack = [(root, 1)]\n",
    "        while stack:\n",
    "            node, depth = stack.pop()\n",
    "            if node:\n",
    "                level = max(level, depth)\n",
    "                stack.append((node.left, depth + 1))\n",
    "                stack.append((node.right, depth + 1))\n",
    "        return level"
   ]
  },
  {
   "cell_type": "code",
   "execution_count": null,
   "metadata": {},
   "outputs": [],
   "source": [
    "# Recursive DFS O(n) O(n)\n",
    "class Solution:\n",
    "    def maxDepth(self, root: [TreeNode]) -> int:\n",
    "        if not root:\n",
    "            return 0\n",
    "        return max(self.maxDepth(root.left), self.maxDepth(root.right)) + 1"
   ]
  },
  {
   "cell_type": "code",
   "execution_count": null,
   "metadata": {},
   "outputs": [],
   "source": [
    "# BFS O(n) O(n)\n",
    "class Solution:\n",
    "    def maxDepth(self, root: [TreeNode]) -> int:\n",
    "        if root is None:\n",
    "            return 0\n",
    "        q = deque([root])\n",
    "        level = 0\n",
    "        while q:\n",
    "            for _ in range(len(q)):\n",
    "                node = q.popleft()\n",
    "                if node:\n",
    "                    q.append(node.left)\n",
    "                    q.append(node.right)\n",
    "            level += 1\n",
    "        return level - 1 # 多算最後面null一次"
   ]
  }
 ],
 "metadata": {
  "kernelspec": {
   "display_name": "Python 3",
   "language": "python",
   "name": "python3"
  },
  "language_info": {
   "codemirror_mode": {
    "name": "ipython",
    "version": 3
   },
   "file_extension": ".py",
   "mimetype": "text/x-python",
   "name": "python",
   "nbconvert_exporter": "python",
   "pygments_lexer": "ipython3",
   "version": "3.11.2"
  },
  "orig_nbformat": 4
 },
 "nbformat": 4,
 "nbformat_minor": 2
}
