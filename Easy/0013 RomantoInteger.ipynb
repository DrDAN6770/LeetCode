{
  "nbformat": 4,
  "nbformat_minor": 0,
  "metadata": {
    "colab": {
      "provenance": [],
      "authorship_tag": "ABX9TyNADcVam2dlb8X/xqHe7InZ",
      "include_colab_link": true
    },
    "kernelspec": {
      "name": "python3",
      "display_name": "Python 3"
    },
    "language_info": {
      "name": "python"
    }
  },
  "cells": [
    {
      "cell_type": "markdown",
      "metadata": {
        "id": "view-in-github",
        "colab_type": "text"
      },
      "source": [
        "<a href=\"https://colab.research.google.com/github/DrDAN6770/LeetCode/blob/main/Easy/0013%20RomantoInteger.ipynb\" target=\"_parent\"><img src=\"https://colab.research.google.com/assets/colab-badge.svg\" alt=\"Open In Colab\"/></a>"
      ]
    },
    {
      "cell_type": "markdown",
      "source": [
        "#13. Roman to Integer\n",
        "\n",
        "---\n",
        "\n",
        "https://leetcode.com/problems/roman-to-integer/"
      ],
      "metadata": {
        "id": "H-EM7yy9WB4C"
      }
    },
    {
      "cell_type": "code",
      "execution_count": 1,
      "metadata": {
        "colab": {
          "base_uri": "https://localhost:8080/"
        },
        "id": "-Pi4M2psV3OQ",
        "outputId": "ccce2cad-5b04-4561-9a3f-2a5dc0d43420"
      },
      "outputs": [
        {
          "name": "stdout",
          "output_type": "stream",
          "text": [
            "DCXXI\n"
          ]
        },
        {
          "output_type": "execute_result",
          "data": {
            "text/plain": [
              "621"
            ]
          },
          "metadata": {},
          "execution_count": 1
        }
      ],
      "source": [
        "class Solution:\n",
        "    def romanToInt(self, s: str) -> int:\n",
        "        # 3 special I,X,C\n",
        "        # IV、IX >> 4,9\n",
        "        # XL、XC >> 40,90\n",
        "        # CD、CM >> 400,900\n",
        "        speicalroman = ['I','X','C']\n",
        "        roman = {'I':1,\n",
        "              'V':5,\n",
        "              'X':10,\n",
        "              'L':50,\n",
        "              'C':100,\n",
        "              'D':500,\n",
        "              'M':1000}\n",
        "        n_int = 0\n",
        "        index = 0\n",
        "\n",
        "        while index < len(s):\n",
        "            if index + 1 < len(s) and s[index] in speicalroman and s[index+1] in list(roman)[list(roman.keys()).index(s[index])+1:]:\n",
        "                n_int += roman[s[index+1]] - roman[s[index]]\n",
        "                index += 2\n",
        "                continue\n",
        "            n_int += roman[s[index]]\n",
        "            index += 1\n",
        "        return n_int\n",
        "\n",
        "s = input()\n",
        "t = Solution()\n",
        "t.romanToInt(s)"
      ]
    },
    {
      "cell_type": "code",
      "source": [
        "class Solution:\n",
        "    def romanToInt(self, s: str) -> int:\n",
        "        roman = {'I':1,\n",
        "                 'V':5,\n",
        "                 'X':10,\n",
        "                 'L':50,\n",
        "                 'C':100,\n",
        "                 'D':500,\n",
        "                 'M':1000}\n",
        "        n_int = 0\n",
        "        s = s.replace('IV','IIII').replace('IX','VIIII')\\\n",
        "             .replace('XL','XXXX').replace('XC','LXXXX')\\\n",
        "             .replace('CD','CCCC').replace('CM','DCCCC')\n",
        "        for n in s:\n",
        "            n_int += roman[n]\n",
        "        return n_int\n",
        "        \n",
        "        #return sum(map(lambda x:roman[x],s))\n",
        "\n",
        "s = input()\n",
        "t = Solution()\n",
        "t.romanToInt(s)"
      ],
      "metadata": {
        "colab": {
          "base_uri": "https://localhost:8080/"
        },
        "id": "76duFHVtWd_h",
        "outputId": "e5d26354-e511-4eae-a64d-b64d4763ec87"
      },
      "execution_count": 2,
      "outputs": [
        {
          "name": "stdout",
          "output_type": "stream",
          "text": [
            "DCXXI\n"
          ]
        },
        {
          "output_type": "execute_result",
          "data": {
            "text/plain": [
              "621"
            ]
          },
          "metadata": {},
          "execution_count": 2
        }
      ]
    },
    {
      "cell_type": "code",
      "source": [
        "def romanToInt(s) -> int:\n",
        "\tres, prev = 0, 0\n",
        "\troman = {'I':1,\n",
        "\t\t\t 'V':5,\n",
        "\t\t\t 'X':10,\n",
        "\t\t\t 'L':50,\n",
        "\t\t\t 'C':100,\n",
        "\t\t\t 'D':500,\n",
        "\t\t\t 'M':1000}\n",
        "\tfor i in s[::-1]:          # rev the s\n",
        "\t\t\tif roman[i] >= prev:\n",
        "\t\t\t\tres += roman[i]     # sum the value if previous value same or more\n",
        "\t\t\telse:\n",
        "\t\t\t\tres -= roman[i]     # substract when value is like \"IV\" --> 5-1, \"IX\" --> 10 -1 etc \n",
        "\t\t\tprev = roman[i]\n",
        "\treturn res\n",
        "\n",
        "\n",
        "s = input()\n",
        "romanToInt(s)\n"
      ],
      "metadata": {
        "colab": {
          "base_uri": "https://localhost:8080/"
        },
        "id": "zkXucYV_WhIM",
        "outputId": "188a5c5f-3d44-4107-88e0-686f039e692a"
      },
      "execution_count": 4,
      "outputs": [
        {
          "name": "stdout",
          "output_type": "stream",
          "text": [
            "DCXXI\n"
          ]
        },
        {
          "output_type": "execute_result",
          "data": {
            "text/plain": [
              "621"
            ]
          },
          "metadata": {},
          "execution_count": 4
        }
      ]
    }
  ]
}