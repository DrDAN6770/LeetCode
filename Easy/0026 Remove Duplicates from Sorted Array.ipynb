{
 "cells": [
  {
   "cell_type": "markdown",
   "metadata": {},
   "source": [
    "# 26. Remove Duplicates from Sorted Array\n",
    "---\n",
    "https://leetcode.com/problems/remove-duplicates-from-sorted-array/description/"
   ]
  },
  {
   "cell_type": "code",
   "execution_count": 1,
   "metadata": {},
   "outputs": [
    {
     "data": {
      "text/plain": [
       "5"
      ]
     },
     "execution_count": 1,
     "metadata": {},
     "output_type": "execute_result"
    }
   ],
   "source": [
    "# O(n) O(1)\n",
    "class Solution:\n",
    "    def removeDuplicates(self, nums: list[int]) -> int:\n",
    "        slow, fast = 0, 1\n",
    "        while fast < len(nums):\n",
    "            if nums[fast] != nums[slow]:\n",
    "                slow += 1\n",
    "                nums[slow] = nums[fast]\n",
    "            fast += 1\n",
    "        return slow + 1\n",
    "\n",
    "ans = Solution()\n",
    "ans.removeDuplicates([0,0,1,1,1,2,2,3,3,4])"
   ]
  },
  {
   "cell_type": "code",
   "execution_count": 22,
   "metadata": {},
   "outputs": [
    {
     "data": {
      "text/plain": [
       "([0, 1, 2, 3, 4, 2, 2, 3, 3, 4], 10)"
      ]
     },
     "execution_count": 22,
     "metadata": {},
     "output_type": "execute_result"
    }
   ],
   "source": [
    "# O(n) O(1)\n",
    "class Solution:\n",
    "    def removeDuplicates(self, nums: list[int]) -> int:\n",
    "        slow = 0\n",
    "        for fast in range(1, len(nums)):\n",
    "            if nums[fast] != nums[slow]:\n",
    "                slow += 1\n",
    "                nums[slow] = nums[fast]\n",
    "        return nums, len(nums)\n",
    "\n",
    "ans = Solution()\n",
    "ans.removeDuplicates([0,0,1,1,1,2,2,3,3,4])"
   ]
  },
  {
   "cell_type": "code",
   "execution_count": 12,
   "metadata": {},
   "outputs": [],
   "source": [
    "# O(nlogn) O(1)\n",
    "class Solution:\n",
    "    def removeDuplicates(self, nums: list[int]) -> int:\n",
    "        nums[:] = sorted(set(nums))\n",
    "ans = Solution()\n",
    "ans.removeDuplicates([0,0,1,1,1,2,2,3,3,4])"
   ]
  },
  {
   "cell_type": "code",
   "execution_count": 13,
   "metadata": {},
   "outputs": [],
   "source": [
    "# O(n*k) O(n)\n",
    "from collections import Counter\n",
    "class Solution:\n",
    "    def removeDuplicates(self, nums: list[int]) -> int:\n",
    "        cnt = Counter(nums)\n",
    "        for k, v in cnt.items():\n",
    "            while v != 1:\n",
    "                nums.remove(k)\n",
    "                v -= 1\n",
    "ans = Solution()\n",
    "ans.removeDuplicates([0,0,1,1,1,2,2,3,3,4])"
   ]
  }
 ],
 "metadata": {
  "kernelspec": {
   "display_name": "Python 3",
   "language": "python",
   "name": "python3"
  },
  "language_info": {
   "codemirror_mode": {
    "name": "ipython",
    "version": 3
   },
   "file_extension": ".py",
   "mimetype": "text/x-python",
   "name": "python",
   "nbconvert_exporter": "python",
   "pygments_lexer": "ipython3",
   "version": "3.11.2"
  },
  "orig_nbformat": 4
 },
 "nbformat": 4,
 "nbformat_minor": 2
}
