{
  "nbformat": 4,
  "nbformat_minor": 0,
  "metadata": {
    "colab": {
      "provenance": [],
      "authorship_tag": "ABX9TyOYTHkq4JdHquh8QYJuUtDX",
      "include_colab_link": true
    },
    "kernelspec": {
      "name": "python3",
      "display_name": "Python 3"
    },
    "language_info": {
      "name": "python"
    }
  },
  "cells": [
    {
      "cell_type": "markdown",
      "metadata": {
        "id": "view-in-github",
        "colab_type": "text"
      },
      "source": [
        "<a href=\"https://colab.research.google.com/github/DrDAN6770/LeetCode/blob/main/Easy/2264%20Largest3SameDigitNumberInString.ipynb\" target=\"_parent\"><img src=\"https://colab.research.google.com/assets/colab-badge.svg\" alt=\"Open In Colab\"/></a>"
      ]
    },
    {
      "cell_type": "markdown",
      "source": [
        "2264. Largest 3-Same-Digit Number in String\n",
        "\n",
        "\n",
        "---\n",
        "\n",
        "https://leetcode.com/problems/largest-3-same-digit-number-in-string/"
      ],
      "metadata": {
        "id": "elEUi7Gg3y-A"
      }
    },
    {
      "cell_type": "code",
      "source": [
        "class Solution:\n",
        "    def largestGoodInteger(self, num: str) -> str:\n",
        "        res = set()\n",
        "        for x,y,z in zip(num[:], num[1:], num[2:]):\n",
        "            if x == y == z :\n",
        "                res.add(x)\n",
        "        return max(res, default=\"\") * 3\n",
        "\n",
        "res = Solution()\n",
        "print(res.largestGoodInteger('2300019'))\n",
        "print(res.largestGoodInteger(\"42352338\"))\n",
        "print(res.largestGoodInteger('6777133339'))"
      ],
      "metadata": {
        "colab": {
          "base_uri": "https://localhost:8080/"
        },
        "id": "KLTTHjqA3yum",
        "outputId": "9ba39499-cc38-459b-bce5-b8006b928bd1"
      },
      "execution_count": 6,
      "outputs": [
        {
          "output_type": "stream",
          "name": "stdout",
          "text": [
            "000\n",
            "\n",
            "777\n"
          ]
        }
      ]
    }
  ]
}