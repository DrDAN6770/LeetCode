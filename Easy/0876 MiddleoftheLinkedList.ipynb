{
  "nbformat": 4,
  "nbformat_minor": 0,
  "metadata": {
    "colab": {
      "provenance": [],
      "authorship_tag": "ABX9TyOEKX95GuG4b5JoHAkcIlQM",
      "include_colab_link": true
    },
    "kernelspec": {
      "name": "python3",
      "display_name": "Python 3"
    },
    "language_info": {
      "name": "python"
    }
  },
  "cells": [
    {
      "cell_type": "markdown",
      "metadata": {
        "id": "view-in-github",
        "colab_type": "text"
      },
      "source": [
        "<a href=\"https://colab.research.google.com/github/DrDAN6770/LeetCode/blob/main/Easy/876%20MiddleoftheLinkedList.ipynb\" target=\"_parent\"><img src=\"https://colab.research.google.com/assets/colab-badge.svg\" alt=\"Open In Colab\"/></a>"
      ]
    },
    {
      "cell_type": "markdown",
      "source": [
        "# 876. Middle of the Linked List\n",
        "\n",
        "\n",
        "---\n",
        "\n",
        "https://leetcode.com/problems/middle-of-the-linked-list/"
      ],
      "metadata": {
        "id": "N_4Z5RlGMiX0"
      }
    },
    {
      "cell_type": "markdown",
      "source": [
        "# 建立linked-list"
      ],
      "metadata": {
        "id": "ICPd_FFAQpqh"
      }
    },
    {
      "cell_type": "code",
      "execution_count": 20,
      "metadata": {
        "id": "4_VsLkfGMf8D"
      },
      "outputs": [],
      "source": [
        "# Definition for singly-linked list.\n",
        "class ListNode:\n",
        "    def __init__(self, val=0, next=None):\n",
        "        self.val = val\n",
        "        self.next = next"
      ]
    },
    {
      "cell_type": "code",
      "source": [
        "head = ListNode()\n",
        "curr = head\n",
        "data = [1,2,3,4,5,6]\n",
        "for i in data:\n",
        "  curr.next = ListNode(i)\n",
        "  curr = curr.next"
      ],
      "metadata": {
        "id": "z2hFTEWnMvtH"
      },
      "execution_count": 23,
      "outputs": []
    },
    {
      "cell_type": "markdown",
      "source": [
        "# Answer"
      ],
      "metadata": {
        "id": "6wgYLhrPQtut"
      }
    },
    {
      "cell_type": "code",
      "source": [
        "class Solution:\n",
        "    def middleNode(self, head):\n",
        "        slow = fast = head\n",
        "        while fast and fast.next:\n",
        "            fast = fast.next.next\n",
        "            slow = slow.next\n",
        "        return slow\n",
        "\n",
        "res = Solution()\n",
        "ans = res.middleNode(head.next)\n",
        "\n",
        "curr = ans\n",
        "while curr:\n",
        "  print(curr.val)\n",
        "  curr = curr.next"
      ],
      "metadata": {
        "colab": {
          "base_uri": "https://localhost:8080/"
        },
        "id": "_-06RdzhOD_a",
        "outputId": "0bc1b3c1-cf12-435d-d558-19bac46c790c"
      },
      "execution_count": 26,
      "outputs": [
        {
          "output_type": "stream",
          "name": "stdout",
          "text": [
            "4\n",
            "5\n",
            "6\n"
          ]
        }
      ]
    },
    {
      "cell_type": "code",
      "source": [
        "class Solution:\n",
        "    def middleNode(self, head):\n",
        "        lst =[]\n",
        "        curr = head\n",
        "        while curr:\n",
        "            lst.append(curr)\n",
        "            curr = curr.next\n",
        "        return lst[len(lst)//2]\n",
        "res = Solution()\n",
        "ans = res.middleNode(head.next)\n",
        "\n",
        "curr = ans\n",
        "while curr:\n",
        "  print(curr.val)\n",
        "  curr = curr.next"
      ],
      "metadata": {
        "colab": {
          "base_uri": "https://localhost:8080/"
        },
        "id": "WXKxoVzWNNUX",
        "outputId": "eb857877-b7a0-46d9-df2b-48471b705b13"
      },
      "execution_count": 27,
      "outputs": [
        {
          "output_type": "stream",
          "name": "stdout",
          "text": [
            "4\n",
            "5\n",
            "6\n"
          ]
        }
      ]
    }
  ]
}
