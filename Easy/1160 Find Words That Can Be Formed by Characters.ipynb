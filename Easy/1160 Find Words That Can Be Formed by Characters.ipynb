{
 "cells": [
  {
   "cell_type": "markdown",
   "metadata": {},
   "source": [
    "# 1160. Find Words That Can Be Formed by Characters\n",
    "---\n",
    "https://leetcode.com/problems/find-words-that-can-be-formed-by-characters/"
   ]
  },
  {
   "cell_type": "code",
   "execution_count": 2,
   "metadata": {},
   "outputs": [
    {
     "data": {
      "text/plain": [
       "6"
      ]
     },
     "execution_count": 2,
     "metadata": {},
     "output_type": "execute_result"
    }
   ],
   "source": [
    "# O(nk) O(n)\n",
    "from collections import Counter\n",
    "class Solution:\n",
    "    def countCharacters(self, words: list[str], chars: str) -> int:\n",
    "        res = 0\n",
    "        count_table = Counter(chars)\n",
    "        for word in words:\n",
    "            for c in word:\n",
    "                if word.count(c) > count_table[c]:\n",
    "                    break\n",
    "            else:\n",
    "                res += len(word)\n",
    "\n",
    "        return res\n",
    "\n",
    "\n",
    "ans = Solution()\n",
    "ans.countCharacters([\"cat\",\"bt\",\"hat\",\"tree\"], \"atach\")"
   ]
  },
  {
   "cell_type": "code",
   "execution_count": 1,
   "metadata": {},
   "outputs": [
    {
     "data": {
      "text/plain": [
       "6"
      ]
     },
     "execution_count": 1,
     "metadata": {},
     "output_type": "execute_result"
    }
   ],
   "source": [
    "# counter O(nk) O(n)\n",
    "from collections import Counter\n",
    "class Solution:\n",
    "    def countCharacters(self, words: list[str], chars: str) -> int:\n",
    "        res = 0\n",
    "        count_table = Counter(chars)\n",
    "        for word in words:\n",
    "            word_count = Counter(word)\n",
    "            \n",
    "            Isgood = True\n",
    "            for c, freq in word_count.items():\n",
    "                if count_table[c] < freq:\n",
    "                    Isgood = False\n",
    "                    break\n",
    "            res += len(word) if Isgood else 0\n",
    "            \n",
    "        return res\n",
    "\n",
    "\n",
    "ans = Solution()\n",
    "ans.countCharacters([\"cat\",\"bt\",\"hat\",\"tree\"], \"atach\")"
   ]
  }
 ],
 "metadata": {
  "kernelspec": {
   "display_name": "Python 3",
   "language": "python",
   "name": "python3"
  },
  "language_info": {
   "codemirror_mode": {
    "name": "ipython",
    "version": 3
   },
   "file_extension": ".py",
   "mimetype": "text/x-python",
   "name": "python",
   "nbconvert_exporter": "python",
   "pygments_lexer": "ipython3",
   "version": "3.11.2"
  }
 },
 "nbformat": 4,
 "nbformat_minor": 2
}
