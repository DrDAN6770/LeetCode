{
 "cells": [
  {
   "cell_type": "markdown",
   "metadata": {},
   "source": [
    "# 572. Subtree of Another Tree\n",
    "---\n",
    "https://leetcode.com/problems/subtree-of-another-tree/description/"
   ]
  },
  {
   "cell_type": "code",
   "execution_count": null,
   "metadata": {},
   "outputs": [],
   "source": [
    "# DFS O(mn) O(n)\n",
    "class TreeNode:\n",
    "    def __init__(self, val=0, left=None, right=None):\n",
    "        self.val = val\n",
    "        self.left = left\n",
    "        self.right = right\n",
    "class Solution:\n",
    "    def isSametree(self, s, t) -> bool:\n",
    "        if s and t:\n",
    "            return s.val == t.val and self.isSametree(s.left, t.left) and self.isSametree(s.right, t.right)\n",
    "        return s == t\n",
    "        \n",
    "    def isSubtree(self, root: TreeNode, subRoot: TreeNode) -> bool:\n",
    "        if not root:\n",
    "            return False\n",
    "        if self.isSametree(root, subRoot):\n",
    "            return True\n",
    "        return self.isSubtree(root.left, subRoot) or self.isSubtree(root.right, subRoot)"
   ]
  },
  {
   "cell_type": "code",
   "execution_count": null,
   "metadata": {},
   "outputs": [],
   "source": [
    "# str O(mn) O(n)\n",
    "class Solution:\n",
    "    def isSubtree(self, root: TreeNode, subRoot: TreeNode) -> bool:\n",
    "        return str(subRoot) in str(root)"
   ]
  }
 ],
 "metadata": {
  "kernelspec": {
   "display_name": "Python 3",
   "language": "python",
   "name": "python3"
  },
  "language_info": {
   "codemirror_mode": {
    "name": "ipython",
    "version": 3
   },
   "file_extension": ".py",
   "mimetype": "text/x-python",
   "name": "python",
   "nbconvert_exporter": "python",
   "pygments_lexer": "ipython3",
   "version": "3.11.2"
  },
  "orig_nbformat": 4
 },
 "nbformat": 4,
 "nbformat_minor": 2
}
