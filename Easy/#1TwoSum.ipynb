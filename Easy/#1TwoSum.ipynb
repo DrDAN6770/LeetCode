{
  "cells": [
    {
      "cell_type": "markdown",
      "metadata": {
        "id": "DS0PGpng7Hh9"
      },
      "source": [
        "#1.Two Sum\n",
        "\n",
        "---\n",
        "\n",
        "https://leetcode.com/problems/two-sum/"
      ]
    },
    {
      "cell_type": "code",
      "execution_count": null,
      "metadata": {
        "id": "lY0_91bO7Hh_",
        "outputId": "ab67785c-49df-4117-dd6b-60e5bb8beb0b"
      },
      "outputs": [
        {
          "name": "stdout",
          "output_type": "stream",
          "text": [
            "[1, 3]\n",
            "[3, 1]\n"
          ]
        }
      ],
      "source": [
        "class Solution:\n",
        "    def twoSum1(self, nums: list[int], target: int) -> list[int]:\n",
        "        #{nums[i]:index}\n",
        "        index_dict = {value:i for i,value in enumerate(nums)}\n",
        "        for i,v in enumerate(nums):\n",
        "            #補數\n",
        "            c = target - v\n",
        "            #補數!=自己本身\n",
        "            if c in index_dict and index_dict[c] != i:\n",
        "                return [i,index_dict[c]]\n",
        "\n",
        "    #不建立一個完整的dict       \n",
        "    def twoSum2(self, nums: list[int], target: int) -> list[int]:\n",
        "        read = {}\n",
        "        for i,v in enumerate(nums):\n",
        "            c = target - v\n",
        "            if c in read:\n",
        "                return [i,read[c]]\n",
        "            read[v] = i\n",
        "\n",
        "\n",
        "test = Solution()\n",
        "nums = [3,2,1,4]\n",
        "target = 6\n",
        "\n",
        "print(test.twoSum1(nums,target))\n",
        "print(test.twoSum2(nums,target))"
      ]
    },
    {
      "cell_type": "code",
      "execution_count": null,
      "metadata": {
        "id": "Uedcyosh7HiC",
        "outputId": "3a5c8907-b440-462b-8b37-54784648356a"
      },
      "outputs": [
        {
          "name": "stdout",
          "output_type": "stream",
          "text": [
            "[1, 2]\n",
            "[1, 2]\n"
          ]
        }
      ],
      "source": [
        "class Solution:\n",
        "    def twoSum3(self, nums: list[int], target: int) -> list[int]:\n",
        "        left = 0\n",
        "        right = len(nums)-1\n",
        "        sortednums = sorted(nums)\n",
        "\n",
        "        while left < right:\n",
        "            sum = sortednums[left] + sortednums[right]\n",
        "            if sum == target:\n",
        "                break\n",
        "            elif sum > target:\n",
        "                right -= 1\n",
        "            else:\n",
        "                left += 1\n",
        "\n",
        "        originalindex = []\n",
        "        for i in range(len(nums)):\n",
        "            if sortednums[left] == nums[i]:\n",
        "                originalindex.append(i)\n",
        "            elif sortednums[right] == nums[i]:\n",
        "                originalindex.append(i)\n",
        "        return originalindex\n",
        "\n",
        "\n",
        "    # For list already sorted\n",
        "    def twoSum4(self, nums: list[int], target: int) -> list[int]:\n",
        "        for l in range(len(nums)-1):\n",
        "            r = len(nums)-1\n",
        "            while l < r:\n",
        "                sum = nums[l] + nums[r]\n",
        "                if sum == target:\n",
        "                    return [l,r]\n",
        "                elif sum > target:\n",
        "                    r -= 1\n",
        "                else:\n",
        "                    l += 1\n",
        "\n",
        "test = Solution()\n",
        "nums = [1,3,6,7]\n",
        "target = 9\n",
        "print(test.twoSum3(nums,target))\n",
        "print(test.twoSum4(nums,target))"
      ]
    }
  ],
  "metadata": {
    "kernelspec": {
      "display_name": "myenv",
      "language": "python",
      "name": "python3"
    },
    "language_info": {
      "codemirror_mode": {
        "name": "ipython",
        "version": 3
      },
      "file_extension": ".py",
      "mimetype": "text/x-python",
      "name": "python",
      "nbconvert_exporter": "python",
      "pygments_lexer": "ipython3",
      "version": "3.9.15"
    },
    "orig_nbformat": 4,
    "colab": {
      "provenance": []
    }
  },
  "nbformat": 4,
  "nbformat_minor": 0
}