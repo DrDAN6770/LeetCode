{
 "cells": [
  {
   "cell_type": "markdown",
   "metadata": {},
   "source": [
    "# 1436. Destination City\n",
    "---\n",
    "https://leetcode.com/problems/destination-city/"
   ]
  },
  {
   "cell_type": "code",
   "execution_count": 1,
   "metadata": {},
   "outputs": [
    {
     "data": {
      "text/plain": [
       "'Sao Paulo'"
      ]
     },
     "execution_count": 1,
     "metadata": {},
     "output_type": "execute_result"
    }
   ],
   "source": [
    "# O(n) O(n) set difference\n",
    "class Solution:\n",
    "    def destCity(self, paths: list[list[str]]) -> str:\n",
    "        st1 = set()\n",
    "        st2 = set()\n",
    "        \n",
    "        for p in paths:\n",
    "            st1.add(p[0])\n",
    "            st2.add(p[1])\n",
    "        \n",
    "        res = st2 - st1\n",
    "        \n",
    "        return res.pop()\n",
    "\n",
    "ans = Solution()\n",
    "res = ans.destCity([[\"London\",\"New York\"],[\"New York\",\"Lima\"],[\"Lima\",\"Sao Paulo\"]])\n",
    "res"
   ]
  },
  {
   "cell_type": "code",
   "execution_count": 2,
   "metadata": {},
   "outputs": [
    {
     "data": {
      "text/plain": [
       "'A'"
      ]
     },
     "execution_count": 2,
     "metadata": {},
     "output_type": "execute_result"
    }
   ],
   "source": [
    "# O(n) O(n) set\n",
    "class Solution:\n",
    "    def destCity(self, paths: list[list[str]]) -> str:\n",
    "        st = set()\n",
    "        \n",
    "        for p in paths:\n",
    "            st.add(p[0])\n",
    "        \n",
    "        for p in paths:\n",
    "            res = p[1]\n",
    "            if res not in st:\n",
    "                return res\n",
    "        \n",
    "        return \"\"\n",
    "ans = Solution()\n",
    "res = ans.destCity([[\"B\",\"C\"],[\"D\",\"B\"],[\"C\",\"A\"]])\n",
    "res"
   ]
  }
 ],
 "metadata": {
  "kernelspec": {
   "display_name": "Python 3",
   "language": "python",
   "name": "python3"
  },
  "language_info": {
   "codemirror_mode": {
    "name": "ipython",
    "version": 3
   },
   "file_extension": ".py",
   "mimetype": "text/x-python",
   "name": "python",
   "nbconvert_exporter": "python",
   "pygments_lexer": "ipython3",
   "version": "3.11.2"
  }
 },
 "nbformat": 4,
 "nbformat_minor": 2
}
