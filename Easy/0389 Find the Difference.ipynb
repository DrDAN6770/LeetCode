{
 "cells": [
  {
   "cell_type": "markdown",
   "metadata": {},
   "source": [
    "# 389. Find the Difference\n",
    "---\n",
    "https://leetcode.com/problems/find-the-difference/"
   ]
  },
  {
   "cell_type": "code",
   "execution_count": 20,
   "metadata": {},
   "outputs": [
    {
     "data": {
      "text/plain": [
       "'a'"
      ]
     },
     "execution_count": 20,
     "metadata": {},
     "output_type": "execute_result"
    }
   ],
   "source": [
    "'''\n",
    "ord('a') ^ ord('a') ^ ord('a') = 97\n",
    "XOR 有不同則1,都相同則0 >> 同字XOR = 0\n",
    "全部做完則知道多哪個字\n",
    "'''\n",
    "# XOR O(n) O(1)\n",
    "class Solution:\n",
    "    def findTheDifference(self, s: str, t: str) -> str:\n",
    "        res = 0\n",
    "        for ch in s + t:\n",
    "            res ^= ord(ch)\n",
    "        return chr(res) \n",
    "ans = Solution()\n",
    "ans.findTheDifference(s = \"a\", t = \"aa\")"
   ]
  },
  {
   "cell_type": "code",
   "execution_count": 13,
   "metadata": {},
   "outputs": [
    {
     "data": {
      "text/plain": [
       "'a'"
      ]
     },
     "execution_count": 13,
     "metadata": {},
     "output_type": "execute_result"
    }
   ],
   "source": [
    "# O(n) O(1)\n",
    "class Solution:\n",
    "    def findTheDifference(self, s: str, t: str) -> str:\n",
    "        return chr(sum(ord(i) for i in t) - sum(ord(i) for i in s))\n",
    "ans = Solution()\n",
    "ans.findTheDifference(s = \"a\", t = \"aa\")"
   ]
  },
  {
   "cell_type": "code",
   "execution_count": 16,
   "metadata": {},
   "outputs": [
    {
     "data": {
      "text/plain": [
       "'a'"
      ]
     },
     "execution_count": 16,
     "metadata": {},
     "output_type": "execute_result"
    }
   ],
   "source": [
    "# Counter O(n) O(n)\n",
    "from collections import Counter\n",
    "class Solution:\n",
    "    def findTheDifference(self, s: str, t: str) -> str:\n",
    "        return list(Counter(t) - Counter(s))[0]\n",
    "ans = Solution()\n",
    "ans.findTheDifference(s = \"a\", t = \"aa\")"
   ]
  },
  {
   "cell_type": "code",
   "execution_count": 15,
   "metadata": {},
   "outputs": [
    {
     "data": {
      "text/plain": [
       "'a'"
      ]
     },
     "execution_count": 15,
     "metadata": {},
     "output_type": "execute_result"
    }
   ],
   "source": [
    "# O(n2)\n",
    "class Solution:\n",
    "    def findTheDifference(self, s: str, t: str) -> str:\n",
    "        for i in set(t):\n",
    "            if t.count(i) != s.count(i):\n",
    "                return i\n",
    "ans = Solution()\n",
    "ans.findTheDifference(s = \"a\", t = \"aa\")"
   ]
  }
 ],
 "metadata": {
  "kernelspec": {
   "display_name": "Python 3",
   "language": "python",
   "name": "python3"
  },
  "language_info": {
   "codemirror_mode": {
    "name": "ipython",
    "version": 3
   },
   "file_extension": ".py",
   "mimetype": "text/x-python",
   "name": "python",
   "nbconvert_exporter": "python",
   "pygments_lexer": "ipython3",
   "version": "3.11.2"
  },
  "orig_nbformat": 4
 },
 "nbformat": 4,
 "nbformat_minor": 2
}
