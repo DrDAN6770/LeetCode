{
  "nbformat": 4,
  "nbformat_minor": 0,
  "metadata": {
    "colab": {
      "provenance": [],
      "authorship_tag": "ABX9TyPHabxtGEE/fnVSD8ahqoI1",
      "include_colab_link": true
    },
    "kernelspec": {
      "name": "python3",
      "display_name": "Python 3"
    },
    "language_info": {
      "name": "python"
    }
  },
  "cells": [
    {
      "cell_type": "markdown",
      "metadata": {
        "id": "view-in-github",
        "colab_type": "text"
      },
      "source": [
        "<a href=\"https://colab.research.google.com/github/DrDAN6770/LeetCode/blob/main/Easy/0014%20LongestCommonPrefix.ipynb\" target=\"_parent\"><img src=\"https://colab.research.google.com/assets/colab-badge.svg\" alt=\"Open In Colab\"/></a>"
      ]
    },
    {
      "cell_type": "markdown",
      "source": [
        "#14. Longest Common Prefix\n",
        "\n",
        "---\n",
        "https://leetcode.com/problems/longest-common-prefix/description/\n"
      ],
      "metadata": {
        "id": "PN_kcXI1yzyz"
      }
    },
    {
      "cell_type": "code",
      "execution_count": 1,
      "metadata": {
        "colab": {
          "base_uri": "https://localhost:8080/",
          "height": 36
        },
        "id": "_cQUtZwUyydU",
        "outputId": "3251d8ba-1e2b-4eeb-8ed7-522c0ac649c8"
      },
      "outputs": [
        {
          "output_type": "execute_result",
          "data": {
            "text/plain": [
              "'a'"
            ],
            "application/vnd.google.colaboratory.intrinsic+json": {
              "type": "string"
            }
          },
          "metadata": {},
          "execution_count": 1
        }
      ],
      "source": [
        "#prefix 字串開頭的一段字串\n",
        "class Solution:\n",
        "    def longestCommonPrefix(self, strs: list[str]) -> str:\n",
        "        if not strs:\n",
        "            return ''\n",
        "        \n",
        "        res = ''\n",
        "        strs.sort(key = len)\n",
        "        premin = min(strs) #按照字母排序後找最小的，如同位置同字則繼續往後比對\n",
        "        premax = max(strs)\n",
        "        shorteststr = strs[0]\n",
        "\n",
        "        for i in range(len(shorteststr)):\n",
        "            if premax[i] != premin[i]:\n",
        "                return premin[:i]\n",
        "            res += premin[i]\n",
        "        return res\n",
        "            \n",
        "s = [\"a\"]\n",
        "t = Solution()\n",
        "t.longestCommonPrefix(s)"
      ]
    },
    {
      "cell_type": "code",
      "source": [
        "class Solution:\n",
        "    def longestCommonPrefix(self, strs: list[str]) -> str:\n",
        "        if not strs:\n",
        "            return \"\"\n",
        "        s1 = min(strs)\n",
        "        s2 = max(strs)\n",
        "        \n",
        "        for i in range(min(len(s1),len(s2))):\n",
        "            if s1[i] != s2[i]:\n",
        "                return s1[:i]\n",
        "        return s1\n",
        "    \n",
        "s = [\"reflower\",\"flow\",\"flight\"]\n",
        "t = Solution()\n",
        "t.longestCommonPrefix(s)"
      ],
      "metadata": {
        "colab": {
          "base_uri": "https://localhost:8080/",
          "height": 36
        },
        "id": "MB8JkF38zLod",
        "outputId": "15b0592d-3444-4a3d-c079-65a4598bd1c2"
      },
      "execution_count": 2,
      "outputs": [
        {
          "output_type": "execute_result",
          "data": {
            "text/plain": [
              "''"
            ],
            "application/vnd.google.colaboratory.intrinsic+json": {
              "type": "string"
            }
          },
          "metadata": {},
          "execution_count": 2
        }
      ]
    }
  ]
}