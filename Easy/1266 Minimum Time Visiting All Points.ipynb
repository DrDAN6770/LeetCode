{
 "cells": [
  {
   "cell_type": "markdown",
   "metadata": {},
   "source": [
    "# 1266. Minimum Time Visiting All Points\n",
    "\n",
    "---\n",
    "https://leetcode.com/problems/minimum-time-visiting-all-points/"
   ]
  },
  {
   "cell_type": "code",
   "execution_count": 1,
   "metadata": {},
   "outputs": [
    {
     "data": {
      "text/plain": [
       "7"
      ]
     },
     "execution_count": 1,
     "metadata": {},
     "output_type": "execute_result"
    }
   ],
   "source": [
    "# O(n) O(1)\n",
    "class Solution:\n",
    "    def minTimeToVisitAllPoints(self, points: list[list[int]]) -> int:\n",
    "        res = 0\n",
    "\n",
    "        for i in range(1, len(points)):\n",
    "            cur_x, cur_y = points[i][0], points[i][1]\n",
    "            prev_x, prev_y = points[i-1][0], points[i-1][1]\n",
    "            res += max(abs(cur_x - prev_x), abs(cur_y - prev_y))\n",
    "\n",
    "        return res\n",
    "\n",
    "ans = Solution()\n",
    "ans.minTimeToVisitAllPoints([[1,1],[3,4],[-1,0]])"
   ]
  }
 ],
 "metadata": {
  "kernelspec": {
   "display_name": "Python 3",
   "language": "python",
   "name": "python3"
  },
  "language_info": {
   "codemirror_mode": {
    "name": "ipython",
    "version": 3
   },
   "file_extension": ".py",
   "mimetype": "text/x-python",
   "name": "python",
   "nbconvert_exporter": "python",
   "pygments_lexer": "ipython3",
   "version": "3.11.2"
  }
 },
 "nbformat": 4,
 "nbformat_minor": 2
}
