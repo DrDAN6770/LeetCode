{
 "cells": [
  {
   "cell_type": "markdown",
   "metadata": {},
   "source": [
    "# 509. Fibonacci Number\n",
    "---\n",
    "https://leetcode.com/problems/fibonacci-number/description/"
   ]
  },
  {
   "cell_type": "code",
   "execution_count": 4,
   "metadata": {},
   "outputs": [
    {
     "data": {
      "text/plain": [
       "2"
      ]
     },
     "execution_count": 4,
     "metadata": {},
     "output_type": "execute_result"
    }
   ],
   "source": [
    "# O(n) O(1)\n",
    "class Solution:\n",
    "    def fib(self, n: int) -> int:\n",
    "        if n < 2:\n",
    "            return n\n",
    "\n",
    "        f0, f1 = 0, 1\n",
    "        for i in range(2, n + 1):\n",
    "            curr = f0 + f1\n",
    "            f0 = f1\n",
    "            f1 = curr\n",
    "        return curr\n",
    "ans = Solution()\n",
    "ans.fib(3)"
   ]
  },
  {
   "cell_type": "code",
   "execution_count": 5,
   "metadata": {},
   "outputs": [
    {
     "data": {
      "text/plain": [
       "2"
      ]
     },
     "execution_count": 5,
     "metadata": {},
     "output_type": "execute_result"
    }
   ],
   "source": [
    "# O(n) O(n)\n",
    "class Solution:\n",
    "    def fib(self, n: int) -> int:\n",
    "        if n < 2:\n",
    "            return n\n",
    "\n",
    "        f0, f1 = 0, 1\n",
    "        for i in range(2, n + 1):\n",
    "            curr = f0 + f1\n",
    "            f0 = f1\n",
    "            f1 = curr\n",
    "        return curr\n",
    "ans = Solution()\n",
    "ans.fib(3)"
   ]
  }
 ],
 "metadata": {
  "kernelspec": {
   "display_name": "Python 3",
   "language": "python",
   "name": "python3"
  },
  "language_info": {
   "codemirror_mode": {
    "name": "ipython",
    "version": 3
   },
   "file_extension": ".py",
   "mimetype": "text/x-python",
   "name": "python",
   "nbconvert_exporter": "python",
   "pygments_lexer": "ipython3",
   "version": "3.11.2"
  },
  "orig_nbformat": 4
 },
 "nbformat": 4,
 "nbformat_minor": 2
}
