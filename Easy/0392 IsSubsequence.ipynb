{
  "nbformat": 4,
  "nbformat_minor": 0,
  "metadata": {
    "colab": {
      "provenance": [],
      "authorship_tag": "ABX9TyP/y0YZnmdvO3h1eMG3RPRQ",
      "include_colab_link": true
    },
    "kernelspec": {
      "name": "python3",
      "display_name": "Python 3"
    },
    "language_info": {
      "name": "python"
    }
  },
  "cells": [
    {
      "cell_type": "markdown",
      "metadata": {
        "id": "view-in-github",
        "colab_type": "text"
      },
      "source": [
        "<a href=\"https://colab.research.google.com/github/DrDAN6770/LeetCode/blob/main/Easy/0392%20IsSubsequence.ipynb\" target=\"_parent\"><img src=\"https://colab.research.google.com/assets/colab-badge.svg\" alt=\"Open In Colab\"/></a>"
      ]
    },
    {
      "cell_type": "markdown",
      "source": [
        "# 392. Is Subsequence\n",
        "\n",
        "\n",
        "---\n",
        "\n",
        "https://leetcode.com/problems/is-subsequence/"
      ],
      "metadata": {
        "id": "GcbgGa8EaZd3"
      }
    },
    {
      "cell_type": "code",
      "execution_count": 3,
      "metadata": {
        "colab": {
          "base_uri": "https://localhost:8080/"
        },
        "id": "psCKTWAgaYR1",
        "outputId": "09d9a364-5ab1-49c1-f46a-0b821f3fded2"
      },
      "outputs": [
        {
          "output_type": "execute_result",
          "data": {
            "text/plain": [
              "False"
            ]
          },
          "metadata": {},
          "execution_count": 3
        }
      ],
      "source": [
        "# 原始寫法 改善return可得另一方法\n",
        "class Solution:\n",
        "    def isSubsequence(self, s: str, t: str) -> bool:\n",
        "        if not s:\n",
        "            return True\n",
        "        slow, fast = 0, 0\n",
        "        while fast < len(t) and slow < len(s):\n",
        "            if s[slow] == t[fast]:\n",
        "                slow += 1\n",
        "                fast += 1\n",
        "                if slow == len(s) and fast <= len(t):\n",
        "                    return True\n",
        "            else:\n",
        "                fast += 1\n",
        "        return False\n",
        "\n",
        "s = 'acb'\n",
        "t = 'ahbgdc'\n",
        "res = Solution()\n",
        "res.isSubsequence(s,t)"
      ]
    },
    {
      "cell_type": "code",
      "source": [
        "class Solution:\n",
        "    def isSubsequence(self, s: str, t: str) -> bool:\n",
        "        slow, fast = 0, 0\n",
        "        while fast < len(t) and slow < len(s):\n",
        "            if s[slow] == t[fast]:\n",
        "                slow += 1\n",
        "            fast += 1\n",
        "        return slow == len(s)\n",
        "\n",
        "s = ''\n",
        "t = 'ahbgdc'\n",
        "res = Solution()\n",
        "res.isSubsequence(s,t)"
      ],
      "metadata": {
        "colab": {
          "base_uri": "https://localhost:8080/"
        },
        "id": "NUumjyU3afFw",
        "outputId": "e0706033-6f7f-4e4a-aca5-ac9a2e72879f"
      },
      "execution_count": 2,
      "outputs": [
        {
          "output_type": "execute_result",
          "data": {
            "text/plain": [
              "True"
            ]
          },
          "metadata": {},
          "execution_count": 2
        }
      ]
    }
  ]
}