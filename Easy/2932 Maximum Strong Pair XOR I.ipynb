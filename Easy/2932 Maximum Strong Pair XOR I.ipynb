{
 "cells": [
  {
   "cell_type": "markdown",
   "metadata": {},
   "source": [
    "# 2932. Maximum Strong Pair XOR I\n",
    "---\n",
    "https://leetcode.com/problems/maximum-strong-pair-xor-i/description/"
   ]
  },
  {
   "cell_type": "code",
   "execution_count": 1,
   "metadata": {},
   "outputs": [
    {
     "data": {
      "text/plain": [
       "7"
      ]
     },
     "execution_count": 1,
     "metadata": {},
     "output_type": "execute_result"
    }
   ],
   "source": [
    "# O(n2) O(1) 最快\n",
    "from itertools import combinations_with_replacement\n",
    "class Solution:\n",
    "    def maximumStrongPairXor(self, nums: list[int]) -> int:\n",
    "        res = float(\"-inf\")\n",
    "        for x, y in combinations_with_replacement(nums, 2):\n",
    "            if abs(x - y) <= min(x, y):\n",
    "                res = max(res, x ^ y)\n",
    "        return res\n",
    "ans = Solution()\n",
    "ans.maximumStrongPairXor([5,6,25,30])"
   ]
  },
  {
   "cell_type": "code",
   "execution_count": 2,
   "metadata": {},
   "outputs": [
    {
     "data": {
      "text/plain": [
       "7"
      ]
     },
     "execution_count": 2,
     "metadata": {},
     "output_type": "execute_result"
    }
   ],
   "source": [
    "# O(n2) O(1)\n",
    "from itertools import product\n",
    "class Solution:\n",
    "    def maximumStrongPairXor(self, nums: list[int]) -> int:\n",
    "        res = float(\"-inf\")\n",
    "        for x, y in product(nums, repeat = 2):\n",
    "            if abs(x - y) <= min(x, y):\n",
    "                res = max(res, x ^ y)\n",
    "        return res\n",
    "ans = Solution()\n",
    "ans.maximumStrongPairXor([5,6,25,30])"
   ]
  },
  {
   "cell_type": "code",
   "execution_count": 3,
   "metadata": {},
   "outputs": [
    {
     "data": {
      "text/plain": [
       "7"
      ]
     },
     "execution_count": 3,
     "metadata": {},
     "output_type": "execute_result"
    }
   ],
   "source": [
    "# O(n2) O(1)\n",
    "class Solution:\n",
    "    def maximumStrongPairXor(self, nums: list[int]) -> int:\n",
    "        res = float(\"-inf\")\n",
    "        for num1 in nums:\n",
    "            for num2 in nums:\n",
    "                if abs(num1 - num2) <= min(num1, num2):\n",
    "                    res = max(res, num1 ^ num2)\n",
    "        return res\n",
    "ans = Solution()\n",
    "ans.maximumStrongPairXor([5,6,25,30])"
   ]
  }
 ],
 "metadata": {
  "kernelspec": {
   "display_name": "Python 3",
   "language": "python",
   "name": "python3"
  },
  "language_info": {
   "codemirror_mode": {
    "name": "ipython",
    "version": 3
   },
   "file_extension": ".py",
   "mimetype": "text/x-python",
   "name": "python",
   "nbconvert_exporter": "python",
   "pygments_lexer": "ipython3",
   "version": "3.11.2"
  }
 },
 "nbformat": 4,
 "nbformat_minor": 2
}
