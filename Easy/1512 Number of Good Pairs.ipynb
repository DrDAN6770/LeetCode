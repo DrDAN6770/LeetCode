{
 "cells": [
  {
   "cell_type": "markdown",
   "metadata": {},
   "source": [
    "# 1512. Number of Good Pairs\n",
    "---\n",
    "https://leetcode.com/problems/number-of-good-pairs/"
   ]
  },
  {
   "cell_type": "code",
   "execution_count": 1,
   "metadata": {},
   "outputs": [
    {
     "data": {
      "text/plain": [
       "4"
      ]
     },
     "execution_count": 1,
     "metadata": {},
     "output_type": "execute_result"
    }
   ],
   "source": [
    "# O(n) O(n)\n",
    "import math\n",
    "from collections import Counter\n",
    "class Solution:\n",
    "    def numIdenticalPairs(self, nums: list[int]) -> int:\n",
    "        return sum(math.comb(n, 2) for n in Counter(nums).values())\n",
    "\n",
    "ans = Solution()\n",
    "ans.numIdenticalPairs([1,2,3,1,1,3])"
   ]
  },
  {
   "cell_type": "code",
   "execution_count": 3,
   "metadata": {},
   "outputs": [
    {
     "data": {
      "text/plain": [
       "4"
      ]
     },
     "execution_count": 3,
     "metadata": {},
     "output_type": "execute_result"
    }
   ],
   "source": [
    "# O(n) O(n)\n",
    "class Solution:\n",
    "    def numIdenticalPairs(self, nums: list[int]) -> int:\n",
    "        res = 0\n",
    "        hmp = {}\n",
    "        for num in nums:\n",
    "            res += hmp.get(num, 0)\n",
    "            hmp[num] = hmp.get(num, 0) + 1\n",
    "        return res\n",
    "\n",
    "ans = Solution()\n",
    "ans.numIdenticalPairs([1,2,3,1,1,3])"
   ]
  },
  {
   "cell_type": "code",
   "execution_count": 2,
   "metadata": {},
   "outputs": [
    {
     "data": {
      "text/plain": [
       "4"
      ]
     },
     "execution_count": 2,
     "metadata": {},
     "output_type": "execute_result"
    }
   ],
   "source": [
    "# O(n2) O(1)\n",
    "class Solution:\n",
    "    def numIdenticalPairs(self, nums: list[int]) -> int:\n",
    "        res = 0\n",
    "        for i in range(len(nums)):\n",
    "            for j in range(i+1, len(nums)):\n",
    "                if nums[i] == nums[j]:\n",
    "                    res += 1\n",
    "        return res\n",
    "\n",
    "ans = Solution()\n",
    "ans.numIdenticalPairs([1,2,3,1,1,3])"
   ]
  }
 ],
 "metadata": {
  "kernelspec": {
   "display_name": "Python 3",
   "language": "python",
   "name": "python3"
  },
  "language_info": {
   "codemirror_mode": {
    "name": "ipython",
    "version": 3
   },
   "file_extension": ".py",
   "mimetype": "text/x-python",
   "name": "python",
   "nbconvert_exporter": "python",
   "pygments_lexer": "ipython3",
   "version": "3.11.2"
  },
  "orig_nbformat": 4
 },
 "nbformat": 4,
 "nbformat_minor": 2
}
