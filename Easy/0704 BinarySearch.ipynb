{
  "nbformat": 4,
  "nbformat_minor": 0,
  "metadata": {
    "colab": {
      "provenance": [],
      "authorship_tag": "ABX9TyN6GZBQjtTIZfNuvSW50ULc",
      "include_colab_link": true
    },
    "kernelspec": {
      "name": "python3",
      "display_name": "Python 3"
    },
    "language_info": {
      "name": "python"
    }
  },
  "cells": [
    {
      "cell_type": "markdown",
      "metadata": {
        "id": "view-in-github",
        "colab_type": "text"
      },
      "source": [
        "<a href=\"https://colab.research.google.com/github/DrDAN6770/LeetCode/blob/main/Easy/0704%20BinarySearch.ipynb\" target=\"_parent\"><img src=\"https://colab.research.google.com/assets/colab-badge.svg\" alt=\"Open In Colab\"/></a>"
      ]
    },
    {
      "cell_type": "markdown",
      "source": [
        "#704. Binary Search\n",
        "\n",
        "---\n",
        "\n",
        "https://leetcode.com/problems/binary-search/description/"
      ],
      "metadata": {
        "id": "P5IIgUARJaay"
      }
    },
    {
      "cell_type": "code",
      "execution_count": 1,
      "metadata": {
        "colab": {
          "base_uri": "https://localhost:8080/"
        },
        "id": "R-jsyhqKJVrd",
        "outputId": "0b274271-b019-4f4f-9dde-d9ed2e0b6117"
      },
      "outputs": [
        {
          "output_type": "execute_result",
          "data": {
            "text/plain": [
              "1"
            ]
          },
          "metadata": {},
          "execution_count": 1
        }
      ],
      "source": [
        "#O(logn)\n",
        "def search(nums: list[int], target: int) -> int:\n",
        "    left = 0\n",
        "    right = len(nums)-1\n",
        "\n",
        "    while left <= right:\n",
        "        middle = (left + right) // 2\n",
        "        if nums[middle] == target: return middle\n",
        "\n",
        "        elif nums[middle] < target:\n",
        "            left = middle + 1\n",
        "        else:\n",
        "            right = middle -1\n",
        "    return -1\n",
        "\n",
        "nums = [-1,0,3,5,9]\n",
        "search(nums,0)"
      ]
    },
    {
      "cell_type": "code",
      "source": [
        "#O(logn)\n",
        "def search(nums: list[int], target: int) -> int:\n",
        "    l = 0\n",
        "    r = len(nums) - 1\n",
        "\n",
        "    while l < r:\n",
        "        #展開後還是(l+r)//2 但python會自動轉換int型態，不會溢出\n",
        "        mid = l + (r - l) // 2 \n",
        "\n",
        "        #左右邊界轉換\n",
        "        if nums[mid] >= target:\n",
        "            r = mid\n",
        "        else:\n",
        "            l = mid + 1\n",
        "\n",
        "    if nums[l] == target:\n",
        "        return l\n",
        "    return -1\n",
        "\n",
        "nums = [-1,0,3,5,9,10]\n",
        "search(nums,2)"
      ],
      "metadata": {
        "colab": {
          "base_uri": "https://localhost:8080/"
        },
        "id": "q9gSK7OYJmqz",
        "outputId": "a3e64704-0901-46ca-947f-4d56183a8469"
      },
      "execution_count": 2,
      "outputs": [
        {
          "output_type": "execute_result",
          "data": {
            "text/plain": [
              "-1"
            ]
          },
          "metadata": {},
          "execution_count": 2
        }
      ]
    },
    {
      "cell_type": "code",
      "source": [
        "# O(n)\n",
        "def search(nums: list[int], target: int) -> int:\n",
        "    for index,value in enumerate(nums):\n",
        "        if value == target: return index\n",
        "    return -1\n",
        "\n",
        "nums = [-1,0,3,5,9]\n",
        "search(nums,3)"
      ],
      "metadata": {
        "colab": {
          "base_uri": "https://localhost:8080/"
        },
        "id": "AGezOjYTJp1-",
        "outputId": "20797b0c-2a2b-48de-dacc-d713cc9464f5"
      },
      "execution_count": 3,
      "outputs": [
        {
          "output_type": "execute_result",
          "data": {
            "text/plain": [
              "2"
            ]
          },
          "metadata": {},
          "execution_count": 3
        }
      ]
    }
  ]
}