{
 "cells": [
  {
   "cell_type": "markdown",
   "metadata": {},
   "source": [
    "# 706. Design HashMap\n",
    "---\n",
    "https://leetcode.com/problems/design-hashmap/"
   ]
  },
  {
   "cell_type": "code",
   "execution_count": 8,
   "metadata": {},
   "outputs": [
    {
     "name": "stdout",
     "output_type": "stream",
     "text": [
      "{}\n",
      "{'a': 1, 'b': 2, 'c': 3}\n",
      "get b : 2\n",
      "get d : -1\n",
      "{'a': 1, 'b': 2, 'c': 3}\n",
      "{'a': 1, 'b': 2}\n"
     ]
    }
   ],
   "source": [
    "class MyHashMap:\n",
    "    def __init__(self):\n",
    "        self.hp = {}\n",
    "    def put(self, key: int, value: int) -> None:\n",
    "        self.hp[key] = value\n",
    "\n",
    "    def get(self, key: int) -> int:\n",
    "        return self.hp.get(key, -1)\n",
    "\n",
    "    def remove(self, key: int) -> None:\n",
    "        self.hp.pop(key, None)\n",
    "\n",
    "ans = MyHashMap()\n",
    "print(ans.hp)\n",
    "ans.put('a', 1)\n",
    "ans.put('b', 2)\n",
    "ans.put('c', 3)\n",
    "print(ans.hp)\n",
    "print('get b :', ans.get('b'))\n",
    "print('get d :', ans.get('d'))\n",
    "print(ans.hp)\n",
    "ans.remove('c')\n",
    "ans.remove('d')\n",
    "print(ans.hp)"
   ]
  }
 ],
 "metadata": {
  "kernelspec": {
   "display_name": "Python 3",
   "language": "python",
   "name": "python3"
  },
  "language_info": {
   "codemirror_mode": {
    "name": "ipython",
    "version": 3
   },
   "file_extension": ".py",
   "mimetype": "text/x-python",
   "name": "python",
   "nbconvert_exporter": "python",
   "pygments_lexer": "ipython3",
   "version": "3.11.2"
  },
  "orig_nbformat": 4
 },
 "nbformat": 4,
 "nbformat_minor": 2
}
