{
 "cells": [
  {
   "cell_type": "markdown",
   "metadata": {},
   "source": [
    "# 501. Find Mode in Binary Search Tree\n",
    "---\n",
    "https://leetcode.com/problems/find-mode-in-binary-search-tree/"
   ]
  },
  {
   "cell_type": "code",
   "execution_count": null,
   "metadata": {},
   "outputs": [],
   "source": [
    "# DFS list O(n) O(n) 使用空間最少\n",
    "class Solution:\n",
    "    def dfs(self, root, nodes):\n",
    "        if not root:\n",
    "            return\n",
    "        \n",
    "        self.dfs(root.left, nodes)\n",
    "        nodes.append(root.val)\n",
    "        self.dfs(root.right, nodes)\n",
    "\n",
    "    def findMode(self, root) -> list[int]:\n",
    "        nodes = []\n",
    "        self.dfs(root, nodes)\n",
    "        res = []\n",
    "\n",
    "        cur_freq = max_freq = cur_num = 0\n",
    "        for num in nodes:\n",
    "            if num == cur_num:\n",
    "                cur_freq += 1\n",
    "            else:\n",
    "                cur_freq = 1\n",
    "                cur_num = num\n",
    "            \n",
    "            if cur_freq > max_freq:\n",
    "                res.clear()\n",
    "                max_freq = cur_freq\n",
    "            if cur_freq == max_freq:\n",
    "                res.append(num)\n",
    "\n",
    "        return res"
   ]
  },
  {
   "cell_type": "code",
   "execution_count": null,
   "metadata": {},
   "outputs": [],
   "source": [
    "# DFS Hash O(n) O(n)\n",
    "from collections import defaultdict\n",
    "class Solution:\n",
    "    def dfs(self, root, nodes):\n",
    "        if not root:\n",
    "            return\n",
    "        \n",
    "        self.dfs(root.left, nodes)\n",
    "        nodes.append(root.val)\n",
    "        self.dfs(root.right, nodes)\n",
    "\n",
    "    def findMode(self, root) -> list[int]:\n",
    "        cnt = defaultdict(int)\n",
    "        self.dfs(root, cnt)\n",
    "        most_freq = max(cnt.values())\n",
    "        return [k for k, v in cnt.items() if most_freq == v]"
   ]
  },
  {
   "cell_type": "code",
   "execution_count": null,
   "metadata": {},
   "outputs": [],
   "source": [
    "# DFS Counter O(n) O(n)\n",
    "from collections import Counter\n",
    "class Solution:\n",
    "    def dfs(self, root, nodes):\n",
    "        if not root:\n",
    "            return\n",
    "        \n",
    "        self.dfs(root.left, nodes)\n",
    "        nodes.append(root.val)\n",
    "        self.dfs(root.right, nodes)\n",
    "\n",
    "    def findMode(self, root) -> list[int]:\n",
    "        nodes = []\n",
    "        self.dfs(root, nodes)\n",
    "        cnt = Counter(nodes)\n",
    "        max_freq = max(cnt.values())\n",
    "\n",
    "        return [k for k, v in cnt.items() if v == max_freq]"
   ]
  }
 ],
 "metadata": {
  "kernelspec": {
   "display_name": "Python 3",
   "language": "python",
   "name": "python3"
  },
  "language_info": {
   "codemirror_mode": {
    "name": "ipython",
    "version": 3
   },
   "file_extension": ".py",
   "mimetype": "text/x-python",
   "name": "python",
   "nbconvert_exporter": "python",
   "pygments_lexer": "ipython3",
   "version": "3.11.2"
  },
  "orig_nbformat": 4
 },
 "nbformat": 4,
 "nbformat_minor": 2
}
