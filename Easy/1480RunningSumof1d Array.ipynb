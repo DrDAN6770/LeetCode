{
  "nbformat": 4,
  "nbformat_minor": 0,
  "metadata": {
    "colab": {
      "provenance": [],
      "authorship_tag": "ABX9TyNyjeWEpDS8GkHr6Sedk4Ub",
      "include_colab_link": true
    },
    "kernelspec": {
      "name": "python3",
      "display_name": "Python 3"
    },
    "language_info": {
      "name": "python"
    }
  },
  "cells": [
    {
      "cell_type": "markdown",
      "metadata": {
        "id": "view-in-github",
        "colab_type": "text"
      },
      "source": [
        "<a href=\"https://colab.research.google.com/github/DrDAN6770/LeetCode/blob/main/Easy/1480RunningSumof1d%20Array.ipynb\" target=\"_parent\"><img src=\"https://colab.research.google.com/assets/colab-badge.svg\" alt=\"Open In Colab\"/></a>"
      ]
    },
    {
      "cell_type": "markdown",
      "source": [
        "# 1480. Running Sum of 1d Array\n",
        "\n",
        "---\n",
        "\n",
        "https://leetcode.com/problems/running-sum-of-1d-array/"
      ],
      "metadata": {
        "id": "gXM4EXHOJNDN"
      }
    },
    {
      "cell_type": "code",
      "execution_count": 3,
      "metadata": {
        "colab": {
          "base_uri": "https://localhost:8080/"
        },
        "id": "GU5we3TSJFUj",
        "outputId": "b3847dba-d0ed-47c3-a829-767f37002681"
      },
      "outputs": [
        {
          "output_type": "execute_result",
          "data": {
            "text/plain": [
              "[3, 4, 6, 16, 17]"
            ]
          },
          "metadata": {},
          "execution_count": 3
        }
      ],
      "source": [
        "class Solution:\n",
        "  def runningSum(self, nums: list[int]) -> list[int]:\n",
        "    return [sum(nums[:x+1]) for x in range(len(nums))]\n",
        "res = Solution()\n",
        "res.runningSum([3,1,2,10,1])"
      ]
    },
    {
      "cell_type": "code",
      "source": [
        "# DP\n",
        "class Solution:\n",
        "  def runningSum(self, nums: list[int]) -> list[int]:\n",
        "    dp = [nums[0]] + [0] * (len(nums)-1)\n",
        "    for x in range(1,len(nums)):\n",
        "      dp[x] = dp[x - 1] + nums[x]\n",
        "    return dp\n",
        "res = Solution()\n",
        "res.runningSum([3,1,2,10,1])"
      ],
      "metadata": {
        "colab": {
          "base_uri": "https://localhost:8080/"
        },
        "id": "M04o8Uu1JZPT",
        "outputId": "bcd4e0f8-b98f-4f3e-d2a6-514792758b41"
      },
      "execution_count": 4,
      "outputs": [
        {
          "output_type": "execute_result",
          "data": {
            "text/plain": [
              "[3, 4, 6, 16, 17]"
            ]
          },
          "metadata": {},
          "execution_count": 4
        }
      ]
    }
  ]
}