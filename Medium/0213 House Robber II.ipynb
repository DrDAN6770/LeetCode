{
 "cells": [
  {
   "cell_type": "markdown",
   "metadata": {},
   "source": [
    "# 213. House Robber II\n",
    "---\n",
    "https://leetcode.com/problems/house-robber-ii/"
   ]
  },
  {
   "cell_type": "code",
   "execution_count": 3,
   "metadata": {},
   "outputs": [
    {
     "data": {
      "text/plain": [
       "4"
      ]
     },
     "execution_count": 3,
     "metadata": {},
     "output_type": "execute_result"
    }
   ],
   "source": [
    "# DP O(n) O(1)\n",
    "class Solution:\n",
    "    def rob(self, nums: list[int]) -> int:\n",
    "        if len(nums) <= 3:\n",
    "            return max(nums)\n",
    "        return max(self.helper(nums[1:]), self.helper(nums[:-1]))\n",
    "    def helper(self, nums):\n",
    "        pre = cur = 0\n",
    "        \n",
    "        for num in nums:\n",
    "            tmp = max(pre + num, cur)\n",
    "            pre = cur\n",
    "            cur = tmp    \n",
    "        return cur\n",
    "ans = Solution()\n",
    "ans.rob([1,2,3,1])"
   ]
  },
  {
   "cell_type": "code",
   "execution_count": 2,
   "metadata": {},
   "outputs": [
    {
     "data": {
      "text/plain": [
       "4"
      ]
     },
     "execution_count": 2,
     "metadata": {},
     "output_type": "execute_result"
    }
   ],
   "source": [
    "# DP O(n) O(n)\n",
    "class Solution:\n",
    "    def rob(self, nums: list[int]) -> int:\n",
    "        if len(nums) <= 3:\n",
    "            return max(nums)\n",
    "        return max(self.helper(nums[1:]), self.helper(nums[:-1]))\n",
    "    def helper(self, nums):\n",
    "        n = len(nums)\n",
    "        dp = [0] * n\n",
    "        dp[0] = nums[0]\n",
    "        dp[1] = max(nums[0], nums[1])\n",
    "\n",
    "        for i in range(2, n):\n",
    "            dp[i] = max(dp[i-2] + nums[i], dp[i-1])\n",
    "    \n",
    "        return dp[-1]\n",
    "ans = Solution()\n",
    "ans.rob([1,2,3,1])"
   ]
  }
 ],
 "metadata": {
  "kernelspec": {
   "display_name": "Python 3",
   "language": "python",
   "name": "python3"
  },
  "language_info": {
   "codemirror_mode": {
    "name": "ipython",
    "version": 3
   },
   "file_extension": ".py",
   "mimetype": "text/x-python",
   "name": "python",
   "nbconvert_exporter": "python",
   "pygments_lexer": "ipython3",
   "version": "3.11.2"
  },
  "orig_nbformat": 4
 },
 "nbformat": 4,
 "nbformat_minor": 2
}
