{
 "cells": [
  {
   "cell_type": "markdown",
   "metadata": {},
   "source": [
    "# 45. Jump Game II\n",
    "---\n",
    "https://leetcode.com/problems/jump-game-ii/description/\n",
    "\n",
    "https://www.youtube.com/watch?v=dJ7sWiOoK7g"
   ]
  },
  {
   "cell_type": "code",
   "execution_count": 23,
   "metadata": {},
   "outputs": [
    {
     "data": {
      "text/plain": [
       "2"
      ]
     },
     "execution_count": 23,
     "metadata": {},
     "output_type": "execute_result"
    }
   ],
   "source": [
    "# Greedy O(n)\n",
    "# 測資保證一定會到最後一個(沒有那種到不了的測資)\n",
    "# 每次都算出 最遠能到哪(max_farth_idx) 目前最遠到哪(last_index)\n",
    "class Solution:\n",
    "    def jump(self, nums: list[int]) -> int:\n",
    "        if len(nums) == 1:\n",
    "            return 0\n",
    "\n",
    "        count = 0\n",
    "        max_farth_idx = 0\n",
    "        last_index = 0\n",
    "        target = len(nums) - 1\n",
    "        for i in range(target):\n",
    "            max_farth_idx = max(max_farth_idx, i + nums[i])\n",
    "            if max_farth_idx >= target:\n",
    "                return count + 1\n",
    "            if i == last_index:\n",
    "                last_index = max_farth_idx\n",
    "                count += 1\n",
    "        return count\n",
    "ans = Solution()\n",
    "ans.jump([2,3,0,1,4])"
   ]
  },
  {
   "cell_type": "code",
   "execution_count": 39,
   "metadata": {},
   "outputs": [
    {
     "data": {
      "text/plain": [
       "4"
      ]
     },
     "execution_count": 39,
     "metadata": {},
     "output_type": "execute_result"
    }
   ],
   "source": [
    "# BFS O(n)\n",
    "# 左邊界 右邊界\n",
    "# 最少會移動1 代表左邊界 l = r + 1\n",
    "# 而右邊界則是當下最大跳躍位置 r = max_farth_idx\n",
    "'''\n",
    "[3,2,1,2,1,1,2,5]\n",
    "第1次可以跳到[2,1,2] 此時lr改變l=1 r=3\n",
    "第2次跳至少能跳到[1,1] 其他位置跳到[1,2]則是上一次跳就可以到了,則不算在這次跳躍 >> l=4 r=5\n",
    "第3次跳到 [2] l=6 r=6\n",
    "第4次跳到 [5] l=7 r=8(超過)\n",
    "'''\n",
    "class Solution:\n",
    "    def jump(self, nums: list[int]) -> int:\n",
    "        if len(nums) == 1:\n",
    "            return 0\n",
    "\n",
    "        l, r, count = 0, 0, 0\n",
    "        target = len(nums) - 1\n",
    "        \n",
    "        while r < target:\n",
    "            max_farth_idx = 0\n",
    "            for i in range(l, r + 1):\n",
    "                max_farth_idx = max(max_farth_idx, i + nums[i])\n",
    "            l = r + 1\n",
    "            r = max_farth_idx\n",
    "            count += 1\n",
    "        return count\n",
    "\n",
    "ans = Solution()\n",
    "ans.jump([3,2,1,2,1,1,2,5])"
   ]
  }
 ],
 "metadata": {
  "kernelspec": {
   "display_name": "Python 3",
   "language": "python",
   "name": "python3"
  },
  "language_info": {
   "codemirror_mode": {
    "name": "ipython",
    "version": 3
   },
   "file_extension": ".py",
   "mimetype": "text/x-python",
   "name": "python",
   "nbconvert_exporter": "python",
   "pygments_lexer": "ipython3",
   "version": "3.11.2"
  },
  "orig_nbformat": 4
 },
 "nbformat": 4,
 "nbformat_minor": 2
}
