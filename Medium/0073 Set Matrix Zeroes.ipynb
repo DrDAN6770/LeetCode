{
 "cells": [
  {
   "cell_type": "markdown",
   "metadata": {},
   "source": [
    "# 73. Set Matrix Zeroes\n",
    "---\n",
    "https://leetcode.com/problems/set-matrix-zeroes/?envType=list&envId=rwo58iji"
   ]
  },
  {
   "cell_type": "code",
   "execution_count": 18,
   "metadata": {},
   "outputs": [],
   "source": [
    "# space O(1)\n",
    "'''\n",
    "1st_col 以外 第1行每欄標記0\n",
    "1 1 1        1 0 1\n",
    "0 0 1 mark > 0 0 1\n",
    "1 0 1        0 0 1 \n",
    "\n",
    "ans\n",
    "0 0 1\n",
    "0 0 0\n",
    "0 0 0\n",
    "'''\n",
    "class Solution:\n",
    "    def setZeroes(self, matrix: list[list[int]]) -> None:\n",
    "        \"\"\"\n",
    "        Do not return anything, modify matrix in-place instead.\n",
    "        \"\"\"\n",
    "        m, n = len(matrix), len(matrix[0])\n",
    "        col_1st = False\n",
    "        for row in range(m):\n",
    "            if matrix[row][0] == 0:\n",
    "                col_1st = True\n",
    "            for col in range(1, n):\n",
    "                # mark\n",
    "                if matrix[row][col] == 0:\n",
    "                    matrix[row][0] = 0\n",
    "                    matrix[0][col] = 0\n",
    "\n",
    "        for i in range(1, m):\n",
    "            for j in range(1, n):\n",
    "                if matrix[i][0] == 0 or matrix[0][j] == 0:\n",
    "                    matrix[i][j] = 0\n",
    "\n",
    "        if matrix[0][0] == 0:\n",
    "            matrix[0][:] = [0] * n\n",
    "\n",
    "        if col_1st:\n",
    "            for i in range(m):\n",
    "                matrix[i][0] = 0    \n",
    "ans = Solution()\n",
    "ans.setZeroes([[0,1,1],[1,1,1],[1,1,1]])"
   ]
  },
  {
   "cell_type": "code",
   "execution_count": 24,
   "metadata": {},
   "outputs": [],
   "source": [
    "# space O(m+n)\n",
    "class Solution:\n",
    "    def setZeroes(self, matrix: list[list[int]]) -> None:\n",
    "        \"\"\"\n",
    "        Do not return anything, modify matrix in-place instead.\n",
    "        \"\"\"\n",
    "        r = []\n",
    "        l = []\n",
    "        m, n = len(matrix), len(matrix[0])\n",
    "        for row in range(m):\n",
    "            for col in range(n):\n",
    "                if matrix[row][col] == 0:\n",
    "                    r.append(row)\n",
    "                    l.append(col)\n",
    "\n",
    "        for row in r:\n",
    "            matrix[row][:] = [0] * n\n",
    "        for col in l:\n",
    "            for i in range(m):\n",
    "                matrix[i][col] = 0\n",
    "ans = Solution()\n",
    "ans.setZeroes([[1,1,1],[1,0,1],[1,1,1]])"
   ]
  },
  {
   "cell_type": "code",
   "execution_count": 19,
   "metadata": {},
   "outputs": [],
   "source": [
    "# space O(m*n)\n",
    "class Solution:\n",
    "    def setZeroes(self, matrix: list[list[int]]) -> None:\n",
    "        \"\"\"\n",
    "        Do not return anything, modify matrix in-place instead.\n",
    "        \"\"\"\n",
    "        zero_idx = set()\n",
    "        m, n = len(matrix), len(matrix[0])\n",
    "        for row in range(m):\n",
    "            for col in range(n):\n",
    "                if matrix[row][col] == 0:\n",
    "                    zero_idx.add((row,col))\n",
    "        for r,l in zero_idx:\n",
    "            matrix[r][:] = [0] * n\n",
    "            for i in range(m):\n",
    "                matrix[i][l] = 0\n",
    "ans = Solution()\n",
    "ans.setZeroes([[1,1,1],[1,0,1],[1,1,1]])"
   ]
  }
 ],
 "metadata": {
  "kernelspec": {
   "display_name": "Python 3",
   "language": "python",
   "name": "python3"
  },
  "language_info": {
   "codemirror_mode": {
    "name": "ipython",
    "version": 3
   },
   "file_extension": ".py",
   "mimetype": "text/x-python",
   "name": "python",
   "nbconvert_exporter": "python",
   "pygments_lexer": "ipython3",
   "version": "3.11.2"
  },
  "orig_nbformat": 4
 },
 "nbformat": 4,
 "nbformat_minor": 2
}
