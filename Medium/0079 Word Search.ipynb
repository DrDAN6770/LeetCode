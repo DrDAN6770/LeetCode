{
 "cells": [
  {
   "cell_type": "markdown",
   "metadata": {},
   "source": [
    "# 79. Word Search\n",
    "---\n",
    "https://leetcode.com/problems/word-search/description/?envType=list&envId=rwo58iji"
   ]
  },
  {
   "cell_type": "code",
   "execution_count": 26,
   "metadata": {},
   "outputs": [
    {
     "data": {
      "text/plain": [
       "True"
      ]
     },
     "execution_count": 26,
     "metadata": {},
     "output_type": "execute_result"
    }
   ],
   "source": [
    "# BackTracking t: O(m*n*4^L) s: O(L) L=len(word)\n",
    "from collections import Counter\n",
    "class Solution:\n",
    "    def exist(self, board: list[list[str]], word: str) -> bool:\n",
    "        m, n = len(board), len(board[0])\n",
    "        if len(word) > m * n:\n",
    "            return False\n",
    "        \n",
    "        word_count = Counter(word)\n",
    "        board_count = Counter(sum(board, []))\n",
    "        for key, value in word_count.items():\n",
    "            if key not in board_count or value > board_count[key]:\n",
    "                return False\n",
    "        \n",
    "        # 少的先搜，加快\n",
    "        if board_count[word[0]] > board_count[word[-1]]:\n",
    "            word = word[::-1]\n",
    "        def bt(row, col, idx):\n",
    "            if idx == len(word):\n",
    "                return True\n",
    "            if row < 0 or row >= m or col < 0 or col >= n or board[row][col] != word[idx] or (row, col, idx) in seen:\n",
    "                return False\n",
    "            \n",
    "            seen.add((row, col, idx))\n",
    "            \n",
    "            # mark passed char\n",
    "            temp = board[row][col]\n",
    "            board[row][col] = 'passed'\n",
    "\n",
    "            # top down left right\n",
    "            # 0 or 1 >> 1; 0 and 1 >> 0\n",
    "            # f : bool\n",
    "            f = bt(row + 1, col, idx + 1) or \\\n",
    "                bt(row - 1, col, idx + 1) or \\\n",
    "                bt(row, col - 1, idx + 1) or \\\n",
    "                bt(row, col + 1, idx + 1)\n",
    "            \n",
    "            # rollback\n",
    "            board[row][col] = temp\n",
    "            seen.remove((row, col, idx))\n",
    "            return f\n",
    "        seen = set()\n",
    "        for row in range(m):\n",
    "            for col in range(n):\n",
    "                if bt(row, col, 0):\n",
    "                    return True\n",
    "        return False\n",
    "ans = Solution()\n",
    "ans.exist([[\"A\",\"B\",\"C\",\"E\"],[\"S\",\"F\",\"E\",\"S\"],[\"A\",\"D\",\"E\",\"E\"]], \"ABCESEEEFS\")"
   ]
  },
  {
   "cell_type": "code",
   "execution_count": null,
   "metadata": {},
   "outputs": [],
   "source": [
    "class Solution:\n",
    "    def exist(self, board: list[list[str]], word: str) -> bool:\n",
    "        m, n = len(board), len(board[0])\n",
    "        if len(word) > m * n:\n",
    "            return False\n",
    "        \n",
    "        word_count = Counter(word)\n",
    "        board_count = Counter(sum(board, []))\n",
    "        for key, value in word_count.items():\n",
    "            if key not in board_count or value > board_count[key]:\n",
    "                return False\n",
    "\n",
    "\n",
    "        def bt(row, col, idx):\n",
    "            if idx == len(word):\n",
    "                return True\n",
    "            if row < 0 or row >= m or col < 0 or col >= n or board[row][col] != word[idx]:\n",
    "                return False\n",
    "            # mark passed char\n",
    "            temp = board[row][col]\n",
    "            board[row][col] = 'passed'\n",
    "\n",
    "            # top down left right\n",
    "            # 0 or 1 >> 1; 0 and 1 >> 0\n",
    "            # f : bool\n",
    "            f = bt(row + 1, col, idx + 1) or \\\n",
    "                bt(row - 1, col, idx + 1) or \\\n",
    "                bt(row, col - 1, idx + 1) or \\\n",
    "                bt(row, col + 1, idx + 1)\n",
    "            \n",
    "            # rollback\n",
    "            board[row][col] = temp\n",
    "            return f\n",
    "        for row in range(m):\n",
    "            for col in range(n):\n",
    "                if bt(row, col, 0):\n",
    "                    return True\n",
    "        return False"
   ]
  },
  {
   "cell_type": "code",
   "execution_count": 20,
   "metadata": {},
   "outputs": [
    {
     "data": {
      "text/plain": [
       "False"
      ]
     },
     "execution_count": 20,
     "metadata": {},
     "output_type": "execute_result"
    }
   ],
   "source": [
    "# BackTracking t: O(m*n*4^L) s: O(L) L=len(word)\n",
    "from collections import Counter\n",
    "class Solution:\n",
    "    def exist(self, board: list[list[str]], word: str) -> bool:\n",
    "        m, n = len(board), len(board[0])\n",
    "        if len(word) > m * n:\n",
    "            return False\n",
    "        \n",
    "        word_count = Counter(word)\n",
    "        board_count = Counter(sum(board, []))\n",
    "        for key, value in word_count.items():\n",
    "            if key not in board_count or value > board_count[key]:\n",
    "                return False\n",
    "            \n",
    "        def bt(row, col, idx):\n",
    "            if idx == len(word):\n",
    "                return True\n",
    "            if row < 0 or row >= m or col < 0 or col >= n or board[row][col] != word[idx]:\n",
    "                return False\n",
    "            \n",
    "            # top down left right\n",
    "            which_way = [(1, 0), (-1, 0), (0, -1), (0, 1)]\n",
    "            for x, y in which_way:\n",
    "                # mark passed char\n",
    "                temp = board[row][col]\n",
    "                board[row][col] = 'passed'\n",
    "                if bt(row + x, col + y, idx + 1):\n",
    "                    return True\n",
    "                # rollback\n",
    "                board[row][col] = temp\n",
    "        for row in range(m):\n",
    "            for col in range(n):\n",
    "                if bt(row, col, 0):\n",
    "                    return True\n",
    "        return False\n",
    "ans = Solution()\n",
    "ans.exist([[\"A\",\"B\",\"C\",\"E\"],[\"S\",\"F\",\"C\",\"S\"],[\"A\",\"D\",\"E\",\"E\"]], \"ABCB\")"
   ]
  }
 ],
 "metadata": {
  "kernelspec": {
   "display_name": "Python 3",
   "language": "python",
   "name": "python3"
  },
  "language_info": {
   "codemirror_mode": {
    "name": "ipython",
    "version": 3
   },
   "file_extension": ".py",
   "mimetype": "text/x-python",
   "name": "python",
   "nbconvert_exporter": "python",
   "pygments_lexer": "ipython3",
   "version": "3.11.2"
  },
  "orig_nbformat": 4
 },
 "nbformat": 4,
 "nbformat_minor": 2
}
