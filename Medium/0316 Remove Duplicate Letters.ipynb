{
 "cells": [
  {
   "cell_type": "markdown",
   "metadata": {},
   "source": [
    "# 316. Remove Duplicate Letters\n",
    "---\n",
    "https://leetcode.com/problems/remove-duplicate-letters/"
   ]
  },
  {
   "cell_type": "code",
   "execution_count": 13,
   "metadata": {},
   "outputs": [
    {
     "data": {
      "text/plain": [
       "'acdb'"
      ]
     },
     "execution_count": 13,
     "metadata": {},
     "output_type": "execute_result"
    }
   ],
   "source": [
    "# Moinotonic Stack Greedy O(n) O(n)\n",
    "class Solution:\n",
    "    def removeDuplicateLetters(self, s: str) -> str:\n",
    "        last_idx = {v : i for i, v in enumerate(s)}\n",
    "        stack = []\n",
    "        seen = set()\n",
    "        res = ''\n",
    "        for i, v in enumerate(s):\n",
    "            if v not in seen:\n",
    "                while stack and stack[-1] >= v and last_idx[stack[-1]] > i:\n",
    "                    seen.remove(stack.pop())\n",
    "                seen.add(v)\n",
    "                stack.append(v)\n",
    "        return res.join(stack)\n",
    "ans = Solution()\n",
    "ans.removeDuplicateLetters(\"cbacdcbc\")"
   ]
  }
 ],
 "metadata": {
  "kernelspec": {
   "display_name": "Python 3",
   "language": "python",
   "name": "python3"
  },
  "language_info": {
   "codemirror_mode": {
    "name": "ipython",
    "version": 3
   },
   "file_extension": ".py",
   "mimetype": "text/x-python",
   "name": "python",
   "nbconvert_exporter": "python",
   "pygments_lexer": "ipython3",
   "version": "3.11.2"
  },
  "orig_nbformat": 4
 },
 "nbformat": 4,
 "nbformat_minor": 2
}
