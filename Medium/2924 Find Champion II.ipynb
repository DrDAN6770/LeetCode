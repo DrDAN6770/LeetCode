{
 "cells": [
  {
   "cell_type": "markdown",
   "metadata": {},
   "source": [
    "# 2924. Find Champion II\n",
    "---\n",
    "https://leetcode.com/problems/find-champion-ii/"
   ]
  },
  {
   "cell_type": "code",
   "execution_count": 1,
   "metadata": {},
   "outputs": [
    {
     "data": {
      "text/plain": [
       "-1"
      ]
     },
     "execution_count": 1,
     "metadata": {},
     "output_type": "execute_result"
    }
   ],
   "source": [
    "# O(n) O(n)\n",
    "class Solution:\n",
    "    def findChampion(self, n: int, edges: list[list[int]]) -> int:\n",
    "        lose = [1] * n\n",
    "        for _, l in edges:\n",
    "            lose[l] = 0\n",
    "        \n",
    "        counts_win = 0\n",
    "        for i,v in enumerate(lose):\n",
    "            if v == 1:\n",
    "                counts_win += 1\n",
    "                winner = i\n",
    "            if counts_win >= 2:\n",
    "                return -1\n",
    "        return winner\n",
    "ans = Solution()\n",
    "ans.findChampion(4, [[0,2],[1,3],[1,2]])     "
   ]
  }
 ],
 "metadata": {
  "kernelspec": {
   "display_name": "Python 3",
   "language": "python",
   "name": "python3"
  },
  "language_info": {
   "codemirror_mode": {
    "name": "ipython",
    "version": 3
   },
   "file_extension": ".py",
   "mimetype": "text/x-python",
   "name": "python",
   "nbconvert_exporter": "python",
   "pygments_lexer": "ipython3",
   "version": "3.11.2"
  }
 },
 "nbformat": 4,
 "nbformat_minor": 2
}
