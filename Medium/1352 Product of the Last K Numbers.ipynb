{
 "cells": [
  {
   "cell_type": "markdown",
   "metadata": {},
   "source": [
    "# 1352. Product of the Last K Numbers\n",
    "---\n",
    "https://leetcode.com/problems/product-of-the-last-k-numbers/description/"
   ]
  },
  {
   "cell_type": "code",
   "execution_count": 3,
   "metadata": {},
   "outputs": [
    {
     "name": "stdout",
     "output_type": "stream",
     "text": [
      "20\n",
      "40\n",
      "0\n",
      "32\n"
     ]
    }
   ],
   "source": [
    "# Prefix O(1) O(n)\n",
    "class ProductOfNumbers:\n",
    "    def __init__(self):\n",
    "        self.lst = []\n",
    "    def add(self, num: int) -> None:\n",
    "        if num == 0:\n",
    "            self.lst = []\n",
    "        else:\n",
    "            self.lst.append(num if not self.lst else self.lst[-1] * num)\n",
    "    def getProduct(self, k: int) -> int:\n",
    "        n = len(self.lst)\n",
    "        if k > n:\n",
    "            return 0\n",
    "        elif k == n:\n",
    "            return self.lst[-1]\n",
    "        else:\n",
    "            return self.lst[-1] // self.lst[n-k-1]\n",
    "\n",
    "res = ProductOfNumbers()\n",
    "res.add(3)\n",
    "res.add(0)\n",
    "res.add(2)\n",
    "res.add(5)\n",
    "res.add(4)\n",
    "print(res.getProduct(2))\n",
    "print(res.getProduct(3))\n",
    "print(res.getProduct(4))\n",
    "res.add(8)\n",
    "print(res.getProduct(2))"
   ]
  }
 ],
 "metadata": {
  "kernelspec": {
   "display_name": "Python 3",
   "language": "python",
   "name": "python3"
  },
  "language_info": {
   "codemirror_mode": {
    "name": "ipython",
    "version": 3
   },
   "file_extension": ".py",
   "mimetype": "text/x-python",
   "name": "python",
   "nbconvert_exporter": "python",
   "pygments_lexer": "ipython3",
   "version": "3.11.2"
  },
  "orig_nbformat": 4
 },
 "nbformat": 4,
 "nbformat_minor": 2
}
