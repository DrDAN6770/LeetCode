{
 "cells": [
  {
   "cell_type": "markdown",
   "metadata": {},
   "source": [
    "# 2391. Minimum Amount of Time to Collect Garbage\n",
    "---\n",
    "https://leetcode.com/problems/minimum-amount-of-time-to-collect-garbage/description/"
   ]
  },
  {
   "cell_type": "code",
   "execution_count": 1,
   "metadata": {},
   "outputs": [
    {
     "data": {
      "text/plain": [
       "37"
      ]
     },
     "execution_count": 1,
     "metadata": {},
     "output_type": "execute_result"
    }
   ],
   "source": [
    "# O(n*k) O(1) k : longest string + hash\n",
    "from collections import defaultdict\n",
    "class Solution:\n",
    "    def garbageCollection(self, garbage: list[str], travel: list[int]) -> int:\n",
    "        res = 0\n",
    "        garbage_cnt = 0\n",
    "        garbage_table = defaultdict(int)\n",
    "\n",
    "        for i in range(1, len(travel)):\n",
    "            travel[i] += travel[i-1]\n",
    "\n",
    "        for idx, house in enumerate(garbage):\n",
    "            garbage_cnt += len(house)\n",
    "            for item in house:\n",
    "                garbage_table[item] = idx\n",
    "        \n",
    "        res += garbage_cnt\n",
    "        res += travel[garbage_table['M']-1] if garbage_table['M'] != 0 else 0\n",
    "        res += travel[garbage_table['P']-1] if garbage_table['P'] != 0 else 0\n",
    "        res += travel[garbage_table['G']-1] if garbage_table['G'] != 0 else 0\n",
    "\n",
    "        return res\n",
    "ans = Solution()\n",
    "ans.garbageCollection([\"MMM\",\"PGM\",\"GP\"], [3,10])"
   ]
  }
 ],
 "metadata": {
  "kernelspec": {
   "display_name": "Python 3",
   "language": "python",
   "name": "python3"
  },
  "language_info": {
   "codemirror_mode": {
    "name": "ipython",
    "version": 3
   },
   "file_extension": ".py",
   "mimetype": "text/x-python",
   "name": "python",
   "nbconvert_exporter": "python",
   "pygments_lexer": "ipython3",
   "version": "3.11.2"
  }
 },
 "nbformat": 4,
 "nbformat_minor": 2
}
