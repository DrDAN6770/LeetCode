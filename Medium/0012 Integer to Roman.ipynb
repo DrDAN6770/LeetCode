{
 "cells": [
  {
   "cell_type": "markdown",
   "metadata": {},
   "source": [
    "# 12. Integer to Roman\n",
    "---\n",
    "https://leetcode.com/problems/integer-to-roman/description/"
   ]
  },
  {
   "cell_type": "code",
   "execution_count": 1,
   "metadata": {},
   "outputs": [
    {
     "data": {
      "text/plain": [
       "'MM'"
      ]
     },
     "execution_count": 1,
     "metadata": {},
     "output_type": "execute_result"
    }
   ],
   "source": [
    "class Solution:\n",
    "    def intToRoman(self, num: int) -> str:\n",
    "        roman = {\n",
    "            1000:'M',\n",
    "            900:'CM',\n",
    "            500:'D',\n",
    "            400:'CD',\n",
    "            100:'C',\n",
    "            90:'XC',\n",
    "            50:'L',\n",
    "            40:'XL',\n",
    "            10:'X',\n",
    "            9:'IX',\n",
    "            5:'V',\n",
    "            4:'IV',\n",
    "            1:'I'             \n",
    "        }\n",
    "        res = ''\n",
    "        for n in roman.keys():\n",
    "            while n <= num:\n",
    "                res += roman[n]\n",
    "                num -= n\n",
    "        return res\n",
    "ans = Solution()\n",
    "ans.intToRoman(2000)"
   ]
  }
 ],
 "metadata": {
  "kernelspec": {
   "display_name": "Python 3",
   "language": "python",
   "name": "python3"
  },
  "language_info": {
   "codemirror_mode": {
    "name": "ipython",
    "version": 3
   },
   "file_extension": ".py",
   "mimetype": "text/x-python",
   "name": "python",
   "nbconvert_exporter": "python",
   "pygments_lexer": "ipython3",
   "version": "3.11.2"
  },
  "orig_nbformat": 4
 },
 "nbformat": 4,
 "nbformat_minor": 2
}
