{
 "cells": [
  {
   "cell_type": "markdown",
   "metadata": {},
   "source": [
    "# 229. Majority Element II\n",
    "---\n",
    "https://leetcode.com/problems/majority-element-ii/description/"
   ]
  },
  {
   "cell_type": "code",
   "execution_count": 2,
   "metadata": {},
   "outputs": [
    {
     "data": {
      "text/plain": [
       "[9, 6]"
      ]
     },
     "execution_count": 2,
     "metadata": {},
     "output_type": "execute_result"
    }
   ],
   "source": [
    "# Moore’s Voting Algorithm\n",
    "# O(n) O(1)\n",
    "class Solution:\n",
    "    def majorityElement(self, nums: list[int]) -> list[int]:\n",
    "        candidate1 = candidate2 = 0\n",
    "        count1 = count2 = 0\n",
    "        res = []\n",
    "\n",
    "        for num in nums:\n",
    "            if candidate1 == num:\n",
    "                count1 += 1\n",
    "            elif candidate2 == num:\n",
    "                count2 += 1\n",
    "            elif count1 == 0:\n",
    "                candidate1 = num\n",
    "                count1 = 1\n",
    "            elif count2 == 0:\n",
    "                candidate2 = num\n",
    "                count2 = 1\n",
    "            else:\n",
    "                count1 -= 1\n",
    "                count2 -= 1\n",
    "        \n",
    "        count1 = count2 = 0\n",
    "        for num in nums:\n",
    "            if num == candidate1:\n",
    "                count1 += 1\n",
    "            elif num == candidate2:\n",
    "                count2 += 1\n",
    "        \n",
    "        if count1 > len(nums) // 3:\n",
    "            res.append(candidate1)\n",
    "        if count2 > len(nums) // 3:\n",
    "            res.append(candidate2)\n",
    "\n",
    "        return res\n",
    "ans = Solution()\n",
    "ans.majorityElement([9,9,9,6,6,6,1,1])"
   ]
  },
  {
   "cell_type": "code",
   "execution_count": 3,
   "metadata": {},
   "outputs": [
    {
     "data": {
      "text/plain": [
       "[9, 6]"
      ]
     },
     "execution_count": 3,
     "metadata": {},
     "output_type": "execute_result"
    }
   ],
   "source": [
    "# O(n) O(n)\n",
    "from collections import Counter\n",
    "class Solution:\n",
    "    def majorityElement(self, nums: list[int]) -> list[int]:\n",
    "        return [key for key, value in Counter(nums).items() if value > len(nums) // 3]  \n",
    "ans = Solution()\n",
    "ans.majorityElement([9,9,9,6,6,6,1,1])"
   ]
  }
 ],
 "metadata": {
  "kernelspec": {
   "display_name": "Python 3",
   "language": "python",
   "name": "python3"
  },
  "language_info": {
   "codemirror_mode": {
    "name": "ipython",
    "version": 3
   },
   "file_extension": ".py",
   "mimetype": "text/x-python",
   "name": "python",
   "nbconvert_exporter": "python",
   "pygments_lexer": "ipython3",
   "version": "3.11.2"
  },
  "orig_nbformat": 4
 },
 "nbformat": 4,
 "nbformat_minor": 2
}
