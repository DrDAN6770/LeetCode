{
 "cells": [
  {
   "cell_type": "markdown",
   "metadata": {},
   "source": [
    "# 343. Integer Break\n",
    "---\n",
    "https://leetcode.com/problems/integer-break/"
   ]
  },
  {
   "cell_type": "code",
   "execution_count": 1,
   "metadata": {},
   "outputs": [
    {
     "data": {
      "text/plain": [
       "6"
      ]
     },
     "execution_count": 1,
     "metadata": {},
     "output_type": "execute_result"
    }
   ],
   "source": [
    "# Math O(1) O(1)\n",
    "class Solution:\n",
    "    def integerBreak(self, n: int) -> int:\n",
    "        if n <= 3:\n",
    "            return n-1\n",
    "        \n",
    "        remain = n % 3\n",
    "        if remain == 0:\n",
    "            return 3 ** (n // 3)\n",
    "        # ex : 4 拆成 2*2 會比 1*1*3 大 (拆2個 > 拆3個)\n",
    "        elif remain == 1:\n",
    "            return 3 ** (n // 3 - 1) * 4\n",
    "        # ex : 5 拆 3 * n/3 + 2 比其他好\n",
    "        else:\n",
    "            return 3 ** (n // 3) * 2\n",
    "ans = Solution()\n",
    "ans.integerBreak(5)"
   ]
  },
  {
   "cell_type": "code",
   "execution_count": 3,
   "metadata": {},
   "outputs": [
    {
     "data": {
      "text/plain": [
       "36"
      ]
     },
     "execution_count": 3,
     "metadata": {},
     "output_type": "execute_result"
    }
   ],
   "source": [
    "# Math O(n) O(1)\n",
    "# dp = [1,1,2,4,6,9,12,18,27,36,54,81]\n",
    "# n  =  1 2 3 4 5 6  7  8  9 10 11 12\n",
    "# n4之前答案<n , n4=4, 後面都是3的倍數\n",
    "class Solution:\n",
    "    def integerBreak(self, n: int) -> int:\n",
    "        if n <= 3:\n",
    "            return n-1\n",
    "        res = 1\n",
    "        while n > 4:\n",
    "            res *= 3\n",
    "            n -= 3\n",
    "        return res * n\n",
    "ans = Solution()\n",
    "ans.integerBreak(10)"
   ]
  },
  {
   "cell_type": "code",
   "execution_count": 4,
   "metadata": {},
   "outputs": [
    {
     "data": {
      "text/plain": [
       "12"
      ]
     },
     "execution_count": 4,
     "metadata": {},
     "output_type": "execute_result"
    }
   ],
   "source": [
    "# DP O(n2) O(n)\n",
    "class Solution:\n",
    "    def integerBreak(self, n: int) -> int:\n",
    "        if n <= 3:\n",
    "            return n-1\n",
    "        \n",
    "        dp = [0] * (n+1)\n",
    "        for i in range(4, n+1):\n",
    "            for j in range(1, i//2 + 1):\n",
    "                dp[i] = max(dp[i], j * (i-j), j * dp[i-j])\n",
    "        return dp[n]\n",
    "ans = Solution()\n",
    "ans.integerBreak(7)"
   ]
  }
 ],
 "metadata": {
  "kernelspec": {
   "display_name": "Python 3",
   "language": "python",
   "name": "python3"
  },
  "language_info": {
   "codemirror_mode": {
    "name": "ipython",
    "version": 3
   },
   "file_extension": ".py",
   "mimetype": "text/x-python",
   "name": "python",
   "nbconvert_exporter": "python",
   "pygments_lexer": "ipython3",
   "version": "3.11.2"
  },
  "orig_nbformat": 4
 },
 "nbformat": 4,
 "nbformat_minor": 2
}
