{
 "cells": [
  {
   "cell_type": "markdown",
   "metadata": {},
   "source": [
    "# 486. Predict the Winner\n",
    "---\n",
    "https://leetcode.com/problems/predict-the-winner/"
   ]
  },
  {
   "cell_type": "code",
   "execution_count": 48,
   "metadata": {},
   "outputs": [
    {
     "data": {
      "text/plain": [
       "False"
      ]
     },
     "execution_count": 48,
     "metadata": {},
     "output_type": "execute_result"
    }
   ],
   "source": [
    "# 給一個list, 參賽者1先選再換餐賽者2，每次只能選頭或尾\n",
    "# 但題目有說每個選手都會以最高分為考量 >> 不能用隨機選擇(random.choice)\n",
    "# 解釋scorel\n",
    "'''\n",
    "[1, 5, 3]\n",
    "p1 選1\n",
    "p2 剩選擇5或3 >> 如果選5 >> p1剩3能選\n",
    "            >> 如果選3 >> p1剩5能選\n",
    "相對來說下一次p1只能選3 or 5, >> 但p2一定會選走大的 >>所以min(3,5)才是p1能選到的\n",
    "'''\n",
    "class Solution:\n",
    "    def PredictTheWinner(self, nums: list[int]) -> bool:\n",
    "        if len(nums) <= 2:\n",
    "            return True\n",
    "\n",
    "        def max_score(l, r):\n",
    "            if l > r:\n",
    "                return 0\n",
    "            if l == r:\n",
    "                return nums[l]\n",
    "            \n",
    "            #        p1選左1    p2選左2所以p1剩左3~右1能選    p2選右1所以p1剩左2~右2能選\n",
    "            scorel = nums[l] + min(max_score(l + 2, r), max_score(l + 1, r - 1))\n",
    "\n",
    "            #        p1選右1    p2選右2所以p1剩左1~右3能選    p2選左1所以p1剩左2~右2能選\n",
    "            scorer = nums[r] + min(max_score(l, r - 2), max_score(l + 1, r - 1))\n",
    "            \n",
    "            return max(scorel, scorer)\n",
    "        \n",
    "        p1s = max_score(0, len(nums) - 1)\n",
    "        p2s = sum(nums) - p1s\n",
    "        return p1s >= p2s\n",
    "ans = Solution()\n",
    "ans.PredictTheWinner([0,5,3])"
   ]
  },
  {
   "cell_type": "code",
   "execution_count": 49,
   "metadata": {},
   "outputs": [
    {
     "data": {
      "text/plain": [
       "False"
      ]
     },
     "execution_count": 49,
     "metadata": {},
     "output_type": "execute_result"
    }
   ],
   "source": [
    "# DP\n",
    "class Solution:\n",
    "    def PredictTheWinner(self, nums: list[int]) -> bool:\n",
    "        if len(nums) <= 2:\n",
    "            return True\n",
    "\n",
    "        def max_score(l, r):\n",
    "            if l > r:\n",
    "                return 0\n",
    "            if (l, r) in seen:\n",
    "                return seen[l, r]\n",
    "            #        p1選左1    p2選左2所以p1剩左3~右1能選    p2選右1所以p1剩左2~右2能選\n",
    "            scorel = nums[l] + min(max_score(l + 2, r), max_score(l + 1, r - 1))\n",
    "\n",
    "            #        p1選右1    p2選右2所以p1剩左1~右3能選    p2選左1所以p1剩左2~右2能選\n",
    "            scorer = nums[r] + min(max_score(l, r - 2), max_score(l + 1, r - 1))\n",
    "            \n",
    "            s = max(scorel, scorer)\n",
    "            seen[l, r] = s\n",
    "            return s\n",
    "        seen = {}\n",
    "        p1s = max_score(0, len(nums) - 1)\n",
    "        p2s = sum(nums) - p1s\n",
    "        return p1s >= p2s\n",
    "ans = Solution()\n",
    "ans.PredictTheWinner([0,5,3])"
   ]
  },
  {
   "cell_type": "code",
   "execution_count": 77,
   "metadata": {},
   "outputs": [
    {
     "data": {
      "text/plain": [
       "False"
      ]
     },
     "execution_count": 77,
     "metadata": {},
     "output_type": "execute_result"
    }
   ],
   "source": [
    "# DP\n",
    "'''\n",
    "[1 5 3]\n",
    "每個位置代表該範圍的lis中p1-p2\n",
    "所以要找最頂端最右邊的那個數字\n",
    "1  4 -1\n",
    "0  5  2\n",
    "0  0  3\n",
    "'''\n",
    "class Solution:\n",
    "    def PredictTheWinner(self, nums: list[int]) -> bool:\n",
    "        n = len(nums)\n",
    "        dp = [[0] * n for _ in range(n)]\n",
    "\n",
    "        for i in range(n):\n",
    "            dp[i][i] = nums[i]\n",
    "\n",
    "        # length : 左右差距 1 ~ n-1\n",
    "        for length in range(1, n):\n",
    "            for left in range(n - length):\n",
    "                right = left + length\n",
    "                dp[left][right] = max(nums[left] - dp[left + 1][right], nums[right] - dp[left][right - 1])\n",
    "        return dp[0][-1] >= 0\n",
    "\n",
    "ans = Solution()\n",
    "ans.PredictTheWinner([1,5,3])"
   ]
  }
 ],
 "metadata": {
  "kernelspec": {
   "display_name": "Python 3",
   "language": "python",
   "name": "python3"
  },
  "language_info": {
   "codemirror_mode": {
    "name": "ipython",
    "version": 3
   },
   "file_extension": ".py",
   "mimetype": "text/x-python",
   "name": "python",
   "nbconvert_exporter": "python",
   "pygments_lexer": "ipython3",
   "version": "3.11.2"
  },
  "orig_nbformat": 4
 },
 "nbformat": 4,
 "nbformat_minor": 2
}
