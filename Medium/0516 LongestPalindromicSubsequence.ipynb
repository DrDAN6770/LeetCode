{
  "nbformat": 4,
  "nbformat_minor": 0,
  "metadata": {
    "colab": {
      "provenance": [],
      "authorship_tag": "ABX9TyMW9AVvpNeywLn68TDDgwRH",
      "include_colab_link": true
    },
    "kernelspec": {
      "name": "python3",
      "display_name": "Python 3"
    },
    "language_info": {
      "name": "python"
    }
  },
  "cells": [
    {
      "cell_type": "markdown",
      "metadata": {
        "id": "view-in-github",
        "colab_type": "text"
      },
      "source": [
        "<a href=\"https://colab.research.google.com/github/DrDAN6770/LeetCode/blob/main/Medium/0516_Longest_Palindromic_Subsequence.ipynb\" target=\"_parent\"><img src=\"https://colab.research.google.com/assets/colab-badge.svg\" alt=\"Open In Colab\"/></a>"
      ]
    },
    {
      "cell_type": "markdown",
      "source": [
        "#516. Longest Palindromic Subsequence\n",
        "\n",
        "---\n",
        "https://leetcode.com/problems/longest-palindromic-subsequence/\n"
      ],
      "metadata": {
        "id": "txF4Nq-ugqB4"
      }
    },
    {
      "cell_type": "code",
      "execution_count": 1,
      "metadata": {
        "id": "q0E30xPAgccI"
      },
      "outputs": [],
      "source": [
        "class Solution:\n",
        "    def longestPalindromeSubseq(self, s: str) -> int:\n",
        "        \n",
        "        def lrp(l,r):\n",
        "            if (l,r) in seen:\n",
        "                return seen[(l,r)]\n",
        "            \n",
        "            if l > r : #空的\n",
        "                return 0    \n",
        "            \n",
        "            if l == r : #同字\n",
        "                return 1\n",
        "            \n",
        "            if s[l] == s[r]: #至少相等兩個字，去掉頭尾在遞迴\n",
        "                seen[(l,r)] = lrp(l + 1,r - 1) + 2\n",
        "\n",
        "            else:   #不同字，去頭或去尾再遞迴，找最大的迴文長度\n",
        "                seen[(l,r)] = max(lrp(l + 1,r),lrp(l,r - 1))\n",
        "            \n",
        "            return seen[(l,r)]\n",
        "\n",
        "        #build  dict {(left_index,right_index):len}\n",
        "        seen = {}\n",
        "        return lrp(0,len(s)-1)"
      ]
    },
    {
      "cell_type": "code",
      "source": [
        "s = 'bbbab'\n",
        "result = Solution()\n",
        "result.longestPalindromeSubseq(s)"
      ],
      "metadata": {
        "colab": {
          "base_uri": "https://localhost:8080/"
        },
        "id": "FpBZUWR1gvxk",
        "outputId": "bfa09718-97c9-422f-bd3c-f1a8a12af1aa"
      },
      "execution_count": 3,
      "outputs": [
        {
          "output_type": "execute_result",
          "data": {
            "text/plain": [
              "4"
            ]
          },
          "metadata": {},
          "execution_count": 3
        }
      ]
    }
  ]
}
