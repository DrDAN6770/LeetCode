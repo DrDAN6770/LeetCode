{
 "cells": [
  {
   "cell_type": "markdown",
   "metadata": {},
   "source": [
    "# 808. Soup Servings\n",
    "---\n",
    "https://leetcode.com/problems/soup-servings/"
   ]
  },
  {
   "cell_type": "markdown",
   "metadata": {},
   "source": [
    "求a先用完的機率"
   ]
  },
  {
   "cell_type": "code",
   "execution_count": 29,
   "metadata": {},
   "outputs": [
    {
     "data": {
      "text/plain": [
       "0.796875"
      ]
     },
     "execution_count": 29,
     "metadata": {},
     "output_type": "execute_result"
    }
   ],
   "source": [
    "import math\n",
    "class Solution:\n",
    "    def soupServings(self, n: int) -> float:\n",
    "        if n >= 4451:\n",
    "             return 1.0\n",
    "\n",
    "        def dp(a, b):\n",
    "            if (a, b) in seen:\n",
    "                return seen[a, b]\n",
    "            if a <= 0 and b <= 0:\n",
    "                return 0.5\n",
    "            if a <= 0:\n",
    "                return 1.0\n",
    "            if b <= 0:\n",
    "                return 0.0\n",
    "            seen[a, b] = 0.25 * (dp(max(0, a - 4), max(0, b)) + \\\n",
    "                                 dp(max(0, a - 3), max(0, b - 1)) + \\\n",
    "                                 dp(max(0, a - 2), max(0, b - 2)) + \\\n",
    "                                 dp(max(0, a - 1), max(0, b - 3)))\n",
    "            return seen[a, b]\n",
    "        cnt = math.ceil(n / 25)\n",
    "        seen = {}\n",
    "        return dp(cnt, cnt)\n",
    "    \n",
    "    def bslimit(self, l, r, error):\n",
    "        while l <= r:\n",
    "            m = l + (r - l) // 2\n",
    "            res = self.soupServings(m)\n",
    "            if abs(res - 1) <= error:\n",
    "                r = m - 1\n",
    "            else:\n",
    "                l = m + 1\n",
    "        return l\n",
    "    \n",
    "ans = Solution()\n",
    "ans.soupServings(200)\n",
    "# ans.bslimit(3000, 5000, 10**(-5)) # 4451"
   ]
  }
 ],
 "metadata": {
  "kernelspec": {
   "display_name": "Python 3",
   "language": "python",
   "name": "python3"
  },
  "language_info": {
   "codemirror_mode": {
    "name": "ipython",
    "version": 3
   },
   "file_extension": ".py",
   "mimetype": "text/x-python",
   "name": "python",
   "nbconvert_exporter": "python",
   "pygments_lexer": "ipython3",
   "version": "3.11.2"
  },
  "orig_nbformat": 4
 },
 "nbformat": 4,
 "nbformat_minor": 2
}
