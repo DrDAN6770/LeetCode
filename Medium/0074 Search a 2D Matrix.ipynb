{
 "cells": [
  {
   "cell_type": "markdown",
   "metadata": {},
   "source": [
    "# 74. Search a 2D Matrix\n",
    "---\n",
    "https://leetcode.com/problems/search-a-2d-matrix/"
   ]
  },
  {
   "cell_type": "code",
   "execution_count": 41,
   "metadata": {},
   "outputs": [
    {
     "data": {
      "text/plain": [
       "False"
      ]
     },
     "execution_count": 41,
     "metadata": {},
     "output_type": "execute_result"
    }
   ],
   "source": [
    "# O(logmn)\n",
    "class Solution:\n",
    "    def searchMatrix(self, matrix: list[list[int]], target: int) -> bool:\n",
    "        m = len(matrix)\n",
    "        n = len(matrix[0])\n",
    "        l = 0\n",
    "        r = m * n - 1\n",
    "        while l <= r:\n",
    "            m = l + (r - l) // 2\n",
    "            # m_row, m_col = m // n, m % n\n",
    "            # 同上功能\n",
    "            m_row, m_col = divmod(m, n)\n",
    "            if matrix[m_row][m_col] == target:\n",
    "                return True\n",
    "            elif matrix[m_row][m_col] > target:\n",
    "                r = m - 1\n",
    "            else:\n",
    "                l = m + 1\n",
    "        return False\n",
    "ans = Solution()\n",
    "ans.searchMatrix([[1,3,5,7],[10,11,16,20],[23,30,34,60]], 9)"
   ]
  },
  {
   "cell_type": "code",
   "execution_count": 39,
   "metadata": {},
   "outputs": [
    {
     "data": {
      "text/plain": [
       "False"
      ]
     },
     "execution_count": 39,
     "metadata": {},
     "output_type": "execute_result"
    }
   ],
   "source": [
    "# O(m + logn)\n",
    "class Solution:\n",
    "    def searchMatrix(self, matrix: list[list[int]], target: int) -> bool:\n",
    "        m = len(matrix)\n",
    "        n = len(matrix[0])\n",
    "        for row in range(m):\n",
    "            if matrix[row][-1] < target:\n",
    "                continue\n",
    "            elif matrix[row][0] > target:\n",
    "                break\n",
    "            l = 0\n",
    "            r = n - 1\n",
    "            while l <= r:\n",
    "                m = l + (r - l) // 2\n",
    "                if matrix[row][m] == target:\n",
    "                    return True\n",
    "                if matrix[row][m] > target:\n",
    "                    r = m - 1\n",
    "                else:\n",
    "                    l = m + 1\n",
    "        return False\n",
    "ans = Solution()\n",
    "ans.searchMatrix([[1,3,5,7],[10,11,16,20],[23,30,34,60]], 9)"
   ]
  },
  {
   "cell_type": "code",
   "execution_count": 34,
   "metadata": {},
   "outputs": [
    {
     "data": {
      "text/plain": [
       "[1, 3, 5, 7, 10, 11, 16, 20, 23, 30, 34, 60]"
      ]
     },
     "execution_count": 34,
     "metadata": {},
     "output_type": "execute_result"
    }
   ],
   "source": [
    "a = [[1,3,5,7],[10,11,16,20],[23,30,34,60]]\n",
    "[i for sublist in a for i in sublist]"
   ]
  }
 ],
 "metadata": {
  "kernelspec": {
   "display_name": "Python 3",
   "language": "python",
   "name": "python3"
  },
  "language_info": {
   "codemirror_mode": {
    "name": "ipython",
    "version": 3
   },
   "file_extension": ".py",
   "mimetype": "text/x-python",
   "name": "python",
   "nbconvert_exporter": "python",
   "pygments_lexer": "ipython3",
   "version": "3.11.2"
  },
  "orig_nbformat": 4
 },
 "nbformat": 4,
 "nbformat_minor": 2
}
