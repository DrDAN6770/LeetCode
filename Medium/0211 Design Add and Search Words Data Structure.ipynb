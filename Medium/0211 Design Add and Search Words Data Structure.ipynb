{
 "cells": [
  {
   "cell_type": "markdown",
   "metadata": {},
   "source": [
    "# 211. Design Add and Search Words Data Structure\n",
    "---\n",
    "https://leetcode.com/problems/design-add-and-search-words-data-structure/"
   ]
  },
  {
   "cell_type": "code",
   "execution_count": 53,
   "metadata": {},
   "outputs": [
    {
     "data": {
      "text/plain": [
       "False"
      ]
     },
     "execution_count": 53,
     "metadata": {},
     "output_type": "execute_result"
    }
   ],
   "source": [
    "class WordDictionary:\n",
    "    def __init__(self):\n",
    "        self.wd = {}\n",
    "\n",
    "    def addWord(self, word: str) -> None:\n",
    "        temp = self.wd\n",
    "        for c in word:\n",
    "            if c not in temp:\n",
    "                temp[c] = {}\n",
    "            temp = temp[c]\n",
    "        temp['*'] = {}\n",
    "    def search(self, word: str) -> bool:\n",
    "        nodes = [self.wd]\n",
    "\n",
    "        for c in word + '*':\n",
    "            newnodes = []\n",
    "            for node in nodes:\n",
    "                # 列出所有.之後的可能\n",
    "                if c == '.':\n",
    "                    newnodes += [v for v in node.values()]\n",
    "                \n",
    "                # 該字存在\n",
    "                elif c in node:\n",
    "                    newnodes.append(node[c])\n",
    "            \n",
    "            # 不存在該字\n",
    "            if not newnodes:\n",
    "                return False\n",
    "            \n",
    "            # 更新\n",
    "            nodes = newnodes\n",
    "        return True\n",
    "ans = WordDictionary()\n",
    "words = ['a']\n",
    "for w in words:\n",
    "    ans.addWord(w)\n",
    "ans.search('a.')"
   ]
  },
  {
   "cell_type": "code",
   "execution_count": 57,
   "metadata": {},
   "outputs": [
    {
     "data": {
      "text/plain": [
       "True"
      ]
     },
     "execution_count": 57,
     "metadata": {},
     "output_type": "execute_result"
    }
   ],
   "source": [
    "class WordDictionary:\n",
    "    def __init__(self):\n",
    "        self.wd = {}\n",
    "\n",
    "    def addWord(self, word: str) -> None:\n",
    "        temp = self.wd\n",
    "        for c in word:\n",
    "            if c not in temp:\n",
    "                temp[c] = {}\n",
    "            temp = temp[c]\n",
    "        temp['*'] = {}\n",
    "    def search(self, word: str) -> bool:\n",
    "        return self.dfs(0, self.wd, word)\n",
    "    \n",
    "    def dfs(self, idx, nodes, word):\n",
    "        # 掃到尾了\n",
    "        if idx == len(word):\n",
    "            return '*' in nodes\n",
    "        \n",
    "        # 遇到.\n",
    "        if word[idx] == '.':\n",
    "            for v in nodes.values():\n",
    "                if self.dfs(idx + 1, v, word):\n",
    "                    return True\n",
    "            return False\n",
    "\n",
    "        # 非.\n",
    "        return word[idx] in nodes and self.dfs(idx + 1, nodes[word[idx]], word)\n",
    "\n",
    "ans = WordDictionary()\n",
    "words = ['bad', 'pad', 'bed', 'mad']\n",
    "for w in words:\n",
    "    ans.addWord(w)\n",
    "ans.search('b.d')"
   ]
  }
 ],
 "metadata": {
  "kernelspec": {
   "display_name": "Python 3",
   "language": "python",
   "name": "python3"
  },
  "language_info": {
   "codemirror_mode": {
    "name": "ipython",
    "version": 3
   },
   "file_extension": ".py",
   "mimetype": "text/x-python",
   "name": "python",
   "nbconvert_exporter": "python",
   "pygments_lexer": "ipython3",
   "version": "3.11.2"
  },
  "orig_nbformat": 4
 },
 "nbformat": 4,
 "nbformat_minor": 2
}
