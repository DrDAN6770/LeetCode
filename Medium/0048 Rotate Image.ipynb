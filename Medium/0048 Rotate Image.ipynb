{
 "cells": [
  {
   "cell_type": "markdown",
   "metadata": {},
   "source": [
    "# 48. Rotate Image\n",
    "---\n",
    "https://leetcode.com/problems/rotate-image/?envType=list&envId=rwo58iji"
   ]
  },
  {
   "cell_type": "code",
   "execution_count": 95,
   "metadata": {},
   "outputs": [
    {
     "name": "stdout",
     "output_type": "stream",
     "text": [
      "[(7, 4, 1), (8, 5, 2), (9, 6, 3)]\n"
     ]
    }
   ],
   "source": [
    "class Solution:\n",
    "    def rotate(self, matrix: list[list[int]]) -> None:\n",
    "        \"\"\"\n",
    "        Do not return anything, modify matrix in-place instead.\n",
    "        \"\"\"\n",
    "        matrix[:] = zip(*matrix[::-1])\n",
    "        print(matrix)\n",
    "ans = Solution()\n",
    "ans.rotate([[1,2,3],[4,5,6],[7,8,9]])"
   ]
  },
  {
   "cell_type": "code",
   "execution_count": 97,
   "metadata": {},
   "outputs": [
    {
     "name": "stdout",
     "output_type": "stream",
     "text": [
      "[[7, 4, 1], [8, 5, 2], [9, 6, 3]]\n"
     ]
    }
   ],
   "source": [
    "class Solution:\n",
    "    def rotate(self, matrix: list[list[int]]) -> None:\n",
    "        \"\"\"\n",
    "        Do not return anything, modify matrix in-place instead.\n",
    "        \"\"\"\n",
    "        matrix.reverse()\n",
    "        for i in range(len(matrix)):\n",
    "            for j in range(i, len(matrix)):\n",
    "                matrix[i][j], matrix[j][i] = matrix[j][i], matrix[i][j]\n",
    "        print(matrix)\n",
    "ans = Solution()\n",
    "ans.rotate([[1,2,3],[4,5,6],[7,8,9]])"
   ]
  },
  {
   "cell_type": "code",
   "execution_count": 99,
   "metadata": {},
   "outputs": [
    {
     "name": "stdout",
     "output_type": "stream",
     "text": [
      "[array([7, 4, 1]), array([8, 5, 2]), array([9, 6, 3])]\n"
     ]
    }
   ],
   "source": [
    "import numpy as np\n",
    "class Solution:\n",
    "    def rotate(self, matrix: list[list[int]]) -> None:\n",
    "        \"\"\"\n",
    "        Do not return anything, modify matrix in-place instead.\n",
    "        \"\"\"\n",
    "        matrix[:] = np.rot90(matrix, axes=(1, 0))\n",
    "        print(matrix)\n",
    "ans = Solution()\n",
    "ans.rotate([[1,2,3],[4,5,6],[7,8,9]])"
   ]
  }
 ],
 "metadata": {
  "kernelspec": {
   "display_name": "Python 3",
   "language": "python",
   "name": "python3"
  },
  "language_info": {
   "codemirror_mode": {
    "name": "ipython",
    "version": 3
   },
   "file_extension": ".py",
   "mimetype": "text/x-python",
   "name": "python",
   "nbconvert_exporter": "python",
   "pygments_lexer": "ipython3",
   "version": "3.11.2"
  },
  "orig_nbformat": 4
 },
 "nbformat": 4,
 "nbformat_minor": 2
}
