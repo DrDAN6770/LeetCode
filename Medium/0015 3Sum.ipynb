{
  "nbformat": 4,
  "nbformat_minor": 0,
  "metadata": {
    "colab": {
      "provenance": [],
      "authorship_tag": "ABX9TyMsz87jTrNEQ1s9P3EDMeNa",
      "include_colab_link": true
    },
    "kernelspec": {
      "name": "python3",
      "display_name": "Python 3"
    },
    "language_info": {
      "name": "python"
    }
  },
  "cells": [
    {
      "cell_type": "markdown",
      "metadata": {
        "id": "view-in-github",
        "colab_type": "text"
      },
      "source": [
        "<a href=\"https://colab.research.google.com/github/DrDAN6770/LeetCode/blob/main/Medium/0015%203Sum.ipynb\" target=\"_parent\"><img src=\"https://colab.research.google.com/assets/colab-badge.svg\" alt=\"Open In Colab\"/></a>"
      ]
    },
    {
      "cell_type": "markdown",
      "source": [
        "#15. 3Sum\n",
        "\n",
        "---\n",
        "https://leetcode.com/problems/3sum/\n"
      ],
      "metadata": {
        "id": "VkJHGhFg05lG"
      }
    },
    {
      "cell_type": "code",
      "execution_count": 3,
      "metadata": {
        "colab": {
          "base_uri": "https://localhost:8080/"
        },
        "id": "dRym2xtX02ww",
        "outputId": "ed0d87d3-b5de-4293-a051-ce72219e0074"
      },
      "outputs": [
        {
          "output_type": "execute_result",
          "data": {
            "text/plain": [
              "{(-1, -1, 2), (-1, 0, 1)}"
            ]
          },
          "metadata": {},
          "execution_count": 3
        }
      ],
      "source": [
        "#暴力解\n",
        "class Solution:\n",
        "  def threeSum(self, nums: list[int]) -> list[list[int]]:\n",
        "    n = len(nums)\n",
        "    nums.sort()\n",
        "    result = set()\n",
        "    for i in range(n - 2):\n",
        "      for j in range(i + 1, n - 1):\n",
        "        for k in range(j + 1, n):\n",
        "          if nums[i] + nums[j] + nums[k] == 0:\n",
        "            result.add((nums[i], nums[j], nums[k]))\n",
        "    return result\n",
        "\n",
        "\n",
        "n = [-1,0,1,2,-1,-4]\n",
        "res = Solution()\n",
        "res.threeSum(n)"
      ]
    },
    {
      "cell_type": "code",
      "source": [
        "#字典補數\n",
        "class Solution:\n",
        "    def threeSum(self, nums: list[int]) -> list[list[int]]:\n",
        "        nums.sort()\n",
        "        res = set()\n",
        "        for i, v in enumerate(nums[:-2]):\n",
        "            d = {}\n",
        "            for c in nums[i+1:]:\n",
        "                if c not in d:\n",
        "                    d[-v-c] = 1\n",
        "                else:\n",
        "                    res.add((v, -v-c, c))\n",
        "        return res\n",
        "\n",
        "n = [-1,0,1,2,-1,-4]\n",
        "res = Solution()\n",
        "res.threeSum(n)"
      ],
      "metadata": {
        "colab": {
          "base_uri": "https://localhost:8080/"
        },
        "id": "25toCfD51l54",
        "outputId": "0c9f99ad-1116-4149-99eb-df0983e07a0d"
      },
      "execution_count": 5,
      "outputs": [
        {
          "output_type": "execute_result",
          "data": {
            "text/plain": [
              "{(-1, -1, 2), (-1, 0, 1)}"
            ]
          },
          "metadata": {},
          "execution_count": 5
        }
      ]
    },
    {
      "cell_type": "code",
      "source": [
        "# twopointer\n",
        "class Solution:\n",
        "  def threeSum(self, nums: list[int]) -> list[list[int]]:\n",
        "    nums.sort()\n",
        "    result  = []\n",
        "    n = len(nums)\n",
        "\n",
        "    for i in range(n-2): # -2 for last 3 index (ilr)\n",
        "      if i >  0 and nums[i] == nums[i-1]:\n",
        "        continue\n",
        "      l = i + 1\n",
        "      r = n - 1\n",
        "\n",
        "      while l < r:\n",
        "        sum = nums[i] + nums[l] + nums[r]\n",
        "        if sum == 0:\n",
        "          result.append([nums[i],nums[l],nums[r]])\n",
        "          r -= 1\n",
        "          l += 1\n",
        "          \n",
        "          #找到符合時r、l都往內推1步了\n",
        "          #如果現在的r跟剛原本的r+1相等就不用看了繼續往內，l同義\n",
        "          while l < r and nums[r] == nums[r+1]:   \n",
        "              r -= 1\n",
        "          while l < r and nums[l] == nums[l-1]:\n",
        "              l += 1\n",
        "        elif sum > 0:\n",
        "            r -= 1\n",
        "        else:\n",
        "            l += 1\n",
        "    return result\n",
        "\n",
        "n = [-1,0,1,2,-1,-4]\n",
        "res = Solution()\n",
        "res.threeSum(n)"
      ],
      "metadata": {
        "colab": {
          "base_uri": "https://localhost:8080/"
        },
        "id": "zXeL9_KQ15VJ",
        "outputId": "1d2918d4-743e-409a-ac54-3675b797cc2f"
      },
      "execution_count": 6,
      "outputs": [
        {
          "output_type": "execute_result",
          "data": {
            "text/plain": [
              "[[-1, -1, 2], [-1, 0, 1]]"
            ]
          },
          "metadata": {},
          "execution_count": 6
        }
      ]
    },
    {
      "cell_type": "code",
      "source": [
        "#純補數\n",
        "class Solution:\n",
        "  def threeSum(self, nums: list[int]) -> list[list[int]]:\n",
        "    res = set()\n",
        "\n",
        "    #負數、正數、零\n",
        "    n, p, z = [], [], []\n",
        "    for num in nums:\n",
        "      if num > 0:\n",
        "        p.append(num)\n",
        "      elif num < 0: \n",
        "        n.append(num)\n",
        "      else:\n",
        "        z.append(num)\n",
        "\n",
        "    # 去重複\n",
        "    N, P = set(n), set(p)\n",
        "\n",
        "    # 1個0, ex: -1,0,1\n",
        "    if z:\n",
        "      for num in P:\n",
        "        if num * -1 in N:\n",
        "          res.add((num * -1, 0, num))\n",
        "\n",
        "    # 3個0\n",
        "    if len(z) >= 3:\n",
        "        res.add((0,0,0))\n",
        "\n",
        "    # 需要1個正補數\n",
        "    for i in range(len(n)):\n",
        "      for j in range(i + 1,len(n)):\n",
        "        target = (n[i] + n[j]) * -1\n",
        "        if target in P:\n",
        "          res.add(tuple(sorted([n[i],n[j],target]))) #先排序再tuple，避免重複組合 ex: (4,-1,-3) & (-1,4,-3)\n",
        "\n",
        "    # 需要1個負補數\n",
        "    for i in range(len(p)):\n",
        "      for j in range(i+1,len(p)):\n",
        "        target = -1*(p[i]+p[j])\n",
        "        if target in N:\n",
        "          res.add(tuple(sorted([p[i],p[j],target])))\n",
        "\n",
        "    return res\n",
        "\n",
        "n = [-1,0,1,2,-1,-4]\n",
        "res = Solution()\n",
        "res.threeSum(n)"
      ],
      "metadata": {
        "colab": {
          "base_uri": "https://localhost:8080/"
        },
        "id": "AK_eRYBz2KsF",
        "outputId": "f74302fb-8d15-4ae0-cf54-2cff4a932d1c"
      },
      "execution_count": 7,
      "outputs": [
        {
          "output_type": "execute_result",
          "data": {
            "text/plain": [
              "{(-1, -1, 2), (-1, 0, 1)}"
            ]
          },
          "metadata": {},
          "execution_count": 7
        }
      ]
    }
  ]
}