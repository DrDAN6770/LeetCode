{
 "cells": [
  {
   "cell_type": "markdown",
   "metadata": {},
   "source": [
    "# 98. Validate Binary Search Tree\n",
    "---\n",
    "https://leetcode.com/problems/validate-binary-search-tree/?envType=list&envId=rwo58iji\n",
    "\n",
    "https://www.youtube.com/watch?v=hGrhoQVznMw"
   ]
  },
  {
   "cell_type": "code",
   "execution_count": 6,
   "metadata": {},
   "outputs": [],
   "source": [
    "# BFS O(n) O(n)\n",
    "'''\n",
    "  5\n",
    "1   4\n",
    "   3 6\n",
    "'''\n",
    "# Definition for a binary tree node.\n",
    "class TreeNode:\n",
    "    def __init__(self, val=0, left=None, right=None):\n",
    "        self.val = val\n",
    "        self.left = left\n",
    "        self.right = right\n",
    "class Solution:\n",
    "    def isValidBST(self, root) -> bool:\n",
    "        if not root:\n",
    "            return True\n",
    "        queue = [(root, float('-inf'), float('inf'))]\n",
    "        while queue:\n",
    "            root, low, high = queue.pop()\n",
    "\n",
    "            if not root:\n",
    "                continue\n",
    "            if root.val >= high or root.val <= low:\n",
    "                return False\n",
    "            queue.append((root.left, low, root.val))\n",
    "            queue.append((root.right, root.val, high))\n",
    "        return True"
   ]
  },
  {
   "cell_type": "code",
   "execution_count": null,
   "metadata": {},
   "outputs": [],
   "source": [
    "# DFS O(n) O(n)\n",
    "class Solution:\n",
    "    def isValidBST(self, root) -> bool:\n",
    "        def dfs(root, low, high):\n",
    "            if not root:\n",
    "                return True\n",
    "            if root.val >= high or root.val <= low:\n",
    "                return False\n",
    "            return dfs(root.left, low, root.val) and dfs(root.right, root.val, high)\n",
    "        \n",
    "        return dfs(root,float('-inf'), float('inf'))"
   ]
  }
 ],
 "metadata": {
  "kernelspec": {
   "display_name": "Python 3",
   "language": "python",
   "name": "python3"
  },
  "language_info": {
   "codemirror_mode": {
    "name": "ipython",
    "version": 3
   },
   "file_extension": ".py",
   "mimetype": "text/x-python",
   "name": "python",
   "nbconvert_exporter": "python",
   "pygments_lexer": "ipython3",
   "version": "3.11.2"
  },
  "orig_nbformat": 4
 },
 "nbformat": 4,
 "nbformat_minor": 2
}
