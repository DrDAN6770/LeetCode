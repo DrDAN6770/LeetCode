{
 "cells": [
  {
   "cell_type": "markdown",
   "metadata": {},
   "source": [
    "# 1780. Check if Number is a Sum of Powers of Three\n",
    "---\n",
    "https://leetcode.com/problems/check-if-number-is-a-sum-of-powers-of-three/description/"
   ]
  },
  {
   "cell_type": "code",
   "execution_count": 1,
   "metadata": {},
   "outputs": [
    {
     "data": {
      "text/plain": [
       "False"
      ]
     },
     "execution_count": 1,
     "metadata": {},
     "output_type": "execute_result"
    }
   ],
   "source": [
    "# O(1) O(1)\n",
    "class Solution:\n",
    "    def checkPowersOfThree(self, n: int) -> bool:\n",
    "        mxp = 16\n",
    "        while n > 0 and mxp >= 0:\n",
    "            tmp = 3 ** mxp\n",
    "            if n - tmp >= 0:\n",
    "                n -= tmp\n",
    "            mxp -= 1\n",
    "        return n == 0\n",
    "\n",
    "ans = Solution()\n",
    "ans.checkPowersOfThree(21)"
   ]
  },
  {
   "cell_type": "code",
   "execution_count": 2,
   "metadata": {},
   "outputs": [
    {
     "data": {
      "text/plain": [
       "False"
      ]
     },
     "execution_count": 2,
     "metadata": {},
     "output_type": "execute_result"
    }
   ],
   "source": [
    "class Solution:\n",
    "    def checkPowersOfThree(self, n: int) -> bool:\n",
    "        while n > 0:\n",
    "            if n % 3 == 2:\n",
    "                return False\n",
    "            n //= 3\n",
    "        return True\n",
    "ans = Solution()\n",
    "ans.checkPowersOfThree(18)"
   ]
  },
  {
   "cell_type": "code",
   "execution_count": 3,
   "metadata": {},
   "outputs": [
    {
     "data": {
      "text/plain": [
       "True"
      ]
     },
     "execution_count": 3,
     "metadata": {},
     "output_type": "execute_result"
    }
   ],
   "source": [
    "class Solution:\n",
    "    def checkPowersOfThree(self, n: int) -> bool:\n",
    "        if n == 0: return True\n",
    "        if n % 3 == 2: return False\n",
    "        return self.checkPowersOfThree(n//3)\n",
    "ans = Solution()\n",
    "ans.checkPowersOfThree(3**10)"
   ]
  }
 ],
 "metadata": {
  "kernelspec": {
   "display_name": "Python 3",
   "language": "python",
   "name": "python3"
  },
  "language_info": {
   "codemirror_mode": {
    "name": "ipython",
    "version": 3
   },
   "file_extension": ".py",
   "mimetype": "text/x-python",
   "name": "python",
   "nbconvert_exporter": "python",
   "pygments_lexer": "ipython3",
   "version": "3.11.2"
  },
  "orig_nbformat": 4
 },
 "nbformat": 4,
 "nbformat_minor": 2
}
