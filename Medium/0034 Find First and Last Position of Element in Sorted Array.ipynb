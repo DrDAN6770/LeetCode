{
 "cells": [
  {
   "cell_type": "markdown",
   "metadata": {},
   "source": [
    "# 34. Find First and Last Position of Element in Sorted Array\n",
    "---\n",
    "https://leetcode.com/problems/find-first-and-last-position-of-element-in-sorted-array/"
   ]
  },
  {
   "cell_type": "code",
   "execution_count": 6,
   "metadata": {},
   "outputs": [
    {
     "data": {
      "text/plain": [
       "[1, 2]"
      ]
     },
     "execution_count": 6,
     "metadata": {},
     "output_type": "execute_result"
    }
   ],
   "source": [
    "# Bisect O(logn) O(1)\n",
    "import bisect\n",
    "class Solution:\n",
    "    def searchRange(self, nums: list[int], target: int) -> list[int]:\n",
    "        first = bisect.bisect_left(nums, target)\n",
    "        last = bisect.bisect_right(nums, target) - 1\n",
    "        \n",
    "        # check target is find\n",
    "        if first == len(nums) or nums[first] != target:\n",
    "            return [-1, -1]\n",
    "        return [first, last]\n",
    "ans = Solution()\n",
    "ans.searchRange([7,8,8,9],8)"
   ]
  },
  {
   "cell_type": "code",
   "execution_count": 8,
   "metadata": {},
   "outputs": [
    {
     "data": {
      "text/plain": [
       "[1, 1]"
      ]
     },
     "execution_count": 8,
     "metadata": {},
     "output_type": "execute_result"
    }
   ],
   "source": [
    "# BS 優化 O(logn) O(1)\n",
    "class Solution:\n",
    "    def bs_helper(self, nums, target) -> int:\n",
    "        l, r = 0, len(nums)-1\n",
    "        while l <= r:\n",
    "            m = l + ((r - l) >> 1)\n",
    "            if nums[m] < target:\n",
    "                l = m + 1\n",
    "            else:\n",
    "                r = m - 1\n",
    "        return l\n",
    "\n",
    "    def searchRange(self, nums: list[int], target: int) -> list[int]:\n",
    "        first = self.bs_helper(nums, target)\n",
    "        last = self.bs_helper(nums, target + 1) - 1\n",
    "\n",
    "        return [first, last] if first <= last else [-1, -1]\n",
    "\n",
    "ans = Solution()\n",
    "ans.searchRange([7,8,9],8)"
   ]
  },
  {
   "cell_type": "code",
   "execution_count": 9,
   "metadata": {},
   "outputs": [
    {
     "data": {
      "text/plain": [
       "[-1, -1]"
      ]
     },
     "execution_count": 9,
     "metadata": {},
     "output_type": "execute_result"
    }
   ],
   "source": [
    "# BS O(logn) O(1)\n",
    "class Solution:\n",
    "    def searchRange(self, nums: list[int], target: int) -> list[int]:\n",
    "        n = len(nums)\n",
    "        l, r = 0, n-1\n",
    "\n",
    "        while l <= r:\n",
    "            m = l + ((r - l) >> 1)\n",
    "            if nums[m] == target:\n",
    "                first = last = m\n",
    "                while first - 1 >= 0 and nums[first - 1] == target:\n",
    "                    first -= 1\n",
    "                while last + 1 < n and nums[last + 1] == target:\n",
    "                    last += 1\n",
    "                return [first, last]\n",
    "            \n",
    "            elif nums[m] > target:\n",
    "                r = m - 1\n",
    "            else:\n",
    "                l = m + 1\n",
    "\n",
    "        return [-1, -1]\n",
    "ans = Solution()\n",
    "ans.searchRange([], 5)"
   ]
  }
 ],
 "metadata": {
  "kernelspec": {
   "display_name": "Python 3",
   "language": "python",
   "name": "python3"
  },
  "language_info": {
   "codemirror_mode": {
    "name": "ipython",
    "version": 3
   },
   "file_extension": ".py",
   "mimetype": "text/x-python",
   "name": "python",
   "nbconvert_exporter": "python",
   "pygments_lexer": "ipython3",
   "version": "3.11.2"
  },
  "orig_nbformat": 4
 },
 "nbformat": 4,
 "nbformat_minor": 2
}
