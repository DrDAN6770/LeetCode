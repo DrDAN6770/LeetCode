{
 "cells": [
  {
   "cell_type": "markdown",
   "metadata": {},
   "source": [
    "# 54. Spiral Matrix\n",
    "---\n",
    "https://leetcode.com/problems/spiral-matrix/?envType=list&envId=rwo58iji"
   ]
  },
  {
   "cell_type": "code",
   "execution_count": 22,
   "metadata": {},
   "outputs": [
    {
     "data": {
      "text/plain": [
       "[1, 2, 3, 4, 8, 12, 16, 15, 14, 13, 9, 5, 6, 7, 11, 10]"
      ]
     },
     "execution_count": 22,
     "metadata": {},
     "output_type": "execute_result"
    }
   ],
   "source": [
    "class Solution:\n",
    "    def spiralOrder(self, matrix: list[list[int]]) -> list[int]:\n",
    "        res = []\n",
    "        round = 1\n",
    "        while matrix and matrix[0]:\n",
    "            if round == 1:\n",
    "                res.extend(matrix[0])\n",
    "                matrix[0:1] = []\n",
    "                round += 1\n",
    "            elif round == 2:\n",
    "                for i in matrix:\n",
    "                    res.append(i.pop())\n",
    "                round += 1\n",
    "            elif round == 3:\n",
    "                res.extend(matrix[-1][::-1])\n",
    "                matrix[-1:] = []\n",
    "                round += 1\n",
    "            elif round == 4 and len(matrix[0]):\n",
    "                for i in matrix[::-1]:\n",
    "                    res.append(i.pop(0))\n",
    "                round = 1\n",
    "        return res\n",
    "ans = Solution()\n",
    "ans.spiralOrder([[1,2,3,4],[5,6,7,8],[9,10,11,12],[13,14,15,16]])"
   ]
  },
  {
   "cell_type": "code",
   "execution_count": 24,
   "metadata": {},
   "outputs": [
    {
     "data": {
      "text/plain": [
       "[7, 9, 6]"
      ]
     },
     "execution_count": 24,
     "metadata": {},
     "output_type": "execute_result"
    }
   ],
   "source": [
    "class Solution:\n",
    "    def spiralOrder(self, matrix: list[list[int]]) -> list[int]:\n",
    "        res = []\n",
    "        round = 1\n",
    "        while matrix and matrix[0]:\n",
    "            match round:\n",
    "                case 1:\n",
    "                    res.extend(matrix[0])\n",
    "                    matrix[0:1] = []\n",
    "                    round += 1\n",
    "                case 2:\n",
    "                    for i in matrix:\n",
    "                        res.append(i.pop())\n",
    "                    round += 1\n",
    "                case 3:\n",
    "                    res.extend(matrix[-1][::-1])\n",
    "                    matrix[-1:] = []\n",
    "                    round += 1\n",
    "                case 4:\n",
    "                    if len(matrix[0]):\n",
    "                        for i in matrix[::-1]:\n",
    "                            res.append(i.pop(0))\n",
    "                        round = 1\n",
    "        return res\n",
    "ans = Solution()\n",
    "ans.spiralOrder([[7],[9],[6]])"
   ]
  },
  {
   "cell_type": "code",
   "execution_count": 20,
   "metadata": {},
   "outputs": [
    {
     "data": {
      "text/plain": [
       "[1, 2, 3, 4, 8, 12, 16, 15, 14, 13, 9, 5, 6, 7, 11, 10]"
      ]
     },
     "execution_count": 20,
     "metadata": {},
     "output_type": "execute_result"
    }
   ],
   "source": [
    "class Solution:\n",
    "    def spiralOrder(self, matrix: list[list[int]]) -> list[int]:\n",
    "        result = []\n",
    "        while matrix:\n",
    "            result += matrix.pop(0)\n",
    "            matrix = (list(zip(*matrix)))[::-1]\n",
    "        return result\n",
    "ans = Solution()\n",
    "ans.spiralOrder([[1,2,3,4],[5,6,7,8],[9,10,11,12],[13,14,15,16]])"
   ]
  },
  {
   "cell_type": "code",
   "execution_count": 25,
   "metadata": {},
   "outputs": [
    {
     "data": {
      "text/plain": [
       "[7, 8, 9]"
      ]
     },
     "execution_count": 25,
     "metadata": {},
     "output_type": "execute_result"
    }
   ],
   "source": [
    "class Solution:\n",
    "    def spiralOrder(self, matrix: list[list[int]]) -> list[int]:\n",
    "        res = []\n",
    "        while matrix:\n",
    "            res.extend(matrix.pop(0))\n",
    "\n",
    "            if matrix and matrix[0]:\n",
    "                for i in matrix:\n",
    "                    res.append(i.pop())\n",
    "\n",
    "            if matrix:\n",
    "                res.extend(matrix.pop()[::-1])\n",
    "\n",
    "            if matrix and matrix[0]:\n",
    "                for i in matrix[::-1]:\n",
    "                    res.append(i.pop(0))\n",
    "        return res\n",
    "ans = Solution()\n",
    "ans.spiralOrder([[7],[8],[9]])"
   ]
  }
 ],
 "metadata": {
  "kernelspec": {
   "display_name": "Python 3",
   "language": "python",
   "name": "python3"
  },
  "language_info": {
   "codemirror_mode": {
    "name": "ipython",
    "version": 3
   },
   "file_extension": ".py",
   "mimetype": "text/x-python",
   "name": "python",
   "nbconvert_exporter": "python",
   "pygments_lexer": "ipython3",
   "version": "3.11.2"
  },
  "orig_nbformat": 4
 },
 "nbformat": 4,
 "nbformat_minor": 2
}
