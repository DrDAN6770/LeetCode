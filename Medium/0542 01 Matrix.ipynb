{
 "cells": [
  {
   "cell_type": "markdown",
   "metadata": {},
   "source": [
    "# 542. 01 Matrix\n",
    "---\n",
    "https://leetcode.com/problems/01-matrix/"
   ]
  },
  {
   "cell_type": "code",
   "execution_count": 13,
   "metadata": {},
   "outputs": [
    {
     "data": {
      "text/plain": [
       "[[4, 3, 2], [3, 2, 1], [2, 1, 0]]"
      ]
     },
     "execution_count": 13,
     "metadata": {},
     "output_type": "execute_result"
    }
   ],
   "source": [
    "# DP O(m * n) O(1)\n",
    "# 找每個cell離0最近的距離\n",
    "'''\n",
    "0 0 0    0 0 0\n",
    "0 1 1 >> 0 1 1\n",
    "1 0 1    1 0 1\n",
    "\n",
    "1 1 1    4 3 2\n",
    "1 1 1 >> 3 2 1\n",
    "1 1 0    2 1 0\n",
    "'''\n",
    "class Solution:\n",
    "    def updateMatrix(self, mat: list[list[int]]) -> list[list[int]]:\n",
    "        m, n = len(mat), len(mat[0])\n",
    "        for row in range(m):\n",
    "            for col in range(n):\n",
    "                if mat[row][col]:\n",
    "                    top = mat[row - 1][col] if row > 0 else float('inf')\n",
    "                    left = mat[row][col - 1] if col > 0 else float('inf')\n",
    "                    mat[row][col] = min(top, left) + 1\n",
    "        for row in range(m-1, -1, -1):\n",
    "            for col in range(n-1, -1, -1):\n",
    "                if mat[row][col] != 0:\n",
    "                    bottom = mat[row + 1][col] if row < m-1  else float('inf')\n",
    "                    right = mat[row][col + 1] if col < n-1 else float('inf')\n",
    "                    mat[row][col] = min(mat[row][col], min(right, bottom)+1)\n",
    "        return mat\n",
    "ans = Solution()\n",
    "ans.updateMatrix([[1,1,1],[1,1,1],[1,1,0]])"
   ]
  },
  {
   "cell_type": "code",
   "execution_count": 14,
   "metadata": {},
   "outputs": [
    {
     "data": {
      "text/plain": [
       "[[4, 3, 2], [3, 2, 1], [2, 1, 0]]"
      ]
     },
     "execution_count": 14,
     "metadata": {},
     "output_type": "execute_result"
    }
   ],
   "source": [
    "# BFS O(m * n) O(m * n)\n",
    "from collections import deque\n",
    "class Solution:\n",
    "    def updateMatrix(self, mat: list[list[int]]) -> list[list[int]]:\n",
    "        m, n = len(mat), len(mat[0])\n",
    "        mx = m * n\n",
    "        dq = deque()\n",
    "        \n",
    "        # save 0 poisiton(x, y)\n",
    "        for x in range(m):\n",
    "            for y in range(n):\n",
    "                if mat[x][y] == 0:\n",
    "                    dq.append((x, y))\n",
    "                else:\n",
    "                    mat[x][y] = mx\n",
    "        direction = [(1, 0), (-1, 0), (0, -1), (0, 1)]\n",
    "\n",
    "        while dq:\n",
    "            x, y = dq.popleft()\n",
    "            for dx, dy in direction:\n",
    "                nx = x + dx\n",
    "                ny = y + dy\n",
    "                if 0 <= nx < m and 0 <= ny < n and mat[nx][ny] == mx:\n",
    "                    dq.append((nx, ny))\n",
    "                    mat[nx][ny] = mat[x][y] + 1     \n",
    "        return mat\n",
    "ans = Solution()\n",
    "ans.updateMatrix([[1,1,1],[1,1,1],[1,1,0]])"
   ]
  }
 ],
 "metadata": {
  "kernelspec": {
   "display_name": "Python 3",
   "language": "python",
   "name": "python3"
  },
  "language_info": {
   "codemirror_mode": {
    "name": "ipython",
    "version": 3
   },
   "file_extension": ".py",
   "mimetype": "text/x-python",
   "name": "python",
   "nbconvert_exporter": "python",
   "pygments_lexer": "ipython3",
   "version": "3.11.2"
  },
  "orig_nbformat": 4
 },
 "nbformat": 4,
 "nbformat_minor": 2
}
