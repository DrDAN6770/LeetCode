{
 "cells": [
  {
   "cell_type": "markdown",
   "metadata": {},
   "source": [
    "# 53. Maximum Subarray\n",
    "---\n",
    "https://leetcode.com/problems/maximum-subarray/description/"
   ]
  },
  {
   "cell_type": "code",
   "execution_count": 2,
   "metadata": {},
   "outputs": [
    {
     "data": {
      "text/plain": [
       "23"
      ]
     },
     "execution_count": 2,
     "metadata": {},
     "output_type": "execute_result"
    }
   ],
   "source": [
    "# DP\n",
    "# 每個dp存放到第n個數的最大和 (前面和+當下數字 與 當下數字做比較) >> 遇到負數後總和會變小，視情況保留哪個\n",
    "# 前面和-10 下一個數-5 >> 新和 = -15 但下一個數-5 比較大 >> 改-5\n",
    "class Solution:\n",
    "    def maxSubArray(self, nums: list[int]) -> int:\n",
    "        if len(nums) <= 1:\n",
    "            return sum(nums)\n",
    "        dp = [nums[0]] + [0] * (len(nums)-1)\n",
    "        for idx, num in enumerate(nums[1:], 1):\n",
    "            dp[idx] = max(num, dp[idx-1] + num)\n",
    "        return max(dp)\n",
    "ans = Solution()\n",
    "ans.maxSubArray([5,4,-1,7,8])"
   ]
  },
  {
   "cell_type": "code",
   "execution_count": 1,
   "metadata": {},
   "outputs": [
    {
     "data": {
      "text/plain": [
       "6"
      ]
     },
     "execution_count": 1,
     "metadata": {},
     "output_type": "execute_result"
    }
   ],
   "source": [
    "class Solution:\n",
    "    def maxSubArray(self, nums: list[int]) -> int:\n",
    "        if len(nums) <= 1:\n",
    "            return sum(nums)\n",
    "\n",
    "        max_total = nums[0]\n",
    "        cur_max = nums[0]\n",
    "        for num in nums[1:]:\n",
    "            cur_max = max(cur_max + num, num)\n",
    "            max_total = max(cur_max, max_total)\n",
    "        return max_total\n",
    "ans = Solution()\n",
    "ans.maxSubArray([-2,1,-3,4,-1,2,1,-5,4])"
   ]
  }
 ],
 "metadata": {
  "kernelspec": {
   "display_name": "Python 3",
   "language": "python",
   "name": "python3"
  },
  "language_info": {
   "codemirror_mode": {
    "name": "ipython",
    "version": 3
   },
   "file_extension": ".py",
   "mimetype": "text/x-python",
   "name": "python",
   "nbconvert_exporter": "python",
   "pygments_lexer": "ipython3",
   "version": "3.11.2"
  },
  "orig_nbformat": 4
 },
 "nbformat": 4,
 "nbformat_minor": 2
}
