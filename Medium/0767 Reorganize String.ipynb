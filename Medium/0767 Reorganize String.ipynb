{
 "cells": [
  {
   "cell_type": "markdown",
   "metadata": {},
   "source": [
    "# 767. Reorganize String\n",
    "---\n",
    "https://leetcode.com/problems/reorganize-string/"
   ]
  },
  {
   "cell_type": "code",
   "execution_count": 43,
   "metadata": {},
   "outputs": [
    {
     "data": {
      "text/plain": [
       "'ababa'"
      ]
     },
     "execution_count": 43,
     "metadata": {},
     "output_type": "execute_result"
    }
   ],
   "source": [
    "# O(nlogn) O(n), n = len(s)\n",
    "# 先把最多的那個字填完(間隔填)\n",
    "# 如果太多(超過一半，不管如何都會有相鄰)，但如果在一半以下則可以填完且不相鄰\n",
    "# 再把剩餘的填空進去(插空隙)\n",
    "from collections import Counter\n",
    "class Solution:\n",
    "    def reorganizeString(self, s: str) -> str:\n",
    "        counting = Counter(s)\n",
    "        max_key = max(counting, key=counting.get)\n",
    "        if counting[max_key] > (len(s) + 1) // 2:\n",
    "            return \"\"\n",
    "\n",
    "        idx = 0\n",
    "        res = [\"\"] * len(s)\n",
    "        for char in sorted(counting.keys(), key = lambda x:counting[x], reverse=True):\n",
    "            for _ in range(counting[char]):\n",
    "                if idx >= len(s):\n",
    "                    idx = 1\n",
    "                res[idx] = char\n",
    "                idx += 2\n",
    "        return ''.join(res)\n",
    "ans = Solution()\n",
    "ans.reorganizeString(\"baaba\")"
   ]
  },
  {
   "cell_type": "code",
   "execution_count": 44,
   "metadata": {},
   "outputs": [
    {
     "data": {
      "text/plain": [
       "'ababa'"
      ]
     },
     "execution_count": 44,
     "metadata": {},
     "output_type": "execute_result"
    }
   ],
   "source": [
    "# O(n) O(n), n = len(s)\n",
    "from collections import Counter\n",
    "class Solution:\n",
    "    def reorganizeString(self, s: str) -> str:\n",
    "        counting = Counter(s)\n",
    "\n",
    "        # 找最多數量的letter\n",
    "        max_letter = max(counting, key=counting.get) # O(n)\n",
    "        if counting[max_letter] > (len(s) + 1) // 2:\n",
    "            return \"\"\n",
    "\n",
    "        # 先排序最多的letter\n",
    "        idx = 0\n",
    "        res = [\"\"] * len(s)\n",
    "        while counting[max_letter]: # 常數\n",
    "            res[idx] = max_letter\n",
    "            counting[max_letter] -= 1\n",
    "            idx += 2\n",
    "        \n",
    "        # 排剩下的\n",
    "        for char, count in counting.items(): # O(n)\n",
    "            while count: # 常數\n",
    "                if idx >= len(s):\n",
    "                    idx = 1\n",
    "                res[idx] = char\n",
    "                count -= 1\n",
    "                idx += 2\n",
    "        return ''.join(res)\n",
    "ans = Solution()\n",
    "ans.reorganizeString(\"baaba\")"
   ]
  }
 ],
 "metadata": {
  "kernelspec": {
   "display_name": "Python 3",
   "language": "python",
   "name": "python3"
  },
  "language_info": {
   "codemirror_mode": {
    "name": "ipython",
    "version": 3
   },
   "file_extension": ".py",
   "mimetype": "text/x-python",
   "name": "python",
   "nbconvert_exporter": "python",
   "pygments_lexer": "ipython3",
   "version": "3.11.2"
  },
  "orig_nbformat": 4
 },
 "nbformat": 4,
 "nbformat_minor": 2
}
