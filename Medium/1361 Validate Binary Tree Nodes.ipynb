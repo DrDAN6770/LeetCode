{
 "cells": [
  {
   "cell_type": "markdown",
   "metadata": {},
   "source": [
    "# 1361. Validate Binary Tree Nodes\n",
    "---\n",
    "https://leetcode.com/problems/validate-binary-tree-nodes/"
   ]
  },
  {
   "cell_type": "code",
   "execution_count": 2,
   "metadata": {},
   "outputs": [
    {
     "data": {
      "text/plain": [
       "True"
      ]
     },
     "execution_count": 2,
     "metadata": {},
     "output_type": "execute_result"
    }
   ],
   "source": [
    "# BFS O(n) O(n)\n",
    "from collections import deque\n",
    "class Solution:\n",
    "    def validateBinaryTreeNodes(self, n: int, leftChild: list[int], rightChild: list[int]) -> bool:\n",
    "        parentcount = [0] * n\n",
    "        edgecount = 0\n",
    "\n",
    "        # check 1 edge link 1 node\n",
    "        for i in range(n):\n",
    "            if leftChild[i] != -1:\n",
    "                parentcount[leftChild[i]] += 1\n",
    "                edgecount += 1\n",
    "                if parentcount[leftChild[i]] > 1:\n",
    "                    return False\n",
    "            if rightChild[i] != -1:\n",
    "                parentcount[rightChild[i]] += 1\n",
    "                edgecount += 1\n",
    "                if parentcount[rightChild[i]] > 1:\n",
    "                    return False\n",
    "        # check edgecounr with n\n",
    "        if edgecount != n-1:\n",
    "            return False\n",
    "        \n",
    "        # find root\n",
    "        root = None\n",
    "        for i in range(n):\n",
    "            if parentcount[i] == 0:\n",
    "                if root is None:\n",
    "                    root = i\n",
    "                else:\n",
    "                    return False\n",
    "        if root is None:\n",
    "            return False\n",
    "\n",
    "        # BFS\n",
    "        q = deque([root])\n",
    "        seen = [False] * n\n",
    "\n",
    "        while q:\n",
    "            node = q.popleft()\n",
    "\n",
    "            # if node seen\n",
    "            if seen[node]:\n",
    "                return False\n",
    "            seen[node] = True\n",
    "\n",
    "            if leftChild[node] != -1:\n",
    "                q.append(leftChild[node])\n",
    "            if rightChild[node] != -1:\n",
    "                q.append(rightChild[node])\n",
    "        return sum(seen) == n\n",
    "ans = Solution()\n",
    "ans.validateBinaryTreeNodes(n = 4, leftChild = [1,-1,3,-1], rightChild = [2,-1,-1,-1])\n",
    "#   0\n",
    "#  / \\\n",
    "# 1   2\n",
    "#    /\n",
    "#   3"
   ]
  }
 ],
 "metadata": {
  "kernelspec": {
   "display_name": "Python 3",
   "language": "python",
   "name": "python3"
  },
  "language_info": {
   "codemirror_mode": {
    "name": "ipython",
    "version": 3
   },
   "file_extension": ".py",
   "mimetype": "text/x-python",
   "name": "python",
   "nbconvert_exporter": "python",
   "pygments_lexer": "ipython3",
   "version": "3.11.2"
  },
  "orig_nbformat": 4
 },
 "nbformat": 4,
 "nbformat_minor": 2
}
