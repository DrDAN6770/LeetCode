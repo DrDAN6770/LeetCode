{
 "cells": [
  {
   "cell_type": "markdown",
   "metadata": {},
   "source": [
    "# 2811. Check if it is Possible to Split Array\n",
    "---\n",
    "https://leetcode.com/problems/check-if-it-is-possible-to-split-array/description/"
   ]
  },
  {
   "cell_type": "code",
   "execution_count": 22,
   "metadata": {},
   "outputs": [
    {
     "data": {
      "text/plain": [
       "1"
      ]
     },
     "execution_count": 22,
     "metadata": {},
     "output_type": "execute_result"
    }
   ],
   "source": [
    "from itertools import pairwise\n",
    "class Solution:\n",
    "    def canSplitArray(self, nums: list[int], m: int) -> bool:\n",
    "        if len(nums) <= 2:\n",
    "            return True\n",
    "        if sum(nums) < m:\n",
    "            return False\n",
    "        return sum(sum(i) >= m for i in pairwise(nums))\n",
    "ans = Solution()\n",
    "ans.canSplitArray([2,2,1], 4)"
   ]
  },
  {
   "cell_type": "code",
   "execution_count": 20,
   "metadata": {},
   "outputs": [
    {
     "data": {
      "text/plain": [
       "True"
      ]
     },
     "execution_count": 20,
     "metadata": {},
     "output_type": "execute_result"
    }
   ],
   "source": [
    "class Solution:\n",
    "    def canSplitArray(self, nums: list[int], m: int) -> bool:\n",
    "        if len(nums) <= 2:\n",
    "            return True\n",
    "        if sum(nums) < m:\n",
    "            return False\n",
    "        for pre, cur in zip(nums, nums[1:]):\n",
    "            if pre + cur >= m:\n",
    "                return True\n",
    "        return False\n",
    "ans = Solution()\n",
    "ans.canSplitArray([2,2,1], 4)"
   ]
  },
  {
   "cell_type": "code",
   "execution_count": 21,
   "metadata": {},
   "outputs": [
    {
     "data": {
      "text/plain": [
       "1"
      ]
     },
     "execution_count": 21,
     "metadata": {},
     "output_type": "execute_result"
    }
   ],
   "source": [
    "class Solution:\n",
    "    def canSplitArray(self, nums: list[int], m: int) -> bool:\n",
    "        if len(nums) <= 2:\n",
    "            return True\n",
    "        if sum(nums) < m:\n",
    "            return False\n",
    "        return sum(pre + cur >= m for pre, cur in zip(nums, nums[1:]))\n",
    "ans = Solution()\n",
    "ans.canSplitArray([2,2,1], 4)"
   ]
  }
 ],
 "metadata": {
  "kernelspec": {
   "display_name": "Python 3",
   "language": "python",
   "name": "python3"
  },
  "language_info": {
   "codemirror_mode": {
    "name": "ipython",
    "version": 3
   },
   "file_extension": ".py",
   "mimetype": "text/x-python",
   "name": "python",
   "nbconvert_exporter": "python",
   "pygments_lexer": "ipython3",
   "version": "3.11.2"
  },
  "orig_nbformat": 4
 },
 "nbformat": 4,
 "nbformat_minor": 2
}
