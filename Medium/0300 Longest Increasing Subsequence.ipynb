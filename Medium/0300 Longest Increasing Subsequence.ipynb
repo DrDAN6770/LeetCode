{
 "cells": [
  {
   "cell_type": "markdown",
   "metadata": {},
   "source": [
    "# 300. Longest Increasing Subsequence\n",
    "---\n",
    "https://leetcode.com/problems/longest-increasing-subsequence/"
   ]
  },
  {
   "cell_type": "code",
   "execution_count": 2,
   "metadata": {},
   "outputs": [
    {
     "data": {
      "text/plain": [
       "4"
      ]
     },
     "execution_count": 2,
     "metadata": {},
     "output_type": "execute_result"
    }
   ],
   "source": [
    "# DP O(n2) O(n)\n",
    "class Solution:\n",
    "    def lengthOfLIS(self, nums: list[int]) -> int:\n",
    "        n = len(nums)\n",
    "        LIS = [1] * n\n",
    "        \n",
    "        for i in range(n):\n",
    "            for j in range(i):\n",
    "                if nums[i] > nums[j]:\n",
    "                    LIS[i] = max(LIS[i], LIS[j] + 1)\n",
    "        return max(LIS)\n",
    "\n",
    "ans = Solution()\n",
    "ans.lengthOfLIS([0,1,0,3,2,3])"
   ]
  },
  {
   "cell_type": "code",
   "execution_count": 13,
   "metadata": {},
   "outputs": [
    {
     "data": {
      "text/plain": [
       "4"
      ]
     },
     "execution_count": 13,
     "metadata": {},
     "output_type": "execute_result"
    }
   ],
   "source": [
    "# BS O(nlogn) O(n) bisect_left\n",
    "from bisect import bisect_left\n",
    "class Solution:\n",
    "    def lengthOfLIS(self, nums: list[int]) -> int:\n",
    "        dp = []\n",
    "        for num in nums:\n",
    "            idx = bisect_left(dp, num)\n",
    "            if idx == len(dp):\n",
    "                dp.append(num)\n",
    "            else:\n",
    "                dp[idx] = num\n",
    "        return len(dp)\n",
    "ans = Solution()\n",
    "ans.lengthOfLIS([0,1,0,3,2,3])"
   ]
  },
  {
   "cell_type": "code",
   "execution_count": 31,
   "metadata": {},
   "outputs": [
    {
     "data": {
      "text/plain": [
       "1"
      ]
     },
     "execution_count": 31,
     "metadata": {},
     "output_type": "execute_result"
    }
   ],
   "source": [
    "class Solution:\n",
    "    def bs_idx(self, dp : list, num : int) -> int:\n",
    "        n = len(dp)\n",
    "        l, r = 0, n -1\n",
    "\n",
    "        while l <= r:\n",
    "            m = l + ((r - l) >> 1)\n",
    "            if dp[m] < num:\n",
    "                l = m+1\n",
    "            else:\n",
    "                r = m-1\n",
    "        return l\n",
    "\n",
    "    def lengthOfLIS(self, nums: list[int]) -> int:\n",
    "        dp = []\n",
    "        for num in nums:\n",
    "            idx = self.bs_idx(dp, num)\n",
    "            if idx == len(dp):\n",
    "                dp.append(num)\n",
    "            else:\n",
    "                dp[idx] = num\n",
    "        return len(dp)\n",
    "\n",
    "ans = Solution()\n",
    "ans.lengthOfLIS([7,7,7])"
   ]
  }
 ],
 "metadata": {
  "kernelspec": {
   "display_name": "Python 3",
   "language": "python",
   "name": "python3"
  },
  "language_info": {
   "codemirror_mode": {
    "name": "ipython",
    "version": 3
   },
   "file_extension": ".py",
   "mimetype": "text/x-python",
   "name": "python",
   "nbconvert_exporter": "python",
   "pygments_lexer": "ipython3",
   "version": "3.11.2"
  },
  "orig_nbformat": 4
 },
 "nbformat": 4,
 "nbformat_minor": 2
}
