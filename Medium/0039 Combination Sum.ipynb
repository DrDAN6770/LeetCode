{
 "cells": [
  {
   "cell_type": "markdown",
   "metadata": {},
   "source": [
    "# 39. Combination Sum\n",
    "---\n",
    "https://leetcode.com/problems/combination-sum/?envType=list&envId=rwo58iji"
   ]
  },
  {
   "cell_type": "code",
   "execution_count": 2,
   "metadata": {},
   "outputs": [
    {
     "data": {
      "text/plain": [
       "[[2, 2, 2, 2], [2, 3, 3], [3, 5]]"
      ]
     },
     "execution_count": 2,
     "metadata": {},
     "output_type": "execute_result"
    }
   ],
   "source": [
    "# BackTracking(減法)\n",
    "class Solution:\n",
    "    def combinationSum(self, candidates: list[int], target: int) -> list[list[int]]:\n",
    "        def backtracking(lst: list[int], remain: int, index: int):\n",
    "            if remain == 0:\n",
    "                res.append(lst.copy())\n",
    "                return\n",
    "            if remain < 0:\n",
    "                return\n",
    "            for i in range(index, len(candidates)):\n",
    "                lst.append(candidates[i])\n",
    "                backtracking(lst, remain - candidates[i], i)\n",
    "                lst.pop()\n",
    "\n",
    "        if not candidates or min(candidates) > target:\n",
    "            return None\n",
    "        \n",
    "        res = []\n",
    "        backtracking([], target, 0)\n",
    "        return res\n",
    "\n",
    "ans = Solution()\n",
    "ans.combinationSum([2,3,5],8)"
   ]
  },
  {
   "cell_type": "code",
   "execution_count": 6,
   "metadata": {},
   "outputs": [
    {
     "data": {
      "text/plain": [
       "[[2, 2, 2, 2], [2, 3, 3], [3, 5]]"
      ]
     },
     "execution_count": 6,
     "metadata": {},
     "output_type": "execute_result"
    }
   ],
   "source": [
    "# BackTracking(加法)\n",
    "class Solution:\n",
    "    def combinationSum(self, candidates: list[int], target: int) -> list[list[int]]:\n",
    "        def backtracking(lst: list[int], index: int):\n",
    "            temp_sum = sum(lst)\n",
    "            if temp_sum == target:\n",
    "                res.append(lst.copy())\n",
    "            elif temp_sum < target:\n",
    "                for i in range(index, len(candidates)):\n",
    "                    lst.append(candidates[i])\n",
    "                    backtracking(lst, i)\n",
    "                    lst.pop()\n",
    "\n",
    "        if not candidates or min(candidates) > target:\n",
    "            return None\n",
    "        \n",
    "        res = []\n",
    "        backtracking([], 0)\n",
    "        return res\n",
    "\n",
    "ans = Solution()\n",
    "ans.combinationSum([2,3,5],8)"
   ]
  }
 ],
 "metadata": {
  "kernelspec": {
   "display_name": "Python 3",
   "language": "python",
   "name": "python3"
  },
  "language_info": {
   "codemirror_mode": {
    "name": "ipython",
    "version": 3
   },
   "file_extension": ".py",
   "mimetype": "text/x-python",
   "name": "python",
   "nbconvert_exporter": "python",
   "pygments_lexer": "ipython3",
   "version": "3.11.2"
  },
  "orig_nbformat": 4
 },
 "nbformat": 4,
 "nbformat_minor": 2
}
