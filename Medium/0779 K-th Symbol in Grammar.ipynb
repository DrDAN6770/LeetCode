{
 "cells": [
  {
   "cell_type": "markdown",
   "metadata": {},
   "source": [
    "# 779. K-th Symbol in Grammar\n",
    "---\n",
    "https://leetcode.com/problems/k-th-symbol-in-grammar/"
   ]
  },
  {
   "cell_type": "code",
   "execution_count": 2,
   "metadata": {},
   "outputs": [
    {
     "data": {
      "text/plain": [
       "1"
      ]
     },
     "execution_count": 2,
     "metadata": {},
     "output_type": "execute_result"
    }
   ],
   "source": [
    "# O(n) O(n)\n",
    "# , represent mid\n",
    "# n = 1 0\n",
    "# n = 2 0,1\n",
    "# n = 3 01,10\n",
    "# n = 4 0110,1001\n",
    "\n",
    "class Solution:\n",
    "    def kthGrammar(self, n: int, k: int) -> int:\n",
    "        if n == 1: return 0\n",
    "        m = 2**(n-2)\n",
    "        return self.kthGrammar(n-1, k) if k <=m else 1 - self.kthGrammar(n-1, k-m)\n",
    "ans = Solution()\n",
    "ans.kthGrammar(4,2)"
   ]
  },
  {
   "cell_type": "code",
   "execution_count": 3,
   "metadata": {},
   "outputs": [
    {
     "data": {
      "text/plain": [
       "0"
      ]
     },
     "execution_count": 3,
     "metadata": {},
     "output_type": "execute_result"
    }
   ],
   "source": [
    "class Solution:\n",
    "    def kthGrammar(self, n: int, k: int) -> int:\n",
    "        if n == 1: return 0\n",
    "        return self.kthGrammar(n-1, (k+1)>>1) if k & 1 else 1 - self.kthGrammar(n-1, (k+1)>>1)\n",
    "ans = Solution()\n",
    "ans.kthGrammar(4,1)"
   ]
  },
  {
   "cell_type": "code",
   "execution_count": 4,
   "metadata": {},
   "outputs": [
    {
     "data": {
      "text/plain": [
       "0"
      ]
     },
     "execution_count": 4,
     "metadata": {},
     "output_type": "execute_result"
    }
   ],
   "source": [
    "# O(logk) O(1)\n",
    "class Solution:\n",
    "    def kthGrammar(self, n: int, k: int) -> int:\n",
    "        return 1 if bin(k-1).count('1') & 1 else 0\n",
    "ans = Solution()\n",
    "ans.kthGrammar(3,4)"
   ]
  }
 ],
 "metadata": {
  "kernelspec": {
   "display_name": "Python 3",
   "language": "python",
   "name": "python3"
  },
  "language_info": {
   "codemirror_mode": {
    "name": "ipython",
    "version": 3
   },
   "file_extension": ".py",
   "mimetype": "text/x-python",
   "name": "python",
   "nbconvert_exporter": "python",
   "pygments_lexer": "ipython3",
   "version": "3.11.2"
  },
  "orig_nbformat": 4
 },
 "nbformat": 4,
 "nbformat_minor": 2
}
