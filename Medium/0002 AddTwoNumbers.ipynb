{
  "nbformat": 4,
  "nbformat_minor": 0,
  "metadata": {
    "colab": {
      "provenance": [],
      "authorship_tag": "ABX9TyOzM636CO5TR8uapnJiFKmZ",
      "include_colab_link": true
    },
    "kernelspec": {
      "name": "python3",
      "display_name": "Python 3"
    },
    "language_info": {
      "name": "python"
    }
  },
  "cells": [
    {
      "cell_type": "markdown",
      "metadata": {
        "id": "view-in-github",
        "colab_type": "text"
      },
      "source": [
        "<a href=\"https://colab.research.google.com/github/DrDAN6770/LeetCode/blob/main/Medium/0002%20AddTwoNumbers.ipynb\" target=\"_parent\"><img src=\"https://colab.research.google.com/assets/colab-badge.svg\" alt=\"Open In Colab\"/></a>"
      ]
    },
    {
      "cell_type": "markdown",
      "source": [
        "#2. Add Two Numbers\n",
        "\n",
        "---\n",
        "\n",
        "https://leetcode.com/problems/add-two-numbers/description/"
      ],
      "metadata": {
        "id": "Mpxx2Cl3AQjt"
      }
    },
    {
      "cell_type": "code",
      "execution_count": 16,
      "metadata": {
        "colab": {
          "base_uri": "https://localhost:8080/"
        },
        "id": "_M7vWGWJAM6I",
        "outputId": "35673f8d-9402-4446-a1fd-063027668b08"
      },
      "outputs": [
        {
          "output_type": "stream",
          "name": "stdout",
          "text": [
            "70401"
          ]
        }
      ],
      "source": [
        "from typing import Optional\n",
        "\n",
        "# Definition for singly-linked list.\n",
        "class ListNode:\n",
        "    def __init__(self, val=0, next=None):\n",
        "        self.val = val\n",
        "        self.next = next\n",
        "class Solution:\n",
        "    def addTwoNumbers(self, l1: Optional[ListNode], l2: Optional[ListNode]) -> Optional[ListNode]:\n",
        "        def linkedlistTolist(l):\n",
        "            res = []\n",
        "            templ = l\n",
        "            while templ:\n",
        "                res.append(templ.val)\n",
        "                templ = templ.next\n",
        "            return res\n",
        "\n",
        "        #轉字串倒序轉整數\n",
        "        newl1 = int(''.join(map(str,linkedlistTolist(l1)))[::-1])\n",
        "        newl2 = int(''.join(map(str,linkedlistTolist(l2)))[::-1])\n",
        "\n",
        "        strsum = str(newl1 + newl2)\n",
        "\n",
        "        result =  [int(char) for char in strsum[::-1]]\n",
        "\n",
        "        # convert list to listnode\n",
        "        dummy = ListNode()\n",
        "        temp = dummy\n",
        "        for val in result:\n",
        "            temp.next = ListNode(val)\n",
        "            temp = temp.next\n",
        "\n",
        "        return dummy.next\n",
        "\n",
        "\n",
        "data1 = [2,4,9]\n",
        "data2 = [5,6,4,9]\n",
        "\n",
        "l1 = cur = ListNode()\n",
        "for i in data1:\n",
        "  cur.next = ListNode(i)\n",
        "  cur = cur.next\n",
        "l1 = l1.next\n",
        "\n",
        "l2 = cur = ListNode()\n",
        "for i in data2:\n",
        "  cur.next = ListNode(i)\n",
        "  cur = cur.next\n",
        "l2 = l2.next\n",
        "\n",
        "# l1 = ListNode(2)\n",
        "# l1.next = ListNode(4)\n",
        "# l1.next.next = ListNode(9)\n",
        "# l2 = ListNode(5)\n",
        "# l2.next = ListNode(6)\n",
        "# l2.next.next = ListNode(4)\n",
        "# l2.next.next.next = ListNode(9)\n",
        "\n",
        "a = Solution()\n",
        "res = a.addTwoNumbers(l1,l2)\n",
        "while res:\n",
        "  print(res.val,end = '')\n",
        "  res = res.next"
      ]
    },
    {
      "cell_type": "code",
      "source": [
        "from typing import Optional\n",
        "\n",
        "# Definition for singly-linked list.\n",
        "class ListNode:\n",
        "    def __init__(self, val=0, next=None):\n",
        "        self.val = val\n",
        "        self.next = next\n",
        "class Solution:\n",
        "    def addTwoNumbers(self, l1: Optional[ListNode], l2: Optional[ListNode]) -> Optional[ListNode]:\n",
        "        #創新鍊表\n",
        "        dummy = ListNode()\n",
        "        current = dummy\n",
        "        carry = 0 #進位數，1或0\n",
        "\n",
        "        while l1 or l2 or carry:\n",
        "            #從原鍊表取值\n",
        "            n1 = l1.val if l1 else 0\n",
        "            n2 = l2.val if l2 else 0\n",
        "\n",
        "            #計算\n",
        "            sum = n1 + n2 + carry\n",
        "            carry = sum // 10\n",
        "            sum %= 10\n",
        "\n",
        "            #建新node並加入值\n",
        "            current.next = ListNode(sum)\n",
        "\n",
        "            #更新節點位置\n",
        "            current = current.next\n",
        "            l1 = l1.next if l1 else 0\n",
        "            l2 = l2.next if l2 else 0\n",
        "        return dummy.next\n",
        "\n",
        "data1 = [2,4,9]\n",
        "data2 = [5,6,4,9]\n",
        "\n",
        "l1 = cur = ListNode()\n",
        "for i in data1:\n",
        "  cur.next = ListNode(i)\n",
        "  cur = cur.next\n",
        "l1 = l1.next\n",
        "\n",
        "l2 = cur = ListNode()\n",
        "for i in data2:\n",
        "  cur.next = ListNode(i)\n",
        "  cur = cur.next\n",
        "l2 = l2.next\n",
        "\n",
        "a = Solution()\n",
        "res = a.addTwoNumbers(l1,l2)\n",
        "\n",
        "while res:\n",
        "    print(res.val,end = '')\n",
        "    res = res.next"
      ],
      "metadata": {
        "colab": {
          "base_uri": "https://localhost:8080/"
        },
        "id": "1xZ8rK4HFM1Y",
        "outputId": "9381d41a-d724-4dae-9ff8-e3e9e713195a"
      },
      "execution_count": 18,
      "outputs": [
        {
          "output_type": "stream",
          "name": "stdout",
          "text": [
            "70401"
          ]
        }
      ]
    }
  ]
}