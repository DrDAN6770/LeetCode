{
 "cells": [
  {
   "cell_type": "markdown",
   "metadata": {},
   "source": [
    "# 347. Top K Frequent Elements\n",
    "---\n",
    "https://leetcode.com/problems/top-k-frequent-elements/description/"
   ]
  },
  {
   "cell_type": "code",
   "execution_count": 4,
   "metadata": {},
   "outputs": [
    {
     "data": {
      "text/plain": [
       "[4, 5]"
      ]
     },
     "execution_count": 4,
     "metadata": {},
     "output_type": "execute_result"
    }
   ],
   "source": [
    "# counter.most_common O(nlogk) O(n)\n",
    "from collections import Counter\n",
    "class Solution:\n",
    "    def topKFrequent(self, nums: list[int], k: int) -> list[int]:\n",
    "        return [v for v, c in Counter(nums).most_common(k)]\n",
    "\n",
    "ans = Solution()\n",
    "ans.topKFrequent([4,4,5,5,3], 2)"
   ]
  },
  {
   "cell_type": "code",
   "execution_count": 11,
   "metadata": {},
   "outputs": [
    {
     "data": {
      "text/plain": [
       "[5, 1]"
      ]
     },
     "execution_count": 11,
     "metadata": {},
     "output_type": "execute_result"
    }
   ],
   "source": [
    "# Bucket sort O(n + k) O(nk)\n",
    "from collections import defaultdict\n",
    "class Solution:\n",
    "    def topKFrequent(self, nums: list[int], k: int) -> list[int]:\n",
    "        res = []\n",
    "        buckets = defaultdict(list)\n",
    "        for num, cnt in Counter(nums).items():\n",
    "            buckets[cnt].append(num)\n",
    "        \n",
    "        for i in range(len(nums), 0 , -1):\n",
    "            res.extend(buckets[i])\n",
    "            if len(res) >= k:\n",
    "                break\n",
    "        return res[:k]\n",
    "\n",
    "ans = Solution()\n",
    "ans.topKFrequent([1,2,3,4,5,5], 2)\n",
    "# 1,1,2,2,3 >> [[],[3],[1,2],[],[]]\n",
    "# 1,1,1 >> [[],[],[1]]"
   ]
  },
  {
   "cell_type": "code",
   "execution_count": null,
   "metadata": {},
   "outputs": [],
   "source": [
    "# heapify O(nlogk) O(n)\n",
    "from heapq import heappop, heapify\n",
    "class Solution:\n",
    "    def topKFrequent(self, nums: list[int], k: int) -> list[int]:\n",
    "        maxheap = [(-cnt, num) for num, cnt in Counter(nums).items()]\n",
    "        heapify(maxheap)\n",
    "        res = []\n",
    "        for _ in range(k):\n",
    "            res.append(heappop(maxheap)[1])\n",
    "        return res\n",
    "\n",
    "ans = Solution()\n",
    "ans.topKFrequent([4,4,5,5,3], 2)"
   ]
  },
  {
   "cell_type": "code",
   "execution_count": 7,
   "metadata": {},
   "outputs": [
    {
     "data": {
      "text/plain": [
       "[4, 5]"
      ]
     },
     "execution_count": 7,
     "metadata": {},
     "output_type": "execute_result"
    }
   ],
   "source": [
    "# # nlargest O(nlogn) O(n)\n",
    "import heapq\n",
    "class Solution:\n",
    "    def topKFrequent(self, nums: list[int], k: int) -> list[int]:\n",
    "        count = Counter(nums)\n",
    "        return heapq.nlargest(k, count.keys(), key = count.get)\n",
    "\n",
    "ans = Solution()\n",
    "ans.topKFrequent([4,4,5,5,3], 2)"
   ]
  },
  {
   "cell_type": "code",
   "execution_count": 5,
   "metadata": {},
   "outputs": [
    {
     "data": {
      "text/plain": [
       "[4, 5]"
      ]
     },
     "execution_count": 5,
     "metadata": {},
     "output_type": "execute_result"
    }
   ],
   "source": [
    "# hashmap + sort O(nlogn) O(n)\n",
    "class Solution:\n",
    "    def topKFrequent(self, nums: list[int], k: int) -> list[int]:\n",
    "        hmp = {}\n",
    "        for num in nums:\n",
    "            hmp[num] = hmp.get(num, 0) + 1\n",
    "        return sorted(hmp.keys(), key = lambda x: hmp[x])[-k:]\n",
    "\n",
    "ans = Solution()\n",
    "ans.topKFrequent([4,4,5,5,3], 2)"
   ]
  }
 ],
 "metadata": {
  "kernelspec": {
   "display_name": "Python 3",
   "language": "python",
   "name": "python3"
  },
  "language_info": {
   "codemirror_mode": {
    "name": "ipython",
    "version": 3
   },
   "file_extension": ".py",
   "mimetype": "text/x-python",
   "name": "python",
   "nbconvert_exporter": "python",
   "pygments_lexer": "ipython3",
   "version": "3.11.2"
  },
  "orig_nbformat": 4
 },
 "nbformat": 4,
 "nbformat_minor": 2
}
