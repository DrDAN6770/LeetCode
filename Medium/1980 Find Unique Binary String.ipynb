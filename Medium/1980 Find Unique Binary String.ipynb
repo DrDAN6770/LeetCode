{
 "cells": [
  {
   "cell_type": "markdown",
   "metadata": {},
   "source": [
    "# 1980. Find Unique Binary String\n",
    "---\n",
    "https://leetcode.com/problems/find-unique-binary-string/"
   ]
  },
  {
   "cell_type": "code",
   "execution_count": 11,
   "metadata": {},
   "outputs": [
    {
     "data": {
      "text/plain": [
       "'001'"
      ]
     },
     "execution_count": 11,
     "metadata": {},
     "output_type": "execute_result"
    }
   ],
   "source": [
    "# O(無限) O(n) >> 理論上不會到無限, 通常可以一次迭代中找到\n",
    "import random\n",
    "class Solution:\n",
    "    def findDifferentBinaryString(self, nums: list[str]) -> str:\n",
    "        seen = set()\n",
    "        n = len(nums)\n",
    "\n",
    "        for num in nums:\n",
    "            seen.add(int(num, 2))\n",
    "        \n",
    "        res = int(nums[0], 2)\n",
    "        while res in seen:\n",
    "            res = random.randrange(0, 2**n)\n",
    "        \n",
    "        ans = bin(res)[2:]\n",
    "        return \"0\" * (n - len(ans)) + ans\n",
    "ans = Solution()\n",
    "ans.findDifferentBinaryString([\"000\", \"111\", \"110\"])"
   ]
  },
  {
   "cell_type": "code",
   "execution_count": 1,
   "metadata": {},
   "outputs": [
    {
     "data": {
      "text/plain": [
       "'001'"
      ]
     },
     "execution_count": 1,
     "metadata": {},
     "output_type": "execute_result"
    }
   ],
   "source": [
    "# O(n2) O(n)\n",
    "class Solution:\n",
    "    def findDifferentBinaryString(self, nums: list[str]) -> str:\n",
    "        seen = set()\n",
    "        n = len(nums)\n",
    "\n",
    "        for num in nums:\n",
    "            seen.add(int(num, 2))\n",
    "        \n",
    "        for i in range(n + 1):\n",
    "            if i not in seen:\n",
    "                res = bin(i)[2:]\n",
    "                return \"0\" * (n - len(res)) + res\n",
    "        return \"\"\n",
    "ans = Solution()\n",
    "ans.findDifferentBinaryString([\"000\", \"111\", \"110\"])"
   ]
  }
 ],
 "metadata": {
  "kernelspec": {
   "display_name": "Python 3",
   "language": "python",
   "name": "python3"
  },
  "language_info": {
   "codemirror_mode": {
    "name": "ipython",
    "version": 3
   },
   "file_extension": ".py",
   "mimetype": "text/x-python",
   "name": "python",
   "nbconvert_exporter": "python",
   "pygments_lexer": "ipython3",
   "version": "3.11.2"
  }
 },
 "nbformat": 4,
 "nbformat_minor": 2
}
