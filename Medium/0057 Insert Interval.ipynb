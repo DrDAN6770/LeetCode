{
 "cells": [
  {
   "cell_type": "markdown",
   "metadata": {},
   "source": [
    "# 57. Insert Interval\n",
    "---\n",
    "https://leetcode.com/problems/insert-interval/?envType=list&envId=rwo58iji"
   ]
  },
  {
   "cell_type": "code",
   "execution_count": 11,
   "metadata": {},
   "outputs": [
    {
     "data": {
      "text/plain": [
       "[[1, 2], [3, 10], [12, 16]]"
      ]
     },
     "execution_count": 11,
     "metadata": {},
     "output_type": "execute_result"
    }
   ],
   "source": [
    "# O(nlogn)\n",
    "class Solution:\n",
    "    def insert(self, intervals: list[list[int]], newInterval: list[int]) -> list[list[int]]:\n",
    "        intervals.append(newInterval)\n",
    "        intervals.sort()\n",
    "        res = [intervals[0]]\n",
    "        for sub in intervals[1:]:\n",
    "            start, end = sub\n",
    "            if res[-1][-1] >= start:\n",
    "                res[-1][-1] = max(res[-1][-1], end)\n",
    "                continue\n",
    "            res.append(sub)\n",
    "        return res\n",
    "\n",
    "ans = Solution()\n",
    "ans.insert([[1,2],[3,5],[6,7],[8,10],[12,16]], [4,8])"
   ]
  },
  {
   "cell_type": "code",
   "execution_count": 23,
   "metadata": {},
   "outputs": [
    {
     "data": {
      "text/plain": [
       "[[1, 2], [3, 7], [8, 9]]"
      ]
     },
     "execution_count": 23,
     "metadata": {},
     "output_type": "execute_result"
    }
   ],
   "source": [
    "# O(n)\n",
    "class Solution:\n",
    "    def insert(self, intervals: list[list[int]], newInterval: list[int]) -> list[list[int]]:\n",
    "        start, end = newInterval\n",
    "        left = []\n",
    "        right = []\n",
    "        for interval in intervals:\n",
    "            if interval[-1] < start:\n",
    "                left.append(interval)\n",
    "            elif interval[0] > end:\n",
    "                right.append(interval)\n",
    "            else:\n",
    "                start = min(start, interval[0])\n",
    "                end = max(end, interval[-1])\n",
    "        return  left + [[start, end]] + right\n",
    "ans = Solution()\n",
    "ans.insert([[1,2],[5,7],[8,9]], [3,6])"
   ]
  },
  {
   "cell_type": "code",
   "execution_count": 27,
   "metadata": {},
   "outputs": [
    {
     "data": {
      "text/plain": [
       "[[1, 5]]"
      ]
     },
     "execution_count": 27,
     "metadata": {},
     "output_type": "execute_result"
    }
   ],
   "source": [
    "# O(n)\n",
    "class Solution:\n",
    "    def insert(self, intervals: list[list[int]], newInterval: list[int]) -> list[list[int]]:\n",
    "        start, end = newInterval\n",
    "        res = []\n",
    "        for idx, interval in enumerate(intervals):\n",
    "            if interval[-1] < start:\n",
    "                res.append(interval)\n",
    "            elif interval[0] > end:\n",
    "                return res + [[start, end]] + intervals[idx:]\n",
    "            else:\n",
    "                start = min(start, interval[0])\n",
    "                end = max(end, interval[-1])\n",
    "        res.append([start, end])\n",
    "        return res\n",
    "ans = Solution()\n",
    "ans.insert([[1,5]], [2,3])"
   ]
  }
 ],
 "metadata": {
  "kernelspec": {
   "display_name": "Python 3",
   "language": "python",
   "name": "python3"
  },
  "language_info": {
   "codemirror_mode": {
    "name": "ipython",
    "version": 3
   },
   "file_extension": ".py",
   "mimetype": "text/x-python",
   "name": "python",
   "nbconvert_exporter": "python",
   "pygments_lexer": "ipython3",
   "version": "3.11.2"
  },
  "orig_nbformat": 4
 },
 "nbformat": 4,
 "nbformat_minor": 2
}
