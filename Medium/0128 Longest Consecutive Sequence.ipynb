{
 "cells": [
  {
   "cell_type": "markdown",
   "metadata": {},
   "source": [
    "# 128. Longest Consecutive Sequence\n",
    "---\n",
    "https://leetcode.com/problems/longest-consecutive-sequence/description/?envType=list&envId=rwo58iji"
   ]
  },
  {
   "cell_type": "code",
   "execution_count": 1,
   "metadata": {},
   "outputs": [
    {
     "data": {
      "text/plain": [
       "4"
      ]
     },
     "execution_count": 1,
     "metadata": {},
     "output_type": "execute_result"
    }
   ],
   "source": [
    "# nlogn\n",
    "class Solution:\n",
    "    def longestConsecutive(self, nums: list[int]) -> int:\n",
    "        if not nums:\n",
    "            return 0\n",
    "        \n",
    "        res = 1\n",
    "        mx = float('-inf')\n",
    "        nums = sorted(list(set(nums)))\n",
    "        mn = nums[0]\n",
    "        for num in nums[1:]:\n",
    "            if num == mn + 1:\n",
    "                res += 1\n",
    "            else:\n",
    "                mx = max(res, mx)\n",
    "                res = 1\n",
    "            mn = num\n",
    "        return max(mx, res)\n",
    "ans = Solution()\n",
    "ans.longestConsecutive([100,4,200,1,3,2])"
   ]
  },
  {
   "cell_type": "code",
   "execution_count": 2,
   "metadata": {},
   "outputs": [
    {
     "data": {
      "text/plain": [
       "4"
      ]
     },
     "execution_count": 2,
     "metadata": {},
     "output_type": "execute_result"
    }
   ],
   "source": [
    "# O(n)\n",
    "class Solution:\n",
    "    def longestConsecutive(self, nums: list[int]) -> int:\n",
    "        if not nums:\n",
    "            return 0\n",
    "        \n",
    "        mx = 0\n",
    "        num_set = set(nums)\n",
    "        for num in nums:\n",
    "            if num - 1 not in num_set:\n",
    "                length = 1\n",
    "                while num + length in num_set:\n",
    "                    length += 1\n",
    "                mx = max(mx, length)\n",
    "        return mx\n",
    "ans = Solution()\n",
    "ans.longestConsecutive([100,4,200,1,3,2])"
   ]
  }
 ],
 "metadata": {
  "kernelspec": {
   "display_name": "Python 3",
   "language": "python",
   "name": "python3"
  },
  "language_info": {
   "codemirror_mode": {
    "name": "ipython",
    "version": 3
   },
   "file_extension": ".py",
   "mimetype": "text/x-python",
   "name": "python",
   "nbconvert_exporter": "python",
   "pygments_lexer": "ipython3",
   "version": "3.11.2"
  },
  "orig_nbformat": 4
 },
 "nbformat": 4,
 "nbformat_minor": 2
}
