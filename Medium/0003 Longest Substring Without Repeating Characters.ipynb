{
 "cells": [
  {
   "cell_type": "markdown",
   "metadata": {},
   "source": [
    "# 3. Longest Substring Without Repeating Characters\n",
    "---\n",
    "https://leetcode.com/problems/longest-substring-without-repeating-characters/description/?envType=list&envId=rwo58iji"
   ]
  },
  {
   "cell_type": "code",
   "execution_count": 7,
   "metadata": {},
   "outputs": [
    {
     "data": {
      "text/plain": [
       "3"
      ]
     },
     "execution_count": 7,
     "metadata": {},
     "output_type": "execute_result"
    }
   ],
   "source": [
    "class Solution:\n",
    "    def lengthOfLongestSubstring(self, s: str) -> int:\n",
    "        seen = {}\n",
    "        maxlen = 0\n",
    "        left = 0\n",
    "        for right in range(len(s)):\n",
    "            if s[right] not in seen:\n",
    "                maxlen = max(maxlen, right - left + 1)\n",
    "            else:\n",
    "                if seen[s[right]] >= left:\n",
    "                    left = seen[s[right]] + 1\n",
    "                else:\n",
    "                    maxlen = max(maxlen, right - left + 1)\n",
    "\n",
    "            seen[s[right]] = right\n",
    "        return maxlen\n",
    "ans = Solution()\n",
    "ans.lengthOfLongestSubstring('dvdf')"
   ]
  },
  {
   "cell_type": "code",
   "execution_count": 66,
   "metadata": {},
   "outputs": [
    {
     "data": {
      "text/plain": [
       "3"
      ]
     },
     "execution_count": 66,
     "metadata": {},
     "output_type": "execute_result"
    }
   ],
   "source": [
    "class Solution:\n",
    "    def lengthOfLongestSubstring(self, s: str) -> int:\n",
    "        maxlen = 0\n",
    "        seen = set()\n",
    "        left = 0\n",
    "        for right in range(len(s)):\n",
    "            if s[right] not in seen:\n",
    "                seen.add(s[right])\n",
    "                maxlen = max(maxlen, right - left + 1)\n",
    "            else:\n",
    "                while s[right] in seen:\n",
    "                    seen.remove(s[left])\n",
    "                    left += 1\n",
    "                seen.add(s[right])\n",
    "        return maxlen\n",
    "ans = Solution()\n",
    "ans.lengthOfLongestSubstring('pwwkew')"
   ]
  },
  {
   "cell_type": "code",
   "execution_count": 80,
   "metadata": {},
   "outputs": [
    {
     "data": {
      "text/plain": [
       "3"
      ]
     },
     "execution_count": 80,
     "metadata": {},
     "output_type": "execute_result"
    }
   ],
   "source": [
    "class Solution:\n",
    "    def lengthOfLongestSubstring(self, s: str) -> int:\n",
    "        seen = set()\n",
    "        maxlen = 0\n",
    "        left, right = 0, 0\n",
    "        while right < len(s):\n",
    "            if s[right] not in seen:\n",
    "                seen.add(s[right])\n",
    "                right += 1\n",
    "                maxlen = max(maxlen, right - left)\n",
    "            else:\n",
    "                seen.remove(s[left])\n",
    "                left += 1\n",
    "        return maxlen\n",
    "ans = Solution()\n",
    "ans.lengthOfLongestSubstring('abc')"
   ]
  }
 ],
 "metadata": {
  "kernelspec": {
   "display_name": "Python 3",
   "language": "python",
   "name": "python3"
  },
  "language_info": {
   "codemirror_mode": {
    "name": "ipython",
    "version": 3
   },
   "file_extension": ".py",
   "mimetype": "text/x-python",
   "name": "python",
   "nbconvert_exporter": "python",
   "pygments_lexer": "ipython3",
   "version": "3.11.2"
  },
  "orig_nbformat": 4
 },
 "nbformat": 4,
 "nbformat_minor": 2
}
