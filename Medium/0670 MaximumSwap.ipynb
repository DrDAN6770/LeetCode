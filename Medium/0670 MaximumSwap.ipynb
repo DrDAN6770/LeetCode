{
  "nbformat": 4,
  "nbformat_minor": 0,
  "metadata": {
    "colab": {
      "provenance": [],
      "authorship_tag": "ABX9TyOSF/pmBXbiEUFdyFnaxJeP",
      "include_colab_link": true
    },
    "kernelspec": {
      "name": "python3",
      "display_name": "Python 3"
    },
    "language_info": {
      "name": "python"
    }
  },
  "cells": [
    {
      "cell_type": "markdown",
      "metadata": {
        "id": "view-in-github",
        "colab_type": "text"
      },
      "source": [
        "<a href=\"https://colab.research.google.com/github/DrDAN6770/LeetCode/blob/main/Medium/0670%20MaximumSwap.ipynb\" target=\"_parent\"><img src=\"https://colab.research.google.com/assets/colab-badge.svg\" alt=\"Open In Colab\"/></a>"
      ]
    },
    {
      "cell_type": "markdown",
      "source": [
        "# 670.Maximum Swap\n",
        "\n",
        "\n",
        "---\n",
        "\n",
        "\n",
        "https://leetcode.com/problems/maximum-swap/description/"
      ],
      "metadata": {
        "id": "FZZSs7iVncYk"
      }
    },
    {
      "cell_type": "code",
      "execution_count": 1,
      "metadata": {
        "colab": {
          "base_uri": "https://localhost:8080/"
        },
        "id": "a0mD2ZjknZQO",
        "outputId": "0ff6ccb8-4460-466a-8fb5-5cfad4b2385e"
      },
      "outputs": [
        {
          "name": "stdout",
          "output_type": "stream",
          "text": [
            "9912\n"
          ]
        },
        {
          "output_type": "execute_result",
          "data": {
            "text/plain": [
              "9921"
            ]
          },
          "metadata": {},
          "execution_count": 1
        }
      ],
      "source": [
        "class Solution:\n",
        "  def maximumSwap(self, num: int) -> int:\n",
        "    s = list(str(num))\n",
        "\n",
        "    # 存字典 {'3':0, '5':1, '7':2, '8':3}\n",
        "    hash_map = {digit : idx for idx, digit in enumerate(s)}\n",
        "\n",
        "    # 遍歷字典，從最大數字9開始往下找到現在數字前一個 ex: 現在3 找到4就可以swap，不需要往下找\n",
        "    for idx, digit in enumerate(s):\n",
        "      for number in range(9, int(digit), -1):\n",
        "        temp_str = str(number)\n",
        "\n",
        "        # 這個數在字典且所在idx比現在大(代表在右邊)\n",
        "        if temp_str in hash_map and hash_map[temp_str] > idx:\n",
        "          s[idx], s[hash_map[temp_str]] = s[hash_map[temp_str]], s[idx]\n",
        "          return int(''.join(s))\n",
        "    \n",
        "    # 沒有swap,代表已是最大\n",
        "    return int(num)\n",
        "\n",
        "num = int(input())\n",
        "ans = Solution()\n",
        "ans.maximumSwap(num)"
      ]
    },
    {
      "cell_type": "code",
      "source": [
        "class Solution:\n",
        "  def maximumSwap(self, num: int) -> int:\n",
        "    s = list(str(num))\n",
        "    n = len(s)\n",
        "\n",
        "    # 降序排列回傳原數字，右邊>左邊 代表有可交換的組合\n",
        "    for i in range(n - 1):\n",
        "      if s[i] < s[i + 1]:\n",
        "        break\n",
        "    else:\n",
        "      return int(num)\n",
        "    \n",
        "    # 目前最大index、value (能走到這代表前面break，代表i後面值比較大)\n",
        "    max_idx, max_val = i + 1, s[i + 1]\n",
        "\n",
        "    # 接著找右邊最大的值、index\n",
        "    for j in range(i + 1, n):\n",
        "      if max_val <= s[j]:\n",
        "        max_idx, max_val = j, s[j]\n",
        "\n",
        "    # 往左找最小的index\n",
        "    left_idx = i\n",
        "    for j in range(i, -1, -1):\n",
        "      if s[j] < max_val:\n",
        "        left_idx = j\n",
        "\n",
        "    # Swap\n",
        "    s[max_idx], s[left_idx] = s[left_idx], s[max_idx]\n",
        "    return int(''.join(s))\n",
        "\n",
        "num = int(input())\n",
        "ans = Solution()\n",
        "ans.maximumSwap(num)"
      ],
      "metadata": {
        "colab": {
          "base_uri": "https://localhost:8080/"
        },
        "id": "n1yBUIj8oB7j",
        "outputId": "597c7a4f-5b0d-48cb-808b-3793869ff3f0"
      },
      "execution_count": 2,
      "outputs": [
        {
          "name": "stdout",
          "output_type": "stream",
          "text": [
            "2739\n"
          ]
        },
        {
          "output_type": "execute_result",
          "data": {
            "text/plain": [
              "9732"
            ]
          },
          "metadata": {},
          "execution_count": 2
        }
      ]
    }
  ]
}