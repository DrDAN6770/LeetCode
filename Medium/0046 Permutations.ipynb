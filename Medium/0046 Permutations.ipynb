{
 "cells": [
  {
   "cell_type": "markdown",
   "metadata": {},
   "source": [
    "# 46. Permutations\n",
    "---\n",
    "https://leetcode.com/problems/permutations/"
   ]
  },
  {
   "cell_type": "code",
   "execution_count": 2,
   "metadata": {},
   "outputs": [
    {
     "data": {
      "text/plain": [
       "[(1, 2, 3), (1, 3, 2), (2, 1, 3), (2, 3, 1), (3, 1, 2), (3, 2, 1)]"
      ]
     },
     "execution_count": 2,
     "metadata": {},
     "output_type": "execute_result"
    }
   ],
   "source": [
    "import itertools\n",
    "class Solution:\n",
    "    def permute(self, nums: list[int]) -> list[list[int]]:\n",
    "        return list(itertools.permutations(nums))\n",
    "ans = Solution()\n",
    "ans.permute([1,2,3])"
   ]
  },
  {
   "cell_type": "code",
   "execution_count": 7,
   "metadata": {},
   "outputs": [
    {
     "data": {
      "text/plain": [
       "[[1, 2, 3], [1, 3, 2], [2, 1, 3], [2, 3, 1], [3, 1, 2], [3, 2, 1]]"
      ]
     },
     "execution_count": 7,
     "metadata": {},
     "output_type": "execute_result"
    }
   ],
   "source": [
    "class Solution:\n",
    "    def permute(self, nums: list[int]) -> list[list[int]]:\n",
    "        def backtracking(lst):\n",
    "            if len(lst) == len(nums):\n",
    "                res.append(lst.copy())\n",
    "                return\n",
    "\n",
    "            for num in nums:\n",
    "                if num not in lst:\n",
    "                    lst.append(num)\n",
    "                    backtracking(lst)\n",
    "                    lst.pop()\n",
    "        \n",
    "        res = []\n",
    "        backtracking([])\n",
    "        return res\n",
    "        \n",
    "ans = Solution()\n",
    "ans.permute([1,2,3])"
   ]
  }
 ],
 "metadata": {
  "kernelspec": {
   "display_name": "Python 3",
   "language": "python",
   "name": "python3"
  },
  "language_info": {
   "codemirror_mode": {
    "name": "ipython",
    "version": 3
   },
   "file_extension": ".py",
   "mimetype": "text/x-python",
   "name": "python",
   "nbconvert_exporter": "python",
   "pygments_lexer": "ipython3",
   "version": "3.11.2"
  },
  "orig_nbformat": 4
 },
 "nbformat": 4,
 "nbformat_minor": 2
}
