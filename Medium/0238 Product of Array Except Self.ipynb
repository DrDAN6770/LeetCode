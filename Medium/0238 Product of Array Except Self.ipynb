{
 "cells": [
  {
   "cell_type": "markdown",
   "metadata": {},
   "source": [
    "# 238. Product of Array Except Self\n",
    "---\n",
    "https://leetcode.com/problems/product-of-array-except-self/description/"
   ]
  },
  {
   "cell_type": "code",
   "execution_count": 2,
   "metadata": {},
   "outputs": [
    {
     "data": {
      "text/plain": [
       "[0, 0, 0, 0, 0]"
      ]
     },
     "execution_count": 2,
     "metadata": {},
     "output_type": "execute_result"
    }
   ],
   "source": [
    "# prefix O(n) O(1)\n",
    "class Solution:\n",
    "    def productExceptSelf(self, nums: list[int]) -> list[int]:\n",
    "        n = len(nums)\n",
    "        res = [1] * n\n",
    "        for i in range(1, n):\n",
    "            res[i] = res[i-1] * nums[i-1]\n",
    "        \n",
    "        last = 1\n",
    "        for i in range(n-1, -1, -1):\n",
    "            res[i] *= last\n",
    "            last *= nums[i]\n",
    "        \n",
    "        return res\n",
    "ans = Solution()\n",
    "ans.productExceptSelf([1,1,0,0,5])"
   ]
  },
  {
   "cell_type": "code",
   "execution_count": 1,
   "metadata": {},
   "outputs": [
    {
     "data": {
      "text/plain": [
       "[0, 0, 15, 0, 0]"
      ]
     },
     "execution_count": 1,
     "metadata": {},
     "output_type": "execute_result"
    }
   ],
   "source": [
    "# in-place O(n) O(1)\n",
    "class Solution:\n",
    "    def productExceptSelf(self, nums: list[int]) -> list[int]:\n",
    "        p = 1\n",
    "        single_zero = False\n",
    "        muti_zero = False\n",
    "\n",
    "        for num in nums:\n",
    "            if single_zero and num == 0:\n",
    "                muti_zero = True\n",
    "                break\n",
    "            if num == 0:\n",
    "                single_zero = True\n",
    "            else:\n",
    "                p *= num\n",
    "        \n",
    "        for i in range(len(nums)):\n",
    "            if muti_zero:\n",
    "                nums[i] = 0\n",
    "                continue\n",
    "            if single_zero:\n",
    "                if nums[i] == 0:\n",
    "                    nums[i] = p\n",
    "                else:\n",
    "                    nums[i] = 0\n",
    "            elif not single_zero and not muti_zero:\n",
    "                nums[i] = p // nums[i]\n",
    "\n",
    "        return nums\n",
    "ans = Solution()\n",
    "ans.productExceptSelf([1,1,0,3,5])"
   ]
  }
 ],
 "metadata": {
  "kernelspec": {
   "display_name": "Python 3",
   "language": "python",
   "name": "python3"
  },
  "language_info": {
   "codemirror_mode": {
    "name": "ipython",
    "version": 3
   },
   "file_extension": ".py",
   "mimetype": "text/x-python",
   "name": "python",
   "nbconvert_exporter": "python",
   "pygments_lexer": "ipython3",
   "version": "3.11.2"
  },
  "orig_nbformat": 4
 },
 "nbformat": 4,
 "nbformat_minor": 2
}
