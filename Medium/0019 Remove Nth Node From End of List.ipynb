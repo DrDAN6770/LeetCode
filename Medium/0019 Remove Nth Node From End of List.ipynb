{
 "cells": [
  {
   "cell_type": "markdown",
   "metadata": {},
   "source": [
    "# 19. Remove Nth Node From End of List\n",
    "---\n",
    "https://leetcode.com/problems/remove-nth-node-from-end-of-list/description/?envType=list&envId=rwo58iji"
   ]
  },
  {
   "cell_type": "code",
   "execution_count": null,
   "metadata": {},
   "outputs": [],
   "source": [
    "'''\n",
    "s: slow ; f: fast 快慢指標的間距為n\n",
    "|1,2,3,4,5| n = 2\n",
    "|s   f    | s、f繼續移動\n",
    "|  s   f  | s、f繼續移動\n",
    "|    s   f| s、f繼續移動\n",
    "|      s  |f  已超過(f只到none)\n",
    "但其實要停在3的位置去重新指向\n",
    "所以需要一個dummy node\n",
    "0,|1,2,3,4,5| n = 2\n",
    "  |    s   f|\n",
    "'''\n",
    "\n",
    "'''\n",
    "反轉移除再反轉\n",
    "'''"
   ]
  },
  {
   "cell_type": "code",
   "execution_count": 55,
   "metadata": {},
   "outputs": [],
   "source": [
    "class ListNode:\n",
    "    def __init__(self, val=0, next=None):\n",
    "        self.val = val\n",
    "        self.next = next\n",
    "\n",
    "def craetListNode(data):\n",
    "    tmp = ListNode()\n",
    "    head = tmp\n",
    "    for val in data:\n",
    "        head.next = ListNode(val)\n",
    "        head = head.next\n",
    "    return tmp.next\n",
    "\n",
    "class Solution:\n",
    "    def removeNthFromEnd(self, head: ListNode, n: int) -> ListNode:\n",
    "        dummy = ListNode(0,head)\n",
    "        slow = dummy\n",
    "        fast = dummy\n",
    "        for _ in range(n):\n",
    "            fast = fast.next\n",
    "            \n",
    "        if not fast:\n",
    "            return head.next\n",
    "        while fast.next:\n",
    "            fast = fast.next\n",
    "            slow = slow.next\n",
    "        \n",
    "        # re assign\n",
    "        slow.next = slow.next.next\n",
    "        return dummy.next\n",
    "\n",
    "\n",
    "class Solution2:\n",
    "    def removeNthFromEnd(self, head: ListNode, n: int) -> ListNode:\n",
    "        # reverse\n",
    "        curr = head\n",
    "        prev = None\n",
    "        while curr:\n",
    "            next_node = curr.next\n",
    "            curr.next = prev\n",
    "            prev = curr\n",
    "            curr = next_node\n",
    "        \n",
    "        head = prev\n",
    "\n",
    "        # delete\n",
    "        if n == 1: head = head.next\n",
    "        else:\n",
    "            idx = 1\n",
    "            curr = head\n",
    "            while curr:\n",
    "                if idx + 1 == n:\n",
    "                    curr.next = curr.next.next\n",
    "                curr = curr.next\n",
    "                idx += 1\n",
    "        \n",
    "        # re - reverse\n",
    "        curr = head\n",
    "        prev = None\n",
    "        while curr:\n",
    "            next_node = curr.next\n",
    "            curr.next = prev\n",
    "            prev = curr\n",
    "            curr = next_node\n",
    "        \n",
    "        head = prev\n",
    "        return head"
   ]
  },
  {
   "cell_type": "code",
   "execution_count": 54,
   "metadata": {},
   "outputs": [
    {
     "name": "stdout",
     "output_type": "stream",
     "text": [
      "1379"
     ]
    }
   ],
   "source": [
    "# 建立\n",
    "head = craetListNode([1,3,5,7,9])\n",
    "ans = Solution()\n",
    "res = ans.removeNthFromEnd(head, 3)\n",
    "\n",
    "# 印出\n",
    "while res:\n",
    "    print(res.val, end='')\n",
    "    res = res.next"
   ]
  },
  {
   "cell_type": "code",
   "execution_count": 62,
   "metadata": {},
   "outputs": [
    {
     "name": "stdout",
     "output_type": "stream",
     "text": [
      "15"
     ]
    }
   ],
   "source": [
    "# 建立\n",
    "head = craetListNode([1,2,5])\n",
    "ans = Solution2()\n",
    "res = ans.removeNthFromEnd(head, 2)\n",
    "\n",
    "# 印出\n",
    "while res:\n",
    "    print(res.val, end='')\n",
    "    res = res.next"
   ]
  }
 ],
 "metadata": {
  "kernelspec": {
   "display_name": "Python 3",
   "language": "python",
   "name": "python3"
  },
  "language_info": {
   "codemirror_mode": {
    "name": "ipython",
    "version": 3
   },
   "file_extension": ".py",
   "mimetype": "text/x-python",
   "name": "python",
   "nbconvert_exporter": "python",
   "pygments_lexer": "ipython3",
   "version": "3.11.2"
  },
  "orig_nbformat": 4
 },
 "nbformat": 4,
 "nbformat_minor": 2
}
