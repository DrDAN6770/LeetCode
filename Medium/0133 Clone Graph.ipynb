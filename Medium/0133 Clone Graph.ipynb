{
 "cells": [
  {
   "cell_type": "markdown",
   "metadata": {},
   "source": [
    "# 133. Clone Graph\n",
    "---\n",
    "https://leetcode.com/problems/clone-graph/description/?envType=list&envId=rwo58iji"
   ]
  },
  {
   "cell_type": "code",
   "execution_count": null,
   "metadata": {},
   "outputs": [],
   "source": [
    "# BFS\n",
    "\"\"\"\n",
    "# Definition for a Node.\n",
    "class Node:\n",
    "    def __init__(self, val = 0, neighbors = None):\n",
    "        self.val = val\n",
    "        self.neighbors = neighbors if neighbors is not None else []\n",
    "\"\"\"\n",
    "\n",
    "class Solution:\n",
    "    def cloneGraph(self, node: 'Node') -> 'Node':\n",
    "        if not node:\n",
    "            return None\n",
    "        \n",
    "        clone = Node(node.val) # 創新的(clone)\n",
    "        seen = {node : clone} # 初始第一個作為已看過\n",
    "        q = deque([node]) # deque\n",
    "\n",
    "        # BFS\n",
    "        while q:\n",
    "            n = q.popleft()\n",
    "            for neighbor in n.neighbors:\n",
    "                if neighbor not in seen:\n",
    "                    seen[neighbor] = Node(neighbor.val)\n",
    "                    q.append(neighbor)\n",
    "                seen[n].neighbors.append(seen[neighbor])\n",
    "        \n",
    "        return clone"
   ]
  },
  {
   "cell_type": "code",
   "execution_count": null,
   "metadata": {},
   "outputs": [],
   "source": [
    "# DFS - iter\n",
    "\"\"\"\n",
    "# Definition for a Node.\n",
    "class Node:\n",
    "    def __init__(self, val = 0, neighbors = None):\n",
    "        self.val = val\n",
    "        self.neighbors = neighbors if neighbors is not None else []\n",
    "\"\"\"\n",
    "\n",
    "class Solution:\n",
    "    def cloneGraph(self, node: 'Node') -> 'Node':\n",
    "        if not node:\n",
    "            return None\n",
    "        \n",
    "        clone = Node(node.val) # 創新的(clone)\n",
    "        seen = {node : clone} # 初始第一個作為已看過\n",
    "        stack = [node] # stack\n",
    "\n",
    "        # DFS\n",
    "        while stack:\n",
    "            n = stack.pop()\n",
    "            for neighbor in n.neighbors:\n",
    "                if neighbor not in seen:\n",
    "                    seen[neighbor] = Node(neighbor.val)\n",
    "                    stack.append(neighbor)\n",
    "                seen[n].neighbors.append(seen[neighbor])\n",
    "        \n",
    "        return clone"
   ]
  },
  {
   "cell_type": "code",
   "execution_count": null,
   "metadata": {},
   "outputs": [],
   "source": [
    "# DFS - recur\n",
    "\"\"\"\n",
    "# Definition for a Node.\n",
    "class Node:\n",
    "    def __init__(self, val = 0, neighbors = None):\n",
    "        self.val = val\n",
    "        self.neighbors = neighbors if neighbors is not None else []\n",
    "\"\"\"\n",
    "\n",
    "class Solution:\n",
    "    def cloneGraph(self, node: 'Node') -> 'Node':\n",
    "        def dfs(node):\n",
    "            if not node:\n",
    "                return None\n",
    "            if node in seen:\n",
    "                return seen[node]\n",
    "            \n",
    "            clone = Node(node.val)\n",
    "            seen[node] = clone\n",
    "            for neighbor in node.neighbors:\n",
    "                clone.neighbors.append(dfs(neighbor))\n",
    "\n",
    "            return clone\n",
    "        \n",
    "        seen = {}\n",
    "        return dfs(node)"
   ]
  }
 ],
 "metadata": {
  "kernelspec": {
   "display_name": "Python 3",
   "language": "python",
   "name": "python3"
  },
  "language_info": {
   "codemirror_mode": {
    "name": "ipython",
    "version": 3
   },
   "file_extension": ".py",
   "mimetype": "text/x-python",
   "name": "python",
   "nbconvert_exporter": "python",
   "pygments_lexer": "ipython3",
   "version": "3.11.2"
  },
  "orig_nbformat": 4
 },
 "nbformat": 4,
 "nbformat_minor": 2
}
