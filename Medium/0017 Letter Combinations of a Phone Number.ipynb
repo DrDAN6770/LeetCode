{
 "cells": [
  {
   "cell_type": "markdown",
   "metadata": {},
   "source": [
    "# 17. Letter Combinations of a Phone Number\n",
    "---\n",
    "https://leetcode.com/problems/letter-combinations-of-a-phone-number/"
   ]
  },
  {
   "cell_type": "code",
   "execution_count": 59,
   "metadata": {},
   "outputs": [
    {
     "data": {
      "text/plain": [
       "['a', 'b', 'c']"
      ]
     },
     "execution_count": 59,
     "metadata": {},
     "output_type": "execute_result"
    }
   ],
   "source": [
    "import itertools\n",
    "class Solution:\n",
    "    def letterCombinations(self, digits: str) -> list[str]:\n",
    "        if len(digits) == 0:\n",
    "            return\n",
    "        letters = {\n",
    "            \"2\": 'abc',\n",
    "            \"3\": 'def',\n",
    "            \"4\": 'ghi',\n",
    "            \"5\": 'jkl',\n",
    "            \"6\": 'mno',\n",
    "            \"7\": 'pqrs',\n",
    "            \"8\": 'tuv',\n",
    "            \"9\": 'wxyz'\n",
    "        }\n",
    "        res = itertools.product(*[letters.get(digit) for digit in digits])\n",
    "        ans = [''.join(item) for item in res]\n",
    "        return ans\n",
    "ans = Solution()\n",
    "ans.letterCombinations(\"2\")"
   ]
  },
  {
   "cell_type": "code",
   "execution_count": 61,
   "metadata": {},
   "outputs": [
    {
     "data": {
      "text/plain": [
       "['ad', 'ae', 'af', 'bd', 'be', 'bf', 'cd', 'ce', 'cf']"
      ]
     },
     "execution_count": 61,
     "metadata": {},
     "output_type": "execute_result"
    }
   ],
   "source": [
    "import itertools\n",
    "class Solution:\n",
    "    def letterCombinations(self, digits: str) -> list[str]:\n",
    "        if len(digits) == 0:\n",
    "            return\n",
    "        letters = {\n",
    "            \"2\": ['a', 'b', 'c'],\n",
    "            \"3\": ['d', 'e', 'f'],\n",
    "            \"4\": ['g', 'h', 'i'],\n",
    "            \"5\": ['j', 'k', 'l'],\n",
    "            \"6\": ['m', 'n', 'o'],\n",
    "            \"7\": ['p', 'q', 'r', 's'],\n",
    "            \"8\": ['t', 'u', 'v'],\n",
    "            \"9\": ['w', 'x', 'y', 'z']\n",
    "        }\n",
    "        res = itertools.product(*[letters.get(digit) for digit in digits])\n",
    "        ans = [''.join(item) for item in res]\n",
    "        return ans\n",
    "ans = Solution()\n",
    "ans.letterCombinations(\"23\")"
   ]
  },
  {
   "cell_type": "code",
   "execution_count": 69,
   "metadata": {},
   "outputs": [
    {
     "data": {
      "text/plain": [
       "['ag', 'ah', 'ai', 'bg', 'bh', 'bi', 'cg', 'ch', 'ci']"
      ]
     },
     "execution_count": 69,
     "metadata": {},
     "output_type": "execute_result"
    }
   ],
   "source": [
    "# BackTracking\n",
    "class Solution:\n",
    "    def letterCombinations(self, digits: str) -> list[str]:\n",
    "        def bt(comb, digit):\n",
    "            if len(digit) == 0:\n",
    "                res.append(comb)\n",
    "                return\n",
    "            \n",
    "            for letter in letters.get(digit[0]):\n",
    "                bt(comb + letter, digit[1:])\n",
    "        if len(digits) == 0:\n",
    "            return\n",
    "        letters = {\n",
    "            \"2\": 'abc',\n",
    "            \"3\": 'def',\n",
    "            \"4\": 'ghi',\n",
    "            \"5\": 'jkl',\n",
    "            \"6\": 'mno',\n",
    "            \"7\": 'pqrs',\n",
    "            \"8\": 'tuv',\n",
    "            \"9\": 'wxyz'\n",
    "        }\n",
    "        res = []\n",
    "        bt('', digits)\n",
    "        return res\n",
    "ans = Solution()\n",
    "ans.letterCombinations(\"24\")"
   ]
  },
  {
   "cell_type": "code",
   "execution_count": 74,
   "metadata": {},
   "outputs": [
    {
     "data": {
      "text/plain": [
       "['ad', 'ae', 'af', 'bd', 'be', 'bf', 'cd', 'ce', 'cf']"
      ]
     },
     "execution_count": 74,
     "metadata": {},
     "output_type": "execute_result"
    }
   ],
   "source": [
    "# BackTracking\n",
    "class Solution:\n",
    "    def letterCombinations(self, digits: str) -> list[str]:\n",
    "        def bt(lst, digit):\n",
    "            if len(lst) == len(digits):\n",
    "                res.append(''.join(lst.copy()))\n",
    "                return\n",
    "            \n",
    "            for letter in letters.get(digit[0]):\n",
    "                lst.append(letter)\n",
    "                bt(lst, digit[1:])\n",
    "                lst.pop()\n",
    "        if len(digits) == 0:\n",
    "            return\n",
    "        letters = {\n",
    "            \"2\": 'abc',\n",
    "            \"3\": 'def',\n",
    "            \"4\": 'ghi',\n",
    "            \"5\": 'jkl',\n",
    "            \"6\": 'mno',\n",
    "            \"7\": 'pqrs',\n",
    "            \"8\": 'tuv',\n",
    "            \"9\": 'wxyz'\n",
    "        }\n",
    "        res = []\n",
    "        bt([], digits)\n",
    "        return res\n",
    "ans = Solution()\n",
    "ans.letterCombinations(\"23\")"
   ]
  }
 ],
 "metadata": {
  "kernelspec": {
   "display_name": "Python 3",
   "language": "python",
   "name": "python3"
  },
  "language_info": {
   "codemirror_mode": {
    "name": "ipython",
    "version": 3
   },
   "file_extension": ".py",
   "mimetype": "text/x-python",
   "name": "python",
   "nbconvert_exporter": "python",
   "pygments_lexer": "ipython3",
   "version": "3.11.2"
  },
  "orig_nbformat": 4
 },
 "nbformat": 4,
 "nbformat_minor": 2
}
