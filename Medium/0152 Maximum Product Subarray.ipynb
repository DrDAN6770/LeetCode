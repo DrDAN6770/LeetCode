{
 "cells": [
  {
   "cell_type": "markdown",
   "metadata": {},
   "source": [
    "# 152. Maximum Product Subarray\n",
    "---\n",
    "https://leetcode.com/problems/maximum-product-subarray/description/"
   ]
  },
  {
   "cell_type": "code",
   "execution_count": 6,
   "metadata": {},
   "outputs": [
    {
     "data": {
      "text/plain": [
       "12"
      ]
     },
     "execution_count": 6,
     "metadata": {},
     "output_type": "execute_result"
    }
   ],
   "source": [
    "class Solution:\n",
    "    def maxProduct(self, nums: list[int]) -> int:\n",
    "        mn = mx = res = nums[0]\n",
    "        for n in nums[1:]:\n",
    "            cur_mn = min(mn * n, n, mx * n)\n",
    "            cur_mx = max(mn * n, n, mx * n)\n",
    "            mn, mx = cur_mn, cur_mx\n",
    "            res = max(res, cur_mx)\n",
    "        return res\n",
    "ans = Solution()\n",
    "ans.maxProduct([-1,2,3,-2])"
   ]
  }
 ],
 "metadata": {
  "kernelspec": {
   "display_name": "Python 3",
   "language": "python",
   "name": "python3"
  },
  "language_info": {
   "codemirror_mode": {
    "name": "ipython",
    "version": 3
   },
   "file_extension": ".py",
   "mimetype": "text/x-python",
   "name": "python",
   "nbconvert_exporter": "python",
   "pygments_lexer": "ipython3",
   "version": "3.11.2"
  },
  "orig_nbformat": 4
 },
 "nbformat": 4,
 "nbformat_minor": 2
}
