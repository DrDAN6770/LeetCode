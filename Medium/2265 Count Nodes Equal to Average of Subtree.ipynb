{
 "cells": [
  {
   "cell_type": "markdown",
   "metadata": {},
   "source": [
    "# 2265. Count Nodes Equal to Average of Subtree\n",
    "---\n",
    "https://leetcode.com/problems/count-nodes-equal-to-average-of-subtree/"
   ]
  },
  {
   "cell_type": "code",
   "execution_count": null,
   "metadata": {},
   "outputs": [],
   "source": [
    "# DFS Hash O(n) O(n)\n",
    "class Solution:\n",
    "    def averageOfSubtree(self, root) -> int:\n",
    "        res = 0\n",
    "        visited = None\n",
    "        st = []\n",
    "        mp = {None: (0, 0)} # {node : (sum, count)}\n",
    "\n",
    "        # postorder\n",
    "        while root or st:\n",
    "            if root:\n",
    "                st.append(root)\n",
    "                root = root.left\n",
    "            else:\n",
    "                node = st[-1]\n",
    "                if node.right and node.right != visited:\n",
    "                    root = node.right\n",
    "                else:\n",
    "                    st.pop()\n",
    "                    left = mp[node.left]\n",
    "                    right = mp[node.right]\n",
    "                    tmp_sum = left[0] + right[0] + node.val\n",
    "                    tmp_cnt = left[1] + right[1] + 1\n",
    "                    mp[node] = (tmp_sum, tmp_cnt)\n",
    "                    # check\n",
    "                    if node.val == tmp_sum // tmp_cnt:\n",
    "                        res += 1\n",
    "                    visited = node\n",
    "        return res"
   ]
  },
  {
   "cell_type": "code",
   "execution_count": null,
   "metadata": {},
   "outputs": [],
   "source": [
    "# DFS recur O(n) O(n)\n",
    "class Solution:\n",
    "    def dfs(self, root) -> tuple:\n",
    "        if not root:\n",
    "            return 0, 0\n",
    "        left = self.dfs(root.left)\n",
    "        right = self.dfs(root.right)\n",
    "\n",
    "        tmp_sum = left[0] + right[0] + root.val\n",
    "        tmp_cnt = left[1] + right[1] + 1\n",
    "\n",
    "        if root.val == tmp_sum // tmp_cnt:\n",
    "            self.res += 1\n",
    "        return tmp_sum, tmp_cnt\n",
    "\n",
    "    def averageOfSubtree(self, root) -> int:\n",
    "        self.res = 0\n",
    "        self.dfs(root)\n",
    "        return self.res"
   ]
  }
 ],
 "metadata": {
  "kernelspec": {
   "display_name": "Python 3",
   "language": "python",
   "name": "python3"
  },
  "language_info": {
   "codemirror_mode": {
    "name": "ipython",
    "version": 3
   },
   "file_extension": ".py",
   "mimetype": "text/x-python",
   "name": "python",
   "nbconvert_exporter": "python",
   "pygments_lexer": "ipython3",
   "version": "3.11.2"
  },
  "orig_nbformat": 4
 },
 "nbformat": 4,
 "nbformat_minor": 2
}
