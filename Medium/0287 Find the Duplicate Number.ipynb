{
 "cells": [
  {
   "cell_type": "markdown",
   "metadata": {},
   "source": [
    "# 287. Find the Duplicate Number\n",
    "---\n",
    "https://leetcode.com/problems/find-the-duplicate-number/"
   ]
  },
  {
   "cell_type": "code",
   "execution_count": 1,
   "metadata": {},
   "outputs": [
    {
     "data": {
      "text/plain": [
       "3"
      ]
     },
     "execution_count": 1,
     "metadata": {},
     "output_type": "execute_result"
    }
   ],
   "source": [
    "# abs O(n) O(1)\n",
    "class Solution:\n",
    "    def findDuplicate(self, nums: list[int]) -> int:\n",
    "        for num in nums:\n",
    "            idx = abs(num)\n",
    "            if nums[idx] < 0:\n",
    "                return idx\n",
    "            nums[idx] *= -1\n",
    "ans = Solution()\n",
    "ans.findDuplicate([3,1,3,4,2])"
   ]
  },
  {
   "cell_type": "code",
   "execution_count": null,
   "metadata": {},
   "outputs": [],
   "source": [
    "# set O(n) O(n)\n",
    "class Solution:\n",
    "    def findDuplicate(self, nums: list[int]) -> int:\n",
    "        seen = set()\n",
    "        for num in nums:\n",
    "            if num in seen:\n",
    "                return num\n",
    "            seen.add(num)"
   ]
  },
  {
   "cell_type": "code",
   "execution_count": null,
   "metadata": {},
   "outputs": [],
   "source": [
    "# Counter O(n) O(n)\n",
    "from collections import Counter\n",
    "class Solution:\n",
    "    def findDuplicate(self, nums: list[int]) -> int:\n",
    "        cnt = Counter(nums)\n",
    "        for k, v in cnt.items():\n",
    "            if v >= 2:\n",
    "                return k"
   ]
  }
 ],
 "metadata": {
  "kernelspec": {
   "display_name": "Python 3",
   "language": "python",
   "name": "python3"
  },
  "language_info": {
   "codemirror_mode": {
    "name": "ipython",
    "version": 3
   },
   "file_extension": ".py",
   "mimetype": "text/x-python",
   "name": "python",
   "nbconvert_exporter": "python",
   "pygments_lexer": "ipython3",
   "version": "3.11.2"
  },
  "orig_nbformat": 4
 },
 "nbformat": 4,
 "nbformat_minor": 2
}
