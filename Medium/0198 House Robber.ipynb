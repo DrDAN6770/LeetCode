{
 "cells": [
  {
   "attachments": {},
   "cell_type": "markdown",
   "metadata": {},
   "source": [
    "# 198. House Robber\n",
    "\n",
    "---\n",
    "\n",
    "https://leetcode.com/problems/house-robber/description/?envType=list&envId=rwo58iji"
   ]
  },
  {
   "cell_type": "code",
   "execution_count": 2,
   "metadata": {},
   "outputs": [
    {
     "data": {
      "text/plain": [
       "6"
      ]
     },
     "execution_count": 2,
     "metadata": {},
     "output_type": "execute_result"
    }
   ],
   "source": [
    "# DP O(N) O(1)\n",
    "class Solution:\n",
    "    def rob(self, nums: list[int]) -> int:\n",
    "        n = len(nums)\n",
    "        if n == 1:\n",
    "            return nums[0]\n",
    "        if n == 2:\n",
    "            return max(nums[0], nums[1])\n",
    "        \n",
    "        p1 = p2 = 0\n",
    "        for num in nums:\n",
    "            p1, p2 = max(p1, p2 + num), p1\n",
    "        return p1\n",
    "    \n",
    "ans = Solution()\n",
    "ans.rob([2,0,0,2,0,0,2])"
   ]
  },
  {
   "cell_type": "code",
   "execution_count": 3,
   "metadata": {},
   "outputs": [
    {
     "data": {
      "text/plain": [
       "6"
      ]
     },
     "execution_count": 3,
     "metadata": {},
     "output_type": "execute_result"
    }
   ],
   "source": [
    "# DP O(N) O(N)\n",
    "class Solution:\n",
    "    def rob(self, nums: list[int]) -> int:\n",
    "        n = len(nums)\n",
    "        if n == 1:\n",
    "            return nums[0]\n",
    "        if n == 2:\n",
    "            return max(nums[0], nums[1])\n",
    "        \n",
    "        dp = [0] * n\n",
    "        dp[0] = nums[0]\n",
    "        dp[1] = max(dp[0], nums[1])\n",
    "        for i, v in enumerate(nums[2:], 2):\n",
    "            dp[i] = max(dp[i-2] + nums[i], dp[i-1])\n",
    "        return dp[-1]\n",
    "\n",
    "ans = Solution()\n",
    "ans.rob([2,0,0,2,0,0,2])"
   ]
  }
 ],
 "metadata": {
  "kernelspec": {
   "display_name": "Python 3",
   "language": "python",
   "name": "python3"
  },
  "language_info": {
   "codemirror_mode": {
    "name": "ipython",
    "version": 3
   },
   "file_extension": ".py",
   "mimetype": "text/x-python",
   "name": "python",
   "nbconvert_exporter": "python",
   "pygments_lexer": "ipython3",
   "version": "3.10.11"
  },
  "orig_nbformat": 4
 },
 "nbformat": 4,
 "nbformat_minor": 2
}
