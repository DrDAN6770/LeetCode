{
 "cells": [
  {
   "cell_type": "markdown",
   "metadata": {},
   "source": [
    "# 1838. Frequency of the Most Frequent Element\n",
    "---\n",
    "https://leetcode.com/problems/frequency-of-the-most-frequent-element/"
   ]
  },
  {
   "cell_type": "code",
   "execution_count": 2,
   "metadata": {},
   "outputs": [
    {
     "data": {
      "text/plain": [
       "2"
      ]
     },
     "execution_count": 2,
     "metadata": {},
     "output_type": "execute_result"
    }
   ],
   "source": [
    "# sort, slide window O(nlogn) O(n)\n",
    "class Solution:\n",
    "    def maxFrequency(self, nums: list[int], k: int) -> int:\n",
    "        nums.sort()\n",
    "        n = len(nums)\n",
    "        l = 0\n",
    "        res = 0\n",
    "        window_sum, window_size = 0, 0\n",
    "\n",
    "        for r in range(n):\n",
    "            window_sum += nums[r]\n",
    "            window_size = r - l + 1\n",
    "            while nums[r] * window_size - window_sum > k:\n",
    "                window_sum -= nums[l]\n",
    "                l += 1\n",
    "                window_size -= 1\n",
    "            res = max(res, window_size)\n",
    "        return res\n",
    "ans = Solution()\n",
    "ans.maxFrequency([1,4,13,8], 5)"
   ]
  }
 ],
 "metadata": {
  "kernelspec": {
   "display_name": "Python 3",
   "language": "python",
   "name": "python3"
  },
  "language_info": {
   "codemirror_mode": {
    "name": "ipython",
    "version": 3
   },
   "file_extension": ".py",
   "mimetype": "text/x-python",
   "name": "python",
   "nbconvert_exporter": "python",
   "pygments_lexer": "ipython3",
   "version": "3.11.2"
  }
 },
 "nbformat": 4,
 "nbformat_minor": 2
}
