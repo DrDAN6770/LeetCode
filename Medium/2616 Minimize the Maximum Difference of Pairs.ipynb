{
 "cells": [
  {
   "cell_type": "markdown",
   "metadata": {},
   "source": [
    "# 2616. Minimize the Maximum Difference of Pairs\n",
    "---\n",
    "https://leetcode.com/problems/minimize-the-maximum-difference-of-pairs/"
   ]
  },
  {
   "cell_type": "code",
   "execution_count": 12,
   "metadata": {},
   "outputs": [
    {
     "data": {
      "text/plain": [
       "1"
      ]
     },
     "execution_count": 12,
     "metadata": {},
     "output_type": "execute_result"
    }
   ],
   "source": [
    "# 在nums在p個數對，找最大差的最小值是多少\n",
    "'''\n",
    "(10 1) (2 7) > 9\n",
    "(10 2) (1 7) > 8\n",
    "(10 3) (1 1) > 7\n",
    "...\n",
    "(2 3) (10 7) > 3\n",
    "(1 1) (2 3) > 1 return mini res\n",
    "幾乎是要找排序後連續相鄰的才會有最小差距組合出現\n",
    "不太可能出現中間配+頭尾配\n",
    "一定是22一組配下去\n",
    "[1 3 4 6]\n",
    "(1 3) (4 6) > 2\n",
    "(3 4) (1 6) > 5\n",
    "最小的差異會是0 最大就是(最大-最小)\n",
    "'''\n",
    "class Solution:\n",
    "    def minimizeMax(self, nums: list[int], p: int) -> int:\n",
    "        def possible(diff):\n",
    "            count, i = 0, 0\n",
    "            while i + 1 < n:\n",
    "                if nums[i+1] - nums[i] <= diff:\n",
    "                    count += 1\n",
    "                    i += 2\n",
    "                else:\n",
    "                    i += 1\n",
    "            return count >= p\n",
    "\n",
    "        nums.sort()\n",
    "        n = len(nums)\n",
    "        res = 0\n",
    "        l, r = 0, nums[-1] - nums[0]\n",
    "        while l <= r:\n",
    "            m = l + (r - l) // 2\n",
    "            if possible(m):\n",
    "                res = m\n",
    "                r = m - 1\n",
    "            else:\n",
    "                l = m + 1\n",
    "        return res\n",
    "ans = Solution()\n",
    "ans.minimizeMax([10,1,2,7,1,3], 2)"
   ]
  }
 ],
 "metadata": {
  "kernelspec": {
   "display_name": "Python 3",
   "language": "python",
   "name": "python3"
  },
  "language_info": {
   "codemirror_mode": {
    "name": "ipython",
    "version": 3
   },
   "file_extension": ".py",
   "mimetype": "text/x-python",
   "name": "python",
   "nbconvert_exporter": "python",
   "pygments_lexer": "ipython3",
   "version": "3.11.2"
  },
  "orig_nbformat": 4
 },
 "nbformat": 4,
 "nbformat_minor": 2
}
