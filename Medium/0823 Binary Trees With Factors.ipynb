{
 "cells": [
  {
   "cell_type": "markdown",
   "metadata": {},
   "source": [
    "# 823. Binary Trees With Factors\n",
    "---\n",
    "https://leetcode.com/problems/binary-trees-with-factors/description/"
   ]
  },
  {
   "cell_type": "code",
   "execution_count": 2,
   "metadata": {},
   "outputs": [
    {
     "data": {
      "text/plain": [
       "50"
      ]
     },
     "execution_count": 2,
     "metadata": {},
     "output_type": "execute_result"
    }
   ],
   "source": [
    "# DP O(NsqrtN) O(N)\n",
    "class Solution:\n",
    "    def numFactoredBinaryTrees(self, arr: list[int]) -> int:\n",
    "        modulo = 10**9 + 7\n",
    "        arr.sort()\n",
    "        dp = {x: 1 for x in arr}\n",
    "\n",
    "        for num in arr:\n",
    "            for factor in arr:\n",
    "                if factor > num ** 0.5:\n",
    "                    break\n",
    "                if num % factor == 0 and num // factor in dp:\n",
    "                    if num == factor * factor:\n",
    "                        dp[num] += dp[factor] ** 2\n",
    "                    else:\n",
    "                        dp[num] += dp[factor] * dp[num // factor] * 2\n",
    "        return sum(dp.values()) % modulo\n",
    "\n",
    "ans = Solution()\n",
    "ans.numFactoredBinaryTrees([2,4,10,5,20,100])"
   ]
  },
  {
   "cell_type": "code",
   "execution_count": 1,
   "metadata": {},
   "outputs": [
    {
     "data": {
      "text/plain": [
       "7"
      ]
     },
     "execution_count": 1,
     "metadata": {},
     "output_type": "execute_result"
    }
   ],
   "source": [
    "# DP O(N2) O(N)\n",
    "class Solution:\n",
    "    def numFactoredBinaryTrees(self, arr: list[int]) -> int:\n",
    "        modulo = 10**9 + 7\n",
    "        arr.sort()\n",
    "        n = len(arr)\n",
    "        dp = {x: 1 for x in arr}\n",
    "\n",
    "        for i in range(1, n):\n",
    "            for j in range(i):\n",
    "                if arr[i] % arr[j] == 0 and arr[i] // arr[j] in dp:\n",
    "                    dp[arr[i]] += dp[arr[j]] * dp[arr[i] // arr[j]]\n",
    "        return sum(dp.values()) % modulo\n",
    "\n",
    "ans = Solution()\n",
    "ans.numFactoredBinaryTrees([2,4,5,10])"
   ]
  }
 ],
 "metadata": {
  "kernelspec": {
   "display_name": "Python 3",
   "language": "python",
   "name": "python3"
  },
  "language_info": {
   "codemirror_mode": {
    "name": "ipython",
    "version": 3
   },
   "file_extension": ".py",
   "mimetype": "text/x-python",
   "name": "python",
   "nbconvert_exporter": "python",
   "pygments_lexer": "ipython3",
   "version": "3.11.2"
  },
  "orig_nbformat": 4
 },
 "nbformat": 4,
 "nbformat_minor": 2
}
