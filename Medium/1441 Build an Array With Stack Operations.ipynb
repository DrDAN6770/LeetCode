{
 "cells": [
  {
   "cell_type": "markdown",
   "metadata": {},
   "source": [
    "# 1441. Build an Array With Stack Operations\n",
    "---\n",
    "https://leetcode.com/problems/build-an-array-with-stack-operations/"
   ]
  },
  {
   "cell_type": "code",
   "execution_count": 1,
   "metadata": {},
   "outputs": [
    {
     "data": {
      "text/plain": [
       "['Push', 'Push', 'Push', 'Push', 'Pop', 'Push']"
      ]
     },
     "execution_count": 1,
     "metadata": {},
     "output_type": "execute_result"
    }
   ],
   "source": [
    "# 2 pointer O(n) O(n)\n",
    "class Solution:\n",
    "    def buildArray(self, target: list[int], n: int) -> list[str]:\n",
    "        res = []\n",
    "        j = 0\n",
    "\n",
    "        for i in range(1, n+1):\n",
    "            if j == len(target):\n",
    "                break\n",
    "            \n",
    "            res.append(\"Push\")\n",
    "\n",
    "            if target[j] == i:\n",
    "                j += 1\n",
    "            else:\n",
    "                res.append(\"Pop\")\n",
    "        \n",
    "        return res\n",
    "\n",
    "ans = Solution()\n",
    "ans.buildArray([1,2,3,5], 5)"
   ]
  }
 ],
 "metadata": {
  "kernelspec": {
   "display_name": "Python 3",
   "language": "python",
   "name": "python3"
  },
  "language_info": {
   "codemirror_mode": {
    "name": "ipython",
    "version": 3
   },
   "file_extension": ".py",
   "mimetype": "text/x-python",
   "name": "python",
   "nbconvert_exporter": "python",
   "pygments_lexer": "ipython3",
   "version": "3.11.2"
  },
  "orig_nbformat": 4
 },
 "nbformat": 4,
 "nbformat_minor": 2
}
