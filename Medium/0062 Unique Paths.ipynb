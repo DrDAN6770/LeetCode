{
 "cells": [
  {
   "cell_type": "markdown",
   "metadata": {},
   "source": [
    "# 62. Unique Paths\n",
    "---\n",
    "https://leetcode.com/problems/unique-paths/?envType=list&envId=rwo58iji"
   ]
  },
  {
   "cell_type": "code",
   "execution_count": 41,
   "metadata": {},
   "outputs": [
    {
     "data": {
      "text/plain": [
       "15"
      ]
     },
     "execution_count": 41,
     "metadata": {},
     "output_type": "execute_result"
    }
   ],
   "source": [
    "# Math O(n) or O(m)\n",
    "'''\n",
    "從(0,0)到(m-1,n-1)要走 m-1 + n - 1 步 -> (m + n - 2)\n",
    "而走的順序不重要\n",
    "都是要要走往下走m-1、往右n-1步\n",
    "所以就是在這總步數中挑不重複的組合\n",
    "C m+n-2 取 m-1\n",
    "或(同樣意思)\n",
    "C m+n-2 取 n-1\n",
    "math.comb() 就是取組合\n",
    "'''\n",
    "import math\n",
    "class Solution:\n",
    "    def uniquePaths(self, m: int, n: int) -> int:\n",
    "        return math.comb(m + n - 2, n - 1)\n",
    "ans = Solution()\n",
    "ans.uniquePaths(3, 5)"
   ]
  },
  {
   "cell_type": "code",
   "execution_count": 39,
   "metadata": {},
   "outputs": [
    {
     "data": {
      "text/plain": [
       "15"
      ]
     },
     "execution_count": 39,
     "metadata": {},
     "output_type": "execute_result"
    }
   ],
   "source": [
    "# DP O(m*n)\n",
    "class Solution:\n",
    "    def uniquePaths(self, m: int, n: int) -> int:\n",
    "        dp = [[1] * n for _ in range(m)]\n",
    "        for row in range(1, m):\n",
    "            for col in range(1, n):\n",
    "                dp[row][col] = dp[row - 1][col] + dp[row][col - 1]\n",
    "        return dp[-1][-1]\n",
    "ans = Solution()\n",
    "ans.uniquePaths(3, 5)"
   ]
  },
  {
   "cell_type": "markdown",
   "metadata": {},
   "source": [
    "14\n",
    "13\n",
    "12\n",
    "23\n",
    "24\n",
    "34"
   ]
  }
 ],
 "metadata": {
  "kernelspec": {
   "display_name": "Python 3",
   "language": "python",
   "name": "python3"
  },
  "language_info": {
   "codemirror_mode": {
    "name": "ipython",
    "version": 3
   },
   "file_extension": ".py",
   "mimetype": "text/x-python",
   "name": "python",
   "nbconvert_exporter": "python",
   "pygments_lexer": "ipython3",
   "version": "3.11.2"
  },
  "orig_nbformat": 4
 },
 "nbformat": 4,
 "nbformat_minor": 2
}
