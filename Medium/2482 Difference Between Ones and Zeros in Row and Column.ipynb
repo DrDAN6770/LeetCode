{
 "cells": [
  {
   "cell_type": "markdown",
   "metadata": {},
   "source": [
    "# 2482. Difference Between Ones and Zeros in Row and Column\n",
    "---\n",
    "https://leetcode.com/problems/difference-between-ones-and-zeros-in-row-and-column/"
   ]
  },
  {
   "cell_type": "code",
   "execution_count": 1,
   "metadata": {},
   "outputs": [
    {
     "data": {
      "text/plain": [
       "[[0, 0, 4], [0, 0, 4], [-2, -2, 2]]"
      ]
     },
     "execution_count": 1,
     "metadata": {},
     "output_type": "execute_result"
    }
   ],
   "source": [
    "# O(mn) O(m+n) math\n",
    "class Solution:\n",
    "    def onesMinusZeros(self, grid: list[list[int]]) -> list[list[int]]:\n",
    "        m, n = len(grid), len(grid[0])\n",
    "        onesRow = [0] * m\n",
    "        onesCol = [0] * n\n",
    "        res = [[0] * n for _ in range(m)]\n",
    "        \n",
    "        for row in range(m):\n",
    "            for col in range(n):\n",
    "                onesRow[row] += grid[row][col]\n",
    "                onesCol[col] += grid[row][col]\n",
    "        \n",
    "        for row in range(m):\n",
    "            for col in range(n):\n",
    "                res[row][col] = 2 * (onesRow[row] + onesCol[col]) - m - n\n",
    "        \n",
    "        return res\n",
    "\n",
    "ans = Solution()\n",
    "res = ans.onesMinusZeros([[0,1,1],[1,0,1],[0,0,1]])\n",
    "res"
   ]
  }
 ],
 "metadata": {
  "kernelspec": {
   "display_name": "Python 3",
   "language": "python",
   "name": "python3"
  },
  "language_info": {
   "codemirror_mode": {
    "name": "ipython",
    "version": 3
   },
   "file_extension": ".py",
   "mimetype": "text/x-python",
   "name": "python",
   "nbconvert_exporter": "python",
   "pygments_lexer": "ipython3",
   "version": "3.11.2"
  }
 },
 "nbformat": 4,
 "nbformat_minor": 2
}
