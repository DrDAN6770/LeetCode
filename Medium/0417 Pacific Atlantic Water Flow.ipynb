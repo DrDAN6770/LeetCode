{
 "cells": [
  {
   "cell_type": "markdown",
   "metadata": {},
   "source": [
    "# 417. Pacific Atlantic Water Flow\n",
    "---\n",
    "https://leetcode.com/problems/pacific-atlantic-water-flow/description/"
   ]
  },
  {
   "cell_type": "code",
   "execution_count": 18,
   "metadata": {},
   "outputs": [
    {
     "data": {
      "text/plain": [
       "[[0, 4], [1, 3], [1, 4], [2, 2], [3, 0], [3, 1], [4, 0]]"
      ]
     },
     "execution_count": 18,
     "metadata": {},
     "output_type": "execute_result"
    }
   ],
   "source": [
    "# DFS O(mn) O(mn)\n",
    "class Solution:\n",
    "    def dfs(self, heights: list[list[int]], ocean: list[list[int]], row: int, col: int):\n",
    "        R, C = len(heights), len(heights[0])\n",
    "        if (row < 0 or row >= R or col < 0 or col >= C or ocean[row][col] == True):\n",
    "            return\n",
    "        \n",
    "        # visited\n",
    "        ocean[row][col] = True\n",
    "\n",
    "        # up, down, right, left\n",
    "        if (row + 1 < R and heights[row+1][col] >= heights[row][col]):\n",
    "            self.dfs(heights, ocean, row + 1, col)\n",
    "        if (row - 1 >= 0 and heights[row-1][col] >= heights[row][col]):\n",
    "            self.dfs(heights, ocean, row - 1, col)\n",
    "        if (col + 1 < C and heights[row][col+1] >= heights[row][col]):\n",
    "            self.dfs(heights, ocean, row, col+1)\n",
    "        if (col - 1 >= 0 and heights[row][col-1] >= heights[row][col]):\n",
    "            self.dfs(heights, ocean, row, col-1) \n",
    "\n",
    "\n",
    "    def pacificAtlantic(self, heights: list[list[int]]) -> list[list[int]]:\n",
    "        R, C = len(heights), len(heights[0])\n",
    "        Pacific = [[False] * C for _ in range(R)]\n",
    "        Atlantic = [[False] * C for _ in range(R)]\n",
    "        res = []\n",
    "\n",
    "        # check edge cell can go ocean\n",
    "        for r in range(R):\n",
    "            self.dfs(heights, Pacific, r, 0)\n",
    "            self.dfs(heights, Atlantic, r, C-1)\n",
    "        for c in range(C):\n",
    "            self.dfs(heights, Pacific, 0, c)\n",
    "            self.dfs(heights, Atlantic, R-1, c)\n",
    "\n",
    "        for r in range(R):\n",
    "            for c in range(C):\n",
    "                if Pacific[r][c] and Atlantic[r][c]:\n",
    "                    res.append([r,c])\n",
    "        return res\n",
    "ans = Solution()\n",
    "ans.pacificAtlantic([[1,2,2,3,5],[3,2,3,4,4],[2,4,5,3,1],[6,7,1,4,5],[5,1,1,2,4]])\n"
   ]
  }
 ],
 "metadata": {
  "kernelspec": {
   "display_name": "Python 3",
   "language": "python",
   "name": "python3"
  },
  "language_info": {
   "codemirror_mode": {
    "name": "ipython",
    "version": 3
   },
   "file_extension": ".py",
   "mimetype": "text/x-python",
   "name": "python",
   "nbconvert_exporter": "python",
   "pygments_lexer": "ipython3",
   "version": "3.11.2"
  },
  "orig_nbformat": 4
 },
 "nbformat": 4,
 "nbformat_minor": 2
}
