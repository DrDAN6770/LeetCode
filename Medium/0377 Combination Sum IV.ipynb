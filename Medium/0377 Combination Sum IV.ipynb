{
 "cells": [
  {
   "cell_type": "markdown",
   "metadata": {},
   "source": [
    "# 377. Combination Sum IV\n",
    "---\n",
    "https://leetcode.com/problems/combination-sum-iv/"
   ]
  },
  {
   "cell_type": "code",
   "execution_count": 1,
   "metadata": {},
   "outputs": [
    {
     "data": {
      "text/plain": [
       "7"
      ]
     },
     "execution_count": 1,
     "metadata": {},
     "output_type": "execute_result"
    }
   ],
   "source": [
    "# DP O(n * k) O(n)\n",
    "'''\n",
    "[1,2,3,4] t = 4\n",
    "dp[i], number of when target = i \n",
    "= 1 + x, x = dp[3]\n",
    "= 2 + x, x = dp[2]\n",
    "= 3 + x, x = dp[1]\n",
    "= 4 + x, x = dp[0]\n",
    "'''\n",
    "class Solution:\n",
    "    def combinationSum4(self, nums: list[int], target: int) -> int:\n",
    "        if min(nums) > target:\n",
    "            return 0\n",
    "\n",
    "        dp = [0] * (target + 1)\n",
    "        dp[0] = 1\n",
    "        for i in range(1, target + 1):\n",
    "            for num in nums:\n",
    "                if i >= num:\n",
    "                    dp[i] += dp[i - num]\n",
    "        return dp[-1]\n",
    "ans = Solution()\n",
    "ans.combinationSum4(nums = [1,2,3], target = 4)"
   ]
  }
 ],
 "metadata": {
  "kernelspec": {
   "display_name": "Python 3",
   "language": "python",
   "name": "python3"
  },
  "language_info": {
   "codemirror_mode": {
    "name": "ipython",
    "version": 3
   },
   "file_extension": ".py",
   "mimetype": "text/x-python",
   "name": "python",
   "nbconvert_exporter": "python",
   "pygments_lexer": "ipython3",
   "version": "3.11.2"
  },
  "orig_nbformat": 4
 },
 "nbformat": 4,
 "nbformat_minor": 2
}
