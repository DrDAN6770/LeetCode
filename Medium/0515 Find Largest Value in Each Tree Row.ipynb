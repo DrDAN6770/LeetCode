{
 "cells": [
  {
   "cell_type": "markdown",
   "metadata": {},
   "source": [
    "# 515. Find Largest Value in Each Tree Row\n",
    "---\n",
    "https://leetcode.com/problems/find-largest-value-in-each-tree-row/"
   ]
  },
  {
   "cell_type": "code",
   "execution_count": null,
   "metadata": {},
   "outputs": [],
   "source": [
    "# BFS O(n) O(n)\n",
    "# Definition for a binary tree node.\n",
    "from collections import deque\n",
    "class TreeNode:\n",
    "    def __init__(self, val=0, left=None, right=None):\n",
    "        self.val = val\n",
    "        self.left = left\n",
    "        self.right = right\n",
    "class Solution:\n",
    "    def largestValues(self, root: TreeNode) -> list[int]:\n",
    "        res = []\n",
    "        if not root:\n",
    "            return res\n",
    "        dq = deque([root])\n",
    "        while dq:\n",
    "            lenght = len(dq)\n",
    "            mx = float('-inf')\n",
    "            for _ in range(lenght):\n",
    "                node = dq.popleft()\n",
    "                mx = max(mx, node.val)\n",
    "                if node.left:\n",
    "                    dq.append(node.left)\n",
    "                if node.right:\n",
    "                    dq.append(node.right)\n",
    "            res.append(mx)\n",
    "        return res"
   ]
  },
  {
   "cell_type": "code",
   "execution_count": null,
   "metadata": {},
   "outputs": [],
   "source": [
    "# DFS O(n) O(n)\n",
    "# Definition for a binary tree node.\n",
    "class TreeNode:\n",
    "    def __init__(self, val=0, left=None, right=None):\n",
    "        self.val = val\n",
    "        self.left = left\n",
    "        self.right = right\n",
    "class Solution:\n",
    "    def dfs(self, node, depth, res):\n",
    "        if not node:\n",
    "            return\n",
    "        \n",
    "        if len(res) == depth:\n",
    "            res.append(node.val)\n",
    "        else:\n",
    "            res[depth] = max(res[depth], node.val)\n",
    "\n",
    "        self.dfs(node.left, depth + 1, res)\n",
    "        self.dfs(node.right, depth + 1, res)\n",
    "\n",
    "    def largestValues(self, root: TreeNode) -> list[int]:\n",
    "        res = []\n",
    "        if not root:\n",
    "            return res\n",
    "        self.dfs(root, 0 , res)\n",
    "        return res"
   ]
  }
 ],
 "metadata": {
  "kernelspec": {
   "display_name": "Python 3",
   "language": "python",
   "name": "python3"
  },
  "language_info": {
   "codemirror_mode": {
    "name": "ipython",
    "version": 3
   },
   "file_extension": ".py",
   "mimetype": "text/x-python",
   "name": "python",
   "nbconvert_exporter": "python",
   "pygments_lexer": "ipython3",
   "version": "3.11.2"
  },
  "orig_nbformat": 4
 },
 "nbformat": 4,
 "nbformat_minor": 2
}
