{
 "cells": [
  {
   "cell_type": "markdown",
   "metadata": {},
   "source": [
    "# 498. Diagonal Traverse\n",
    "---\n",
    "https://leetcode.com/problems/diagonal-traverse/description/"
   ]
  },
  {
   "cell_type": "code",
   "execution_count": 1,
   "metadata": {},
   "outputs": [
    {
     "data": {
      "text/plain": [
       "[1, 2, 4, 7, 5, 3, 6, 8, 9]"
      ]
     },
     "execution_count": 1,
     "metadata": {},
     "output_type": "execute_result"
    }
   ],
   "source": [
    "# list O(mn) O(m+n)\n",
    "class Solution:\n",
    "    def findDiagonalOrder(self, mat: list[list[int]]) -> list[int]:\n",
    "        res = []\n",
    "        m, n = len(mat), len(mat[0])\n",
    "        arr = [[] for _ in range(m+n-1)]\n",
    "                \n",
    "        for row in range(m):\n",
    "            for col in range(n):\n",
    "                arr[row+col].append(mat[row][col])\n",
    "        \n",
    "        for i in range(m+n-1):\n",
    "            if i & 1:\n",
    "                res.extend(arr[i])\n",
    "            else:\n",
    "                res.extend(arr[i][::-1])\n",
    "        \n",
    "        return res\n",
    "\n",
    "ans = Solution()\n",
    "ans.findDiagonalOrder([[1,2,3],[4,5,6],[7,8,9]])"
   ]
  },
  {
   "cell_type": "code",
   "execution_count": 3,
   "metadata": {},
   "outputs": [
    {
     "data": {
      "text/plain": [
       "[1, 2, 1, 2, 3, 3]"
      ]
     },
     "execution_count": 3,
     "metadata": {},
     "output_type": "execute_result"
    }
   ],
   "source": [
    "# hash O(mn) O(m+n)\n",
    "from collections import defaultdict\n",
    "class Solution:\n",
    "    def findDiagonalOrder(self, mat: list[list[int]]) -> list[int]:\n",
    "        res = []\n",
    "        m, n = len(mat), len(mat[0])\n",
    "        hash = defaultdict(list)\n",
    "        \n",
    "        for row in range(m):\n",
    "            for col in range(n):\n",
    "                hash[row+col].append(mat[row][col])\n",
    "        \n",
    "        for i in range(len(hash)):\n",
    "            if i & 1:\n",
    "                res.extend(hash[i])\n",
    "            else:\n",
    "                res.extend(hash[i][::-1])\n",
    "        \n",
    "        return res\n",
    "\n",
    "ans = Solution()\n",
    "ans.findDiagonalOrder([[1,2,3],[1,2,3]])"
   ]
  }
 ],
 "metadata": {
  "kernelspec": {
   "display_name": "Python 3",
   "language": "python",
   "name": "python3"
  },
  "language_info": {
   "codemirror_mode": {
    "name": "ipython",
    "version": 3
   },
   "file_extension": ".py",
   "mimetype": "text/x-python",
   "name": "python",
   "nbconvert_exporter": "python",
   "pygments_lexer": "ipython3",
   "version": "3.11.2"
  }
 },
 "nbformat": 4,
 "nbformat_minor": 2
}
