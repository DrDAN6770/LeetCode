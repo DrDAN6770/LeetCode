{
 "cells": [
  {
   "cell_type": "markdown",
   "metadata": {},
   "source": [
    "# 1845. Seat Reservation Manager\n",
    "---\n",
    "https://leetcode.com/problems/seat-reservation-manager/"
   ]
  },
  {
   "cell_type": "code",
   "execution_count": null,
   "metadata": {},
   "outputs": [],
   "source": [
    "from heapq import heappush, heappop, heapify\n",
    "class SeatManager:\n",
    "    def __init__(self, n: int):\n",
    "        self.seatnumber = 1\n",
    "        self.seat = []\n",
    "        heapify(self.seat)\n",
    "\n",
    "    def reserve(self) -> int:\n",
    "        if self.seat:\n",
    "            return heappop(self.seat)\n",
    "        self.seatnumber += 1\n",
    "        return self.seatnumber - 1\n",
    "\n",
    "    def unreserve(self, seatNumber: int) -> None:\n",
    "        heappush(self.seat, seatNumber)"
   ]
  },
  {
   "cell_type": "code",
   "execution_count": 14,
   "metadata": {},
   "outputs": [
    {
     "name": "stdout",
     "output_type": "stream",
     "text": [
      "[1, 2, 3, 4, 5]\n",
      "[3, 4, 5]\n",
      "[2, 3, 5, 4]\n",
      "[5, 5]\n"
     ]
    }
   ],
   "source": [
    "# minheap O((m+n) * logn) O(n)\n",
    "class SeatManager:\n",
    "    def __init__(self, n: int):\n",
    "        self.seat = [x for x in range(1, n+1)]\n",
    "        heapify(self.seat)\n",
    "\n",
    "    def reserve(self) -> int:\n",
    "        return heappop(self.seat)\n",
    "\n",
    "    def unreserve(self, seatNumber: int) -> None:\n",
    "        heappush(self.seat, seatNumber)\n",
    "\n",
    "    def print_res(self):\n",
    "        print(self.seat)\n",
    "\n",
    "# Your SeatManager object will be instantiated and called as such:\n",
    "obj = SeatManager(5)\n",
    "obj.print_res()\n",
    "param_1 = obj.reserve()\n",
    "param_2 = obj.reserve()\n",
    "obj.print_res()\n",
    "obj.unreserve(2)\n",
    "obj.print_res()\n",
    "param_3 = obj.reserve()\n",
    "param_4 = obj.reserve()\n",
    "param_5 = obj.reserve()\n",
    "obj.unreserve(5)\n",
    "obj.print_res()"
   ]
  }
 ],
 "metadata": {
  "kernelspec": {
   "display_name": "Python 3",
   "language": "python",
   "name": "python3"
  },
  "language_info": {
   "codemirror_mode": {
    "name": "ipython",
    "version": 3
   },
   "file_extension": ".py",
   "mimetype": "text/x-python",
   "name": "python",
   "nbconvert_exporter": "python",
   "pygments_lexer": "ipython3",
   "version": "3.11.2"
  }
 },
 "nbformat": 4,
 "nbformat_minor": 2
}
