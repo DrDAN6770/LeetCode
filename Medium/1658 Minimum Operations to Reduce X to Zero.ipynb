{
 "cells": [
  {
   "cell_type": "markdown",
   "metadata": {},
   "source": [
    "# 1658. Minimum Operations to Reduce X to Zero\n",
    "---\n",
    "https://leetcode.com/problems/minimum-operations-to-reduce-x-to-zero/"
   ]
  },
  {
   "cell_type": "code",
   "execution_count": 1,
   "metadata": {},
   "outputs": [
    {
     "data": {
      "text/plain": [
       "5"
      ]
     },
     "execution_count": 1,
     "metadata": {},
     "output_type": "execute_result"
    }
   ],
   "source": [
    "# slide winodw, 2 pointer O(n) O(1)\n",
    "class Solution:\n",
    "    def minOperations(self, nums: list[int], x: int) -> int:\n",
    "        if nums[0] > x and nums[-1] > x :\n",
    "            return -1\n",
    "        \n",
    "        target = sum(nums) - x\n",
    "        n = len(nums)\n",
    "\n",
    "        if target == 0:\n",
    "            return n\n",
    "        \n",
    "        cur_sum = 0\n",
    "        l = 0\n",
    "        max_sub_size = 0\n",
    "        for r in range(n):\n",
    "            cur_sum += nums[r]\n",
    "            while cur_sum > target and l <= r:\n",
    "                cur_sum -= nums[l]\n",
    "                l += 1\n",
    "            if cur_sum == target:\n",
    "                max_sub_size = max(max_sub_size, r - l + 1)\n",
    "        \n",
    "        return n - max_sub_size if max_sub_size else -1\n",
    "ans = Solution()\n",
    "ans.minOperations([3,2,20,1,1,3], x = 10)"
   ]
  }
 ],
 "metadata": {
  "kernelspec": {
   "display_name": "Python 3",
   "language": "python",
   "name": "python3"
  },
  "language_info": {
   "codemirror_mode": {
    "name": "ipython",
    "version": 3
   },
   "file_extension": ".py",
   "mimetype": "text/x-python",
   "name": "python",
   "nbconvert_exporter": "python",
   "pygments_lexer": "ipython3",
   "version": "3.11.2"
  },
  "orig_nbformat": 4
 },
 "nbformat": 4,
 "nbformat_minor": 2
}
