{
 "cells": [
  {
   "cell_type": "markdown",
   "metadata": {},
   "source": [
    "# 208. Implement Trie (Prefix Tree)\n",
    "---\n",
    "https://leetcode.com/submissions/detail/1048184114/"
   ]
  },
  {
   "cell_type": "code",
   "execution_count": 3,
   "metadata": {},
   "outputs": [
    {
     "name": "stdout",
     "output_type": "stream",
     "text": [
      "{'a': {'p': {'p': {'l': {'e': {'end': True}}}}}}\n",
      "True\n",
      "True\n"
     ]
    }
   ],
   "source": [
    "# Trie\n",
    "# O(m)\n",
    "class Trie:\n",
    "    def __init__(self):\n",
    "        self.triemap = {}\n",
    "\n",
    "    def insert(self, word: str) -> None:\n",
    "        temp = self.triemap\n",
    "        for w in word:\n",
    "            if w not in temp:\n",
    "                temp[w] = {}\n",
    "            temp = temp[w]\n",
    "        temp['end'] = True\n",
    "        print(self.triemap)\n",
    "        # ex: apple >> {'a': {'p': {'p': {'l': {'e': {'end': True}}}}}}\n",
    "\n",
    "    def search(self, word: str) -> bool:\n",
    "        temp = self.triemap\n",
    "        for w in word:\n",
    "            if w in temp:\n",
    "                temp = temp[w]\n",
    "            else:\n",
    "                return False\n",
    "        return temp.get('end', False)\n",
    "\n",
    "    def startsWith(self, prefix: str) -> bool:\n",
    "        temp = self.triemap\n",
    "        for w in prefix:\n",
    "            if w not in temp:\n",
    "                return False\n",
    "            temp = temp[w]\n",
    "        return True\n",
    "        \n",
    "# Your Trie object will be instantiated and called as such:\n",
    "# obj = Trie()\n",
    "# obj.insert(word)\n",
    "# param_2 = obj.search(word)\n",
    "# param_3 = obj.startsWith(prefix)\n",
    "\n",
    "ans = Trie()\n",
    "ans.insert(\"apple\")\n",
    "print(ans.search(\"apple\"))\n",
    "print(ans.startsWith(\"app\"))"
   ]
  },
  {
   "cell_type": "code",
   "execution_count": 6,
   "metadata": {},
   "outputs": [
    {
     "name": "stdout",
     "output_type": "stream",
     "text": [
      "False\n",
      "True\n"
     ]
    }
   ],
   "source": [
    "# 先定義一個TrieNode結構物件\n",
    "class TrieNode:\n",
    "    def __init__(self):\n",
    "        self.child = {}\n",
    "        self.isEnd = False\n",
    "class Trie:\n",
    "    def __init__(self):\n",
    "        self.root = TrieNode()\n",
    "\n",
    "    def insert(self, word: str) -> None:\n",
    "        temp = self.root\n",
    "        for w in word:\n",
    "            if w not in temp.child:\n",
    "                temp.child[w] = TrieNode()\n",
    "            temp = temp.child[w]\n",
    "        temp.isEnd = True\n",
    "\n",
    "    def search(self, word: str) -> bool:\n",
    "        temp = self.root\n",
    "        for w in word:\n",
    "            if w not in temp.child:\n",
    "                return False\n",
    "            temp = temp.child[w]\n",
    "                \n",
    "        return temp.child.get('end', False)\n",
    "\n",
    "    def startsWith(self, prefix: str) -> bool:\n",
    "        temp = self.root\n",
    "        for w in prefix:\n",
    "            if w not in temp.child:\n",
    "                return False\n",
    "            temp = temp.child[w]\n",
    "        return True\n",
    "\n",
    "ans = Trie()\n",
    "ans.insert(\"apple\")\n",
    "print(ans.search(\"apple\"))\n",
    "print(ans.startsWith(\"app\"))"
   ]
  }
 ],
 "metadata": {
  "kernelspec": {
   "display_name": "Python 3",
   "language": "python",
   "name": "python3"
  },
  "language_info": {
   "codemirror_mode": {
    "name": "ipython",
    "version": 3
   },
   "file_extension": ".py",
   "mimetype": "text/x-python",
   "name": "python",
   "nbconvert_exporter": "python",
   "pygments_lexer": "ipython3",
   "version": "3.11.2"
  },
  "orig_nbformat": 4
 },
 "nbformat": 4,
 "nbformat_minor": 2
}
