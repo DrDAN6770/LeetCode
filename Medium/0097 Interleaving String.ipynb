{
 "cells": [
  {
   "cell_type": "markdown",
   "metadata": {},
   "source": [
    "# 97. Interleaving String\n",
    "---\n",
    "https://leetcode.com/problems/interleaving-string/"
   ]
  },
  {
   "cell_type": "code",
   "execution_count": 6,
   "metadata": {},
   "outputs": [
    {
     "data": {
      "text/plain": [
       "True"
      ]
     },
     "execution_count": 6,
     "metadata": {},
     "output_type": "execute_result"
    }
   ],
   "source": [
    "# 2D DP\n",
    "class Solution:\n",
    "    def isInterleave(self, s1: str, s2: str, s3: str) -> bool:\n",
    "        row, col, l = len(s1), len(s2), len(s3)\n",
    "        if row + col != l:\n",
    "            return False\n",
    "        \n",
    "        dp = [[0] * (col + 1) for _ in range(row + 1)]\n",
    "\n",
    "        for i in range(row + 1):\n",
    "            for j in range(col + 1):\n",
    "                if i == 0 and j == 0:\n",
    "                    dp[i][j] = True\n",
    "                \n",
    "                # 1st row condition\n",
    "                elif i == 0:\n",
    "                    dp[i][j] = dp[i][j - 1] and s2[j - 1] == s3[i + j - 1]\n",
    "\n",
    "                # 1st col condition\n",
    "                elif j == 0:\n",
    "                    dp[i][j] = dp[i - 1][j] and s1[i - 1] == s3[i + j - 1]\n",
    "\n",
    "                # main\n",
    "                else:\n",
    "                    dp[i][j] = dp[i][j - 1] and s2[j - 1] == s3[i + j - 1] or \\\n",
    "                               dp[i - 1][j] and s1[i - 1] == s3[i + j - 1]\n",
    "\n",
    "        return dp[-1][-1]\n",
    "ans = Solution()\n",
    "ans.isInterleave(s1 = \"aabcc\", s2 = \"dbbca\", s3 = \"aadbbcbcac\")"
   ]
  },
  {
   "cell_type": "code",
   "execution_count": 7,
   "metadata": {},
   "outputs": [
    {
     "data": {
      "text/plain": [
       "True"
      ]
     },
     "execution_count": 7,
     "metadata": {},
     "output_type": "execute_result"
    }
   ],
   "source": [
    "# memorization  recursion\n",
    "class Solution:\n",
    "    def isInterleave(self, s1: str, s2: str, s3: str) -> bool:\n",
    "        row, col, l = len(s1), len(s2), len(s3)\n",
    "        if row + col != l:\n",
    "            return False\n",
    "        \n",
    "        def dfs(i, j):\n",
    "            if i == row and j == col:\n",
    "                return True\n",
    "            \n",
    "            if (i, j) in seen:\n",
    "                return seen[i, j]\n",
    "            \n",
    "            res = False\n",
    "            if i < row and s1[i] == s3[i + j]:\n",
    "                res = res or dfs(i + 1, j)\n",
    "\n",
    "            if j < col and s2[j] == s3[i + j]:\n",
    "                res = res or dfs(i, j + 1)\n",
    "\n",
    "            seen[i, j] = res\n",
    "            return res\n",
    "        seen = {}\n",
    "        return dfs(0, 0)\n",
    "ans = Solution()\n",
    "ans.isInterleave(s1 = \"aabcc\", s2 = \"dbbca\", s3 = \"aadbbcbcac\")"
   ]
  }
 ],
 "metadata": {
  "kernelspec": {
   "display_name": "Python 3",
   "language": "python",
   "name": "python3"
  },
  "language_info": {
   "codemirror_mode": {
    "name": "ipython",
    "version": 3
   },
   "file_extension": ".py",
   "mimetype": "text/x-python",
   "name": "python",
   "nbconvert_exporter": "python",
   "pygments_lexer": "ipython3",
   "version": "3.11.2"
  },
  "orig_nbformat": 4
 },
 "nbformat": 4,
 "nbformat_minor": 2
}
