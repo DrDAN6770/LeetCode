{
 "cells": [
  {
   "cell_type": "markdown",
   "metadata": {},
   "source": [
    "# 230. Kth Smallest Element in a BST\n",
    "---\n",
    "https://leetcode.com/problems/kth-smallest-element-in-a-bst/"
   ]
  },
  {
   "cell_type": "code",
   "execution_count": 1,
   "metadata": {},
   "outputs": [],
   "source": [
    "# Stack,LDR, O(n) O(1)\n",
    "class TreeNode:\n",
    "    def __init__(self, val=0, left=None, right=None):\n",
    "        self.val = val\n",
    "        self.left = left\n",
    "        self.right = right\n",
    "class Solution:\n",
    "    def kthSmallest(self, root: [TreeNode], k: int) -> int:\n",
    "        stack = []\n",
    "        while stack or root:\n",
    "            if root:\n",
    "                stack.append(root)\n",
    "                root = root.left\n",
    "            else:\n",
    "                k -= 1\n",
    "                root = stack.pop()\n",
    "\n",
    "                if k == 0:\n",
    "                    return root.val\n",
    "                    \n",
    "                root = root.right"
   ]
  },
  {
   "cell_type": "code",
   "execution_count": null,
   "metadata": {},
   "outputs": [],
   "source": [
    "# recursion, LDR, O(n) O(1)\n",
    "class TreeNode:\n",
    "    def __init__(self, val=0, left=None, right=None):\n",
    "        self.val = val\n",
    "        self.left = left\n",
    "        self.right = right\n",
    "class Solution:\n",
    "    def kthSmallest(self, root: [TreeNode], k: int) -> int:\n",
    "        self.k = k\n",
    "        self.res = None\n",
    "        self.helper(root)\n",
    "        return self.res\n",
    "\n",
    "    def helper(self, root):\n",
    "        if not root:\n",
    "            return\n",
    "        \n",
    "        self.helper(root.left)\n",
    "        self.k -= 1\n",
    "        if self.k == 0:\n",
    "            self.res = root.val\n",
    "            return\n",
    "        self.helper(root.right)"
   ]
  },
  {
   "cell_type": "code",
   "execution_count": null,
   "metadata": {},
   "outputs": [],
   "source": [
    "# recursion, LDR, O(n) O(n)\n",
    "class TreeNode:\n",
    "    def __init__(self, val=0, left=None, right=None):\n",
    "        self.val = val\n",
    "        self.left = left\n",
    "        self.right = right\n",
    "class Solution:\n",
    "    def kthSmallest(self, root: [TreeNode], k: int) -> int:\n",
    "        res = []\n",
    "        self.helper(root, res)\n",
    "        return res[k-1]\n",
    "\n",
    "    def helper(self, root, res):\n",
    "        if not root:\n",
    "            return\n",
    "        \n",
    "        self.helper(root.left, res)\n",
    "        res.append(root.val)\n",
    "        self.helper(root.right, res)"
   ]
  },
  {
   "cell_type": "code",
   "execution_count": null,
   "metadata": {},
   "outputs": [],
   "source": [
    "# Stack,LDR, O(n) O(n)\n",
    "class TreeNode:\n",
    "    def __init__(self, val=0, left=None, right=None):\n",
    "        self.val = val\n",
    "        self.left = left\n",
    "        self.right = right\n",
    "class Solution:\n",
    "    def kthSmallest(self, root: [TreeNode], k: int) -> int:\n",
    "        stack = []\n",
    "        res = []\n",
    "\n",
    "        while stack or root:\n",
    "            if len(res) == k:\n",
    "                return res[k-1]\n",
    "                \n",
    "            if root:\n",
    "                stack.append(root)\n",
    "                root = root.left\n",
    "            else:\n",
    "                root = stack.pop()\n",
    "                res.append(root.val)\n",
    "                root = root.right\n",
    "        \n",
    "        return res[k-1]"
   ]
  }
 ],
 "metadata": {
  "kernelspec": {
   "display_name": "Python 3",
   "language": "python",
   "name": "python3"
  },
  "language_info": {
   "codemirror_mode": {
    "name": "ipython",
    "version": 3
   },
   "file_extension": ".py",
   "mimetype": "text/x-python",
   "name": "python",
   "nbconvert_exporter": "python",
   "pygments_lexer": "ipython3",
   "version": "3.11.2"
  },
  "orig_nbformat": 4
 },
 "nbformat": 4,
 "nbformat_minor": 2
}
