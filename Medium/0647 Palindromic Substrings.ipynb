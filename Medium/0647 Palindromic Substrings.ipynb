{
 "cells": [
  {
   "cell_type": "markdown",
   "metadata": {},
   "source": [
    "# 647. Palindromic Substrings\n",
    "---\n",
    "https://leetcode.com/problems/palindromic-substrings/description/"
   ]
  },
  {
   "cell_type": "code",
   "execution_count": 4,
   "metadata": {},
   "outputs": [
    {
     "data": {
      "text/plain": [
       "6"
      ]
     },
     "execution_count": 4,
     "metadata": {},
     "output_type": "execute_result"
    }
   ],
   "source": [
    "# 2 pointer (center search) O(n2) O(1)\n",
    "class Solution:\n",
    "    def check(self, s, l, r) -> int:\n",
    "        count = 0\n",
    "        while (l >= 0 and r < len(s) and s[l] == s[r]):\n",
    "            count += 1\n",
    "            l -= 1\n",
    "            r += 1\n",
    "        return count\n",
    "            \n",
    "    def countSubstrings(self, s: str) -> int:\n",
    "        res = 0\n",
    "        for i in range(len(s)):\n",
    "            res += self.check(s, i, i)\n",
    "            res += self.check(s, i-1, i)\n",
    "        return res\n",
    "ans = Solution()\n",
    "ans.countSubstrings(\"aaa\")"
   ]
  },
  {
   "cell_type": "code",
   "execution_count": 2,
   "metadata": {},
   "outputs": [
    {
     "data": {
      "text/plain": [
       "4"
      ]
     },
     "execution_count": 2,
     "metadata": {},
     "output_type": "execute_result"
    }
   ],
   "source": [
    "# Brute Force O(n3) O(1)\n",
    "class Solution:\n",
    "    def check(self, s) -> bool:\n",
    "        return s==s[::-1]\n",
    "    def countSubstrings(self, s: str) -> int:\n",
    "        res = 0\n",
    "        n = len(s)\n",
    "        for length in range(n, 0, -1):\n",
    "            for start in range(0, n - length + 1):\n",
    "                if self.check(s[start : start + length]):\n",
    "                    res += 1\n",
    "        return res\n",
    "ans = Solution()\n",
    "ans.countSubstrings(\"ada\")"
   ]
  }
 ],
 "metadata": {
  "kernelspec": {
   "display_name": "Python 3",
   "language": "python",
   "name": "python3"
  },
  "language_info": {
   "codemirror_mode": {
    "name": "ipython",
    "version": 3
   },
   "file_extension": ".py",
   "mimetype": "text/x-python",
   "name": "python",
   "nbconvert_exporter": "python",
   "pygments_lexer": "ipython3",
   "version": "3.11.2"
  },
  "orig_nbformat": 4
 },
 "nbformat": 4,
 "nbformat_minor": 2
}
