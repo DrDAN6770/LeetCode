{
 "cells": [
  {
   "cell_type": "markdown",
   "metadata": {},
   "source": [
    "# 207. Course Schedule\n",
    "---\n",
    "https://leetcode.com/problems/course-schedule/description/?envType=list&envId=rwo58iji"
   ]
  },
  {
   "cell_type": "code",
   "execution_count": 5,
   "metadata": {},
   "outputs": [
    {
     "data": {
      "text/plain": [
       "False"
      ]
     },
     "execution_count": 5,
     "metadata": {},
     "output_type": "execute_result"
    }
   ],
   "source": [
    "# DFS\n",
    "# O(E + V) O(E + V)\n",
    "class Solution:\n",
    "    def canFinish(self, numCourses: int, prerequisites: list[list[int]]) -> bool:\n",
    "        # map each course to prereq set\n",
    "        preMap = {i : set() for i in range(numCourses)}\n",
    "        for cur, pre in prerequisites:\n",
    "            preMap[cur].add(pre)\n",
    "        # {0: {1, 2}, 1: {3, 4}, 2: set(), 3: {4}, 4: set()} T\n",
    "        # {0: {1}, 1: {2}, 2: {0}} F\n",
    "\n",
    "        # visit\n",
    "        visit = set()\n",
    "        def dfs(cur):\n",
    "            if cur in visit:\n",
    "                return False\n",
    "            if preMap[cur] == set():\n",
    "                return True\n",
    "            \n",
    "            visit.add(cur)\n",
    "            for pre in preMap[cur]:\n",
    "                if not dfs(pre):\n",
    "                    return False\n",
    "            visit.remove(cur)\n",
    "            preMap[cur] = set()\n",
    "            return True\n",
    "        \n",
    "        for cur in range(numCourses):\n",
    "            if not dfs(cur):\n",
    "                return False\n",
    "        return True\n",
    "\n",
    "ans = Solution()\n",
    "ans.canFinish(3, [[0,1],[1,2],[2,0]])"
   ]
  }
 ],
 "metadata": {
  "kernelspec": {
   "display_name": "Python 3",
   "language": "python",
   "name": "python3"
  },
  "language_info": {
   "codemirror_mode": {
    "name": "ipython",
    "version": 3
   },
   "file_extension": ".py",
   "mimetype": "text/x-python",
   "name": "python",
   "nbconvert_exporter": "python",
   "pygments_lexer": "ipython3",
   "version": "3.11.2"
  },
  "orig_nbformat": 4
 },
 "nbformat": 4,
 "nbformat_minor": 2
}
