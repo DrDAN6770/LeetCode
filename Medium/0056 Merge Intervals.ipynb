{
 "cells": [
  {
   "cell_type": "markdown",
   "metadata": {},
   "source": [
    "# 56. Merge Intervals\n",
    "---\n",
    "https://leetcode.com/problems/merge-intervals/?envType=list&envId=rwo58iji"
   ]
  },
  {
   "cell_type": "code",
   "execution_count": 43,
   "metadata": {},
   "outputs": [
    {
     "data": {
      "text/plain": [
       "[[1, 6], [8, 10], [15, 18]]"
      ]
     },
     "execution_count": 43,
     "metadata": {},
     "output_type": "execute_result"
    }
   ],
   "source": [
    "# T O(NlogN) S O(N)\n",
    "class Solution:\n",
    "    def merge(self, intervals: list[list[int]]) -> list[list[int]]:\n",
    "        def ISoverlapping(pre, curr):\n",
    "            if pre[-1] >= curr[0]:\n",
    "                # if overlapping >> changing list element\n",
    "                pre[-1] = max(pre[-1], curr[-1])\n",
    "                return True\n",
    "\n",
    "        intervals.sort()\n",
    "        res = [intervals[0]] # initial\n",
    "        for interval in intervals[1:]:\n",
    "            if ISoverlapping(res[-1], interval):\n",
    "                continue\n",
    "            res.append(interval)\n",
    "        return res\n",
    "ans = Solution()\n",
    "ans.merge([[1,3],[2,6],[8,10],[15,18]])"
   ]
  },
  {
   "cell_type": "code",
   "execution_count": 44,
   "metadata": {},
   "outputs": [
    {
     "data": {
      "text/plain": [
       "[[1, 4], [8, 10], [15, 18]]"
      ]
     },
     "execution_count": 44,
     "metadata": {},
     "output_type": "execute_result"
    }
   ],
   "source": [
    "class Solution:\n",
    "    def merge(self, intervals: list[list[int]]) -> list[list[int]]:\n",
    "        intervals.sort()\n",
    "        res = [intervals[0]] # initial\n",
    "        for interval in intervals[1:]:\n",
    "            start, end = interval\n",
    "            # if overlapping\n",
    "            if res[-1][-1] >= start:\n",
    "                res[-1][-1] = max(res[-1][-1], end)\n",
    "                continue\n",
    "            res.append(interval)\n",
    "        return res\n",
    "ans = Solution()\n",
    "ans.merge([[1,4],[2,3],[8,10],[15,18]])"
   ]
  }
 ],
 "metadata": {
  "kernelspec": {
   "display_name": "Python 3",
   "language": "python",
   "name": "python3"
  },
  "language_info": {
   "codemirror_mode": {
    "name": "ipython",
    "version": 3
   },
   "file_extension": ".py",
   "mimetype": "text/x-python",
   "name": "python",
   "nbconvert_exporter": "python",
   "pygments_lexer": "ipython3",
   "version": "3.11.2"
  },
  "orig_nbformat": 4
 },
 "nbformat": 4,
 "nbformat_minor": 2
}
