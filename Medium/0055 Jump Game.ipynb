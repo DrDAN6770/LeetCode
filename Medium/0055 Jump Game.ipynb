{
 "cells": [
  {
   "cell_type": "markdown",
   "metadata": {},
   "source": [
    "# 55. Jump Game\n",
    "---\n",
    "https://leetcode.com/problems/jump-game/?envType=list&envId=rwo58iji\n",
    "\n",
    "https://www.youtube.com/watch?v=Yan0cv2cLy8"
   ]
  },
  {
   "cell_type": "code",
   "execution_count": 59,
   "metadata": {},
   "outputs": [
    {
     "data": {
      "text/plain": [
       "True"
      ]
     },
     "execution_count": 59,
     "metadata": {},
     "output_type": "execute_result"
    }
   ],
   "source": [
    "# Greedy\n",
    "# t O(n) s O(1)\n",
    "'''\n",
    "從後面開始檢查(不算最後一個)\n",
    "先判斷倒數第n個是否能到倒數第n-1個(index + jump step >= target index)\n",
    "'''\n",
    "class Solution:\n",
    "    def canJump(self, nums: list[int]) -> bool:\n",
    "        if len(nums) == 1 or min(nums[:-1]) > 0:\n",
    "            return True\n",
    "        target = len(nums) - 1\n",
    "        for i in range(len(nums) - 2, -1, -1):\n",
    "            if i + nums[i] >= target:\n",
    "                target = i\n",
    "        return True if target == 0 else False\n",
    "\n",
    "ans = Solution()\n",
    "ans.canJump([2,3,1,0,4])"
   ]
  },
  {
   "cell_type": "code",
   "execution_count": 65,
   "metadata": {},
   "outputs": [
    {
     "data": {
      "text/plain": [
       "False"
      ]
     },
     "execution_count": 65,
     "metadata": {},
     "output_type": "execute_result"
    }
   ],
   "source": [
    "# Greedy 從前面開始的\n",
    "class Solution:\n",
    "    def canJump(self, nums: list[int]) -> bool:\n",
    "        if len(nums) == 1 or min(nums[:-1]) > 0:\n",
    "            return True\n",
    "        max_farth_idx = 0\n",
    "        target = len(nums) - 1\n",
    "        for i in range(len(nums)-1):\n",
    "            if max_farth_idx >= target:\n",
    "                return True\n",
    "            \n",
    "            if i > max_farth_idx:\n",
    "                return False\n",
    "            \n",
    "            max_farth_idx = max(max_farth_idx, i + nums[i])\n",
    "        return max_farth_idx >= target         \n",
    "ans = Solution()\n",
    "ans.canJump([0,2,3])"
   ]
  },
  {
   "cell_type": "code",
   "execution_count": 31,
   "metadata": {},
   "outputs": [
    {
     "data": {
      "text/plain": [
       "True"
      ]
     },
     "execution_count": 31,
     "metadata": {},
     "output_type": "execute_result"
    }
   ],
   "source": [
    "# DP\n",
    "# DP[i] : nums[i]是可到的嗎?\n",
    "# t O(n2) s O(n)\n",
    "class Solution:\n",
    "    def canJump(self, nums: list[int]) -> bool:\n",
    "        if len(nums) == 1 or min(nums[:-1]) > 0:\n",
    "            return True\n",
    "\n",
    "        n = len(nums)\n",
    "        dp = [True] + [False] * (n-1)\n",
    "        for idx in range(n):\n",
    "            if dp[idx]:\n",
    "                for jump in range(1, nums[idx] + 1):\n",
    "                    if idx + jump <= n - 1:\n",
    "                        dp[idx + jump] = True\n",
    "                    if idx + jump >= n - 1:\n",
    "                        return True\n",
    "        return dp[n-1]\n",
    "ans = Solution()\n",
    "ans.canJump([1,0,0,8])"
   ]
  }
 ],
 "metadata": {
  "kernelspec": {
   "display_name": "Python 3",
   "language": "python",
   "name": "python3"
  },
  "language_info": {
   "codemirror_mode": {
    "name": "ipython",
    "version": 3
   },
   "file_extension": ".py",
   "mimetype": "text/x-python",
   "name": "python",
   "nbconvert_exporter": "python",
   "pygments_lexer": "ipython3",
   "version": "3.11.2"
  },
  "orig_nbformat": 4
 },
 "nbformat": 4,
 "nbformat_minor": 2
}
