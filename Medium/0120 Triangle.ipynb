{
 "cells": [
  {
   "cell_type": "markdown",
   "metadata": {},
   "source": [
    "# 120. Triangle\n",
    "---\n",
    "https://leetcode.com/problems/triangle/description/"
   ]
  },
  {
   "cell_type": "code",
   "execution_count": null,
   "metadata": {},
   "outputs": [],
   "source": [
    "# DP O(n2) O(1)\n",
    "class Solution:\n",
    "    def minimumTotal1(self, triangle: list[list[int]]) -> int:\n",
    "        n = len(triangle)\n",
    "        for i in range(n-2, -1, -1):\n",
    "            for j in range(i + 1):\n",
    "                triangle[i][j] = triangle[i][j] + min(triangle[i + 1][j], triangle[i + 1][j + 1])\n",
    "        return triangle[0][0]"
   ]
  },
  {
   "cell_type": "code",
   "execution_count": 19,
   "metadata": {},
   "outputs": [
    {
     "data": {
      "text/plain": [
       "11"
      ]
     },
     "execution_count": 19,
     "metadata": {},
     "output_type": "execute_result"
    }
   ],
   "source": [
    "# DP O(n2) O(n)\n",
    "class Solution:\n",
    "    def minimumTotal1(self, triangle: list[list[int]]) -> int:\n",
    "        n = len(triangle)\n",
    "        dp = [0] * (n + 1)\n",
    "\n",
    "        for i in range(n-1, -1, -1):\n",
    "            for j in range(i + 1):\n",
    "                dp[j] = triangle[i][j] + min(dp[j], dp[j + 1])\n",
    "        return dp[0]\n",
    "    # or\n",
    "    def minimumTotal2(self, triangle: list[list[int]]) -> int:\n",
    "        n = len(triangle)\n",
    "        dp = triangle[-1]\n",
    "\n",
    "        for i in range(n-2, -1, -1):\n",
    "            for j in range(i + 1):\n",
    "                dp[j] = triangle[i][j] + min(dp[j], dp[j + 1])\n",
    "        return dp[0]\n",
    "\n",
    "ans = Solution()\n",
    "ans.minimumTotal2([[2],[3,4],[6,5,7],[4,1,8,3]])"
   ]
  }
 ],
 "metadata": {
  "kernelspec": {
   "display_name": "Python 3",
   "language": "python",
   "name": "python3"
  },
  "language_info": {
   "codemirror_mode": {
    "name": "ipython",
    "version": 3
   },
   "file_extension": ".py",
   "mimetype": "text/x-python",
   "name": "python",
   "nbconvert_exporter": "python",
   "pygments_lexer": "ipython3",
   "version": "3.11.2"
  },
  "orig_nbformat": 4
 },
 "nbformat": 4,
 "nbformat_minor": 2
}
