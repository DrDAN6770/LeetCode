{
 "cells": [
  {
   "cell_type": "markdown",
   "metadata": {},
   "source": [
    "# 81. Search in Rotated Sorted Array II\n",
    "---\n",
    "https://leetcode.com/problems/search-in-rotated-sorted-array-ii/"
   ]
  },
  {
   "cell_type": "code",
   "execution_count": 7,
   "metadata": {},
   "outputs": [
    {
     "data": {
      "text/plain": [
       "True"
      ]
     },
     "execution_count": 7,
     "metadata": {},
     "output_type": "execute_result"
    }
   ],
   "source": [
    "class Solution:\n",
    "    def search(self, nums: list[int], target: int) -> bool:\n",
    "        l = 0\n",
    "        r = len(nums) - 1\n",
    "        while l <= r:\n",
    "            m = l + (r - l) // 2\n",
    "\n",
    "            if target == nums[m]:\n",
    "                return True\n",
    "\n",
    "            # avoid duplicates like [1,0,1,1,1]\n",
    "            if nums[l] == nums[m]:\n",
    "                l += 1\n",
    "\n",
    "            elif nums[l] < nums[m]:\n",
    "                if nums[l] <= target <= nums[m]:\n",
    "                    r = m - 1\n",
    "                else:\n",
    "                    l = m + 1\n",
    "            \n",
    "            else:\n",
    "                if nums[m] <= target <= nums[r]:\n",
    "                    l = m + 1\n",
    "                else:\n",
    "                    r = m - 1\n",
    "        return False\n",
    "ans = Solution()\n",
    "ans.search([1,0,1,1,1], 0)"
   ]
  }
 ],
 "metadata": {
  "kernelspec": {
   "display_name": "Python 3",
   "language": "python",
   "name": "python3"
  },
  "language_info": {
   "codemirror_mode": {
    "name": "ipython",
    "version": 3
   },
   "file_extension": ".py",
   "mimetype": "text/x-python",
   "name": "python",
   "nbconvert_exporter": "python",
   "pygments_lexer": "ipython3",
   "version": "3.11.2"
  },
  "orig_nbformat": 4
 },
 "nbformat": 4,
 "nbformat_minor": 2
}
