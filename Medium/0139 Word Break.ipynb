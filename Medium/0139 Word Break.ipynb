{
 "cells": [
  {
   "cell_type": "markdown",
   "metadata": {},
   "source": [
    "# 139. Word Break\n",
    "---\n",
    "https://leetcode.com/problems/word-break/"
   ]
  },
  {
   "cell_type": "code",
   "execution_count": 55,
   "metadata": {},
   "outputs": [
    {
     "data": {
      "text/plain": [
       "False"
      ]
     },
     "execution_count": 55,
     "metadata": {},
     "output_type": "execute_result"
    }
   ],
   "source": [
    "# BFS\n",
    "class Solution:\n",
    "    def wordBreak(self, s: str, wordDict: list[str]) -> bool:\n",
    "        words = set(wordDict)\n",
    "        queue = [0]\n",
    "        seen = set()\n",
    "        while queue:\n",
    "            start_idx = queue.pop(0)\n",
    "            if start_idx == len(s):\n",
    "                return True\n",
    "            for end_idx in range(start_idx + 1, len(s) + 1):\n",
    "                if end_idx in seen:\n",
    "                    continue\n",
    "                if s[start_idx:end_idx] in words:\n",
    "                    queue.append(end_idx)\n",
    "                    seen.add(end_idx)\n",
    "        return False\n",
    "ans = Solution()\n",
    "ans.wordBreak(\"catsandog\", [\"cats\",\"dog\",\"sand\",\"and\",\"cat\"])"
   ]
  },
  {
   "cell_type": "code",
   "execution_count": 57,
   "metadata": {},
   "outputs": [
    {
     "data": {
      "text/plain": [
       "0"
      ]
     },
     "execution_count": 57,
     "metadata": {},
     "output_type": "execute_result"
    }
   ],
   "source": [
    "# DP\n",
    "# https://www.youtube.com/watch?v=bbjD_AfQZyU\n",
    "class Solution:\n",
    "    def wordBreak(self, s: str, wordDict: list[str]) -> bool:\n",
    "        dp = [1] + [0] * len(s)\n",
    "        for i in range(len(s)):\n",
    "            if dp[i]:\n",
    "                for word in wordDict:\n",
    "                    if s[i:i + len(word)] == word:\n",
    "                        dp[i + len(word)] = 1\n",
    "        return dp[-1]\n",
    "ans = Solution()\n",
    "ans.wordBreak(\"catsandog\", [\"cats\",\"dog\",\"sand\",\"and\",\"cat\"])"
   ]
  }
 ],
 "metadata": {
  "kernelspec": {
   "display_name": "Python 3",
   "language": "python",
   "name": "python3"
  },
  "language_info": {
   "codemirror_mode": {
    "name": "ipython",
    "version": 3
   },
   "file_extension": ".py",
   "mimetype": "text/x-python",
   "name": "python",
   "nbconvert_exporter": "python",
   "pygments_lexer": "ipython3",
   "version": "3.11.2"
  },
  "orig_nbformat": 4
 },
 "nbformat": 4,
 "nbformat_minor": 2
}
