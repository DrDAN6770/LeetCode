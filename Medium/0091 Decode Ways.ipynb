{
 "cells": [
  {
   "cell_type": "markdown",
   "metadata": {},
   "source": [
    "# 91. Decode Ways\n",
    "---\n",
    "https://leetcode.com/problems/decode-ways/?envType=list&envId=rwo58iji"
   ]
  },
  {
   "cell_type": "code",
   "execution_count": 102,
   "metadata": {},
   "outputs": [
    {
     "data": {
      "text/plain": [
       "2"
      ]
     },
     "execution_count": 102,
     "metadata": {},
     "output_type": "execute_result"
    }
   ],
   "source": [
    "# DP O(n) O(n)\n",
    "# dp[pre_str] 代表前n個字\n",
    "# 前1個不包含0, 則有dp[i-1]的方法\n",
    "# 前2個介於10~26，則有dp[i-1] + dp[i-2]個方法\n",
    "class Solution:\n",
    "    def numDecodings(self, s: str) -> int:\n",
    "        if s[0] == '0':\n",
    "            return 0\n",
    "        n = len(s)\n",
    "        dp = [1, 1] + [0] * (n - 1)\n",
    "\n",
    "        for pre_str in range(2, n + 1):\n",
    "            if s[pre_str - 1] != '0':\n",
    "                dp[pre_str] = dp[pre_str - 1]\n",
    "            if 10 <= int(s[pre_str - 2 : pre_str]) <= 26:\n",
    "                dp[pre_str] += dp[pre_str - 2]\n",
    "\n",
    "        return dp[-1]\n",
    "ans = Solution()\n",
    "ans.numDecodings('12')"
   ]
  }
 ],
 "metadata": {
  "kernelspec": {
   "display_name": "Python 3",
   "language": "python",
   "name": "python3"
  },
  "language_info": {
   "codemirror_mode": {
    "name": "ipython",
    "version": 3
   },
   "file_extension": ".py",
   "mimetype": "text/x-python",
   "name": "python",
   "nbconvert_exporter": "python",
   "pygments_lexer": "ipython3",
   "version": "3.11.2"
  },
  "orig_nbformat": 4
 },
 "nbformat": 4,
 "nbformat_minor": 2
}
