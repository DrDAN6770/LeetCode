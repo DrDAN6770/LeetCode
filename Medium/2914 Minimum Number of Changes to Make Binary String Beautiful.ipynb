{
 "cells": [
  {
   "cell_type": "markdown",
   "metadata": {},
   "source": [
    "# 2914. Minimum Number of Changes to Make Binary String Beautiful\n",
    "---\n",
    "https://leetcode.com/problems/minimum-number-of-changes-to-make-binary-string-beautiful/description/"
   ]
  },
  {
   "cell_type": "code",
   "execution_count": 1,
   "metadata": {},
   "outputs": [
    {
     "data": {
      "text/plain": [
       "2"
      ]
     },
     "execution_count": 1,
     "metadata": {},
     "output_type": "execute_result"
    }
   ],
   "source": [
    "# O(n) O(1)\n",
    "class Solution:\n",
    "    def minChanges(self, s: str) -> int:\n",
    "        res = 0\n",
    "        n = len(s)\n",
    "        for i in range(0, n-1, 2):\n",
    "            if (s[i] != s[i+1]):\n",
    "                res += 1\n",
    "        return res\n",
    "\n",
    "ans = Solution()\n",
    "ans.minChanges(\"1001\")"
   ]
  }
 ],
 "metadata": {
  "kernelspec": {
   "display_name": "Python 3",
   "language": "python",
   "name": "python3"
  },
  "language_info": {
   "codemirror_mode": {
    "name": "ipython",
    "version": 3
   },
   "file_extension": ".py",
   "mimetype": "text/x-python",
   "name": "python",
   "nbconvert_exporter": "python",
   "pygments_lexer": "ipython3",
   "version": "3.11.2"
  },
  "orig_nbformat": 4
 },
 "nbformat": 4,
 "nbformat_minor": 2
}
