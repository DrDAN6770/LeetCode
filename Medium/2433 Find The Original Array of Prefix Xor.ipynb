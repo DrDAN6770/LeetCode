{
 "cells": [
  {
   "cell_type": "markdown",
   "metadata": {},
   "source": [
    "# 2433. Find The Original Array of Prefix Xor\n",
    "---\n",
    "https://leetcode.com/problems/find-the-original-array-of-prefix-xor/"
   ]
  },
  {
   "cell_type": "code",
   "execution_count": 1,
   "metadata": {},
   "outputs": [
    {
     "data": {
      "text/plain": [
       "[1, 5, 12, 10]"
      ]
     },
     "execution_count": 1,
     "metadata": {},
     "output_type": "execute_result"
    }
   ],
   "source": [
    "# O(n) O(1)\n",
    "class Solution:\n",
    "    def findArray(self, pref: list[int]) -> list[int]:\n",
    "        for i in range(len(pref)-1, 0, -1):\n",
    "            pref[i] ^= pref[i-1]\n",
    "        return pref\n",
    "ans = Solution()\n",
    "ans.findArray([1,4,8,2])"
   ]
  },
  {
   "cell_type": "code",
   "execution_count": 2,
   "metadata": {},
   "outputs": [
    {
     "data": {
      "text/plain": [
       "[1, 5, 12, 10]"
      ]
     },
     "execution_count": 2,
     "metadata": {},
     "output_type": "execute_result"
    }
   ],
   "source": [
    "# O(n) O(n)\n",
    "class Solution:\n",
    "    def findArray(self, pref: list[int]) -> list[int]:\n",
    "        return [pref[i-1] ^ pref[i] if i > 0 else pref[i] for i in range(len(pref))]\n",
    "ans = Solution()\n",
    "ans.findArray([1,4,8,2])"
   ]
  }
 ],
 "metadata": {
  "kernelspec": {
   "display_name": "Python 3",
   "language": "python",
   "name": "python3"
  },
  "language_info": {
   "codemirror_mode": {
    "name": "ipython",
    "version": 3
   },
   "file_extension": ".py",
   "mimetype": "text/x-python",
   "name": "python",
   "nbconvert_exporter": "python",
   "pygments_lexer": "ipython3",
   "version": "3.11.2"
  },
  "orig_nbformat": 4
 },
 "nbformat": 4,
 "nbformat_minor": 2
}
