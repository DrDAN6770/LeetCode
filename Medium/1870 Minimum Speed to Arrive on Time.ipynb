{
 "cells": [
  {
   "cell_type": "markdown",
   "metadata": {},
   "source": [
    "# 1870. Minimum Speed to Arrive on Time\n",
    "---\n",
    "https://leetcode.com/problems/minimum-speed-to-arrive-on-time/description/"
   ]
  },
  {
   "cell_type": "code",
   "execution_count": 10,
   "metadata": {},
   "outputs": [
    {
     "data": {
      "text/plain": [
       "1"
      ]
     },
     "execution_count": 10,
     "metadata": {},
     "output_type": "execute_result"
    }
   ],
   "source": [
    "import math\n",
    "# 求滿足時間的最小速度\n",
    "class Solution:\n",
    "    def minSpeedOnTime(self, dist: list[int], hour: float) -> int:\n",
    "        def isEnoughSpeed(speed:int) -> bool:\n",
    "            return sum(math.ceil(d/speed) for d in dist[:-1]) + (dist[-1]/speed) <= hour\n",
    "        \n",
    "        # 最大速度r : 因為前面不管多快都要等滿1小時所以取最大的\n",
    "        # 最後一個距離要除的時間為 總時間-(前面n節-最後一節) >> dist[-1]//(hour - n +1)\n",
    "        # 取整數(題目要求速度為整數) \n",
    "        # + 1 : 比左邊原始多1，避免相同r = l\n",
    "\n",
    "        if len(dist)-1 >= hour:\n",
    "            return -1\n",
    "        n = len(dist)\n",
    "        l = 1\n",
    "        r = 1 + max(max(dist), l)\n",
    "        while l < r:\n",
    "            m = l + (r-l) // 2\n",
    "            if isEnoughSpeed(m):\n",
    "                r = m\n",
    "            else:\n",
    "                l = m + 1\n",
    "        return l\n",
    "\n",
    "ans = Solution()\n",
    "ans.minSpeedOnTime([1], 6.1)"
   ]
  },
  {
   "cell_type": "code",
   "execution_count": 6,
   "metadata": {},
   "outputs": [
    {
     "data": {
      "text/plain": [
       "2"
      ]
     },
     "execution_count": 6,
     "metadata": {},
     "output_type": "execute_result"
    }
   ],
   "source": [
    "import math\n",
    "class Solution:\n",
    "    def minSpeedOnTime(self, dist: list[int], hour: float) -> int:\n",
    "        def isEnoughSpeed(speed:int) -> bool:\n",
    "            return sum(math.ceil(d/speed) for d in dist[:-1]) + (dist[-1]/speed) <= hour\n",
    "        \n",
    "        if len(dist)-1 >= hour:\n",
    "            return -1\n",
    "        l, r = 1, 10**7\n",
    "        while l < r:\n",
    "            m = l + (r-l) // 2\n",
    "            if isEnoughSpeed(m):\n",
    "                r = m\n",
    "            else:\n",
    "                l = m + 1\n",
    "        return l\n",
    "\n",
    "ans = Solution()\n",
    "ans.minSpeedOnTime([1,1], 1.9)"
   ]
  }
 ],
 "metadata": {
  "kernelspec": {
   "display_name": "Python 3",
   "language": "python",
   "name": "python3"
  },
  "language_info": {
   "codemirror_mode": {
    "name": "ipython",
    "version": 3
   },
   "file_extension": ".py",
   "mimetype": "text/x-python",
   "name": "python",
   "nbconvert_exporter": "python",
   "pygments_lexer": "ipython3",
   "version": "3.11.2"
  },
  "orig_nbformat": 4
 },
 "nbformat": 4,
 "nbformat_minor": 2
}
