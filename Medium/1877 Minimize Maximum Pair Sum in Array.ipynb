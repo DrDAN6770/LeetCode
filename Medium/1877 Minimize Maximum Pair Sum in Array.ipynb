{
 "cells": [
  {
   "cell_type": "markdown",
   "metadata": {},
   "source": [
    "# 1877. Minimize Maximum Pair Sum in Array\n",
    "---\n",
    "https://leetcode.com/problems/minimize-maximum-pair-sum-in-array/"
   ]
  },
  {
   "cell_type": "code",
   "execution_count": 1,
   "metadata": {},
   "outputs": [
    {
     "data": {
      "text/plain": [
       "8"
      ]
     },
     "execution_count": 1,
     "metadata": {},
     "output_type": "execute_result"
    }
   ],
   "source": [
    "# O(n) O(n) hash + 2pointer\n",
    "from collections import Counter\n",
    "class Solution:\n",
    "    def minPairSum(self, nums: list[int]) -> int:\n",
    "        res = float(\"-inf\")\n",
    "        max_val = max(nums)\n",
    "        min_val = min(nums)\n",
    "        count_table = Counter(nums)\n",
    "\n",
    "        while min_val <= max_val:\n",
    "            if count_table[min_val] == 0:\n",
    "                min_val += 1\n",
    "            elif count_table[max_val] == 0:\n",
    "                max_val -= 1\n",
    "            else:\n",
    "                res = max(res, min_val + max_val)\n",
    "                count_table[min_val] -= 1\n",
    "                count_table[max_val] -= 1\n",
    "        return res    \n",
    "ans = Solution()\n",
    "ans.minPairSum([3,5,4,2,4,6])"
   ]
  },
  {
   "cell_type": "code",
   "execution_count": 2,
   "metadata": {},
   "outputs": [
    {
     "data": {
      "text/plain": [
       "8"
      ]
     },
     "execution_count": 2,
     "metadata": {},
     "output_type": "execute_result"
    }
   ],
   "source": [
    "class Solution:\n",
    "    def minPairSum(self, nums: list[int]) -> int:\n",
    "        nums.sort()\n",
    "        l, r = 0, len(nums) - 1\n",
    "        res = float(\"-inf\")\n",
    "\n",
    "        while l < r:\n",
    "            res = max(res, nums[l] + nums[r])\n",
    "            l += 1\n",
    "            r -= 1\n",
    "        return res\n",
    "ans = Solution()\n",
    "ans.minPairSum([3,5,4,2,4,6])"
   ]
  }
 ],
 "metadata": {
  "kernelspec": {
   "display_name": "Python 3",
   "language": "python",
   "name": "python3"
  },
  "language_info": {
   "codemirror_mode": {
    "name": "ipython",
    "version": 3
   },
   "file_extension": ".py",
   "mimetype": "text/x-python",
   "name": "python",
   "nbconvert_exporter": "python",
   "pygments_lexer": "ipython3",
   "version": "3.11.2"
  }
 },
 "nbformat": 4,
 "nbformat_minor": 2
}
