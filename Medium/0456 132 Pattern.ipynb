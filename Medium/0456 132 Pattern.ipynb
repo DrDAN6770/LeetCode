{
 "cells": [
  {
   "cell_type": "markdown",
   "metadata": {},
   "source": [
    "# 456. 132 Pattern\n",
    "---\n",
    "https://leetcode.com/problems/132-pattern/"
   ]
  },
  {
   "cell_type": "code",
   "execution_count": 1,
   "metadata": {},
   "outputs": [
    {
     "data": {
      "text/plain": [
       "True"
      ]
     },
     "execution_count": 1,
     "metadata": {},
     "output_type": "execute_result"
    }
   ],
   "source": [
    "# Stack O(n) O(n)\n",
    "class Solution:\n",
    "    def find132pattern(self, nums: list[int]) -> bool:\n",
    "        n = len(nums)\n",
    "        if n < 3:\n",
    "            return False\n",
    "        \n",
    "        st = []\n",
    "        k_num = float('-inf')\n",
    "\n",
    "        for num in nums[::-1]:\n",
    "            if num < k_num:\n",
    "                return True\n",
    "            while st and st[-1] < num:\n",
    "                k_num = st.pop()\n",
    "            st.append(num)\n",
    "        return False\n",
    "\n",
    "ans = Solution()\n",
    "ans.find132pattern(nums = [3,1,4,2])"
   ]
  },
  {
   "cell_type": "code",
   "execution_count": 3,
   "metadata": {},
   "outputs": [
    {
     "data": {
      "text/plain": [
       "False"
      ]
     },
     "execution_count": 3,
     "metadata": {},
     "output_type": "execute_result"
    }
   ],
   "source": [
    "# Brute Force O(n2) O(1) TLE\n",
    "class Solution:\n",
    "    def find132pattern(self, nums: list[int]) -> bool:\n",
    "        n = len(nums)\n",
    "        if n < 3:   return False\n",
    "\n",
    "        mn = float('inf')\n",
    "        for j in range(n-1):\n",
    "            mn = min(mn, nums[j])\n",
    "            for k in range(j+1, n):\n",
    "                if mn < nums[k] < nums[j]:\n",
    "                    return True\n",
    "        return False\n",
    "\n",
    "ans = Solution()\n",
    "ans.find132pattern(nums = [1,2,3])"
   ]
  }
 ],
 "metadata": {
  "kernelspec": {
   "display_name": "Python 3",
   "language": "python",
   "name": "python3"
  },
  "language_info": {
   "codemirror_mode": {
    "name": "ipython",
    "version": 3
   },
   "file_extension": ".py",
   "mimetype": "text/x-python",
   "name": "python",
   "nbconvert_exporter": "python",
   "pygments_lexer": "ipython3",
   "version": "3.11.2"
  },
  "orig_nbformat": 4
 },
 "nbformat": 4,
 "nbformat_minor": 2
}
