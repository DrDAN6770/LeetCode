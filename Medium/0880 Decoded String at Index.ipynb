{
 "cells": [
  {
   "cell_type": "markdown",
   "metadata": {},
   "source": [
    "# 880. Decoded String at Index\n",
    "---\n",
    "https://leetcode.com/problems/decoded-string-at-index/"
   ]
  },
  {
   "cell_type": "code",
   "execution_count": 74,
   "metadata": {},
   "outputs": [
    {
     "data": {
      "text/plain": [
       "'o'"
      ]
     },
     "execution_count": 74,
     "metadata": {},
     "output_type": "execute_result"
    }
   ],
   "source": [
    "class Solution:\n",
    "    def decodeAtIndex(self, s: str, k: int) -> str:\n",
    "        length = 0\n",
    "        for ch in s:\n",
    "            if ch.isalpha():\n",
    "                length += 1\n",
    "            else:\n",
    "                length *= int(ch)\n",
    "        for ch in s[::-1]:\n",
    "            k %= length\n",
    "            if k == 0 and ch.isalpha():\n",
    "                return ch\n",
    "            if ch.isdigit():\n",
    "                length /= int(ch)\n",
    "            if ch.isalpha():\n",
    "                length -= 1\n",
    "\n",
    "ans = Solution()\n",
    "ans.decodeAtIndex(\"leet2code3\", 10)"
   ]
  },
  {
   "cell_type": "code",
   "execution_count": 73,
   "metadata": {},
   "outputs": [
    {
     "data": {
      "text/plain": [
       "'o'"
      ]
     },
     "execution_count": 73,
     "metadata": {},
     "output_type": "execute_result"
    }
   ],
   "source": [
    "class Solution:\n",
    "    def decodeAtIndex(self, s: str, k: int) -> str:\n",
    "        length = 0\n",
    "        stack= []\n",
    "        for ch in s:\n",
    "            if ch.isalpha():\n",
    "                length += 1\n",
    "            else:\n",
    "                length *= int(ch)\n",
    "            stack.append(ch)\n",
    "            if length >= k:\n",
    "                break\n",
    "\n",
    "        while stack:\n",
    "            k %= length\n",
    "            c = stack.pop()\n",
    "            if c.isdigit():\n",
    "                length /= int(c)\n",
    "            if k == 0 and c.isalpha():\n",
    "                return c\n",
    "            if c.isalpha():\n",
    "                length -= 1\n",
    "\n",
    "ans = Solution()\n",
    "ans.decodeAtIndex(\"leet2code3\", 10)"
   ]
  },
  {
   "cell_type": "code",
   "execution_count": 41,
   "metadata": {},
   "outputs": [
    {
     "data": {
      "text/plain": [
       "'b'"
      ]
     },
     "execution_count": 41,
     "metadata": {},
     "output_type": "execute_result"
    }
   ],
   "source": [
    "class Solution:\n",
    "    def decodeAtIndex(self, s: str, k: int) -> str:\n",
    "        length = 0\n",
    "        stack = []\n",
    "\n",
    "        for ch in s:\n",
    "            if ch.isalpha():\n",
    "                length += 1\n",
    "            else:\n",
    "                length *= int(ch)\n",
    "            stack.append(length)\n",
    "            if length >= k:\n",
    "                break\n",
    "\n",
    "        n = len(stack)\n",
    "        while stack:\n",
    "            k %= stack[-1]\n",
    "            if k == 0 and s[n-1].isalpha():\n",
    "                return s[n-1]\n",
    "            n -= 1\n",
    "            stack.pop()\n",
    "        return ''\n",
    "\n",
    "\n",
    "ans = Solution()\n",
    "ans.decodeAtIndex(\"abcd\", 10)"
   ]
  }
 ],
 "metadata": {
  "kernelspec": {
   "display_name": "Python 3",
   "language": "python",
   "name": "python3"
  },
  "language_info": {
   "codemirror_mode": {
    "name": "ipython",
    "version": 3
   },
   "file_extension": ".py",
   "mimetype": "text/x-python",
   "name": "python",
   "nbconvert_exporter": "python",
   "pygments_lexer": "ipython3",
   "version": "3.11.2"
  },
  "orig_nbformat": 4
 },
 "nbformat": 4,
 "nbformat_minor": 2
}
