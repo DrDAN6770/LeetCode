{
 "cells": [
  {
   "cell_type": "markdown",
   "metadata": {},
   "source": [
    "# 646. Maximum Length of Pair Chain\n",
    "---\n",
    "https://leetcode.com/problems/maximum-length-of-pair-chain/description/"
   ]
  },
  {
   "cell_type": "code",
   "execution_count": 1,
   "metadata": {},
   "outputs": [
    {
     "data": {
      "text/plain": [
       "2"
      ]
     },
     "execution_count": 1,
     "metadata": {},
     "output_type": "execute_result"
    }
   ],
   "source": [
    "class Solution:\n",
    "    def findLongestChain(self, pairs: list[list[int]]) -> int:\n",
    "        pairs.sort(key = lambda x:x[1])\n",
    "        res = 1\n",
    "        cur_max = pairs[0][1]\n",
    "        for cur in pairs[1:]:\n",
    "            if cur_max < cur[0]:\n",
    "                res += 1\n",
    "                cur_max = cur[1]\n",
    "        return res\n",
    "ans = Solution()\n",
    "ans.findLongestChain([[1,2],[2,3],[3,4]])"
   ]
  }
 ],
 "metadata": {
  "kernelspec": {
   "display_name": "Python 3",
   "language": "python",
   "name": "python3"
  },
  "language_info": {
   "codemirror_mode": {
    "name": "ipython",
    "version": 3
   },
   "file_extension": ".py",
   "mimetype": "text/x-python",
   "name": "python",
   "nbconvert_exporter": "python",
   "pygments_lexer": "ipython3",
   "version": "3.11.2"
  },
  "orig_nbformat": 4
 },
 "nbformat": 4,
 "nbformat_minor": 2
}
