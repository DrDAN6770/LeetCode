{
 "cells": [
  {
   "cell_type": "markdown",
   "metadata": {},
   "source": [
    "# 435. Non-overlapping Intervals\n",
    "---\n",
    "https://leetcode.com/problems/non-overlapping-intervals/description/"
   ]
  },
  {
   "cell_type": "code",
   "execution_count": 31,
   "metadata": {},
   "outputs": [
    {
     "data": {
      "text/plain": [
       "7"
      ]
     },
     "execution_count": 31,
     "metadata": {},
     "output_type": "execute_result"
    }
   ],
   "source": [
    "# Greedy O(nlogn) O(n)\n",
    "# 排序第2個數後\n",
    "# 現在這組end與前一組start比較，有重疊就刪數+1\n",
    "# 沒重疊就移動end\n",
    "class Solution:\n",
    "    def eraseOverlapIntervals(self, intervals: list[list[int]]) -> int:\n",
    "        n = len(intervals)\n",
    "        if n == 1:\n",
    "            return 0\n",
    "        \n",
    "        intervals.sort(key = lambda x:x[1])\n",
    "        min_count = 0\n",
    "        end = intervals[0][1]\n",
    "\n",
    "        for s, e in intervals[1:]:\n",
    "            if end > s:\n",
    "                min_count += 1\n",
    "            else:\n",
    "                end = e\n",
    "\n",
    "        return min_count\n",
    "\n",
    "\n",
    "ans = Solution()\n",
    "ans.eraseOverlapIntervals([[-52,31],[-73,-26],[82,97],[-65,-11],[-62,-49],[95,99],[58,95],[-31,49],[66,98],[-63,2],[30,47],[-40,-26]])"
   ]
  }
 ],
 "metadata": {
  "kernelspec": {
   "display_name": "Python 3",
   "language": "python",
   "name": "python3"
  },
  "language_info": {
   "codemirror_mode": {
    "name": "ipython",
    "version": 3
   },
   "file_extension": ".py",
   "mimetype": "text/x-python",
   "name": "python",
   "nbconvert_exporter": "python",
   "pygments_lexer": "ipython3",
   "version": "3.11.2"
  },
  "orig_nbformat": 4
 },
 "nbformat": 4,
 "nbformat_minor": 2
}
