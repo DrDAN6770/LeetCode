{
 "cells": [
  {
   "cell_type": "markdown",
   "metadata": {},
   "source": [
    "# 852. Peak Index in a Mountain Array\n",
    "---\n",
    "https://leetcode.com/problems/peak-index-in-a-mountain-array/description/"
   ]
  },
  {
   "cell_type": "code",
   "execution_count": 25,
   "metadata": {},
   "outputs": [
    {
     "data": {
      "text/plain": [
       "1"
      ]
     },
     "execution_count": 25,
     "metadata": {},
     "output_type": "execute_result"
    }
   ],
   "source": [
    "# O(logn) O(1)\n",
    "'''\n",
    "左邊到中間會越來越高, 中間到右邊越來越低, 找中間index\n",
    "[0,1,2,3,2,1,0]\n",
    "'''\n",
    "class Solution:\n",
    "    def peakIndexInMountainArray(self, arr: list[int]) -> int:\n",
    "        l, r = 0, len(arr) - 1\n",
    "        while l <= r:\n",
    "            m = l + (r - l) // 2\n",
    "            if arr[m] >= arr[m - 1] and arr[m] >= arr[m + 1]:\n",
    "                return m\n",
    "            if arr[m] < arr[m - 1]:\n",
    "                r = m\n",
    "            else:\n",
    "                l = m + 1\n",
    "ans = Solution()\n",
    "ans.peakIndexInMountainArray([3,9,8,6,4])"
   ]
  }
 ],
 "metadata": {
  "kernelspec": {
   "display_name": "Python 3",
   "language": "python",
   "name": "python3"
  },
  "language_info": {
   "codemirror_mode": {
    "name": "ipython",
    "version": 3
   },
   "file_extension": ".py",
   "mimetype": "text/x-python",
   "name": "python",
   "nbconvert_exporter": "python",
   "pygments_lexer": "ipython3",
   "version": "3.11.2"
  },
  "orig_nbformat": 4
 },
 "nbformat": 4,
 "nbformat_minor": 2
}
