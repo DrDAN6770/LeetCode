{
 "cells": [
  {
   "cell_type": "markdown",
   "metadata": {},
   "source": [
    "# 33. Search in Rotated Sorted Array\n",
    "---\n",
    "https://leetcode.com/problems/search-in-rotated-sorted-array/?envType=list&envId=rwo58iji"
   ]
  },
  {
   "cell_type": "code",
   "execution_count": 35,
   "metadata": {},
   "outputs": [
    {
     "data": {
      "text/plain": [
       "3"
      ]
     },
     "execution_count": 35,
     "metadata": {},
     "output_type": "execute_result"
    }
   ],
   "source": [
    "# O(n)\n",
    "class Solution:\n",
    "    def search(self, nums: list[int], target: int) -> int:\n",
    "        try:\n",
    "            return nums.index(target)\n",
    "        except ValueError:\n",
    "            return -1\n",
    "n = [4,5,6,7,1,2,3]\n",
    "ans = Solution()\n",
    "ans.search(n, 7)"
   ]
  },
  {
   "cell_type": "code",
   "execution_count": 37,
   "metadata": {},
   "outputs": [
    {
     "data": {
      "text/plain": [
       "3"
      ]
     },
     "execution_count": 37,
     "metadata": {},
     "output_type": "execute_result"
    }
   ],
   "source": [
    "# O(logn)\n",
    "class Solution:\n",
    "    def search(self, nums: list[int], target: int) -> int:\n",
    "        l = 0\n",
    "        r = len(nums) - 1\n",
    "        m = l + (r - l) // 2\n",
    "        while l <= r:\n",
    "            if target == nums[m]:\n",
    "                return m\n",
    "            elif target == nums[l]:\n",
    "                return l\n",
    "            elif target == nums[r]:\n",
    "                return r\n",
    "            else:\n",
    "                l += 1\n",
    "                r -= 1\n",
    "        return -1\n",
    "\n",
    "n = [4,5,6,7,1,2,3]\n",
    "ans = Solution()\n",
    "ans.search(n, 7)"
   ]
  }
 ],
 "metadata": {
  "kernelspec": {
   "display_name": "Python 3",
   "language": "python",
   "name": "python3"
  },
  "language_info": {
   "codemirror_mode": {
    "name": "ipython",
    "version": 3
   },
   "file_extension": ".py",
   "mimetype": "text/x-python",
   "name": "python",
   "nbconvert_exporter": "python",
   "pygments_lexer": "ipython3",
   "version": "3.11.2"
  },
  "orig_nbformat": 4
 },
 "nbformat": 4,
 "nbformat_minor": 2
}
