{
 "cells": [
  {
   "cell_type": "markdown",
   "metadata": {},
   "source": [
    "# 1814. Count Nice Pairs in an Array\n",
    "---\n",
    "https://leetcode.com/problems/count-nice-pairs-in-an-array/"
   ]
  },
  {
   "cell_type": "code",
   "execution_count": 1,
   "metadata": {},
   "outputs": [
    {
     "data": {
      "text/plain": [
       "2"
      ]
     },
     "execution_count": 1,
     "metadata": {},
     "output_type": "execute_result"
    }
   ],
   "source": [
    "# O(n) O(n) counter math \n",
    "from collections import Counter\n",
    "class Solution:\n",
    "    def countNicePairs(self, nums: list[int]) -> int:\n",
    "        modulo = 10**9 + 7\n",
    "        res = 0\n",
    "        arr = [num - int(str(num)[::-1]) for num in nums]        \n",
    "\n",
    "        # n個數會跟n-1個數pair(除了自己)\n",
    "        # 彼此會重複2次, 所以除2\n",
    "\n",
    "        for value in Counter(arr).values():\n",
    "            res += value * (value-1) // 2\n",
    "        \n",
    "        return res % modulo\n",
    "ans = Solution()\n",
    "ans.countNicePairs([42,11,1,97])"
   ]
  },
  {
   "cell_type": "code",
   "execution_count": 1,
   "metadata": {},
   "outputs": [
    {
     "data": {
      "text/plain": [
       "4"
      ]
     },
     "execution_count": 1,
     "metadata": {},
     "output_type": "execute_result"
    }
   ],
   "source": [
    "# O(n) O(n) hash \n",
    "from collections import defaultdict\n",
    "class Solution:\n",
    "    def rev(self, num : int):\n",
    "        res = 0\n",
    "        while num != 0:\n",
    "            res = res * 10 + num % 10\n",
    "            num //= 10\n",
    "        return res\n",
    "\n",
    "    def countNicePairs(self, nums: list[int]) -> int:\n",
    "        modulo = 10**9 + 7\n",
    "        n = len(nums)\n",
    "        res = 0\n",
    "        arr = [num - self.rev(num) for num in nums]        \n",
    "        freq = defaultdict(int)\n",
    "\n",
    "        for num in arr:\n",
    "            res += freq[num]\n",
    "            freq[num] += 1\n",
    "        return res % modulo\n",
    "ans = Solution()\n",
    "ans.countNicePairs([13,10,35,24,76])"
   ]
  }
 ],
 "metadata": {
  "kernelspec": {
   "display_name": "Python 3",
   "language": "python",
   "name": "python3"
  },
  "language_info": {
   "codemirror_mode": {
    "name": "ipython",
    "version": 3
   },
   "file_extension": ".py",
   "mimetype": "text/x-python",
   "name": "python",
   "nbconvert_exporter": "python",
   "pygments_lexer": "ipython3",
   "version": "3.11.2"
  }
 },
 "nbformat": 4,
 "nbformat_minor": 2
}
