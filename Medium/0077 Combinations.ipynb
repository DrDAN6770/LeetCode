{
 "cells": [
  {
   "cell_type": "markdown",
   "metadata": {},
   "source": [
    "# 77. Combinations\n",
    "---\n",
    "https://leetcode.com/problems/combinations/"
   ]
  },
  {
   "cell_type": "code",
   "execution_count": 18,
   "metadata": {},
   "outputs": [
    {
     "data": {
      "text/plain": [
       "[(1, 2), (1, 3), (1, 4), (2, 3), (2, 4), (3, 4)]"
      ]
     },
     "execution_count": 18,
     "metadata": {},
     "output_type": "execute_result"
    }
   ],
   "source": [
    "# Faster method\n",
    "import itertools\n",
    "class Solution:\n",
    "    def combine(self, n: int, k: int) -> list[list[int]]:\n",
    "        return [*itertools.combinations(range(1, n+1), k)]\n",
    "ans = Solution()\n",
    "ans.combine(4, 2)"
   ]
  },
  {
   "cell_type": "code",
   "execution_count": 23,
   "metadata": {},
   "outputs": [
    {
     "data": {
      "text/plain": [
       "[[1, 2, 3], [1, 2, 4], [1, 3, 4], [2, 3, 4]]"
      ]
     },
     "execution_count": 23,
     "metadata": {},
     "output_type": "execute_result"
    }
   ],
   "source": [
    "# BackTracking\n",
    "class Solution:\n",
    "    def combine(self, n: int, k: int) -> list[list[int]]:\n",
    "        def backtracking(lst: list, num: int):\n",
    "            if len(lst) == k:\n",
    "                res.append(lst.copy())\n",
    "                return\n",
    "            for i in range(num, n + 1):\n",
    "                lst.append(i)\n",
    "                backtracking(lst, i + 1)\n",
    "                lst.pop()\n",
    "        res = []\n",
    "        backtracking([], 1)\n",
    "        return res\n",
    "ans = Solution()\n",
    "ans.combine(4, 3)"
   ]
  }
 ],
 "metadata": {
  "kernelspec": {
   "display_name": "Python 3",
   "language": "python",
   "name": "python3"
  },
  "language_info": {
   "codemirror_mode": {
    "name": "ipython",
    "version": 3
   },
   "file_extension": ".py",
   "mimetype": "text/x-python",
   "name": "python",
   "nbconvert_exporter": "python",
   "pygments_lexer": "ipython3",
   "version": "3.11.2"
  },
  "orig_nbformat": 4
 },
 "nbformat": 4,
 "nbformat_minor": 2
}
