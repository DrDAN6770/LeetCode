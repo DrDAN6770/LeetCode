{
 "cells": [
  {
   "cell_type": "markdown",
   "metadata": {},
   "source": [
    "# 1424 Diagonal Traverse II\n",
    "---\n",
    "https://leetcode.com/problems/diagonal-traverse-ii/description/?envType=daily-question&envId=2023-11-22"
   ]
  },
  {
   "cell_type": "code",
   "execution_count": 3,
   "metadata": {},
   "outputs": [
    {
     "data": {
      "text/plain": [
       "[1, 6, 2, 8, 7, 3, 9, 4, 12, 10, 5, 13, 11, 14, 15, 16]"
      ]
     },
     "execution_count": 3,
     "metadata": {},
     "output_type": "execute_result"
    }
   ],
   "source": [
    "# BFS O(m+n) O(m+n)\n",
    "from collections import deque\n",
    "class Solution:\n",
    "    def findDiagonalOrder(self, nums: list[list[int]]) -> list[int]:\n",
    "        deq = deque([(0,0)])\n",
    "        res = []\n",
    "\n",
    "        while deq:\n",
    "            row, col = deq.popleft()\n",
    "\n",
    "            if col == 0 and row + 1 < len(nums):\n",
    "                deq.append((row + 1, col))\n",
    "            if col + 1 < len(nums[row]):\n",
    "                deq.append((row, col + 1))\n",
    "            \n",
    "            res.append(nums[row][col])\n",
    "        \n",
    "        return res\n",
    "\n",
    "ans = Solution()\n",
    "ans.findDiagonalOrder([[1,2,3,4,5],[6,7],[8],[9,10,11],[12,13,14,15,16]])"
   ]
  },
  {
   "cell_type": "code",
   "execution_count": 2,
   "metadata": {},
   "outputs": [
    {
     "data": {
      "text/plain": [
       "[1, 6, 2, 8, 7, 3, 9, 4, 12, 10, 5, 13, 11, 14, 15, 16]"
      ]
     },
     "execution_count": 2,
     "metadata": {},
     "output_type": "execute_result"
    }
   ],
   "source": [
    "# hash O(m+n) O(m+n)\n",
    "from collections import defaultdict\n",
    "class Solution:\n",
    "    def findDiagonalOrder(self, nums: list[list[int]]) -> list[int]:\n",
    "        res = []\n",
    "        seen = defaultdict(list) # sum : num[row][col]\n",
    "        for row in range(len(nums)-1, -1, -1):\n",
    "            for col in range(len(nums[row])):\n",
    "                seen[row + col].append(nums[row][col])\n",
    "        \n",
    "        for i in range(len(seen)):\n",
    "            res.extend(seen[i])\n",
    "        return res\n",
    "\n",
    "ans = Solution()\n",
    "ans.findDiagonalOrder([[1,2,3,4,5],[6,7],[8],[9,10,11],[12,13,14,15,16]])"
   ]
  },
  {
   "cell_type": "code",
   "execution_count": 1,
   "metadata": {},
   "outputs": [
    {
     "data": {
      "text/plain": [
       "[1, 6, 2, 8, 7, 3, 9, 4, 12, 10, 5, 13, 11, 14, 15, 16]"
      ]
     },
     "execution_count": 1,
     "metadata": {},
     "output_type": "execute_result"
    }
   ],
   "source": [
    "# hash + deq O(m + n) O(m+n)\n",
    "from collections import defaultdict, deque\n",
    "class Solution:\n",
    "    def findDiagonalOrder(self, nums: list[list[int]]) -> list[int]:\n",
    "        res = []\n",
    "        seen = defaultdict(deque) # sum : num[row][col]\n",
    "        for row in range(len(nums)):\n",
    "            for col in range(len(nums[row])):\n",
    "                seen[row + col].appendleft(nums[row][col])\n",
    "        \n",
    "        for val in seen.values():\n",
    "            res.extend(val)\n",
    "        return res\n",
    "\n",
    "ans = Solution()\n",
    "ans.findDiagonalOrder([[1,2,3,4,5],[6,7],[8],[9,10,11],[12,13,14,15,16]])"
   ]
  }
 ],
 "metadata": {
  "kernelspec": {
   "display_name": "Python 3",
   "language": "python",
   "name": "python3"
  },
  "language_info": {
   "codemirror_mode": {
    "name": "ipython",
    "version": 3
   },
   "file_extension": ".py",
   "mimetype": "text/x-python",
   "name": "python",
   "nbconvert_exporter": "python",
   "pygments_lexer": "ipython3",
   "version": "3.11.2"
  }
 },
 "nbformat": 4,
 "nbformat_minor": 2
}
