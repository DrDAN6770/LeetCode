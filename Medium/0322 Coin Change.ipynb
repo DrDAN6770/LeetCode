{
 "cells": [
  {
   "cell_type": "markdown",
   "metadata": {},
   "source": [
    "# 322. Coin Change\n",
    "---\n",
    "https://leetcode.com/problems/coin-change/description/\n",
    "https://www.youtube.com/watch?v=H9bfqozjoqs"
   ]
  },
  {
   "cell_type": "code",
   "execution_count": 1,
   "metadata": {},
   "outputs": [
    {
     "data": {
      "text/plain": [
       "2"
      ]
     },
     "execution_count": 1,
     "metadata": {},
     "output_type": "execute_result"
    }
   ],
   "source": [
    "# DP O(n * a) O(a) a: amount\n",
    "class Solution:\n",
    "    def coinChange(self, coins: list[int], amount: int) -> int:\n",
    "        # dp[i] : when a = i, how many coins we need, and default values is more than max possible count -> a + 1\n",
    "        dp = [amount + 1] * (amount + 1)\n",
    "        dp[0] = 0\n",
    "\n",
    "        for a in range(1, amount + 1):\n",
    "            for c in coins:\n",
    "                if a - c >= 0:\n",
    "                    dp[a] = min(dp[a], 1 + dp[a - c])\n",
    "        return -1 if dp[-1] == amount + 1 else dp[-1]\n",
    "\n",
    "# ex : coins = [1,3,4,5] a = 7\n",
    "# dp[0] = 0\n",
    "# dp[1] = 1\n",
    "# dp[2] = 2\n",
    "# dp[3] = 1\n",
    "# dp[4] = 1\n",
    "# dp[7] = min(dp[7], 1 + dp[7-5]) = 3\n",
    "# dp[7] = min(dp[7], 1 + dp[7-4]) = 2\n",
    "\n",
    "ans = Solution()\n",
    "ans.coinChange([19, 17], 34)"
   ]
  }
 ],
 "metadata": {
  "kernelspec": {
   "display_name": "Python 3",
   "language": "python",
   "name": "python3"
  },
  "language_info": {
   "codemirror_mode": {
    "name": "ipython",
    "version": 3
   },
   "file_extension": ".py",
   "mimetype": "text/x-python",
   "name": "python",
   "nbconvert_exporter": "python",
   "pygments_lexer": "ipython3",
   "version": "3.11.2"
  },
  "orig_nbformat": 4
 },
 "nbformat": 4,
 "nbformat_minor": 2
}
