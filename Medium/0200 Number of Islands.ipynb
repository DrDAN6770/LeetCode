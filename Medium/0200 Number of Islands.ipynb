{
 "cells": [
  {
   "cell_type": "markdown",
   "metadata": {},
   "source": [
    "# 200. Number of Islands\n",
    "---\n",
    "https://leetcode.com/problems/number-of-islands/"
   ]
  },
  {
   "cell_type": "code",
   "execution_count": 3,
   "metadata": {},
   "outputs": [
    {
     "data": {
      "text/plain": [
       "3"
      ]
     },
     "execution_count": 3,
     "metadata": {},
     "output_type": "execute_result"
    }
   ],
   "source": [
    "from collections import deque\n",
    "class Solution:\n",
    "    def numIslands(self, grid: list[list[str]]) -> int:\n",
    "        res = 0\n",
    "        m, n = len(grid), len(grid[0])\n",
    "        for row in range(m):\n",
    "            for col in range(n):\n",
    "                if grid[row][col] == '1':\n",
    "                    self.bfs(grid, row, col)\n",
    "                    res += 1\n",
    "        return res\n",
    "\n",
    "    def bfs(self, grid, i, j):\n",
    "        dq = deque([(i,j)])\n",
    "        grid[i][j] = '2'\n",
    "\n",
    "        while dq:\n",
    "            i, j = dq.popleft()\n",
    "            for di, dj in (1, 0), (0, 1), (-1, 0), (0, -1):\n",
    "                next_i = i + di\n",
    "                next_j = j + dj\n",
    "                if next_i < 0 or next_j < 0 or next_i >= len(grid) or next_j >= len(grid[0]) or grid[next_i][next_j] != '1':\n",
    "                    continue\n",
    "                dq.append((next_i, next_j))\n",
    "                grid[next_i][next_j] = '2'\n",
    "\n",
    "# T: O(mn) S:O(n or m)\n",
    "# BFS\n",
    "ans = Solution()\n",
    "ans.numIslands(grid = [\n",
    "  [\"1\",\"1\",\"0\",\"0\",\"0\"],\n",
    "  [\"1\",\"1\",\"0\",\"0\",\"0\"],\n",
    "  [\"0\",\"0\",\"1\",\"0\",\"0\"],\n",
    "  [\"0\",\"0\",\"0\",\"1\",\"1\"]\n",
    "])"
   ]
  },
  {
   "cell_type": "code",
   "execution_count": 4,
   "metadata": {},
   "outputs": [
    {
     "data": {
      "text/plain": [
       "3"
      ]
     },
     "execution_count": 4,
     "metadata": {},
     "output_type": "execute_result"
    }
   ],
   "source": [
    "class Solution:\n",
    "    def numIslands(self, grid: list[list[str]]) -> int:\n",
    "        res = 0\n",
    "        m, n = len(grid), len(grid[0])\n",
    "        for row in range(m):\n",
    "            for col in range(n):\n",
    "                if grid[row][col] == '1':\n",
    "                    self.dfs(grid, row, col)\n",
    "                    res += 1\n",
    "        return res\n",
    "\n",
    "    def dfs(self, grid, i, j):\n",
    "        if i < 0 or j < 0 or i >= len(grid) or j >= len(grid[0]) or grid[i][j] != '1':\n",
    "            return\n",
    "        grid[i][j] = '2'\n",
    "        self.dfs(grid, i + 1, j)\n",
    "        self.dfs(grid, i - 1, j)\n",
    "        self.dfs(grid, i, j + 1)\n",
    "        self.dfs(grid, i, j - 1)\n",
    "\n",
    "# T: O(mn) S:O(n or m)\n",
    "# DFS\n",
    "ans = Solution()\n",
    "ans.numIslands(grid = [\n",
    "  [\"1\",\"1\",\"0\",\"0\",\"0\"],\n",
    "  [\"1\",\"1\",\"0\",\"0\",\"0\"],\n",
    "  [\"0\",\"0\",\"1\",\"0\",\"0\"],\n",
    "  [\"0\",\"0\",\"0\",\"1\",\"1\"]\n",
    "])"
   ]
  }
 ],
 "metadata": {
  "kernelspec": {
   "display_name": "Python 3",
   "language": "python",
   "name": "python3"
  },
  "language_info": {
   "codemirror_mode": {
    "name": "ipython",
    "version": 3
   },
   "file_extension": ".py",
   "mimetype": "text/x-python",
   "name": "python",
   "nbconvert_exporter": "python",
   "pygments_lexer": "ipython3",
   "version": "3.11.2"
  },
  "orig_nbformat": 4
 },
 "nbformat": 4,
 "nbformat_minor": 2
}
