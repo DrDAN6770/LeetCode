{
 "cells": [
  {
   "cell_type": "markdown",
   "metadata": {},
   "source": [
    "# 2483. Minimum Penalty for a Shop\n",
    "---\n",
    "https://leetcode.com/problems/minimum-penalty-for-a-shop/description/"
   ]
  },
  {
   "cell_type": "code",
   "execution_count": 1,
   "metadata": {},
   "outputs": [
    {
     "data": {
      "text/plain": [
       "2"
      ]
     },
     "execution_count": 1,
     "metadata": {},
     "output_type": "execute_result"
    }
   ],
   "source": [
    "# O(n) O(1)\n",
    "class Solution:\n",
    "    def bestClosingTime(self, customers: str) -> int:\n",
    "        mn = 0\n",
    "        p = minp = 0\n",
    "        for i, char in enumerate(customers, 1):\n",
    "            if char == 'Y':\n",
    "                p -= 1\n",
    "            else:\n",
    "                p += 1\n",
    "            \n",
    "            if p < minp:\n",
    "                minp = p\n",
    "                mn = i\n",
    "        return mn\n",
    "ans = Solution()\n",
    "ans.bestClosingTime(\"YYNY\")"
   ]
  }
 ],
 "metadata": {
  "kernelspec": {
   "display_name": "Python 3",
   "language": "python",
   "name": "python3"
  },
  "language_info": {
   "codemirror_mode": {
    "name": "ipython",
    "version": 3
   },
   "file_extension": ".py",
   "mimetype": "text/x-python",
   "name": "python",
   "nbconvert_exporter": "python",
   "pygments_lexer": "ipython3",
   "version": "3.11.2"
  },
  "orig_nbformat": 4
 },
 "nbformat": 4,
 "nbformat_minor": 2
}
