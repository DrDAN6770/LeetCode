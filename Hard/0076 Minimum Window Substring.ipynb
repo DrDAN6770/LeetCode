{
 "cells": [
  {
   "cell_type": "markdown",
   "metadata": {},
   "source": [
    "# 76. Minimum Window Substring\n",
    "---\n",
    "https://leetcode.com/problems/minimum-window-substring/description/?envType=list&envId=rwo58iji"
   ]
  },
  {
   "cell_type": "code",
   "execution_count": 1,
   "metadata": {},
   "outputs": [
    {
     "data": {
      "text/plain": [
       "'bxcac'"
      ]
     },
     "execution_count": 1,
     "metadata": {},
     "output_type": "execute_result"
    }
   ],
   "source": [
    "''''\n",
    "0 1 2 3 4 5 6 7 8 9 10 11 12\n",
    "A D O B E C O D E B  A  N  C\n",
    "^ ^\n",
    "\n",
    "'''\n",
    "from collections import Counter\n",
    "class Solution:\n",
    "    def minWindow(self, s: str, t: str) -> str:\n",
    "        m, n = len(s), len(t)\n",
    "        if m < n:\n",
    "            return \"\"\n",
    "        \n",
    "        t_count = Counter(t)\n",
    "        l, r = 0, 0\n",
    "        min_len = m + 1\n",
    "        res = \"\"\n",
    "        while r < m:\n",
    "            if s[r] in t_count:\n",
    "                t_count[s[r]] -= 1\n",
    "                if t_count[s[r]] >= 0:\n",
    "                    n -= 1\n",
    "            \n",
    "            while n == 0:\n",
    "                if min_len > r - l + 1:\n",
    "                    min_len = r - l + 1\n",
    "                    res = s[l:r+1]\n",
    "                \n",
    "                if s[l] in t_count:\n",
    "                    t_count[s[l]] += 1\n",
    "                    if t_count[s[l]] > 0:\n",
    "                        n += 1\n",
    "                l += 1\n",
    "            r += 1\n",
    "        return res\n",
    "ans = Solution()\n",
    "ans.minWindow('axbxcacxb', 'abcc')"
   ]
  }
 ],
 "metadata": {
  "kernelspec": {
   "display_name": "Python 3",
   "language": "python",
   "name": "python3"
  },
  "language_info": {
   "codemirror_mode": {
    "name": "ipython",
    "version": 3
   },
   "file_extension": ".py",
   "mimetype": "text/x-python",
   "name": "python",
   "nbconvert_exporter": "python",
   "pygments_lexer": "ipython3",
   "version": "3.11.2"
  },
  "orig_nbformat": 4
 },
 "nbformat": 4,
 "nbformat_minor": 2
}
