{
 "cells": [
  {
   "cell_type": "markdown",
   "metadata": {},
   "source": [
    "# 124. Binary Tree Maximum Path Sum\n",
    "---\n",
    "https://leetcode.com/problems/binary-tree-maximum-path-sum/description/"
   ]
  },
  {
   "cell_type": "markdown",
   "metadata": {},
   "source": [
    "![Alt text](image.png)"
   ]
  },
  {
   "cell_type": "code",
   "execution_count": null,
   "metadata": {},
   "outputs": [],
   "source": [
    "# DFS O(n) O(1)\n",
    "class Solution:\n",
    "    def maxPathSum(self, root) -> int:\n",
    "        self.res = float('-inf')\n",
    "        self.helper(root)\n",
    "\n",
    "        return self.res\n",
    "    def helper(self, root):\n",
    "        if not root:\n",
    "            return 0\n",
    "        \n",
    "        left = max(self.helper(root.left), 0)\n",
    "        right = max(self.helper(root.right), 0)\n",
    "        self.res = max(self.res, root.val, root.val + left + right)\n",
    "\n",
    "        # which path\n",
    "        return root.val + max(left, right)"
   ]
  }
 ],
 "metadata": {
  "kernelspec": {
   "display_name": "Python 3",
   "language": "python",
   "name": "python3"
  },
  "language_info": {
   "codemirror_mode": {
    "name": "ipython",
    "version": 3
   },
   "file_extension": ".py",
   "mimetype": "text/x-python",
   "name": "python",
   "nbconvert_exporter": "python",
   "pygments_lexer": "ipython3",
   "version": "3.11.2"
  },
  "orig_nbformat": 4
 },
 "nbformat": 4,
 "nbformat_minor": 2
}
