{
 "cells": [
  {
   "cell_type": "markdown",
   "metadata": {},
   "source": [
    "# 212. Word Search II\n",
    "---\n",
    "https://leetcode.com/problems/word-search-ii/"
   ]
  },
  {
   "cell_type": "code",
   "execution_count": 32,
   "metadata": {},
   "outputs": [
    {
     "data": {
      "text/plain": [
       "['a', 'adb']"
      ]
     },
     "execution_count": 32,
     "metadata": {},
     "output_type": "execute_result"
    }
   ],
   "source": [
    "# Tire & Backtracking\n",
    "class Solution:    \n",
    "    def findWords(self, board: list[list[str]], words: list[str]) -> list[str]:\n",
    "        trie = {}\n",
    "\n",
    "        # make word trie\n",
    "        for word in words:\n",
    "            cur = trie\n",
    "            for char in word:\n",
    "                cur = cur.setdefault(char, {})\n",
    "            cur['end'] = word\n",
    "\n",
    "        m, n = len(board), len(board[0])\n",
    "        res = []\n",
    "\n",
    "        for row in range(m):\n",
    "            for col in range(n):\n",
    "                if board[row][col] in trie:\n",
    "                    self.dfs(row, col, trie, res, board)\n",
    "        return res \n",
    "        \n",
    "    def dfs(self, row, col, trie, res, board) -> None:\n",
    "        m, n = len(board), len(board[0])\n",
    "        \n",
    "        if row < 0 or row >= m or col < 0 or col >= n or board[row][col] not in trie:\n",
    "            return\n",
    "        \n",
    "        char = board[row][col]\n",
    "        cur = trie[char]\n",
    "        word = cur.pop('end', False)\n",
    "        if word:\n",
    "            res.append(word)\n",
    "\n",
    "        # mark seen\n",
    "        board[row][col] = '*'\n",
    "\n",
    "        # 4 dirs\n",
    "        self.dfs(row + 1, col, cur, res, board)\n",
    "        self.dfs(row - 1, col, cur, res, board)\n",
    "        self.dfs(row, col + 1, cur, res, board)\n",
    "        self.dfs(row, col - 1, cur, res, board)\n",
    "        \n",
    "        # back\n",
    "        board[row][col] = char\n",
    "\n",
    "        # get the target word, remove it\n",
    "        if not cur:\n",
    "            trie.pop(char)\n",
    "ans = Solution()\n",
    "ans.findWords(board = [['a','d','b','c']], words = [\"a\",\"adb\"])"
   ]
  },
  {
   "cell_type": "code",
   "execution_count": 18,
   "metadata": {},
   "outputs": [
    {
     "data": {
      "text/plain": [
       "[]"
      ]
     },
     "execution_count": 18,
     "metadata": {},
     "output_type": "execute_result"
    }
   ],
   "source": [
    "# Backtracking\n",
    "from collections import Counter\n",
    "class Solution:    \n",
    "    def findWords(self, board: list[list[str]], words: list[str]) -> list[str]:\n",
    "        self.board = board\n",
    "        self.m = len(board)\n",
    "        self.n = len(board[0])\n",
    "        self.board_count = Counter(sum(board, []))\n",
    "\n",
    "        res = []\n",
    "        for word in words:\n",
    "            if self.helper(word):\n",
    "                res.append(word)\n",
    "        return res\n",
    "        \n",
    "    def helper(self, word) -> bool:\n",
    "        def backtracking(row, col, idx) -> bool:\n",
    "            if idx == len(word):\n",
    "                return True\n",
    "            if row < 0 or row >= self.m or col < 0 or col >= self.n or self.board[row][col] != word[idx] or (row, col, idx) in seen:\n",
    "                return False\n",
    "\n",
    "            seen.add((row, col, idx))\n",
    "            \n",
    "            temp = self.board[row][col]\n",
    "            self.board[row][col] = '*'\n",
    "            f = backtracking(row + 1, col, idx + 1) or \\\n",
    "                backtracking(row - 1, col, idx + 1) or \\\n",
    "                backtracking(row, col + 1, idx + 1) or \\\n",
    "                backtracking(row, col - 1, idx + 1)\n",
    "\n",
    "            self.board[row][col] = temp\n",
    "            seen.remove((row, col, idx))\n",
    "            return f\n",
    "        \n",
    "        if self.m * self.n < len(word):\n",
    "            return False\n",
    "        word_count = Counter(word)\n",
    "        for key, value in word_count.items():\n",
    "            if key not in self.board_count or value > self.board_count[key]:\n",
    "                return False\n",
    "        \n",
    "        if self.board_count[word[0]] > self.board_count[word[-1]]:\n",
    "            word = word[::-1]\n",
    "        \n",
    "        seen = set()\n",
    "        for row in range(self.m):\n",
    "            for col in range(self.n):\n",
    "                if backtracking(row, col, 0):\n",
    "                    return True\n",
    "        return False\n",
    "ans = Solution()\n",
    "ans.findWords(board = [[\"a\",\"b\"],[\"c\",\"d\"]], words = [\"abcb\"])"
   ]
  }
 ],
 "metadata": {
  "kernelspec": {
   "display_name": "Python 3",
   "language": "python",
   "name": "python3"
  },
  "language_info": {
   "codemirror_mode": {
    "name": "ipython",
    "version": 3
   },
   "file_extension": ".py",
   "mimetype": "text/x-python",
   "name": "python",
   "nbconvert_exporter": "python",
   "pygments_lexer": "ipython3",
   "version": "3.11.2"
  },
  "orig_nbformat": 4
 },
 "nbformat": 4,
 "nbformat_minor": 2
}
