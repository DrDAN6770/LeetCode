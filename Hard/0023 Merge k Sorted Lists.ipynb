{
 "cells": [
  {
   "cell_type": "markdown",
   "metadata": {},
   "source": [
    "# 23. Merge k Sorted Lists\n",
    "---\n",
    "https://leetcode.com/problems/merge-k-sorted-lists/description/?envType=list&envId=rwo58iji"
   ]
  },
  {
   "cell_type": "code",
   "execution_count": 1,
   "metadata": {},
   "outputs": [],
   "source": [
    "class ListNode:\n",
    "    def __init__(self, val=0, next=None):\n",
    "        self.val = val\n",
    "        self.next = next\n",
    "\n",
    "def craetListNode(data):\n",
    "    tmp = ListNode()\n",
    "    head = tmp\n",
    "    for val in data:\n",
    "        head.next = ListNode(val)\n",
    "        head = head.next\n",
    "    return tmp.next"
   ]
  },
  {
   "cell_type": "code",
   "execution_count": 2,
   "metadata": {},
   "outputs": [
    {
     "name": "stdout",
     "output_type": "stream",
     "text": [
      "1 1 3 4 5 6 10 "
     ]
    }
   ],
   "source": [
    "# O(nlogn)\n",
    "class Solution:\n",
    "    def mergeKLists(self, lists: ListNode) -> ListNode:\n",
    "        if not lists:\n",
    "            return None\n",
    "        res = []\n",
    "        for linked_list in lists:  # 遍歷lists每個elements\n",
    "            while linked_list:     # 每個node\n",
    "                res.append(linked_list.val)\n",
    "                linked_list = linked_list.next\n",
    "        \n",
    "        # 排序 & 返回linked-list\n",
    "        res.sort()\n",
    "        return craetListNode(res)\n",
    "\n",
    "d = [1,4,5]\n",
    "r = [1,3,6,10]\n",
    "lst = [craetListNode(d), craetListNode(r)]\n",
    "ans = Solution()\n",
    "res = ans.mergeKLists(lst)\n",
    "while res:\n",
    "    print(res.val, end = ' ')\n",
    "    res = res.next"
   ]
  },
  {
   "cell_type": "markdown",
   "metadata": {},
   "source": [
    "# Haep解\n",
    "---\n",
    "https://www.youtube.com/watch?v=zmtk1_ha0WU"
   ]
  },
  {
   "cell_type": "code",
   "execution_count": 5,
   "metadata": {},
   "outputs": [
    {
     "name": "stdout",
     "output_type": "stream",
     "text": [
      "1 2 3 4 5 6 7 8 9 10 "
     ]
    }
   ],
   "source": [
    "import heapq\n",
    "# 先弄出一個最小堆積結構(只有各linked-list第1個val)\n",
    "# 開始移動那些node並加入heap\n",
    "\n",
    "class Solution:\n",
    "    def mergeKLists(self, lists: ListNode) -> ListNode:\n",
    "        if not lists:\n",
    "            return None\n",
    "\n",
    "        # 弄出一個最小堆積\n",
    "        h = []\n",
    "        for idx, list in enumerate(lists):\n",
    "            if list: \n",
    "                heapq.heappush(h, (list.val, idx))\n",
    "        \n",
    "        # print(h) # [(1, 0), (2, 1), (3, 2)]\n",
    "\n",
    "        curr = dummy = ListNode()\n",
    "        while h:\n",
    "            val, idx = heapq.heappop(h)   # 取出(從堆中最小的開始) ex 1>2>3>...\n",
    "            curr.next = ListNode(val)     # 加入linked-list\n",
    "            curr = curr.next              # 移動current指針\n",
    "            lists[idx] = lists[idx].next  # 移動lists[idx]的指針\n",
    "            if lists[idx]:                # 如果還有值就繼續推進去，agian\n",
    "                heapq.heappush(h, (lists[idx].val, idx))\n",
    "        return dummy.next\n",
    "d1 = [1,4,7]\n",
    "d2 = [2,5,8,10]\n",
    "d3 = [3,6,9]\n",
    "lst = [craetListNode(d1), craetListNode(d2), craetListNode(d3)]\n",
    "ans = Solution()\n",
    "res = ans.mergeKLists(lst)\n",
    "while res:\n",
    "    print(res.val, end = ' ')\n",
    "    res = res.next"
   ]
  }
 ],
 "metadata": {
  "kernelspec": {
   "display_name": "Python 3",
   "language": "python",
   "name": "python3"
  },
  "language_info": {
   "codemirror_mode": {
    "name": "ipython",
    "version": 3
   },
   "file_extension": ".py",
   "mimetype": "text/x-python",
   "name": "python",
   "nbconvert_exporter": "python",
   "pygments_lexer": "ipython3",
   "version": "3.11.2"
  },
  "orig_nbformat": 4
 },
 "nbformat": 4,
 "nbformat_minor": 2
}
