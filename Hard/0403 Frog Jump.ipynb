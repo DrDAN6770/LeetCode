{
 "cells": [
  {
   "cell_type": "markdown",
   "metadata": {},
   "source": [
    "# 403. Frog Jump\n",
    "---\n",
    "https://leetcode.com/problems/frog-jump/description/"
   ]
  },
  {
   "cell_type": "code",
   "execution_count": 35,
   "metadata": {},
   "outputs": [
    {
     "data": {
      "text/plain": [
       "False"
      ]
     },
     "execution_count": 35,
     "metadata": {},
     "output_type": "execute_result"
    }
   ],
   "source": [
    "# DFS\n",
    "class Solution:\n",
    "    def canCross(self, stones: list[int]) -> bool:\n",
    "        if stones[1] != 1:\n",
    "            return False\n",
    "        seen = set() # cur_stone, last_jump\n",
    "        stack = [(0, 0)] # cur_stone, last_jump\n",
    "        while stack:\n",
    "            cur_stone, last_jump = stack.pop()\n",
    "            for k in (last_jump - 1, last_jump, last_jump + 1):\n",
    "                next_stone = cur_stone + k\n",
    "                if k > 0 and next_stone in stones and (next_stone, k) not in seen:\n",
    "                    stack.append((next_stone, k))\n",
    "                    if next_stone == stones[-1]:\n",
    "                        return True          \n",
    "            seen.add((cur_stone, last_jump))\n",
    "        return False\n",
    "        # print(seen)\n",
    "        \n",
    "ans = Solution()\n",
    "# ans.canCross([0,1,3,5,6,8,12,17])\n",
    "ans.canCross([0,1,2,3,4,8,9,11])"
   ]
  },
  {
   "cell_type": "code",
   "execution_count": 24,
   "metadata": {},
   "outputs": [
    {
     "data": {
      "text/plain": [
       "False"
      ]
     },
     "execution_count": 24,
     "metadata": {},
     "output_type": "execute_result"
    }
   ],
   "source": [
    "class Solution:\n",
    "    def canCross(self, stones: list[int]) -> bool:\n",
    "        if stones[1] != 1:\n",
    "            return False\n",
    "        n = len(stones)\n",
    "        dp = [set() for _ in range(n)]\n",
    "        dp[0].add(1)\n",
    "        for i in range(1, n):\n",
    "            for j in range(i):\n",
    "                jump = stones[i] - stones[j]\n",
    "                if jump in dp[j]:\n",
    "                    dp[i].add(jump - 1)\n",
    "                    dp[i].add(jump)\n",
    "                    dp[i].add(jump + 1)\n",
    "        return True if dp[-1] else False\n",
    "       \n",
    "ans = Solution()\n",
    "# ans.canCross([0,1,3,5,6,8,12,17])\n",
    "ans.canCross([0,1,2,3,4,8,9,11])"
   ]
  }
 ],
 "metadata": {
  "kernelspec": {
   "display_name": "Python 3",
   "language": "python",
   "name": "python3"
  },
  "language_info": {
   "codemirror_mode": {
    "name": "ipython",
    "version": 3
   },
   "file_extension": ".py",
   "mimetype": "text/x-python",
   "name": "python",
   "nbconvert_exporter": "python",
   "pygments_lexer": "ipython3",
   "version": "3.11.2"
  },
  "orig_nbformat": 4
 },
 "nbformat": 4,
 "nbformat_minor": 2
}
