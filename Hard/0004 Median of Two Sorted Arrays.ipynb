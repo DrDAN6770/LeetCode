{
 "cells": [
  {
   "cell_type": "markdown",
   "metadata": {},
   "source": [
    "# 4. Median of Two Sorted Arrays\n",
    "---\n",
    "https://leetcode.com/problems/median-of-two-sorted-arrays/\n",
    "\n",
    "https://www.youtube.com/watch?v=ScCg9v921ns"
   ]
  },
  {
   "cell_type": "code",
   "execution_count": 3,
   "metadata": {},
   "outputs": [
    {
     "data": {
      "text/plain": [
       "3.5"
      ]
     },
     "execution_count": 3,
     "metadata": {},
     "output_type": "execute_result"
    }
   ],
   "source": [
    "# BS O(log(min(m, n))) O(1)\n",
    "class Solution:\n",
    "    def findMedianSortedArrays(self, nums1: list[int], nums2: list[int]) -> float:\n",
    "        m, n = len(nums1), len(nums2)\n",
    "\n",
    "        # 其中一個是[]\n",
    "        if not m:\n",
    "            mid = n >> 1\n",
    "            return nums2[mid] if n & 1 else (nums2[mid-1] + nums2[mid]) / 2\n",
    "        elif not n:\n",
    "            mid = m >> 1\n",
    "            return nums1[mid] if m & 1 else (nums1[mid-1] + nums1[mid]) / 2\n",
    "\n",
    "        # nums2都在nums1右邊\n",
    "        if nums1[-1] <= nums2[0]:\n",
    "            nums1 += nums2\n",
    "            mid = (m+n) >> 1\n",
    "            return nums1[mid] if (m + n) & 1 else (nums1[mid-1] + nums1[mid]) / 2\n",
    "        \n",
    "        # nums1都在nums2右邊\n",
    "        elif nums2[-1] <= nums1[0]:\n",
    "            nums2 += nums1\n",
    "            mid = (m+n) >> 1\n",
    "            return nums2[mid] if (m + n) & 1 else (nums2[mid-1] + nums2[mid]) / 2\n",
    "\n",
    "        # nums1, nums2 穿插\n",
    "        # make nums1 shorter\n",
    "        if m > n:\n",
    "            nums1, nums2 = nums2, nums1\n",
    "            m, n = n, m\n",
    "        \n",
    "        l ,r = 0, m\n",
    "        total = m + n\n",
    "\n",
    "        while l <= r:\n",
    "            # 分割點(index)\n",
    "            k1 = l + ((r - l) >> 1)\n",
    "            k2 = ((total + 1) >> 1) - k1\n",
    "\n",
    "            # 找分割點左右, l1,l2 (左邊), r1,r2(右邊)\n",
    "            l1 = nums1[k1 - 1] if k1 > 0 else float('-inf')\n",
    "            l2 = nums2[k2 - 1] if k2 > 0 else float('-inf')\n",
    "            r1 = nums1[k1] if k1 < m else float('inf')\n",
    "            r2 = nums2[k2] if k2 < n else float('inf')\n",
    "\n",
    "            # 找到對的分割點: l1 <= r2 and l2 <= r1 , -- > all l <=  all r\n",
    "            # l1 r1\n",
    "            #  3  5\n",
    "            #  4  6\n",
    "            # l2 r2\n",
    "            if l1 > r2:\n",
    "                r = k1 - 1\n",
    "            elif l2 > r1:\n",
    "                l = k1 + 1\n",
    "            else:\n",
    "                return max(l1, l2) if total & 1 else (max(l1, l2) + min(r1, r2)) * 0.5\n",
    "ans = Solution()\n",
    "ans.findMedianSortedArrays(nums1 = [1,3,5], nums2 = [2,4,6])"
   ]
  },
  {
   "cell_type": "code",
   "execution_count": 1,
   "metadata": {},
   "outputs": [
    {
     "data": {
      "text/plain": [
       "2.5"
      ]
     },
     "execution_count": 1,
     "metadata": {},
     "output_type": "execute_result"
    }
   ],
   "source": [
    "# merge、 O(m+n) O(1)\n",
    "class Solution:\n",
    "    def findMedianSortedArrays(self, nums1: list[int], nums2: list[int]) -> float:\n",
    "        m, n = len(nums1), len(nums2)\n",
    "        if not m:\n",
    "            mid = n >> 1\n",
    "            return nums2[mid] if n & 1 else (nums2[mid-1] + nums2[mid]) / 2\n",
    "        elif not n:\n",
    "            mid = m >> 1\n",
    "            return nums1[mid] if m & 1 else (nums1[mid-1] + nums1[mid]) / 2\n",
    "\n",
    "        # m、n存在\n",
    "        # nums2都在nums1右邊\n",
    "        if nums1[-1] <= nums2[0]:\n",
    "            nums1 += nums2\n",
    "            mid = (m+n) >> 1\n",
    "            return nums1[mid] if (m + n) & 1 else (nums1[mid-1] + nums1[mid]) / 2\n",
    "        \n",
    "        # nums1都在nums2右邊\n",
    "        elif nums2[-1] <= nums1[0]:\n",
    "            nums2 += nums1\n",
    "            mid = (m+n) >> 1\n",
    "            return nums2[mid] if (m + n) & 1 else (nums2[mid-1] + nums2[mid]) / 2\n",
    "\n",
    "        # 穿插找中間值\n",
    "        else:\n",
    "            l, r = 0, 0\n",
    "            pre2 = pre1 = None\n",
    "            for _ in range((m + n) // 2 + 1):\n",
    "                pre2 = pre1\n",
    "                if r == n or (l != m and nums1[l] <= nums2[r]):\n",
    "                    pre1 = nums1[l]\n",
    "                    l += 1\n",
    "                else:\n",
    "                    pre1 = nums2[r]\n",
    "                    r += 1\n",
    "\n",
    "            return pre1 if (m + n) & 1 else (pre1 + pre2) / 2\n",
    "ans = Solution()\n",
    "ans.findMedianSortedArrays(nums1 = [1,2], nums2 = [3,4])"
   ]
  }
 ],
 "metadata": {
  "kernelspec": {
   "display_name": "Python 3",
   "language": "python",
   "name": "python3"
  },
  "language_info": {
   "codemirror_mode": {
    "name": "ipython",
    "version": 3
   },
   "file_extension": ".py",
   "mimetype": "text/x-python",
   "name": "python",
   "nbconvert_exporter": "python",
   "pygments_lexer": "ipython3",
   "version": "3.11.2"
  },
  "orig_nbformat": 4
 },
 "nbformat": 4,
 "nbformat_minor": 2
}
