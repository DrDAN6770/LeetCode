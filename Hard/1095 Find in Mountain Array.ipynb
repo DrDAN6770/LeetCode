{
 "cells": [
  {
   "cell_type": "markdown",
   "metadata": {},
   "source": [
    "# 1095. Find in Mountain Array\n",
    "---\n",
    "https://leetcode.com/problems/find-in-mountain-array/"
   ]
  },
  {
   "cell_type": "code",
   "execution_count": 1,
   "metadata": {},
   "outputs": [],
   "source": [
    "# BS O(logn) O(1)\n",
    "# \"\"\"\n",
    "# This is MountainArray's API interface.\n",
    "# You should not implement it, or speculate about its implementation\n",
    "# \"\"\"\n",
    "# class MountainArray:\n",
    "#    def get(self, index: int) -> int:\n",
    "#    def length(self) -> int:\n",
    "class Solution:\n",
    "    def find_peak(self, mountain_arr) -> int:\n",
    "        l, r = 0, mountain_arr.length() - 1\n",
    "        while l <= r:\n",
    "            m = l + ((r - l) >> 1)\n",
    "            if mountain_arr.get(m) < mountain_arr.get(m + 1):\n",
    "                l = m + 1\n",
    "            else:\n",
    "                r = m - 1\n",
    "        return l\n",
    "    \n",
    "    def bs(self, l, r, mountain_arr, target, is_leftside) -> int:\n",
    "        if is_leftside:\n",
    "            while l <= r:\n",
    "                m = l + ((r - l) >> 1)\n",
    "                if mountain_arr.get(m) == target:\n",
    "                    return m\n",
    "                elif mountain_arr.get(m) < target:\n",
    "                    l = m + 1\n",
    "                else:\n",
    "                    r = m - 1\n",
    "        else:\n",
    "            while l <= r:\n",
    "                m = l + ((r - l) >> 1)\n",
    "                if mountain_arr.get(m) == target:\n",
    "                    return m\n",
    "                elif mountain_arr.get(m) < target:\n",
    "                    r = m - 1\n",
    "                else:\n",
    "                    l = m + 1\n",
    "        return -1\n",
    "\n",
    "    def findInMountainArray(self, target: int, mountain_arr: 'MountainArray') -> int:\n",
    "        peak = self.find_peak(mountain_arr)\n",
    "        l = self.bs(0, peak, mountain_arr, target, True)\n",
    "\n",
    "        if l != -1:\n",
    "            return l\n",
    "\n",
    "        return self.bs(peak, mountain_arr.length() - 1, mountain_arr, target, False)"
   ]
  }
 ],
 "metadata": {
  "kernelspec": {
   "display_name": "Python 3",
   "language": "python",
   "name": "python3"
  },
  "language_info": {
   "codemirror_mode": {
    "name": "ipython",
    "version": 3
   },
   "file_extension": ".py",
   "mimetype": "text/x-python",
   "name": "python",
   "nbconvert_exporter": "python",
   "pygments_lexer": "ipython3",
   "version": "3.11.2"
  },
  "orig_nbformat": 4
 },
 "nbformat": 4,
 "nbformat_minor": 2
}
