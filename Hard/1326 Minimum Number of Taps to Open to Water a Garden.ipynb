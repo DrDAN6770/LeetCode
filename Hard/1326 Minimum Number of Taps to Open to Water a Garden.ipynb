{
 "cells": [
  {
   "cell_type": "markdown",
   "metadata": {},
   "source": [
    "# 1326. Minimum Number of Taps to Open to Water a Garden\n",
    "---\n",
    "https://leetcode.com/problems/minimum-number-of-taps-to-open-to-water-a-garden/description/"
   ]
  },
  {
   "cell_type": "code",
   "execution_count": 1,
   "metadata": {},
   "outputs": [
    {
     "data": {
      "text/plain": [
       "1"
      ]
     },
     "execution_count": 1,
     "metadata": {},
     "output_type": "execute_result"
    }
   ],
   "source": [
    "# O(n) O(n)\n",
    "class Solution:\n",
    "    def minTaps(self, n: int, ranges: list[int]) -> int:\n",
    "        lst = [0] * (n + 1) # idx : start, value = end\n",
    "        for i, v in enumerate(ranges):\n",
    "            if v == 0:\n",
    "                continue\n",
    "            s = max(0, i - v)\n",
    "            e = min(n, i + v)\n",
    "            lst[s] = max(lst[s], e)\n",
    "        \n",
    "        res = far = end = 0\n",
    "        for i, v in enumerate(lst):\n",
    "            if i > far:\n",
    "                return -1\n",
    "            if i > end:\n",
    "                end = far\n",
    "                res += 1  \n",
    "            far = max(far, v)\n",
    "        return res\n",
    "ans = Solution()\n",
    "ans.minTaps(n = 5, ranges = [3,4,1,1,0,0])"
   ]
  }
 ],
 "metadata": {
  "kernelspec": {
   "display_name": "Python 3",
   "language": "python",
   "name": "python3"
  },
  "language_info": {
   "codemirror_mode": {
    "name": "ipython",
    "version": 3
   },
   "file_extension": ".py",
   "mimetype": "text/x-python",
   "name": "python",
   "nbconvert_exporter": "python",
   "pygments_lexer": "ipython3",
   "version": "3.11.2"
  },
  "orig_nbformat": 4
 },
 "nbformat": 4,
 "nbformat_minor": 2
}
