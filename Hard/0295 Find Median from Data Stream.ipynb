{
 "cells": [
  {
   "cell_type": "markdown",
   "metadata": {},
   "source": [
    "# 295. Find Median from Data Stream\n",
    "---\n",
    "https://leetcode.com/problems/find-median-from-data-stream/description/"
   ]
  },
  {
   "cell_type": "code",
   "execution_count": 1,
   "metadata": {},
   "outputs": [],
   "source": [
    "from heapq import heappop, heappush\n",
    "class MedianFinder:\n",
    "    def __init__(self):\n",
    "        self.left = [] # maxheap\n",
    "        self.right = [] # minheap\n",
    "        self.is_odd = False\n",
    "    def addNum(self, num: int) -> None:\n",
    "        self.is_odd = not self.is_odd\n",
    "        if (self.is_odd):\n",
    "            heappush(self.left, -num)\n",
    "            heappush(self.right, -heappop(self.left))\n",
    "        else:\n",
    "            heappush(self.right, num)\n",
    "            heappush(self.left, -heappop(self.right))\n",
    "\n",
    "    def findMedian(self) -> float:\n",
    "        return self.right[0] if self.is_odd else (-self.left[0] + self.right[0]) / 2\n",
    "\n",
    "'''\n",
    "  3         4  \n",
    " 1 2       5 6  \n",
    "left      right\n",
    "max heap  min heap\n",
    "\n",
    "[1,2,3,4,5,6]\n",
    "left.top = 3\n",
    "right.top = 4\n",
    "\n",
    "so mid = (3+4)/2 = 3.5\n",
    "'''"
   ]
  }
 ],
 "metadata": {
  "kernelspec": {
   "display_name": "Python 3",
   "language": "python",
   "name": "python3"
  },
  "language_info": {
   "codemirror_mode": {
    "name": "ipython",
    "version": 3
   },
   "file_extension": ".py",
   "mimetype": "text/x-python",
   "name": "python",
   "nbconvert_exporter": "python",
   "pygments_lexer": "ipython3",
   "version": "3.11.2"
  },
  "orig_nbformat": 4
 },
 "nbformat": 4,
 "nbformat_minor": 2
}
